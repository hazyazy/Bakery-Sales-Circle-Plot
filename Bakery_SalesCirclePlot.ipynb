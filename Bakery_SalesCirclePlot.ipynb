{
 "cells": [
  {
   "cell_type": "code",
   "execution_count": 1,
   "metadata": {},
   "outputs": [],
   "source": [
    "import numpy as np\n",
    "import pandas as pd\n",
    "import matplotlib.pyplot as plt\n",
    "import datetime as dt\n"
   ]
  },
  {
   "cell_type": "code",
   "execution_count": 15,
   "metadata": {},
   "outputs": [
    {
     "data": {
      "text/html": [
       "<div>\n",
       "<style scoped>\n",
       "    .dataframe tbody tr th:only-of-type {\n",
       "        vertical-align: middle;\n",
       "    }\n",
       "\n",
       "    .dataframe tbody tr th {\n",
       "        vertical-align: top;\n",
       "    }\n",
       "\n",
       "    .dataframe thead th {\n",
       "        text-align: right;\n",
       "    }\n",
       "</style>\n",
       "<table border=\"1\" class=\"dataframe\">\n",
       "  <thead>\n",
       "    <tr style=\"text-align: right;\">\n",
       "      <th></th>\n",
       "      <th>Unnamed: 0</th>\n",
       "      <th>date</th>\n",
       "      <th>time</th>\n",
       "      <th>ticket_number</th>\n",
       "      <th>article</th>\n",
       "      <th>Quantity</th>\n",
       "      <th>unit_price</th>\n",
       "    </tr>\n",
       "  </thead>\n",
       "  <tbody>\n",
       "    <tr>\n",
       "      <th>0</th>\n",
       "      <td>0</td>\n",
       "      <td>2021-01-02</td>\n",
       "      <td>08:38</td>\n",
       "      <td>150040.0</td>\n",
       "      <td>BAGUETTE</td>\n",
       "      <td>1.0</td>\n",
       "      <td>0,90 €</td>\n",
       "    </tr>\n",
       "    <tr>\n",
       "      <th>1</th>\n",
       "      <td>1</td>\n",
       "      <td>2021-01-02</td>\n",
       "      <td>08:38</td>\n",
       "      <td>150040.0</td>\n",
       "      <td>PAIN AU CHOCOLAT</td>\n",
       "      <td>3.0</td>\n",
       "      <td>1,20 €</td>\n",
       "    </tr>\n",
       "    <tr>\n",
       "      <th>2</th>\n",
       "      <td>4</td>\n",
       "      <td>2021-01-02</td>\n",
       "      <td>09:14</td>\n",
       "      <td>150041.0</td>\n",
       "      <td>PAIN AU CHOCOLAT</td>\n",
       "      <td>2.0</td>\n",
       "      <td>1,20 €</td>\n",
       "    </tr>\n",
       "    <tr>\n",
       "      <th>3</th>\n",
       "      <td>5</td>\n",
       "      <td>2021-01-02</td>\n",
       "      <td>09:14</td>\n",
       "      <td>150041.0</td>\n",
       "      <td>PAIN</td>\n",
       "      <td>1.0</td>\n",
       "      <td>1,15 €</td>\n",
       "    </tr>\n",
       "    <tr>\n",
       "      <th>4</th>\n",
       "      <td>8</td>\n",
       "      <td>2021-01-02</td>\n",
       "      <td>09:25</td>\n",
       "      <td>150042.0</td>\n",
       "      <td>TRADITIONAL BAGUETTE</td>\n",
       "      <td>5.0</td>\n",
       "      <td>1,20 €</td>\n",
       "    </tr>\n",
       "    <tr>\n",
       "      <th>...</th>\n",
       "      <td>...</td>\n",
       "      <td>...</td>\n",
       "      <td>...</td>\n",
       "      <td>...</td>\n",
       "      <td>...</td>\n",
       "      <td>...</td>\n",
       "      <td>...</td>\n",
       "    </tr>\n",
       "    <tr>\n",
       "      <th>234000</th>\n",
       "      <td>511387</td>\n",
       "      <td>2022-09-30</td>\n",
       "      <td>18:52</td>\n",
       "      <td>288911.0</td>\n",
       "      <td>COUPE</td>\n",
       "      <td>1.0</td>\n",
       "      <td>0,15 €</td>\n",
       "    </tr>\n",
       "    <tr>\n",
       "      <th>234001</th>\n",
       "      <td>511388</td>\n",
       "      <td>2022-09-30</td>\n",
       "      <td>18:52</td>\n",
       "      <td>288911.0</td>\n",
       "      <td>BOULE 200G</td>\n",
       "      <td>1.0</td>\n",
       "      <td>1,20 €</td>\n",
       "    </tr>\n",
       "    <tr>\n",
       "      <th>234002</th>\n",
       "      <td>511389</td>\n",
       "      <td>2022-09-30</td>\n",
       "      <td>18:52</td>\n",
       "      <td>288911.0</td>\n",
       "      <td>COUPE</td>\n",
       "      <td>2.0</td>\n",
       "      <td>0,15 €</td>\n",
       "    </tr>\n",
       "    <tr>\n",
       "      <th>234003</th>\n",
       "      <td>511392</td>\n",
       "      <td>2022-09-30</td>\n",
       "      <td>18:55</td>\n",
       "      <td>288912.0</td>\n",
       "      <td>TRADITIONAL BAGUETTE</td>\n",
       "      <td>1.0</td>\n",
       "      <td>1,30 €</td>\n",
       "    </tr>\n",
       "    <tr>\n",
       "      <th>234004</th>\n",
       "      <td>511395</td>\n",
       "      <td>2022-09-30</td>\n",
       "      <td>18:56</td>\n",
       "      <td>288913.0</td>\n",
       "      <td>TRADITIONAL BAGUETTE</td>\n",
       "      <td>1.0</td>\n",
       "      <td>1,30 €</td>\n",
       "    </tr>\n",
       "  </tbody>\n",
       "</table>\n",
       "<p>234005 rows × 7 columns</p>\n",
       "</div>"
      ],
      "text/plain": [
       "        Unnamed: 0        date   time  ticket_number               article  \\\n",
       "0                0  2021-01-02  08:38       150040.0              BAGUETTE   \n",
       "1                1  2021-01-02  08:38       150040.0      PAIN AU CHOCOLAT   \n",
       "2                4  2021-01-02  09:14       150041.0      PAIN AU CHOCOLAT   \n",
       "3                5  2021-01-02  09:14       150041.0                  PAIN   \n",
       "4                8  2021-01-02  09:25       150042.0  TRADITIONAL BAGUETTE   \n",
       "...            ...         ...    ...            ...                   ...   \n",
       "234000      511387  2022-09-30  18:52       288911.0                 COUPE   \n",
       "234001      511388  2022-09-30  18:52       288911.0            BOULE 200G   \n",
       "234002      511389  2022-09-30  18:52       288911.0                 COUPE   \n",
       "234003      511392  2022-09-30  18:55       288912.0  TRADITIONAL BAGUETTE   \n",
       "234004      511395  2022-09-30  18:56       288913.0  TRADITIONAL BAGUETTE   \n",
       "\n",
       "        Quantity unit_price  \n",
       "0            1.0     0,90 €  \n",
       "1            3.0     1,20 €  \n",
       "2            2.0     1,20 €  \n",
       "3            1.0     1,15 €  \n",
       "4            5.0     1,20 €  \n",
       "...          ...        ...  \n",
       "234000       1.0     0,15 €  \n",
       "234001       1.0     1,20 €  \n",
       "234002       2.0     0,15 €  \n",
       "234003       1.0     1,30 €  \n",
       "234004       1.0     1,30 €  \n",
       "\n",
       "[234005 rows x 7 columns]"
      ]
     },
     "execution_count": 15,
     "metadata": {},
     "output_type": "execute_result"
    }
   ],
   "source": [
    "df = pd.read_csv(r\"C:\\Users\\hazar\\Documents\\Bakery sales.csv\")\n",
    "df"
   ]
  },
  {
   "cell_type": "code",
   "execution_count": 25,
   "metadata": {},
   "outputs": [],
   "source": [
    "from datetime import datetime, timedelta\n",
    "import math\n",
    "delta = timedelta(minutes=15)\n",
    "\n",
    "df['start_of_hour'] = pd.to_datetime(df['time'].astype(str)).dt.hour\n",
    "df['roundedTime'] = pd.to_datetime(df['time'].astype(str)).dt.round('15min')"
   ]
  },
  {
   "cell_type": "code",
   "execution_count": 5,
   "metadata": {},
   "outputs": [
    {
     "data": {
      "text/html": [
       "<div>\n",
       "<style scoped>\n",
       "    .dataframe tbody tr th:only-of-type {\n",
       "        vertical-align: middle;\n",
       "    }\n",
       "\n",
       "    .dataframe tbody tr th {\n",
       "        vertical-align: top;\n",
       "    }\n",
       "\n",
       "    .dataframe thead th {\n",
       "        text-align: right;\n",
       "    }\n",
       "</style>\n",
       "<table border=\"1\" class=\"dataframe\">\n",
       "  <thead>\n",
       "    <tr style=\"text-align: right;\">\n",
       "      <th></th>\n",
       "      <th>Unnamed: 0</th>\n",
       "      <th>date</th>\n",
       "      <th>time</th>\n",
       "      <th>ticket_number</th>\n",
       "      <th>article</th>\n",
       "      <th>Quantity</th>\n",
       "      <th>unit_price</th>\n",
       "      <th>start_of_hour</th>\n",
       "    </tr>\n",
       "  </thead>\n",
       "  <tbody>\n",
       "    <tr>\n",
       "      <th>0</th>\n",
       "      <td>0</td>\n",
       "      <td>2021-01-02</td>\n",
       "      <td>08:38</td>\n",
       "      <td>150040.0</td>\n",
       "      <td>BAGUETTE</td>\n",
       "      <td>1.0</td>\n",
       "      <td>0,90 €</td>\n",
       "      <td>8</td>\n",
       "    </tr>\n",
       "    <tr>\n",
       "      <th>1</th>\n",
       "      <td>1</td>\n",
       "      <td>2021-01-02</td>\n",
       "      <td>08:38</td>\n",
       "      <td>150040.0</td>\n",
       "      <td>PAIN AU CHOCOLAT</td>\n",
       "      <td>3.0</td>\n",
       "      <td>1,20 €</td>\n",
       "      <td>8</td>\n",
       "    </tr>\n",
       "    <tr>\n",
       "      <th>2</th>\n",
       "      <td>4</td>\n",
       "      <td>2021-01-02</td>\n",
       "      <td>09:14</td>\n",
       "      <td>150041.0</td>\n",
       "      <td>PAIN AU CHOCOLAT</td>\n",
       "      <td>2.0</td>\n",
       "      <td>1,20 €</td>\n",
       "      <td>9</td>\n",
       "    </tr>\n",
       "    <tr>\n",
       "      <th>3</th>\n",
       "      <td>5</td>\n",
       "      <td>2021-01-02</td>\n",
       "      <td>09:14</td>\n",
       "      <td>150041.0</td>\n",
       "      <td>PAIN</td>\n",
       "      <td>1.0</td>\n",
       "      <td>1,15 €</td>\n",
       "      <td>9</td>\n",
       "    </tr>\n",
       "    <tr>\n",
       "      <th>4</th>\n",
       "      <td>8</td>\n",
       "      <td>2021-01-02</td>\n",
       "      <td>09:25</td>\n",
       "      <td>150042.0</td>\n",
       "      <td>TRADITIONAL BAGUETTE</td>\n",
       "      <td>5.0</td>\n",
       "      <td>1,20 €</td>\n",
       "      <td>9</td>\n",
       "    </tr>\n",
       "    <tr>\n",
       "      <th>...</th>\n",
       "      <td>...</td>\n",
       "      <td>...</td>\n",
       "      <td>...</td>\n",
       "      <td>...</td>\n",
       "      <td>...</td>\n",
       "      <td>...</td>\n",
       "      <td>...</td>\n",
       "      <td>...</td>\n",
       "    </tr>\n",
       "    <tr>\n",
       "      <th>234000</th>\n",
       "      <td>511387</td>\n",
       "      <td>2022-09-30</td>\n",
       "      <td>18:52</td>\n",
       "      <td>288911.0</td>\n",
       "      <td>COUPE</td>\n",
       "      <td>1.0</td>\n",
       "      <td>0,15 €</td>\n",
       "      <td>18</td>\n",
       "    </tr>\n",
       "    <tr>\n",
       "      <th>234001</th>\n",
       "      <td>511388</td>\n",
       "      <td>2022-09-30</td>\n",
       "      <td>18:52</td>\n",
       "      <td>288911.0</td>\n",
       "      <td>BOULE 200G</td>\n",
       "      <td>1.0</td>\n",
       "      <td>1,20 €</td>\n",
       "      <td>18</td>\n",
       "    </tr>\n",
       "    <tr>\n",
       "      <th>234002</th>\n",
       "      <td>511389</td>\n",
       "      <td>2022-09-30</td>\n",
       "      <td>18:52</td>\n",
       "      <td>288911.0</td>\n",
       "      <td>COUPE</td>\n",
       "      <td>2.0</td>\n",
       "      <td>0,15 €</td>\n",
       "      <td>18</td>\n",
       "    </tr>\n",
       "    <tr>\n",
       "      <th>234003</th>\n",
       "      <td>511392</td>\n",
       "      <td>2022-09-30</td>\n",
       "      <td>18:55</td>\n",
       "      <td>288912.0</td>\n",
       "      <td>TRADITIONAL BAGUETTE</td>\n",
       "      <td>1.0</td>\n",
       "      <td>1,30 €</td>\n",
       "      <td>18</td>\n",
       "    </tr>\n",
       "    <tr>\n",
       "      <th>234004</th>\n",
       "      <td>511395</td>\n",
       "      <td>2022-09-30</td>\n",
       "      <td>18:56</td>\n",
       "      <td>288913.0</td>\n",
       "      <td>TRADITIONAL BAGUETTE</td>\n",
       "      <td>1.0</td>\n",
       "      <td>1,30 €</td>\n",
       "      <td>18</td>\n",
       "    </tr>\n",
       "  </tbody>\n",
       "</table>\n",
       "<p>234005 rows × 8 columns</p>\n",
       "</div>"
      ],
      "text/plain": [
       "        Unnamed: 0        date   time  ticket_number               article  \\\n",
       "0                0  2021-01-02  08:38       150040.0              BAGUETTE   \n",
       "1                1  2021-01-02  08:38       150040.0      PAIN AU CHOCOLAT   \n",
       "2                4  2021-01-02  09:14       150041.0      PAIN AU CHOCOLAT   \n",
       "3                5  2021-01-02  09:14       150041.0                  PAIN   \n",
       "4                8  2021-01-02  09:25       150042.0  TRADITIONAL BAGUETTE   \n",
       "...            ...         ...    ...            ...                   ...   \n",
       "234000      511387  2022-09-30  18:52       288911.0                 COUPE   \n",
       "234001      511388  2022-09-30  18:52       288911.0            BOULE 200G   \n",
       "234002      511389  2022-09-30  18:52       288911.0                 COUPE   \n",
       "234003      511392  2022-09-30  18:55       288912.0  TRADITIONAL BAGUETTE   \n",
       "234004      511395  2022-09-30  18:56       288913.0  TRADITIONAL BAGUETTE   \n",
       "\n",
       "        Quantity unit_price  start_of_hour  \n",
       "0            1.0     0,90 €              8  \n",
       "1            3.0     1,20 €              8  \n",
       "2            2.0     1,20 €              9  \n",
       "3            1.0     1,15 €              9  \n",
       "4            5.0     1,20 €              9  \n",
       "...          ...        ...            ...  \n",
       "234000       1.0     0,15 €             18  \n",
       "234001       1.0     1,20 €             18  \n",
       "234002       2.0     0,15 €             18  \n",
       "234003       1.0     1,30 €             18  \n",
       "234004       1.0     1,30 €             18  \n",
       "\n",
       "[234005 rows x 8 columns]"
      ]
     },
     "execution_count": 5,
     "metadata": {},
     "output_type": "execute_result"
    }
   ],
   "source": [
    "df"
   ]
  },
  {
   "cell_type": "code",
   "execution_count": 26,
   "metadata": {},
   "outputs": [
    {
     "data": {
      "text/html": [
       "<div>\n",
       "<style scoped>\n",
       "    .dataframe tbody tr th:only-of-type {\n",
       "        vertical-align: middle;\n",
       "    }\n",
       "\n",
       "    .dataframe tbody tr th {\n",
       "        vertical-align: top;\n",
       "    }\n",
       "\n",
       "    .dataframe thead th {\n",
       "        text-align: right;\n",
       "    }\n",
       "</style>\n",
       "<table border=\"1\" class=\"dataframe\">\n",
       "  <thead>\n",
       "    <tr style=\"text-align: right;\">\n",
       "      <th></th>\n",
       "      <th>roundedTime</th>\n",
       "      <th>article</th>\n",
       "      <th>Quantity</th>\n",
       "    </tr>\n",
       "  </thead>\n",
       "  <tbody>\n",
       "    <tr>\n",
       "      <th>0</th>\n",
       "      <td>2023-08-02 07:00:00</td>\n",
       "      <td>BAGUETTE</td>\n",
       "      <td>15.0</td>\n",
       "    </tr>\n",
       "    <tr>\n",
       "      <th>1</th>\n",
       "      <td>2023-08-02 07:00:00</td>\n",
       "      <td>BANETTE</td>\n",
       "      <td>1.0</td>\n",
       "    </tr>\n",
       "    <tr>\n",
       "      <th>2</th>\n",
       "      <td>2023-08-02 07:00:00</td>\n",
       "      <td>CAFE OU EAU</td>\n",
       "      <td>1.0</td>\n",
       "    </tr>\n",
       "    <tr>\n",
       "      <th>3</th>\n",
       "      <td>2023-08-02 07:00:00</td>\n",
       "      <td>CEREAL BAGUETTE</td>\n",
       "      <td>4.0</td>\n",
       "    </tr>\n",
       "    <tr>\n",
       "      <th>4</th>\n",
       "      <td>2023-08-02 07:00:00</td>\n",
       "      <td>COMPLET</td>\n",
       "      <td>1.0</td>\n",
       "    </tr>\n",
       "    <tr>\n",
       "      <th>...</th>\n",
       "      <td>...</td>\n",
       "      <td>...</td>\n",
       "      <td>...</td>\n",
       "    </tr>\n",
       "    <tr>\n",
       "      <th>4004</th>\n",
       "      <td>2023-08-02 20:00:00</td>\n",
       "      <td>PAIN AUX RAISINS</td>\n",
       "      <td>0.0</td>\n",
       "    </tr>\n",
       "    <tr>\n",
       "      <th>4005</th>\n",
       "      <td>2023-08-02 20:00:00</td>\n",
       "      <td>SPECIAL BREAD KG</td>\n",
       "      <td>1.0</td>\n",
       "    </tr>\n",
       "    <tr>\n",
       "      <th>4006</th>\n",
       "      <td>2023-08-02 20:00:00</td>\n",
       "      <td>TARTELETTE</td>\n",
       "      <td>1.0</td>\n",
       "    </tr>\n",
       "    <tr>\n",
       "      <th>4007</th>\n",
       "      <td>2023-08-02 20:00:00</td>\n",
       "      <td>TRADITIONAL BAGUETTE</td>\n",
       "      <td>12.0</td>\n",
       "    </tr>\n",
       "    <tr>\n",
       "      <th>4008</th>\n",
       "      <td>2023-08-02 20:00:00</td>\n",
       "      <td>VIK BREAD</td>\n",
       "      <td>1.0</td>\n",
       "    </tr>\n",
       "  </tbody>\n",
       "</table>\n",
       "<p>4009 rows × 3 columns</p>\n",
       "</div>"
      ],
      "text/plain": [
       "             roundedTime               article  Quantity\n",
       "0    2023-08-02 07:00:00              BAGUETTE      15.0\n",
       "1    2023-08-02 07:00:00               BANETTE       1.0\n",
       "2    2023-08-02 07:00:00           CAFE OU EAU       1.0\n",
       "3    2023-08-02 07:00:00       CEREAL BAGUETTE       4.0\n",
       "4    2023-08-02 07:00:00               COMPLET       1.0\n",
       "...                  ...                   ...       ...\n",
       "4004 2023-08-02 20:00:00      PAIN AUX RAISINS       0.0\n",
       "4005 2023-08-02 20:00:00      SPECIAL BREAD KG       1.0\n",
       "4006 2023-08-02 20:00:00            TARTELETTE       1.0\n",
       "4007 2023-08-02 20:00:00  TRADITIONAL BAGUETTE      12.0\n",
       "4008 2023-08-02 20:00:00             VIK BREAD       1.0\n",
       "\n",
       "[4009 rows x 3 columns]"
      ]
     },
     "execution_count": 26,
     "metadata": {},
     "output_type": "execute_result"
    }
   ],
   "source": [
    "HourEvents = df.groupby(['roundedTime','article']).Quantity.sum().reset_index()\n",
    "HourEvents\n"
   ]
  },
  {
   "cell_type": "code",
   "execution_count": 31,
   "metadata": {},
   "outputs": [],
   "source": [
    "HourEvents['Time']= pd.to_datetime(HourEvents['roundedTime'], format='%Y-%m-%d %H:%M:%S').dt.strftime(\"%H:%M\")"
   ]
  },
  {
   "cell_type": "code",
   "execution_count": 32,
   "metadata": {},
   "outputs": [
    {
     "data": {
      "text/html": [
       "<div>\n",
       "<style scoped>\n",
       "    .dataframe tbody tr th:only-of-type {\n",
       "        vertical-align: middle;\n",
       "    }\n",
       "\n",
       "    .dataframe tbody tr th {\n",
       "        vertical-align: top;\n",
       "    }\n",
       "\n",
       "    .dataframe thead th {\n",
       "        text-align: right;\n",
       "    }\n",
       "</style>\n",
       "<table border=\"1\" class=\"dataframe\">\n",
       "  <thead>\n",
       "    <tr style=\"text-align: right;\">\n",
       "      <th></th>\n",
       "      <th>roundedTime</th>\n",
       "      <th>article</th>\n",
       "      <th>Quantity</th>\n",
       "      <th>Time</th>\n",
       "    </tr>\n",
       "  </thead>\n",
       "  <tbody>\n",
       "    <tr>\n",
       "      <th>0</th>\n",
       "      <td>2023-08-02 07:00:00</td>\n",
       "      <td>BAGUETTE</td>\n",
       "      <td>15.0</td>\n",
       "      <td>07:00</td>\n",
       "    </tr>\n",
       "    <tr>\n",
       "      <th>1</th>\n",
       "      <td>2023-08-02 07:00:00</td>\n",
       "      <td>BANETTE</td>\n",
       "      <td>1.0</td>\n",
       "      <td>07:00</td>\n",
       "    </tr>\n",
       "    <tr>\n",
       "      <th>2</th>\n",
       "      <td>2023-08-02 07:00:00</td>\n",
       "      <td>CAFE OU EAU</td>\n",
       "      <td>1.0</td>\n",
       "      <td>07:00</td>\n",
       "    </tr>\n",
       "    <tr>\n",
       "      <th>3</th>\n",
       "      <td>2023-08-02 07:00:00</td>\n",
       "      <td>CEREAL BAGUETTE</td>\n",
       "      <td>4.0</td>\n",
       "      <td>07:00</td>\n",
       "    </tr>\n",
       "    <tr>\n",
       "      <th>4</th>\n",
       "      <td>2023-08-02 07:00:00</td>\n",
       "      <td>COMPLET</td>\n",
       "      <td>1.0</td>\n",
       "      <td>07:00</td>\n",
       "    </tr>\n",
       "    <tr>\n",
       "      <th>...</th>\n",
       "      <td>...</td>\n",
       "      <td>...</td>\n",
       "      <td>...</td>\n",
       "      <td>...</td>\n",
       "    </tr>\n",
       "    <tr>\n",
       "      <th>4004</th>\n",
       "      <td>2023-08-02 20:00:00</td>\n",
       "      <td>PAIN AUX RAISINS</td>\n",
       "      <td>0.0</td>\n",
       "      <td>20:00</td>\n",
       "    </tr>\n",
       "    <tr>\n",
       "      <th>4005</th>\n",
       "      <td>2023-08-02 20:00:00</td>\n",
       "      <td>SPECIAL BREAD KG</td>\n",
       "      <td>1.0</td>\n",
       "      <td>20:00</td>\n",
       "    </tr>\n",
       "    <tr>\n",
       "      <th>4006</th>\n",
       "      <td>2023-08-02 20:00:00</td>\n",
       "      <td>TARTELETTE</td>\n",
       "      <td>1.0</td>\n",
       "      <td>20:00</td>\n",
       "    </tr>\n",
       "    <tr>\n",
       "      <th>4007</th>\n",
       "      <td>2023-08-02 20:00:00</td>\n",
       "      <td>TRADITIONAL BAGUETTE</td>\n",
       "      <td>12.0</td>\n",
       "      <td>20:00</td>\n",
       "    </tr>\n",
       "    <tr>\n",
       "      <th>4008</th>\n",
       "      <td>2023-08-02 20:00:00</td>\n",
       "      <td>VIK BREAD</td>\n",
       "      <td>1.0</td>\n",
       "      <td>20:00</td>\n",
       "    </tr>\n",
       "  </tbody>\n",
       "</table>\n",
       "<p>4009 rows × 4 columns</p>\n",
       "</div>"
      ],
      "text/plain": [
       "             roundedTime               article  Quantity   Time\n",
       "0    2023-08-02 07:00:00              BAGUETTE      15.0  07:00\n",
       "1    2023-08-02 07:00:00               BANETTE       1.0  07:00\n",
       "2    2023-08-02 07:00:00           CAFE OU EAU       1.0  07:00\n",
       "3    2023-08-02 07:00:00       CEREAL BAGUETTE       4.0  07:00\n",
       "4    2023-08-02 07:00:00               COMPLET       1.0  07:00\n",
       "...                  ...                   ...       ...    ...\n",
       "4004 2023-08-02 20:00:00      PAIN AUX RAISINS       0.0  20:00\n",
       "4005 2023-08-02 20:00:00      SPECIAL BREAD KG       1.0  20:00\n",
       "4006 2023-08-02 20:00:00            TARTELETTE       1.0  20:00\n",
       "4007 2023-08-02 20:00:00  TRADITIONAL BAGUETTE      12.0  20:00\n",
       "4008 2023-08-02 20:00:00             VIK BREAD       1.0  20:00\n",
       "\n",
       "[4009 rows x 4 columns]"
      ]
     },
     "execution_count": 32,
     "metadata": {},
     "output_type": "execute_result"
    }
   ],
   "source": [
    "HourEvents"
   ]
  },
  {
   "cell_type": "code",
   "execution_count": 33,
   "metadata": {},
   "outputs": [
    {
     "data": {
      "application/vnd.plotly.v1+json": {
       "config": {
        "plotlyServerURL": "https://plot.ly"
       },
       "data": [
        {
         "customdata": [
          [
           "BAGUETTE",
           65,
           15,
           "07:00"
          ],
          [
           "BAGUETTE",
           66,
           16,
           "07:15"
          ],
          [
           "BAGUETTE",
           200,
           150,
           "07:30"
          ],
          [
           "BAGUETTE",
           456,
           406,
           "07:45"
          ],
          [
           "BAGUETTE",
           684,
           634,
           "08:00"
          ],
          [
           "BAGUETTE",
           881,
           831,
           "08:15"
          ],
          [
           "BAGUETTE",
           857,
           807,
           "08:30"
          ],
          [
           "BAGUETTE",
           1051,
           1001,
           "08:45"
          ],
          [
           "BAGUETTE",
           923,
           873,
           "09:00"
          ],
          [
           "BAGUETTE",
           1066,
           1016,
           "09:15"
          ],
          [
           "BAGUETTE",
           991,
           941,
           "09:30"
          ],
          [
           "BAGUETTE",
           1209,
           1159,
           "09:45"
          ],
          [
           "BAGUETTE",
           1201,
           1151,
           "10:00"
          ],
          [
           "BAGUETTE",
           1199,
           1149,
           "10:15"
          ],
          [
           "BAGUETTE",
           1205,
           1155,
           "10:30"
          ],
          [
           "BAGUETTE",
           1219,
           1169,
           "10:45"
          ],
          [
           "BAGUETTE",
           1146,
           1096,
           "11:00"
          ],
          [
           "BAGUETTE",
           1161,
           1111,
           "11:15"
          ],
          [
           "BAGUETTE",
           1114,
           1064,
           "11:30"
          ],
          [
           "BAGUETTE",
           1073,
           1023,
           "11:45"
          ],
          [
           "BAGUETTE",
           1070,
           1020,
           "12:00"
          ],
          [
           "BAGUETTE",
           824,
           774,
           "12:15"
          ],
          [
           "BAGUETTE",
           777,
           727,
           "12:30"
          ],
          [
           "BAGUETTE",
           542,
           492,
           "12:45"
          ],
          [
           "BAGUETTE",
           359,
           309,
           "13:00"
          ],
          [
           "BAGUETTE",
           188,
           138,
           "13:15"
          ],
          [
           "BAGUETTE",
           128,
           78,
           "13:30"
          ],
          [
           "BAGUETTE",
           91,
           41,
           "13:45"
          ],
          [
           "BAGUETTE",
           78,
           28,
           "14:00"
          ],
          [
           "BAGUETTE",
           145,
           95,
           "16:00"
          ],
          [
           "BAGUETTE",
           188,
           138,
           "16:15"
          ],
          [
           "BAGUETTE",
           146,
           96,
           "16:30"
          ],
          [
           "BAGUETTE",
           159,
           109,
           "16:45"
          ],
          [
           "BAGUETTE",
           165,
           115,
           "17:00"
          ],
          [
           "BAGUETTE",
           170,
           120,
           "17:15"
          ],
          [
           "BAGUETTE",
           188,
           138,
           "17:30"
          ],
          [
           "BAGUETTE",
           232,
           182,
           "17:45"
          ],
          [
           "BAGUETTE",
           198,
           148,
           "18:00"
          ],
          [
           "BAGUETTE",
           190,
           140,
           "18:15"
          ],
          [
           "BAGUETTE",
           189,
           139,
           "18:30"
          ],
          [
           "BAGUETTE",
           186,
           136,
           "18:45"
          ],
          [
           "BAGUETTE",
           110,
           60,
           "19:00"
          ],
          [
           "BAGUETTE",
           77,
           27,
           "19:15"
          ],
          [
           "BAGUETTE",
           80,
           30,
           "19:30"
          ],
          [
           "BAGUETTE",
           55,
           5,
           "19:45"
          ],
          [
           "BAGUETTE",
           51,
           1,
           "20:00"
          ]
         ],
         "hovertemplate": "article=%{customdata[0]}<br>Time=%{customdata[3]}<br>Quantity=%{customdata[2]}<extra></extra>",
         "legendgroup": "BAGUETTE",
         "marker": {
          "color": "#f0f921"
         },
         "name": "BAGUETTE",
         "r": [
          65,
          66,
          200,
          456,
          684,
          881,
          857,
          1051,
          923,
          1066,
          991,
          1209,
          1201,
          1199,
          1205,
          1219,
          1146,
          1161,
          1114,
          1073,
          1070,
          824,
          777,
          542,
          359,
          188,
          128,
          91,
          78,
          145,
          188,
          146,
          159,
          165,
          170,
          188,
          232,
          198,
          190,
          189,
          186,
          110,
          77,
          80,
          55,
          51
         ],
         "showlegend": true,
         "subplot": "polar",
         "theta": [
          "07:00",
          "07:15",
          "07:30",
          "07:45",
          "08:00",
          "08:15",
          "08:30",
          "08:45",
          "09:00",
          "09:15",
          "09:30",
          "09:45",
          "10:00",
          "10:15",
          "10:30",
          "10:45",
          "11:00",
          "11:15",
          "11:30",
          "11:45",
          "12:00",
          "12:15",
          "12:30",
          "12:45",
          "13:00",
          "13:15",
          "13:30",
          "13:45",
          "14:00",
          "16:00",
          "16:15",
          "16:30",
          "16:45",
          "17:00",
          "17:15",
          "17:30",
          "17:45",
          "18:00",
          "18:15",
          "18:30",
          "18:45",
          "19:00",
          "19:15",
          "19:30",
          "19:45",
          "20:00"
         ],
         "type": "barpolar"
        },
        {
         "customdata": [
          [
           "BANETTE",
           51,
           1,
           "07:00"
          ],
          [
           "BANETTE",
           58,
           8,
           "07:15"
          ],
          [
           "BANETTE",
           187,
           137,
           "07:30"
          ],
          [
           "BANETTE",
           409,
           359,
           "07:45"
          ],
          [
           "BANETTE",
           488,
           438,
           "08:00"
          ],
          [
           "BANETTE",
           632,
           582,
           "08:15"
          ],
          [
           "BANETTE",
           730,
           680,
           "08:30"
          ],
          [
           "BANETTE",
           800,
           750,
           "08:45"
          ],
          [
           "BANETTE",
           813,
           763,
           "09:00"
          ],
          [
           "BANETTE",
           906,
           856,
           "09:15"
          ],
          [
           "BANETTE",
           973,
           923,
           "09:30"
          ],
          [
           "BANETTE",
           1184,
           1134,
           "09:45"
          ],
          [
           "BANETTE",
           1165,
           1115,
           "10:00"
          ],
          [
           "BANETTE",
           1190,
           1140,
           "10:15"
          ],
          [
           "BANETTE",
           1223,
           1173,
           "10:30"
          ],
          [
           "BANETTE",
           1311,
           1261,
           "10:45"
          ],
          [
           "BANETTE",
           1350,
           1300,
           "11:00"
          ],
          [
           "BANETTE",
           1290,
           1240,
           "11:15"
          ],
          [
           "BANETTE",
           1346,
           1296,
           "11:30"
          ],
          [
           "BANETTE",
           1263,
           1213,
           "11:45"
          ],
          [
           "BANETTE",
           1278,
           1228,
           "12:00"
          ],
          [
           "BANETTE",
           1031,
           981,
           "12:15"
          ],
          [
           "BANETTE",
           942,
           892,
           "12:30"
          ],
          [
           "BANETTE",
           555,
           505,
           "12:45"
          ],
          [
           "BANETTE",
           351,
           301,
           "13:00"
          ],
          [
           "BANETTE",
           173,
           123,
           "13:15"
          ],
          [
           "BANETTE",
           127,
           77,
           "13:30"
          ],
          [
           "BANETTE",
           91,
           41,
           "13:45"
          ],
          [
           "BANETTE",
           66,
           16,
           "14:00"
          ],
          [
           "BANETTE",
           52,
           2,
           "14:15"
          ],
          [
           "BANETTE",
           105,
           55,
           "16:00"
          ],
          [
           "BANETTE",
           188,
           138,
           "16:15"
          ],
          [
           "BANETTE",
           175,
           125,
           "16:30"
          ],
          [
           "BANETTE",
           231,
           181,
           "16:45"
          ],
          [
           "BANETTE",
           206,
           156,
           "17:00"
          ],
          [
           "BANETTE",
           227,
           177,
           "17:15"
          ],
          [
           "BANETTE",
           296,
           246,
           "17:30"
          ],
          [
           "BANETTE",
           217,
           167,
           "17:45"
          ],
          [
           "BANETTE",
           258,
           208,
           "18:00"
          ],
          [
           "BANETTE",
           236,
           186,
           "18:15"
          ],
          [
           "BANETTE",
           274,
           224,
           "18:30"
          ],
          [
           "BANETTE",
           228,
           178,
           "18:45"
          ],
          [
           "BANETTE",
           149,
           99,
           "19:00"
          ],
          [
           "BANETTE",
           85,
           35,
           "19:15"
          ],
          [
           "BANETTE",
           66,
           16,
           "19:30"
          ],
          [
           "BANETTE",
           53,
           3,
           "19:45"
          ],
          [
           "BANETTE",
           53,
           3,
           "20:00"
          ]
         ],
         "hovertemplate": "article=%{customdata[0]}<br>Time=%{customdata[3]}<br>Quantity=%{customdata[2]}<extra></extra>",
         "legendgroup": "BANETTE",
         "marker": {
          "color": "#fdca26"
         },
         "name": "BANETTE",
         "r": [
          51,
          58,
          187,
          409,
          488,
          632,
          730,
          800,
          813,
          906,
          973,
          1184,
          1165,
          1190,
          1223,
          1311,
          1350,
          1290,
          1346,
          1263,
          1278,
          1031,
          942,
          555,
          351,
          173,
          127,
          91,
          66,
          52,
          105,
          188,
          175,
          231,
          206,
          227,
          296,
          217,
          258,
          236,
          274,
          228,
          149,
          85,
          66,
          53,
          53
         ],
         "showlegend": true,
         "subplot": "polar",
         "theta": [
          "07:00",
          "07:15",
          "07:30",
          "07:45",
          "08:00",
          "08:15",
          "08:30",
          "08:45",
          "09:00",
          "09:15",
          "09:30",
          "09:45",
          "10:00",
          "10:15",
          "10:30",
          "10:45",
          "11:00",
          "11:15",
          "11:30",
          "11:45",
          "12:00",
          "12:15",
          "12:30",
          "12:45",
          "13:00",
          "13:15",
          "13:30",
          "13:45",
          "14:00",
          "14:15",
          "16:00",
          "16:15",
          "16:30",
          "16:45",
          "17:00",
          "17:15",
          "17:30",
          "17:45",
          "18:00",
          "18:15",
          "18:30",
          "18:45",
          "19:00",
          "19:15",
          "19:30",
          "19:45",
          "20:00"
         ],
         "type": "barpolar"
        },
        {
         "customdata": [
          [
           "CAFE OU EAU",
           51,
           1,
           "07:00"
          ],
          [
           "CAFE OU EAU",
           55,
           5,
           "07:15"
          ],
          [
           "CAFE OU EAU",
           77,
           27,
           "07:30"
          ],
          [
           "CAFE OU EAU",
           91,
           41,
           "07:45"
          ],
          [
           "CAFE OU EAU",
           264,
           214,
           "08:00"
          ],
          [
           "CAFE OU EAU",
           258,
           208,
           "08:15"
          ],
          [
           "CAFE OU EAU",
           154,
           104,
           "08:30"
          ],
          [
           "CAFE OU EAU",
           135,
           85,
           "08:45"
          ],
          [
           "CAFE OU EAU",
           148,
           98,
           "09:00"
          ],
          [
           "CAFE OU EAU",
           142,
           92,
           "09:15"
          ],
          [
           "CAFE OU EAU",
           112,
           62,
           "09:30"
          ],
          [
           "CAFE OU EAU",
           129,
           79,
           "09:45"
          ],
          [
           "CAFE OU EAU",
           122,
           72,
           "10:00"
          ],
          [
           "CAFE OU EAU",
           132,
           82,
           "10:15"
          ],
          [
           "CAFE OU EAU",
           104,
           54,
           "10:30"
          ],
          [
           "CAFE OU EAU",
           127,
           77,
           "10:45"
          ],
          [
           "CAFE OU EAU",
           84,
           34,
           "11:00"
          ],
          [
           "CAFE OU EAU",
           122,
           72,
           "11:15"
          ],
          [
           "CAFE OU EAU",
           109,
           59,
           "11:30"
          ],
          [
           "CAFE OU EAU",
           97,
           47,
           "11:45"
          ],
          [
           "CAFE OU EAU",
           101,
           51,
           "12:00"
          ],
          [
           "CAFE OU EAU",
           101,
           51,
           "12:15"
          ],
          [
           "CAFE OU EAU",
           99,
           49,
           "12:30"
          ],
          [
           "CAFE OU EAU",
           84,
           34,
           "12:45"
          ],
          [
           "CAFE OU EAU",
           97,
           47,
           "13:00"
          ],
          [
           "CAFE OU EAU",
           67,
           17,
           "13:15"
          ],
          [
           "CAFE OU EAU",
           62,
           12,
           "13:30"
          ],
          [
           "CAFE OU EAU",
           55,
           5,
           "13:45"
          ],
          [
           "CAFE OU EAU",
           57,
           7,
           "14:00"
          ],
          [
           "CAFE OU EAU",
           52,
           2,
           "14:15"
          ],
          [
           "CAFE OU EAU",
           58,
           8,
           "16:00"
          ],
          [
           "CAFE OU EAU",
           62,
           12,
           "16:15"
          ],
          [
           "CAFE OU EAU",
           65,
           15,
           "16:30"
          ],
          [
           "CAFE OU EAU",
           70,
           20,
           "16:45"
          ],
          [
           "CAFE OU EAU",
           78,
           28,
           "17:00"
          ],
          [
           "CAFE OU EAU",
           61,
           11,
           "17:15"
          ],
          [
           "CAFE OU EAU",
           62,
           12,
           "17:30"
          ],
          [
           "CAFE OU EAU",
           58,
           8,
           "17:45"
          ],
          [
           "CAFE OU EAU",
           61,
           11,
           "18:00"
          ],
          [
           "CAFE OU EAU",
           57,
           7,
           "18:15"
          ],
          [
           "CAFE OU EAU",
           56,
           6,
           "18:30"
          ],
          [
           "CAFE OU EAU",
           59,
           9,
           "18:45"
          ],
          [
           "CAFE OU EAU",
           56,
           6,
           "19:00"
          ],
          [
           "CAFE OU EAU",
           52,
           2,
           "19:15"
          ],
          [
           "CAFE OU EAU",
           51,
           1,
           "19:30"
          ]
         ],
         "hovertemplate": "article=%{customdata[0]}<br>Time=%{customdata[3]}<br>Quantity=%{customdata[2]}<extra></extra>",
         "legendgroup": "CAFE OU EAU",
         "marker": {
          "color": "#fb9f3a"
         },
         "name": "CAFE OU EAU",
         "r": [
          51,
          55,
          77,
          91,
          264,
          258,
          154,
          135,
          148,
          142,
          112,
          129,
          122,
          132,
          104,
          127,
          84,
          122,
          109,
          97,
          101,
          101,
          99,
          84,
          97,
          67,
          62,
          55,
          57,
          52,
          58,
          62,
          65,
          70,
          78,
          61,
          62,
          58,
          61,
          57,
          56,
          59,
          56,
          52,
          51
         ],
         "showlegend": true,
         "subplot": "polar",
         "theta": [
          "07:00",
          "07:15",
          "07:30",
          "07:45",
          "08:00",
          "08:15",
          "08:30",
          "08:45",
          "09:00",
          "09:15",
          "09:30",
          "09:45",
          "10:00",
          "10:15",
          "10:30",
          "10:45",
          "11:00",
          "11:15",
          "11:30",
          "11:45",
          "12:00",
          "12:15",
          "12:30",
          "12:45",
          "13:00",
          "13:15",
          "13:30",
          "13:45",
          "14:00",
          "14:15",
          "16:00",
          "16:15",
          "16:30",
          "16:45",
          "17:00",
          "17:15",
          "17:30",
          "17:45",
          "18:00",
          "18:15",
          "18:30",
          "18:45",
          "19:00",
          "19:15",
          "19:30"
         ],
         "type": "barpolar"
        },
        {
         "customdata": [
          [
           "CEREAL BAGUETTE",
           54,
           4,
           "07:00"
          ],
          [
           "CEREAL BAGUETTE",
           51,
           1,
           "07:15"
          ],
          [
           "CEREAL BAGUETTE",
           83,
           33,
           "07:30"
          ],
          [
           "CEREAL BAGUETTE",
           116,
           66,
           "07:45"
          ],
          [
           "CEREAL BAGUETTE",
           225,
           175,
           "08:00"
          ],
          [
           "CEREAL BAGUETTE",
           209,
           159,
           "08:15"
          ],
          [
           "CEREAL BAGUETTE",
           238,
           188,
           "08:30"
          ],
          [
           "CEREAL BAGUETTE",
           227,
           177,
           "08:45"
          ],
          [
           "CEREAL BAGUETTE",
           284,
           234,
           "09:00"
          ],
          [
           "CEREAL BAGUETTE",
           298,
           248,
           "09:15"
          ],
          [
           "CEREAL BAGUETTE",
           281,
           231,
           "09:30"
          ],
          [
           "CEREAL BAGUETTE",
           291,
           241,
           "09:45"
          ],
          [
           "CEREAL BAGUETTE",
           293,
           243,
           "10:00"
          ],
          [
           "CEREAL BAGUETTE",
           321,
           271,
           "10:15"
          ],
          [
           "CEREAL BAGUETTE",
           369,
           319,
           "10:30"
          ],
          [
           "CEREAL BAGUETTE",
           393,
           343,
           "10:45"
          ],
          [
           "CEREAL BAGUETTE",
           355,
           305,
           "11:00"
          ],
          [
           "CEREAL BAGUETTE",
           434,
           384,
           "11:15"
          ],
          [
           "CEREAL BAGUETTE",
           481,
           431,
           "11:30"
          ],
          [
           "CEREAL BAGUETTE",
           484,
           434,
           "11:45"
          ],
          [
           "CEREAL BAGUETTE",
           429,
           379,
           "12:00"
          ],
          [
           "CEREAL BAGUETTE",
           415,
           365,
           "12:15"
          ],
          [
           "CEREAL BAGUETTE",
           367,
           317,
           "12:30"
          ],
          [
           "CEREAL BAGUETTE",
           396,
           346,
           "12:45"
          ],
          [
           "CEREAL BAGUETTE",
           288,
           238,
           "13:00"
          ],
          [
           "CEREAL BAGUETTE",
           142,
           92,
           "13:15"
          ],
          [
           "CEREAL BAGUETTE",
           122,
           72,
           "13:30"
          ],
          [
           "CEREAL BAGUETTE",
           86,
           36,
           "13:45"
          ],
          [
           "CEREAL BAGUETTE",
           85,
           35,
           "14:00"
          ],
          [
           "CEREAL BAGUETTE",
           73,
           23,
           "16:00"
          ],
          [
           "CEREAL BAGUETTE",
           111,
           61,
           "16:15"
          ],
          [
           "CEREAL BAGUETTE",
           81,
           31,
           "16:30"
          ],
          [
           "CEREAL BAGUETTE",
           98,
           48,
           "16:45"
          ],
          [
           "CEREAL BAGUETTE",
           126,
           76,
           "17:00"
          ],
          [
           "CEREAL BAGUETTE",
           111,
           61,
           "17:15"
          ],
          [
           "CEREAL BAGUETTE",
           136,
           86,
           "17:30"
          ],
          [
           "CEREAL BAGUETTE",
           167,
           117,
           "17:45"
          ],
          [
           "CEREAL BAGUETTE",
           173,
           123,
           "18:00"
          ],
          [
           "CEREAL BAGUETTE",
           195,
           145,
           "18:15"
          ],
          [
           "CEREAL BAGUETTE",
           174,
           124,
           "18:30"
          ],
          [
           "CEREAL BAGUETTE",
           147,
           97,
           "18:45"
          ],
          [
           "CEREAL BAGUETTE",
           98,
           48,
           "19:00"
          ],
          [
           "CEREAL BAGUETTE",
           65,
           15,
           "19:15"
          ],
          [
           "CEREAL BAGUETTE",
           53,
           3,
           "19:30"
          ],
          [
           "CEREAL BAGUETTE",
           52,
           2,
           "20:00"
          ]
         ],
         "hovertemplate": "article=%{customdata[0]}<br>Time=%{customdata[3]}<br>Quantity=%{customdata[2]}<extra></extra>",
         "legendgroup": "CEREAL BAGUETTE",
         "marker": {
          "color": "#ed7953"
         },
         "name": "CEREAL BAGUETTE",
         "r": [
          54,
          51,
          83,
          116,
          225,
          209,
          238,
          227,
          284,
          298,
          281,
          291,
          293,
          321,
          369,
          393,
          355,
          434,
          481,
          484,
          429,
          415,
          367,
          396,
          288,
          142,
          122,
          86,
          85,
          73,
          111,
          81,
          98,
          126,
          111,
          136,
          167,
          173,
          195,
          174,
          147,
          98,
          65,
          53,
          52
         ],
         "showlegend": true,
         "subplot": "polar",
         "theta": [
          "07:00",
          "07:15",
          "07:30",
          "07:45",
          "08:00",
          "08:15",
          "08:30",
          "08:45",
          "09:00",
          "09:15",
          "09:30",
          "09:45",
          "10:00",
          "10:15",
          "10:30",
          "10:45",
          "11:00",
          "11:15",
          "11:30",
          "11:45",
          "12:00",
          "12:15",
          "12:30",
          "12:45",
          "13:00",
          "13:15",
          "13:30",
          "13:45",
          "14:00",
          "16:00",
          "16:15",
          "16:30",
          "16:45",
          "17:00",
          "17:15",
          "17:30",
          "17:45",
          "18:00",
          "18:15",
          "18:30",
          "18:45",
          "19:00",
          "19:15",
          "19:30",
          "20:00"
         ],
         "type": "barpolar"
        },
        {
         "customdata": [
          [
           "COMPLET",
           51,
           1,
           "07:00"
          ],
          [
           "COMPLET",
           61,
           11,
           "07:30"
          ],
          [
           "COMPLET",
           67,
           17,
           "07:45"
          ],
          [
           "COMPLET",
           93,
           43,
           "08:00"
          ],
          [
           "COMPLET",
           122,
           72,
           "08:15"
          ],
          [
           "COMPLET",
           108,
           58,
           "08:30"
          ],
          [
           "COMPLET",
           141,
           91,
           "08:45"
          ],
          [
           "COMPLET",
           131,
           81,
           "09:00"
          ],
          [
           "COMPLET",
           159,
           109,
           "09:15"
          ],
          [
           "COMPLET",
           175,
           125,
           "09:30"
          ],
          [
           "COMPLET",
           198,
           148,
           "09:45"
          ],
          [
           "COMPLET",
           220,
           170,
           "10:00"
          ],
          [
           "COMPLET",
           211,
           161,
           "10:15"
          ],
          [
           "COMPLET",
           242,
           192,
           "10:30"
          ],
          [
           "COMPLET",
           260,
           210,
           "10:45"
          ],
          [
           "COMPLET",
           256,
           206,
           "11:00"
          ],
          [
           "COMPLET",
           252,
           202,
           "11:15"
          ],
          [
           "COMPLET",
           257,
           207,
           "11:30"
          ],
          [
           "COMPLET",
           250,
           200,
           "11:45"
          ],
          [
           "COMPLET",
           210,
           160,
           "12:00"
          ],
          [
           "COMPLET",
           217,
           167,
           "12:15"
          ],
          [
           "COMPLET",
           199,
           149,
           "12:30"
          ],
          [
           "COMPLET",
           154,
           104,
           "12:45"
          ],
          [
           "COMPLET",
           104,
           54,
           "13:00"
          ],
          [
           "COMPLET",
           74,
           24,
           "13:15"
          ],
          [
           "COMPLET",
           70,
           20,
           "13:30"
          ],
          [
           "COMPLET",
           68,
           18,
           "13:45"
          ],
          [
           "COMPLET",
           54,
           4,
           "14:00"
          ],
          [
           "COMPLET",
           87,
           37,
           "16:00"
          ],
          [
           "COMPLET",
           84,
           34,
           "16:15"
          ],
          [
           "COMPLET",
           87,
           37,
           "16:30"
          ],
          [
           "COMPLET",
           86,
           36,
           "16:45"
          ],
          [
           "COMPLET",
           97,
           47,
           "17:00"
          ],
          [
           "COMPLET",
           103,
           53,
           "17:15"
          ],
          [
           "COMPLET",
           93,
           43,
           "17:30"
          ],
          [
           "COMPLET",
           101,
           51,
           "17:45"
          ],
          [
           "COMPLET",
           98,
           48,
           "18:00"
          ],
          [
           "COMPLET",
           98,
           48,
           "18:15"
          ],
          [
           "COMPLET",
           100,
           50,
           "18:30"
          ],
          [
           "COMPLET",
           76,
           26,
           "18:45"
          ],
          [
           "COMPLET",
           66,
           16,
           "19:00"
          ],
          [
           "COMPLET",
           53,
           3,
           "19:30"
          ],
          [
           "COMPLET",
           52,
           2,
           "19:45"
          ]
         ],
         "hovertemplate": "article=%{customdata[0]}<br>Time=%{customdata[3]}<br>Quantity=%{customdata[2]}<extra></extra>",
         "legendgroup": "COMPLET",
         "marker": {
          "color": "#d8576b"
         },
         "name": "COMPLET",
         "r": [
          51,
          61,
          67,
          93,
          122,
          108,
          141,
          131,
          159,
          175,
          198,
          220,
          211,
          242,
          260,
          256,
          252,
          257,
          250,
          210,
          217,
          199,
          154,
          104,
          74,
          70,
          68,
          54,
          87,
          84,
          87,
          86,
          97,
          103,
          93,
          101,
          98,
          98,
          100,
          76,
          66,
          53,
          52
         ],
         "showlegend": true,
         "subplot": "polar",
         "theta": [
          "07:00",
          "07:30",
          "07:45",
          "08:00",
          "08:15",
          "08:30",
          "08:45",
          "09:00",
          "09:15",
          "09:30",
          "09:45",
          "10:00",
          "10:15",
          "10:30",
          "10:45",
          "11:00",
          "11:15",
          "11:30",
          "11:45",
          "12:00",
          "12:15",
          "12:30",
          "12:45",
          "13:00",
          "13:15",
          "13:30",
          "13:45",
          "14:00",
          "16:00",
          "16:15",
          "16:30",
          "16:45",
          "17:00",
          "17:15",
          "17:30",
          "17:45",
          "18:00",
          "18:15",
          "18:30",
          "18:45",
          "19:00",
          "19:30",
          "19:45"
         ],
         "type": "barpolar"
        },
        {
         "customdata": [
          [
           "COUPE",
           52,
           2,
           "07:00"
          ],
          [
           "COUPE",
           52,
           2,
           "07:15"
          ],
          [
           "COUPE",
           115,
           65,
           "07:30"
          ],
          [
           "COUPE",
           156,
           106,
           "07:45"
          ],
          [
           "COUPE",
           320,
           270,
           "08:00"
          ],
          [
           "COUPE",
           434,
           384,
           "08:15"
          ],
          [
           "COUPE",
           521,
           471,
           "08:30"
          ],
          [
           "COUPE",
           692,
           642,
           "08:45"
          ],
          [
           "COUPE",
           669,
           619,
           "09:00"
          ],
          [
           "COUPE",
           814,
           764,
           "09:15"
          ],
          [
           "COUPE",
           835,
           785,
           "09:30"
          ],
          [
           "COUPE",
           1004,
           954,
           "09:45"
          ],
          [
           "COUPE",
           1120,
           1070,
           "10:00"
          ],
          [
           "COUPE",
           1274,
           1224,
           "10:15"
          ],
          [
           "COUPE",
           1317,
           1267,
           "10:30"
          ],
          [
           "COUPE",
           1441,
           1391,
           "10:45"
          ],
          [
           "COUPE",
           1462,
           1412,
           "11:00"
          ],
          [
           "COUPE",
           1518,
           1468,
           "11:15"
          ],
          [
           "COUPE",
           1380,
           1330,
           "11:30"
          ],
          [
           "COUPE",
           1300,
           1250,
           "11:45"
          ],
          [
           "COUPE",
           1225,
           1175,
           "12:00"
          ],
          [
           "COUPE",
           1048,
           998,
           "12:15"
          ],
          [
           "COUPE",
           894,
           844,
           "12:30"
          ],
          [
           "COUPE",
           677,
           627,
           "12:45"
          ],
          [
           "COUPE",
           405,
           355,
           "13:00"
          ],
          [
           "COUPE",
           224,
           174,
           "13:15"
          ],
          [
           "COUPE",
           162,
           112,
           "13:30"
          ],
          [
           "COUPE",
           117,
           67,
           "13:45"
          ],
          [
           "COUPE",
           72,
           22,
           "14:00"
          ],
          [
           "COUPE",
           185,
           135,
           "16:00"
          ],
          [
           "COUPE",
           299,
           249,
           "16:15"
          ],
          [
           "COUPE",
           327,
           277,
           "16:30"
          ],
          [
           "COUPE",
           294,
           244,
           "16:45"
          ],
          [
           "COUPE",
           363,
           313,
           "17:00"
          ],
          [
           "COUPE",
           385,
           335,
           "17:15"
          ],
          [
           "COUPE",
           376,
           326,
           "17:30"
          ],
          [
           "COUPE",
           419,
           369,
           "17:45"
          ],
          [
           "COUPE",
           392,
           342,
           "18:00"
          ],
          [
           "COUPE",
           351,
           301,
           "18:15"
          ],
          [
           "COUPE",
           376,
           326,
           "18:30"
          ],
          [
           "COUPE",
           284,
           234,
           "18:45"
          ],
          [
           "COUPE",
           185,
           135,
           "19:00"
          ],
          [
           "COUPE",
           91,
           41,
           "19:15"
          ],
          [
           "COUPE",
           69,
           19,
           "19:30"
          ],
          [
           "COUPE",
           56,
           6,
           "19:45"
          ],
          [
           "COUPE",
           53,
           3,
           "20:00"
          ]
         ],
         "hovertemplate": "article=%{customdata[0]}<br>Time=%{customdata[3]}<br>Quantity=%{customdata[2]}<extra></extra>",
         "legendgroup": "COUPE",
         "marker": {
          "color": "#bd3786"
         },
         "name": "COUPE",
         "r": [
          52,
          52,
          115,
          156,
          320,
          434,
          521,
          692,
          669,
          814,
          835,
          1004,
          1120,
          1274,
          1317,
          1441,
          1462,
          1518,
          1380,
          1300,
          1225,
          1048,
          894,
          677,
          405,
          224,
          162,
          117,
          72,
          185,
          299,
          327,
          294,
          363,
          385,
          376,
          419,
          392,
          351,
          376,
          284,
          185,
          91,
          69,
          56,
          53
         ],
         "showlegend": true,
         "subplot": "polar",
         "theta": [
          "07:00",
          "07:15",
          "07:30",
          "07:45",
          "08:00",
          "08:15",
          "08:30",
          "08:45",
          "09:00",
          "09:15",
          "09:30",
          "09:45",
          "10:00",
          "10:15",
          "10:30",
          "10:45",
          "11:00",
          "11:15",
          "11:30",
          "11:45",
          "12:00",
          "12:15",
          "12:30",
          "12:45",
          "13:00",
          "13:15",
          "13:30",
          "13:45",
          "14:00",
          "16:00",
          "16:15",
          "16:30",
          "16:45",
          "17:00",
          "17:15",
          "17:30",
          "17:45",
          "18:00",
          "18:15",
          "18:30",
          "18:45",
          "19:00",
          "19:15",
          "19:30",
          "19:45",
          "20:00"
         ],
         "type": "barpolar"
        },
        {
         "customdata": [
          [
           "CROISSANT",
           87,
           37,
           "07:00"
          ],
          [
           "CROISSANT",
           131,
           81,
           "07:15"
          ],
          [
           "CROISSANT",
           725,
           675,
           "07:30"
          ],
          [
           "CROISSANT",
           1585,
           1535,
           "07:45"
          ],
          [
           "CROISSANT",
           2296,
           2246,
           "08:00"
          ],
          [
           "CROISSANT",
           2488,
           2438,
           "08:15"
          ],
          [
           "CROISSANT",
           2589,
           2539,
           "08:30"
          ],
          [
           "CROISSANT",
           2770,
           2720,
           "08:45"
          ],
          [
           "CROISSANT",
           2610,
           2560,
           "09:00"
          ],
          [
           "CROISSANT",
           2373,
           2323,
           "09:15"
          ],
          [
           "CROISSANT",
           1968,
           1918,
           "09:30"
          ],
          [
           "CROISSANT",
           1688,
           1638,
           "09:45"
          ],
          [
           "CROISSANT",
           1500,
           1450,
           "10:00"
          ],
          [
           "CROISSANT",
           1250,
           1200,
           "10:15"
          ],
          [
           "CROISSANT",
           898,
           848,
           "10:30"
          ],
          [
           "CROISSANT",
           806,
           756,
           "10:45"
          ],
          [
           "CROISSANT",
           682,
           632,
           "11:00"
          ],
          [
           "CROISSANT",
           594,
           544,
           "11:15"
          ],
          [
           "CROISSANT",
           505,
           455,
           "11:30"
          ],
          [
           "CROISSANT",
           486,
           436,
           "11:45"
          ],
          [
           "CROISSANT",
           376,
           326,
           "12:00"
          ],
          [
           "CROISSANT",
           333,
           283,
           "12:15"
          ],
          [
           "CROISSANT",
           277,
           227,
           "12:30"
          ],
          [
           "CROISSANT",
           221,
           171,
           "12:45"
          ],
          [
           "CROISSANT",
           111,
           61,
           "13:00"
          ],
          [
           "CROISSANT",
           106,
           56,
           "13:15"
          ],
          [
           "CROISSANT",
           86,
           36,
           "13:30"
          ],
          [
           "CROISSANT",
           60,
           10,
           "13:45"
          ],
          [
           "CROISSANT",
           62,
           12,
           "14:00"
          ],
          [
           "CROISSANT",
           52,
           2,
           "14:15"
          ],
          [
           "CROISSANT",
           104,
           54,
           "16:00"
          ],
          [
           "CROISSANT",
           202,
           152,
           "16:15"
          ],
          [
           "CROISSANT",
           185,
           135,
           "16:30"
          ],
          [
           "CROISSANT",
           200,
           150,
           "16:45"
          ],
          [
           "CROISSANT",
           180,
           130,
           "17:00"
          ],
          [
           "CROISSANT",
           187,
           137,
           "17:15"
          ],
          [
           "CROISSANT",
           173,
           123,
           "17:30"
          ],
          [
           "CROISSANT",
           197,
           147,
           "17:45"
          ],
          [
           "CROISSANT",
           175,
           125,
           "18:00"
          ],
          [
           "CROISSANT",
           182,
           132,
           "18:15"
          ],
          [
           "CROISSANT",
           113,
           63,
           "18:30"
          ],
          [
           "CROISSANT",
           101,
           51,
           "18:45"
          ],
          [
           "CROISSANT",
           76,
           26,
           "19:00"
          ],
          [
           "CROISSANT",
           58,
           8,
           "19:15"
          ],
          [
           "CROISSANT",
           56,
           6,
           "19:30"
          ]
         ],
         "hovertemplate": "article=%{customdata[0]}<br>Time=%{customdata[3]}<br>Quantity=%{customdata[2]}<extra></extra>",
         "legendgroup": "CROISSANT",
         "marker": {
          "color": "#9c179e"
         },
         "name": "CROISSANT",
         "r": [
          87,
          131,
          725,
          1585,
          2296,
          2488,
          2589,
          2770,
          2610,
          2373,
          1968,
          1688,
          1500,
          1250,
          898,
          806,
          682,
          594,
          505,
          486,
          376,
          333,
          277,
          221,
          111,
          106,
          86,
          60,
          62,
          52,
          104,
          202,
          185,
          200,
          180,
          187,
          173,
          197,
          175,
          182,
          113,
          101,
          76,
          58,
          56
         ],
         "showlegend": true,
         "subplot": "polar",
         "theta": [
          "07:00",
          "07:15",
          "07:30",
          "07:45",
          "08:00",
          "08:15",
          "08:30",
          "08:45",
          "09:00",
          "09:15",
          "09:30",
          "09:45",
          "10:00",
          "10:15",
          "10:30",
          "10:45",
          "11:00",
          "11:15",
          "11:30",
          "11:45",
          "12:00",
          "12:15",
          "12:30",
          "12:45",
          "13:00",
          "13:15",
          "13:30",
          "13:45",
          "14:00",
          "14:15",
          "16:00",
          "16:15",
          "16:30",
          "16:45",
          "17:00",
          "17:15",
          "17:30",
          "17:45",
          "18:00",
          "18:15",
          "18:30",
          "18:45",
          "19:00",
          "19:15",
          "19:30"
         ],
         "type": "barpolar"
        },
        {
         "customdata": [
          [
           "FICELLE",
           51,
           1,
           "07:00"
          ],
          [
           "FICELLE",
           54,
           4,
           "07:15"
          ],
          [
           "FICELLE",
           135,
           85,
           "07:30"
          ],
          [
           "FICELLE",
           248,
           198,
           "07:45"
          ],
          [
           "FICELLE",
           272,
           222,
           "08:00"
          ],
          [
           "FICELLE",
           369,
           319,
           "08:15"
          ],
          [
           "FICELLE",
           368,
           318,
           "08:30"
          ],
          [
           "FICELLE",
           298,
           248,
           "08:45"
          ],
          [
           "FICELLE",
           210,
           160,
           "09:00"
          ],
          [
           "FICELLE",
           198,
           148,
           "09:15"
          ],
          [
           "FICELLE",
           198,
           148,
           "09:30"
          ],
          [
           "FICELLE",
           226,
           176,
           "09:45"
          ],
          [
           "FICELLE",
           191,
           141,
           "10:00"
          ],
          [
           "FICELLE",
           196,
           146,
           "10:15"
          ],
          [
           "FICELLE",
           164,
           114,
           "10:30"
          ],
          [
           "FICELLE",
           159,
           109,
           "10:45"
          ],
          [
           "FICELLE",
           139,
           89,
           "11:00"
          ],
          [
           "FICELLE",
           141,
           91,
           "11:15"
          ],
          [
           "FICELLE",
           132,
           82,
           "11:30"
          ],
          [
           "FICELLE",
           134,
           84,
           "11:45"
          ],
          [
           "FICELLE",
           102,
           52,
           "12:00"
          ],
          [
           "FICELLE",
           114,
           64,
           "12:15"
          ],
          [
           "FICELLE",
           102,
           52,
           "12:30"
          ],
          [
           "FICELLE",
           83,
           33,
           "12:45"
          ],
          [
           "FICELLE",
           67,
           17,
           "13:00"
          ],
          [
           "FICELLE",
           69,
           19,
           "13:15"
          ],
          [
           "FICELLE",
           61,
           11,
           "13:30"
          ],
          [
           "FICELLE",
           55,
           5,
           "13:45"
          ],
          [
           "FICELLE",
           51,
           1,
           "14:00"
          ],
          [
           "FICELLE",
           55,
           5,
           "16:00"
          ],
          [
           "FICELLE",
           62,
           12,
           "16:15"
          ],
          [
           "FICELLE",
           68,
           18,
           "16:30"
          ],
          [
           "FICELLE",
           72,
           22,
           "16:45"
          ],
          [
           "FICELLE",
           78,
           28,
           "17:00"
          ],
          [
           "FICELLE",
           79,
           29,
           "17:15"
          ],
          [
           "FICELLE",
           72,
           22,
           "17:30"
          ],
          [
           "FICELLE",
           69,
           19,
           "17:45"
          ],
          [
           "FICELLE",
           78,
           28,
           "18:00"
          ],
          [
           "FICELLE",
           68,
           18,
           "18:15"
          ],
          [
           "FICELLE",
           70,
           20,
           "18:30"
          ],
          [
           "FICELLE",
           76,
           26,
           "18:45"
          ],
          [
           "FICELLE",
           62,
           12,
           "19:00"
          ],
          [
           "FICELLE",
           53,
           3,
           "19:15"
          ],
          [
           "FICELLE",
           56,
           6,
           "19:30"
          ]
         ],
         "hovertemplate": "article=%{customdata[0]}<br>Time=%{customdata[3]}<br>Quantity=%{customdata[2]}<extra></extra>",
         "legendgroup": "FICELLE",
         "marker": {
          "color": "#7201a8"
         },
         "name": "FICELLE",
         "r": [
          51,
          54,
          135,
          248,
          272,
          369,
          368,
          298,
          210,
          198,
          198,
          226,
          191,
          196,
          164,
          159,
          139,
          141,
          132,
          134,
          102,
          114,
          102,
          83,
          67,
          69,
          61,
          55,
          51,
          55,
          62,
          68,
          72,
          78,
          79,
          72,
          69,
          78,
          68,
          70,
          76,
          62,
          53,
          56
         ],
         "showlegend": true,
         "subplot": "polar",
         "theta": [
          "07:00",
          "07:15",
          "07:30",
          "07:45",
          "08:00",
          "08:15",
          "08:30",
          "08:45",
          "09:00",
          "09:15",
          "09:30",
          "09:45",
          "10:00",
          "10:15",
          "10:30",
          "10:45",
          "11:00",
          "11:15",
          "11:30",
          "11:45",
          "12:00",
          "12:15",
          "12:30",
          "12:45",
          "13:00",
          "13:15",
          "13:30",
          "13:45",
          "14:00",
          "16:00",
          "16:15",
          "16:30",
          "16:45",
          "17:00",
          "17:15",
          "17:30",
          "17:45",
          "18:00",
          "18:15",
          "18:30",
          "18:45",
          "19:00",
          "19:15",
          "19:30"
         ],
         "type": "barpolar"
        },
        {
         "customdata": [
          [
           "PAIN AU CHOCOLAT",
           63,
           13,
           "07:00"
          ],
          [
           "PAIN AU CHOCOLAT",
           115,
           65,
           "07:15"
          ],
          [
           "PAIN AU CHOCOLAT",
           596,
           546,
           "07:30"
          ],
          [
           "PAIN AU CHOCOLAT",
           1499,
           1449,
           "07:45"
          ],
          [
           "PAIN AU CHOCOLAT",
           1707,
           1657,
           "08:00"
          ],
          [
           "PAIN AU CHOCOLAT",
           1777,
           1727,
           "08:15"
          ],
          [
           "PAIN AU CHOCOLAT",
           2134,
           2084,
           "08:30"
          ],
          [
           "PAIN AU CHOCOLAT",
           2126,
           2076,
           "08:45"
          ],
          [
           "PAIN AU CHOCOLAT",
           2130,
           2080,
           "09:00"
          ],
          [
           "PAIN AU CHOCOLAT",
           2096,
           2046,
           "09:15"
          ],
          [
           "PAIN AU CHOCOLAT",
           1753,
           1703,
           "09:30"
          ],
          [
           "PAIN AU CHOCOLAT",
           1636,
           1586,
           "09:45"
          ],
          [
           "PAIN AU CHOCOLAT",
           1292,
           1242,
           "10:00"
          ],
          [
           "PAIN AU CHOCOLAT",
           1139,
           1089,
           "10:15"
          ],
          [
           "PAIN AU CHOCOLAT",
           830,
           780,
           "10:30"
          ],
          [
           "PAIN AU CHOCOLAT",
           769,
           719,
           "10:45"
          ],
          [
           "PAIN AU CHOCOLAT",
           590,
           540,
           "11:00"
          ],
          [
           "PAIN AU CHOCOLAT",
           566,
           516,
           "11:15"
          ],
          [
           "PAIN AU CHOCOLAT",
           435,
           385,
           "11:30"
          ],
          [
           "PAIN AU CHOCOLAT",
           407,
           357,
           "11:45"
          ],
          [
           "PAIN AU CHOCOLAT",
           341,
           291,
           "12:00"
          ],
          [
           "PAIN AU CHOCOLAT",
           341,
           291,
           "12:15"
          ],
          [
           "PAIN AU CHOCOLAT",
           248,
           198,
           "12:30"
          ],
          [
           "PAIN AU CHOCOLAT",
           205,
           155,
           "12:45"
          ],
          [
           "PAIN AU CHOCOLAT",
           133,
           83,
           "13:00"
          ],
          [
           "PAIN AU CHOCOLAT",
           77,
           27,
           "13:15"
          ],
          [
           "PAIN AU CHOCOLAT",
           75,
           25,
           "13:30"
          ],
          [
           "PAIN AU CHOCOLAT",
           64,
           14,
           "13:45"
          ],
          [
           "PAIN AU CHOCOLAT",
           70,
           20,
           "14:00"
          ],
          [
           "PAIN AU CHOCOLAT",
           51,
           1,
           "14:15"
          ],
          [
           "PAIN AU CHOCOLAT",
           105,
           55,
           "16:00"
          ],
          [
           "PAIN AU CHOCOLAT",
           232,
           182,
           "16:15"
          ],
          [
           "PAIN AU CHOCOLAT",
           176,
           126,
           "16:30"
          ],
          [
           "PAIN AU CHOCOLAT",
           215,
           165,
           "16:45"
          ],
          [
           "PAIN AU CHOCOLAT",
           225,
           175,
           "17:00"
          ],
          [
           "PAIN AU CHOCOLAT",
           203,
           153,
           "17:15"
          ],
          [
           "PAIN AU CHOCOLAT",
           171,
           121,
           "17:30"
          ],
          [
           "PAIN AU CHOCOLAT",
           191,
           141,
           "17:45"
          ],
          [
           "PAIN AU CHOCOLAT",
           196,
           146,
           "18:00"
          ],
          [
           "PAIN AU CHOCOLAT",
           131,
           81,
           "18:15"
          ],
          [
           "PAIN AU CHOCOLAT",
           100,
           50,
           "18:30"
          ],
          [
           "PAIN AU CHOCOLAT",
           93,
           43,
           "18:45"
          ],
          [
           "PAIN AU CHOCOLAT",
           67,
           17,
           "19:00"
          ],
          [
           "PAIN AU CHOCOLAT",
           55,
           5,
           "19:15"
          ],
          [
           "PAIN AU CHOCOLAT",
           53,
           3,
           "19:30"
          ],
          [
           "PAIN AU CHOCOLAT",
           58,
           8,
           "19:45"
          ]
         ],
         "hovertemplate": "article=%{customdata[0]}<br>Time=%{customdata[3]}<br>Quantity=%{customdata[2]}<extra></extra>",
         "legendgroup": "PAIN AU CHOCOLAT",
         "marker": {
          "color": "#46039f"
         },
         "name": "PAIN AU CHOCOLAT",
         "r": [
          63,
          115,
          596,
          1499,
          1707,
          1777,
          2134,
          2126,
          2130,
          2096,
          1753,
          1636,
          1292,
          1139,
          830,
          769,
          590,
          566,
          435,
          407,
          341,
          341,
          248,
          205,
          133,
          77,
          75,
          64,
          70,
          51,
          105,
          232,
          176,
          215,
          225,
          203,
          171,
          191,
          196,
          131,
          100,
          93,
          67,
          55,
          53,
          58
         ],
         "showlegend": true,
         "subplot": "polar",
         "theta": [
          "07:00",
          "07:15",
          "07:30",
          "07:45",
          "08:00",
          "08:15",
          "08:30",
          "08:45",
          "09:00",
          "09:15",
          "09:30",
          "09:45",
          "10:00",
          "10:15",
          "10:30",
          "10:45",
          "11:00",
          "11:15",
          "11:30",
          "11:45",
          "12:00",
          "12:15",
          "12:30",
          "12:45",
          "13:00",
          "13:15",
          "13:30",
          "13:45",
          "14:00",
          "14:15",
          "16:00",
          "16:15",
          "16:30",
          "16:45",
          "17:00",
          "17:15",
          "17:30",
          "17:45",
          "18:00",
          "18:15",
          "18:30",
          "18:45",
          "19:00",
          "19:15",
          "19:30",
          "19:45"
         ],
         "type": "barpolar"
        },
        {
         "customdata": [
          [
           "PAIN AUX RAISINS",
           51,
           1,
           "07:00"
          ],
          [
           "PAIN AUX RAISINS",
           53,
           3,
           "07:15"
          ],
          [
           "PAIN AUX RAISINS",
           99,
           49,
           "07:30"
          ],
          [
           "PAIN AUX RAISINS",
           157,
           107,
           "07:45"
          ],
          [
           "PAIN AUX RAISINS",
           245,
           195,
           "08:00"
          ],
          [
           "PAIN AUX RAISINS",
           235,
           185,
           "08:15"
          ],
          [
           "PAIN AUX RAISINS",
           270,
           220,
           "08:30"
          ],
          [
           "PAIN AUX RAISINS",
           320,
           270,
           "08:45"
          ],
          [
           "PAIN AUX RAISINS",
           243,
           193,
           "09:00"
          ],
          [
           "PAIN AUX RAISINS",
           212,
           162,
           "09:15"
          ],
          [
           "PAIN AUX RAISINS",
           198,
           148,
           "09:30"
          ],
          [
           "PAIN AUX RAISINS",
           236,
           186,
           "09:45"
          ],
          [
           "PAIN AUX RAISINS",
           148,
           98,
           "10:00"
          ],
          [
           "PAIN AUX RAISINS",
           174,
           124,
           "10:15"
          ],
          [
           "PAIN AUX RAISINS",
           128,
           78,
           "10:30"
          ],
          [
           "PAIN AUX RAISINS",
           132,
           82,
           "10:45"
          ],
          [
           "PAIN AUX RAISINS",
           110,
           60,
           "11:00"
          ],
          [
           "PAIN AUX RAISINS",
           101,
           51,
           "11:15"
          ],
          [
           "PAIN AUX RAISINS",
           108,
           58,
           "11:30"
          ],
          [
           "PAIN AUX RAISINS",
           98,
           48,
           "11:45"
          ],
          [
           "PAIN AUX RAISINS",
           84,
           34,
           "12:00"
          ],
          [
           "PAIN AUX RAISINS",
           84,
           34,
           "12:15"
          ],
          [
           "PAIN AUX RAISINS",
           92,
           42,
           "12:30"
          ],
          [
           "PAIN AUX RAISINS",
           70,
           20,
           "12:45"
          ],
          [
           "PAIN AUX RAISINS",
           64,
           14,
           "13:00"
          ],
          [
           "PAIN AUX RAISINS",
           61,
           11,
           "13:15"
          ],
          [
           "PAIN AUX RAISINS",
           58,
           8,
           "13:30"
          ],
          [
           "PAIN AUX RAISINS",
           55,
           5,
           "13:45"
          ],
          [
           "PAIN AUX RAISINS",
           54,
           4,
           "16:00"
          ],
          [
           "PAIN AUX RAISINS",
           74,
           24,
           "16:15"
          ],
          [
           "PAIN AUX RAISINS",
           65,
           15,
           "16:30"
          ],
          [
           "PAIN AUX RAISINS",
           88,
           38,
           "16:45"
          ],
          [
           "PAIN AUX RAISINS",
           69,
           19,
           "17:00"
          ],
          [
           "PAIN AUX RAISINS",
           71,
           21,
           "17:15"
          ],
          [
           "PAIN AUX RAISINS",
           73,
           23,
           "17:30"
          ],
          [
           "PAIN AUX RAISINS",
           77,
           27,
           "17:45"
          ],
          [
           "PAIN AUX RAISINS",
           68,
           18,
           "18:00"
          ],
          [
           "PAIN AUX RAISINS",
           65,
           15,
           "18:15"
          ],
          [
           "PAIN AUX RAISINS",
           67,
           17,
           "18:30"
          ],
          [
           "PAIN AUX RAISINS",
           58,
           8,
           "18:45"
          ],
          [
           "PAIN AUX RAISINS",
           60,
           10,
           "19:00"
          ],
          [
           "PAIN AUX RAISINS",
           52,
           2,
           "19:15"
          ],
          [
           "PAIN AUX RAISINS",
           51,
           1,
           "19:30"
          ],
          [
           "PAIN AUX RAISINS",
           51,
           1,
           "19:45"
          ],
          [
           "PAIN AUX RAISINS",
           50,
           0,
           "20:00"
          ]
         ],
         "hovertemplate": "article=%{customdata[0]}<br>Time=%{customdata[3]}<br>Quantity=%{customdata[2]}<extra></extra>",
         "legendgroup": "PAIN AUX RAISINS",
         "marker": {
          "color": "#0d0887"
         },
         "name": "PAIN AUX RAISINS",
         "r": [
          51,
          53,
          99,
          157,
          245,
          235,
          270,
          320,
          243,
          212,
          198,
          236,
          148,
          174,
          128,
          132,
          110,
          101,
          108,
          98,
          84,
          84,
          92,
          70,
          64,
          61,
          58,
          55,
          54,
          74,
          65,
          88,
          69,
          71,
          73,
          77,
          68,
          65,
          67,
          58,
          60,
          52,
          51,
          51,
          50
         ],
         "showlegend": true,
         "subplot": "polar",
         "theta": [
          "07:00",
          "07:15",
          "07:30",
          "07:45",
          "08:00",
          "08:15",
          "08:30",
          "08:45",
          "09:00",
          "09:15",
          "09:30",
          "09:45",
          "10:00",
          "10:15",
          "10:30",
          "10:45",
          "11:00",
          "11:15",
          "11:30",
          "11:45",
          "12:00",
          "12:15",
          "12:30",
          "12:45",
          "13:00",
          "13:15",
          "13:30",
          "13:45",
          "16:00",
          "16:15",
          "16:30",
          "16:45",
          "17:00",
          "17:15",
          "17:30",
          "17:45",
          "18:00",
          "18:15",
          "18:30",
          "18:45",
          "19:00",
          "19:15",
          "19:30",
          "19:45",
          "20:00"
         ],
         "type": "barpolar"
        },
        {
         "customdata": [
          [
           "PAIN CHOCO AMANDES",
           51,
           1,
           "07:00"
          ],
          [
           "PAIN CHOCO AMANDES",
           59,
           9,
           "07:15"
          ],
          [
           "PAIN CHOCO AMANDES",
           81,
           31,
           "07:30"
          ],
          [
           "PAIN CHOCO AMANDES",
           130,
           80,
           "07:45"
          ],
          [
           "PAIN CHOCO AMANDES",
           157,
           107,
           "08:00"
          ],
          [
           "PAIN CHOCO AMANDES",
           135,
           85,
           "08:15"
          ],
          [
           "PAIN CHOCO AMANDES",
           113,
           63,
           "08:30"
          ],
          [
           "PAIN CHOCO AMANDES",
           146,
           96,
           "08:45"
          ],
          [
           "PAIN CHOCO AMANDES",
           121,
           71,
           "09:00"
          ],
          [
           "PAIN CHOCO AMANDES",
           140,
           90,
           "09:15"
          ],
          [
           "PAIN CHOCO AMANDES",
           111,
           61,
           "09:30"
          ],
          [
           "PAIN CHOCO AMANDES",
           143,
           93,
           "09:45"
          ],
          [
           "PAIN CHOCO AMANDES",
           122,
           72,
           "10:00"
          ],
          [
           "PAIN CHOCO AMANDES",
           113,
           63,
           "10:15"
          ],
          [
           "PAIN CHOCO AMANDES",
           99,
           49,
           "10:30"
          ],
          [
           "PAIN CHOCO AMANDES",
           137,
           87,
           "10:45"
          ],
          [
           "PAIN CHOCO AMANDES",
           113,
           63,
           "11:00"
          ],
          [
           "PAIN CHOCO AMANDES",
           110,
           60,
           "11:15"
          ],
          [
           "PAIN CHOCO AMANDES",
           78,
           28,
           "11:30"
          ],
          [
           "PAIN CHOCO AMANDES",
           100,
           50,
           "11:45"
          ],
          [
           "PAIN CHOCO AMANDES",
           89,
           39,
           "12:00"
          ],
          [
           "PAIN CHOCO AMANDES",
           91,
           41,
           "12:15"
          ],
          [
           "PAIN CHOCO AMANDES",
           96,
           46,
           "12:30"
          ],
          [
           "PAIN CHOCO AMANDES",
           93,
           43,
           "12:45"
          ],
          [
           "PAIN CHOCO AMANDES",
           69,
           19,
           "13:00"
          ],
          [
           "PAIN CHOCO AMANDES",
           62,
           12,
           "13:15"
          ],
          [
           "PAIN CHOCO AMANDES",
           52,
           2,
           "13:30"
          ],
          [
           "PAIN CHOCO AMANDES",
           54,
           4,
           "13:45"
          ],
          [
           "PAIN CHOCO AMANDES",
           55,
           5,
           "14:00"
          ],
          [
           "PAIN CHOCO AMANDES",
           66,
           16,
           "16:00"
          ],
          [
           "PAIN CHOCO AMANDES",
           80,
           30,
           "16:15"
          ],
          [
           "PAIN CHOCO AMANDES",
           95,
           45,
           "16:30"
          ],
          [
           "PAIN CHOCO AMANDES",
           97,
           47,
           "16:45"
          ],
          [
           "PAIN CHOCO AMANDES",
           90,
           40,
           "17:00"
          ],
          [
           "PAIN CHOCO AMANDES",
           108,
           58,
           "17:15"
          ],
          [
           "PAIN CHOCO AMANDES",
           85,
           35,
           "17:30"
          ],
          [
           "PAIN CHOCO AMANDES",
           86,
           36,
           "17:45"
          ],
          [
           "PAIN CHOCO AMANDES",
           90,
           40,
           "18:00"
          ],
          [
           "PAIN CHOCO AMANDES",
           73,
           23,
           "18:15"
          ],
          [
           "PAIN CHOCO AMANDES",
           80,
           30,
           "18:30"
          ],
          [
           "PAIN CHOCO AMANDES",
           74,
           24,
           "18:45"
          ],
          [
           "PAIN CHOCO AMANDES",
           58,
           8,
           "19:00"
          ],
          [
           "PAIN CHOCO AMANDES",
           53,
           3,
           "19:15"
          ]
         ],
         "hovertemplate": "article=%{customdata[0]}<br>Time=%{customdata[3]}<br>Quantity=%{customdata[2]}<extra></extra>",
         "legendgroup": "PAIN CHOCO AMANDES",
         "marker": {
          "color": "#f0f921"
         },
         "name": "PAIN CHOCO AMANDES",
         "r": [
          51,
          59,
          81,
          130,
          157,
          135,
          113,
          146,
          121,
          140,
          111,
          143,
          122,
          113,
          99,
          137,
          113,
          110,
          78,
          100,
          89,
          91,
          96,
          93,
          69,
          62,
          52,
          54,
          55,
          66,
          80,
          95,
          97,
          90,
          108,
          85,
          86,
          90,
          73,
          80,
          74,
          58,
          53
         ],
         "showlegend": true,
         "subplot": "polar",
         "theta": [
          "07:00",
          "07:15",
          "07:30",
          "07:45",
          "08:00",
          "08:15",
          "08:30",
          "08:45",
          "09:00",
          "09:15",
          "09:30",
          "09:45",
          "10:00",
          "10:15",
          "10:30",
          "10:45",
          "11:00",
          "11:15",
          "11:30",
          "11:45",
          "12:00",
          "12:15",
          "12:30",
          "12:45",
          "13:00",
          "13:15",
          "13:30",
          "13:45",
          "14:00",
          "16:00",
          "16:15",
          "16:30",
          "16:45",
          "17:00",
          "17:15",
          "17:30",
          "17:45",
          "18:00",
          "18:15",
          "18:30",
          "18:45",
          "19:00",
          "19:15"
         ],
         "type": "barpolar"
        },
        {
         "customdata": [
          [
           "SACHET VIENNOISERIE",
           52,
           2,
           "07:00"
          ],
          [
           "SACHET VIENNOISERIE",
           51,
           1,
           "07:15"
          ],
          [
           "SACHET VIENNOISERIE",
           57,
           7,
           "07:30"
          ],
          [
           "SACHET VIENNOISERIE",
           65,
           15,
           "07:45"
          ],
          [
           "SACHET VIENNOISERIE",
           74,
           24,
           "08:00"
          ],
          [
           "SACHET VIENNOISERIE",
           71,
           21,
           "08:15"
          ],
          [
           "SACHET VIENNOISERIE",
           87,
           37,
           "08:30"
          ],
          [
           "SACHET VIENNOISERIE",
           89,
           39,
           "08:45"
          ],
          [
           "SACHET VIENNOISERIE",
           71,
           21,
           "09:00"
          ],
          [
           "SACHET VIENNOISERIE",
           72,
           22,
           "09:15"
          ],
          [
           "SACHET VIENNOISERIE",
           84,
           34,
           "09:30"
          ],
          [
           "SACHET VIENNOISERIE",
           73,
           23,
           "09:45"
          ],
          [
           "SACHET VIENNOISERIE",
           73,
           23,
           "10:00"
          ],
          [
           "SACHET VIENNOISERIE",
           71,
           21,
           "10:15"
          ],
          [
           "SACHET VIENNOISERIE",
           66,
           16,
           "10:30"
          ],
          [
           "SACHET VIENNOISERIE",
           66,
           16,
           "10:45"
          ],
          [
           "SACHET VIENNOISERIE",
           74,
           24,
           "11:00"
          ],
          [
           "SACHET VIENNOISERIE",
           66,
           16,
           "11:15"
          ],
          [
           "SACHET VIENNOISERIE",
           65,
           15,
           "11:30"
          ],
          [
           "SACHET VIENNOISERIE",
           61,
           11,
           "11:45"
          ],
          [
           "SACHET VIENNOISERIE",
           66,
           16,
           "12:00"
          ],
          [
           "SACHET VIENNOISERIE",
           65,
           15,
           "12:15"
          ],
          [
           "SACHET VIENNOISERIE",
           65,
           15,
           "12:30"
          ],
          [
           "SACHET VIENNOISERIE",
           60,
           10,
           "12:45"
          ],
          [
           "SACHET VIENNOISERIE",
           59,
           9,
           "13:00"
          ],
          [
           "SACHET VIENNOISERIE",
           53,
           3,
           "13:15"
          ],
          [
           "SACHET VIENNOISERIE",
           52,
           2,
           "13:30"
          ],
          [
           "SACHET VIENNOISERIE",
           51,
           1,
           "13:45"
          ],
          [
           "SACHET VIENNOISERIE",
           54,
           4,
           "16:00"
          ],
          [
           "SACHET VIENNOISERIE",
           55,
           5,
           "16:15"
          ],
          [
           "SACHET VIENNOISERIE",
           53,
           3,
           "16:30"
          ],
          [
           "SACHET VIENNOISERIE",
           59,
           9,
           "16:45"
          ],
          [
           "SACHET VIENNOISERIE",
           51,
           1,
           "17:00"
          ],
          [
           "SACHET VIENNOISERIE",
           54,
           4,
           "17:15"
          ],
          [
           "SACHET VIENNOISERIE",
           54,
           4,
           "17:30"
          ],
          [
           "SACHET VIENNOISERIE",
           54,
           4,
           "17:45"
          ],
          [
           "SACHET VIENNOISERIE",
           57,
           7,
           "18:00"
          ],
          [
           "SACHET VIENNOISERIE",
           52,
           2,
           "18:15"
          ],
          [
           "SACHET VIENNOISERIE",
           52,
           2,
           "18:30"
          ],
          [
           "SACHET VIENNOISERIE",
           52,
           2,
           "18:45"
          ],
          [
           "SACHET VIENNOISERIE",
           52,
           2,
           "19:00"
          ],
          [
           "SACHET VIENNOISERIE",
           51,
           1,
           "19:30"
          ]
         ],
         "hovertemplate": "article=%{customdata[0]}<br>Time=%{customdata[3]}<br>Quantity=%{customdata[2]}<extra></extra>",
         "legendgroup": "SACHET VIENNOISERIE",
         "marker": {
          "color": "#fdca26"
         },
         "name": "SACHET VIENNOISERIE",
         "r": [
          52,
          51,
          57,
          65,
          74,
          71,
          87,
          89,
          71,
          72,
          84,
          73,
          73,
          71,
          66,
          66,
          74,
          66,
          65,
          61,
          66,
          65,
          65,
          60,
          59,
          53,
          52,
          51,
          54,
          55,
          53,
          59,
          51,
          54,
          54,
          54,
          57,
          52,
          52,
          52,
          52,
          51
         ],
         "showlegend": true,
         "subplot": "polar",
         "theta": [
          "07:00",
          "07:15",
          "07:30",
          "07:45",
          "08:00",
          "08:15",
          "08:30",
          "08:45",
          "09:00",
          "09:15",
          "09:30",
          "09:45",
          "10:00",
          "10:15",
          "10:30",
          "10:45",
          "11:00",
          "11:15",
          "11:30",
          "11:45",
          "12:00",
          "12:15",
          "12:30",
          "12:45",
          "13:00",
          "13:15",
          "13:30",
          "13:45",
          "16:00",
          "16:15",
          "16:30",
          "16:45",
          "17:00",
          "17:15",
          "17:30",
          "17:45",
          "18:00",
          "18:15",
          "18:30",
          "18:45",
          "19:00",
          "19:30"
         ],
         "type": "barpolar"
        },
        {
         "customdata": [
          [
           "SAND JB EMMENTAL",
           51,
           1,
           "07:00"
          ],
          [
           "SAND JB EMMENTAL",
           51,
           1,
           "07:15"
          ],
          [
           "SAND JB EMMENTAL",
           55,
           5,
           "07:30"
          ],
          [
           "SAND JB EMMENTAL",
           63,
           13,
           "07:45"
          ],
          [
           "SAND JB EMMENTAL",
           79,
           29,
           "08:00"
          ],
          [
           "SAND JB EMMENTAL",
           82,
           32,
           "08:15"
          ],
          [
           "SAND JB EMMENTAL",
           93,
           43,
           "08:30"
          ],
          [
           "SAND JB EMMENTAL",
           92,
           42,
           "08:45"
          ],
          [
           "SAND JB EMMENTAL",
           90,
           40,
           "09:00"
          ],
          [
           "SAND JB EMMENTAL",
           103,
           53,
           "09:15"
          ],
          [
           "SAND JB EMMENTAL",
           119,
           69,
           "09:30"
          ],
          [
           "SAND JB EMMENTAL",
           101,
           51,
           "09:45"
          ],
          [
           "SAND JB EMMENTAL",
           95,
           45,
           "10:00"
          ],
          [
           "SAND JB EMMENTAL",
           99,
           49,
           "10:15"
          ],
          [
           "SAND JB EMMENTAL",
           117,
           67,
           "10:30"
          ],
          [
           "SAND JB EMMENTAL",
           112,
           62,
           "10:45"
          ],
          [
           "SAND JB EMMENTAL",
           106,
           56,
           "11:00"
          ],
          [
           "SAND JB EMMENTAL",
           142,
           92,
           "11:15"
          ],
          [
           "SAND JB EMMENTAL",
           138,
           88,
           "11:30"
          ],
          [
           "SAND JB EMMENTAL",
           138,
           88,
           "11:45"
          ],
          [
           "SAND JB EMMENTAL",
           158,
           108,
           "12:00"
          ],
          [
           "SAND JB EMMENTAL",
           217,
           167,
           "12:15"
          ],
          [
           "SAND JB EMMENTAL",
           208,
           158,
           "12:30"
          ],
          [
           "SAND JB EMMENTAL",
           196,
           146,
           "12:45"
          ],
          [
           "SAND JB EMMENTAL",
           183,
           133,
           "13:00"
          ],
          [
           "SAND JB EMMENTAL",
           97,
           47,
           "13:15"
          ],
          [
           "SAND JB EMMENTAL",
           79,
           29,
           "13:30"
          ],
          [
           "SAND JB EMMENTAL",
           62,
           12,
           "13:45"
          ],
          [
           "SAND JB EMMENTAL",
           75,
           25,
           "14:00"
          ],
          [
           "SAND JB EMMENTAL",
           51,
           1,
           "14:15"
          ],
          [
           "SAND JB EMMENTAL",
           54,
           4,
           "16:00"
          ],
          [
           "SAND JB EMMENTAL",
           54,
           4,
           "16:15"
          ],
          [
           "SAND JB EMMENTAL",
           55,
           5,
           "16:30"
          ],
          [
           "SAND JB EMMENTAL",
           54,
           4,
           "16:45"
          ],
          [
           "SAND JB EMMENTAL",
           51,
           1,
           "17:00"
          ],
          [
           "SAND JB EMMENTAL",
           54,
           4,
           "17:15"
          ],
          [
           "SAND JB EMMENTAL",
           53,
           3,
           "17:30"
          ],
          [
           "SAND JB EMMENTAL",
           53,
           3,
           "18:00"
          ],
          [
           "SAND JB EMMENTAL",
           52,
           2,
           "18:15"
          ],
          [
           "SAND JB EMMENTAL",
           52,
           2,
           "18:30"
          ],
          [
           "SAND JB EMMENTAL",
           55,
           5,
           "18:45"
          ],
          [
           "SAND JB EMMENTAL",
           53,
           3,
           "19:00"
          ]
         ],
         "hovertemplate": "article=%{customdata[0]}<br>Time=%{customdata[3]}<br>Quantity=%{customdata[2]}<extra></extra>",
         "legendgroup": "SAND JB EMMENTAL",
         "marker": {
          "color": "#fb9f3a"
         },
         "name": "SAND JB EMMENTAL",
         "r": [
          51,
          51,
          55,
          63,
          79,
          82,
          93,
          92,
          90,
          103,
          119,
          101,
          95,
          99,
          117,
          112,
          106,
          142,
          138,
          138,
          158,
          217,
          208,
          196,
          183,
          97,
          79,
          62,
          75,
          51,
          54,
          54,
          55,
          54,
          51,
          54,
          53,
          53,
          52,
          52,
          55,
          53
         ],
         "showlegend": true,
         "subplot": "polar",
         "theta": [
          "07:00",
          "07:15",
          "07:30",
          "07:45",
          "08:00",
          "08:15",
          "08:30",
          "08:45",
          "09:00",
          "09:15",
          "09:30",
          "09:45",
          "10:00",
          "10:15",
          "10:30",
          "10:45",
          "11:00",
          "11:15",
          "11:30",
          "11:45",
          "12:00",
          "12:15",
          "12:30",
          "12:45",
          "13:00",
          "13:15",
          "13:30",
          "13:45",
          "14:00",
          "14:15",
          "16:00",
          "16:15",
          "16:30",
          "16:45",
          "17:00",
          "17:15",
          "17:30",
          "18:00",
          "18:15",
          "18:30",
          "18:45",
          "19:00"
         ],
         "type": "barpolar"
        },
        {
         "customdata": [
          [
           "TRADITIONAL BAGUETTE",
           65,
           15,
           "07:00"
          ],
          [
           "TRADITIONAL BAGUETTE",
           101,
           51,
           "07:15"
          ],
          [
           "TRADITIONAL BAGUETTE",
           604,
           554,
           "07:30"
          ],
          [
           "TRADITIONAL BAGUETTE",
           1226,
           1176,
           "07:45"
          ],
          [
           "TRADITIONAL BAGUETTE",
           1867,
           1817,
           "08:00"
          ],
          [
           "TRADITIONAL BAGUETTE",
           2543,
           2493,
           "08:15"
          ],
          [
           "TRADITIONAL BAGUETTE",
           2943,
           2893,
           "08:30"
          ],
          [
           "TRADITIONAL BAGUETTE",
           3644,
           3594,
           "08:45"
          ],
          [
           "TRADITIONAL BAGUETTE",
           3406,
           3356,
           "09:00"
          ],
          [
           "TRADITIONAL BAGUETTE",
           3453,
           3403,
           "09:15"
          ],
          [
           "TRADITIONAL BAGUETTE",
           3969,
           3919,
           "09:30"
          ],
          [
           "TRADITIONAL BAGUETTE",
           4060,
           4010,
           "09:45"
          ],
          [
           "TRADITIONAL BAGUETTE",
           4716,
           4666,
           "10:00"
          ],
          [
           "TRADITIONAL BAGUETTE",
           5213,
           5163,
           "10:15"
          ],
          [
           "TRADITIONAL BAGUETTE",
           5394,
           5344,
           "10:30"
          ],
          [
           "TRADITIONAL BAGUETTE",
           6145,
           6095,
           "10:45"
          ],
          [
           "TRADITIONAL BAGUETTE",
           6130,
           6080,
           "11:00"
          ],
          [
           "TRADITIONAL BAGUETTE",
           6538,
           6488,
           "11:15"
          ],
          [
           "TRADITIONAL BAGUETTE",
           6859,
           6809,
           "11:30"
          ],
          [
           "TRADITIONAL BAGUETTE",
           6884,
           6834,
           "11:45"
          ],
          [
           "TRADITIONAL BAGUETTE",
           6647,
           6597,
           "12:00"
          ],
          [
           "TRADITIONAL BAGUETTE",
           6367,
           6317,
           "12:15"
          ],
          [
           "TRADITIONAL BAGUETTE",
           5078,
           5028,
           "12:30"
          ],
          [
           "TRADITIONAL BAGUETTE",
           3823,
           3773,
           "12:45"
          ],
          [
           "TRADITIONAL BAGUETTE",
           2390,
           2340,
           "13:00"
          ],
          [
           "TRADITIONAL BAGUETTE",
           1032,
           982,
           "13:15"
          ],
          [
           "TRADITIONAL BAGUETTE",
           661,
           611,
           "13:30"
          ],
          [
           "TRADITIONAL BAGUETTE",
           465,
           415,
           "13:45"
          ],
          [
           "TRADITIONAL BAGUETTE",
           241,
           191,
           "14:00"
          ],
          [
           "TRADITIONAL BAGUETTE",
           54,
           4,
           "14:15"
          ],
          [
           "TRADITIONAL BAGUETTE",
           57,
           7,
           "15:45"
          ],
          [
           "TRADITIONAL BAGUETTE",
           546,
           496,
           "16:00"
          ],
          [
           "TRADITIONAL BAGUETTE",
           1036,
           986,
           "16:15"
          ],
          [
           "TRADITIONAL BAGUETTE",
           1045,
           995,
           "16:30"
          ],
          [
           "TRADITIONAL BAGUETTE",
           1198,
           1148,
           "16:45"
          ],
          [
           "TRADITIONAL BAGUETTE",
           1342,
           1292,
           "17:00"
          ],
          [
           "TRADITIONAL BAGUETTE",
           1444,
           1394,
           "17:15"
          ],
          [
           "TRADITIONAL BAGUETTE",
           1607,
           1557,
           "17:30"
          ],
          [
           "TRADITIONAL BAGUETTE",
           1821,
           1771,
           "17:45"
          ],
          [
           "TRADITIONAL BAGUETTE",
           1648,
           1598,
           "18:00"
          ],
          [
           "TRADITIONAL BAGUETTE",
           1684,
           1634,
           "18:15"
          ],
          [
           "TRADITIONAL BAGUETTE",
           1489,
           1439,
           "18:30"
          ],
          [
           "TRADITIONAL BAGUETTE",
           1215,
           1165,
           "18:45"
          ],
          [
           "TRADITIONAL BAGUETTE",
           689,
           639,
           "19:00"
          ],
          [
           "TRADITIONAL BAGUETTE",
           220,
           170,
           "19:15"
          ],
          [
           "TRADITIONAL BAGUETTE",
           146,
           96,
           "19:30"
          ],
          [
           "TRADITIONAL BAGUETTE",
           96,
           46,
           "19:45"
          ],
          [
           "TRADITIONAL BAGUETTE",
           62,
           12,
           "20:00"
          ]
         ],
         "hovertemplate": "article=%{customdata[0]}<br>Time=%{customdata[3]}<br>Quantity=%{customdata[2]}<extra></extra>",
         "legendgroup": "TRADITIONAL BAGUETTE",
         "marker": {
          "color": "#ed7953"
         },
         "name": "TRADITIONAL BAGUETTE",
         "r": [
          65,
          101,
          604,
          1226,
          1867,
          2543,
          2943,
          3644,
          3406,
          3453,
          3969,
          4060,
          4716,
          5213,
          5394,
          6145,
          6130,
          6538,
          6859,
          6884,
          6647,
          6367,
          5078,
          3823,
          2390,
          1032,
          661,
          465,
          241,
          54,
          57,
          546,
          1036,
          1045,
          1198,
          1342,
          1444,
          1607,
          1821,
          1648,
          1684,
          1489,
          1215,
          689,
          220,
          146,
          96,
          62
         ],
         "showlegend": true,
         "subplot": "polar",
         "theta": [
          "07:00",
          "07:15",
          "07:30",
          "07:45",
          "08:00",
          "08:15",
          "08:30",
          "08:45",
          "09:00",
          "09:15",
          "09:30",
          "09:45",
          "10:00",
          "10:15",
          "10:30",
          "10:45",
          "11:00",
          "11:15",
          "11:30",
          "11:45",
          "12:00",
          "12:15",
          "12:30",
          "12:45",
          "13:00",
          "13:15",
          "13:30",
          "13:45",
          "14:00",
          "14:15",
          "15:45",
          "16:00",
          "16:15",
          "16:30",
          "16:45",
          "17:00",
          "17:15",
          "17:30",
          "17:45",
          "18:00",
          "18:15",
          "18:30",
          "18:45",
          "19:00",
          "19:15",
          "19:30",
          "19:45",
          "20:00"
         ],
         "type": "barpolar"
        },
        {
         "customdata": [
          [
           "VIENNOISE",
           51,
           1,
           "07:00"
          ],
          [
           "VIENNOISE",
           52,
           2,
           "07:15"
          ],
          [
           "VIENNOISE",
           54,
           4,
           "07:30"
          ],
          [
           "VIENNOISE",
           53,
           3,
           "07:45"
          ],
          [
           "VIENNOISE",
           68,
           18,
           "08:00"
          ],
          [
           "VIENNOISE",
           66,
           16,
           "08:15"
          ],
          [
           "VIENNOISE",
           71,
           21,
           "08:30"
          ],
          [
           "VIENNOISE",
           58,
           8,
           "08:45"
          ],
          [
           "VIENNOISE",
           64,
           14,
           "09:00"
          ],
          [
           "VIENNOISE",
           66,
           16,
           "09:15"
          ],
          [
           "VIENNOISE",
           61,
           11,
           "09:30"
          ],
          [
           "VIENNOISE",
           62,
           12,
           "09:45"
          ],
          [
           "VIENNOISE",
           53,
           3,
           "10:00"
          ],
          [
           "VIENNOISE",
           60,
           10,
           "10:15"
          ],
          [
           "VIENNOISE",
           57,
           7,
           "10:30"
          ],
          [
           "VIENNOISE",
           54,
           4,
           "10:45"
          ],
          [
           "VIENNOISE",
           59,
           9,
           "11:00"
          ],
          [
           "VIENNOISE",
           52,
           2,
           "11:15"
          ],
          [
           "VIENNOISE",
           53,
           3,
           "11:30"
          ],
          [
           "VIENNOISE",
           59,
           9,
           "11:45"
          ],
          [
           "VIENNOISE",
           53,
           3,
           "12:00"
          ],
          [
           "VIENNOISE",
           58,
           8,
           "12:15"
          ],
          [
           "VIENNOISE",
           55,
           5,
           "12:30"
          ],
          [
           "VIENNOISE",
           55,
           5,
           "12:45"
          ],
          [
           "VIENNOISE",
           54,
           4,
           "13:00"
          ],
          [
           "VIENNOISE",
           51,
           1,
           "13:30"
          ],
          [
           "VIENNOISE",
           51,
           1,
           "16:00"
          ],
          [
           "VIENNOISE",
           51,
           1,
           "16:30"
          ],
          [
           "VIENNOISE",
           56,
           6,
           "17:00"
          ],
          [
           "VIENNOISE",
           55,
           5,
           "17:30"
          ],
          [
           "VIENNOISE",
           51,
           1,
           "18:00"
          ],
          [
           "VIENNOISE",
           52,
           2,
           "18:15"
          ],
          [
           "VIENNOISE",
           51,
           1,
           "18:30"
          ],
          [
           "VIENNOISE",
           51,
           1,
           "19:00"
          ],
          [
           "VIENNOISE",
           51,
           1,
           "19:15"
          ]
         ],
         "hovertemplate": "article=%{customdata[0]}<br>Time=%{customdata[3]}<br>Quantity=%{customdata[2]}<extra></extra>",
         "legendgroup": "VIENNOISE",
         "marker": {
          "color": "#d8576b"
         },
         "name": "VIENNOISE",
         "r": [
          51,
          52,
          54,
          53,
          68,
          66,
          71,
          58,
          64,
          66,
          61,
          62,
          53,
          60,
          57,
          54,
          59,
          52,
          53,
          59,
          53,
          58,
          55,
          55,
          54,
          51,
          51,
          51,
          56,
          55,
          51,
          52,
          51,
          51,
          51
         ],
         "showlegend": true,
         "subplot": "polar",
         "theta": [
          "07:00",
          "07:15",
          "07:30",
          "07:45",
          "08:00",
          "08:15",
          "08:30",
          "08:45",
          "09:00",
          "09:15",
          "09:30",
          "09:45",
          "10:00",
          "10:15",
          "10:30",
          "10:45",
          "11:00",
          "11:15",
          "11:30",
          "11:45",
          "12:00",
          "12:15",
          "12:30",
          "12:45",
          "13:00",
          "13:30",
          "16:00",
          "16:30",
          "17:00",
          "17:30",
          "18:00",
          "18:15",
          "18:30",
          "19:00",
          "19:15"
         ],
         "type": "barpolar"
        },
        {
         "customdata": [
          [
           "BAGUETTE APERO",
           51,
           1,
           "07:15"
          ],
          [
           "BAGUETTE APERO",
           51,
           1,
           "08:00"
          ],
          [
           "BAGUETTE APERO",
           51,
           1,
           "08:15"
          ],
          [
           "BAGUETTE APERO",
           52,
           2,
           "08:30"
          ],
          [
           "BAGUETTE APERO",
           52,
           2,
           "08:45"
          ],
          [
           "BAGUETTE APERO",
           53,
           3,
           "09:00"
          ],
          [
           "BAGUETTE APERO",
           52,
           2,
           "09:30"
          ],
          [
           "BAGUETTE APERO",
           52,
           2,
           "09:45"
          ],
          [
           "BAGUETTE APERO",
           52,
           2,
           "10:00"
          ],
          [
           "BAGUETTE APERO",
           51,
           1,
           "10:15"
          ],
          [
           "BAGUETTE APERO",
           52,
           2,
           "10:30"
          ],
          [
           "BAGUETTE APERO",
           52,
           2,
           "10:45"
          ],
          [
           "BAGUETTE APERO",
           53,
           3,
           "11:00"
          ],
          [
           "BAGUETTE APERO",
           51,
           1,
           "11:15"
          ],
          [
           "BAGUETTE APERO",
           51,
           1,
           "11:30"
          ],
          [
           "BAGUETTE APERO",
           51,
           1,
           "11:45"
          ],
          [
           "BAGUETTE APERO",
           56,
           6,
           "12:00"
          ],
          [
           "BAGUETTE APERO",
           54,
           4,
           "12:15"
          ],
          [
           "BAGUETTE APERO",
           55,
           5,
           "12:30"
          ],
          [
           "BAGUETTE APERO",
           61,
           11,
           "12:45"
          ],
          [
           "BAGUETTE APERO",
           55,
           5,
           "13:00"
          ],
          [
           "BAGUETTE APERO",
           52,
           2,
           "13:15"
          ],
          [
           "BAGUETTE APERO",
           51,
           1,
           "13:30"
          ],
          [
           "BAGUETTE APERO",
           51,
           1,
           "17:00"
          ]
         ],
         "hovertemplate": "article=%{customdata[0]}<br>Time=%{customdata[3]}<br>Quantity=%{customdata[2]}<extra></extra>",
         "legendgroup": "BAGUETTE APERO",
         "marker": {
          "color": "#bd3786"
         },
         "name": "BAGUETTE APERO",
         "r": [
          51,
          51,
          51,
          52,
          52,
          53,
          52,
          52,
          52,
          51,
          52,
          52,
          53,
          51,
          51,
          51,
          56,
          54,
          55,
          61,
          55,
          52,
          51,
          51
         ],
         "showlegend": true,
         "subplot": "polar",
         "theta": [
          "07:15",
          "08:00",
          "08:15",
          "08:30",
          "08:45",
          "09:00",
          "09:30",
          "09:45",
          "10:00",
          "10:15",
          "10:30",
          "10:45",
          "11:00",
          "11:15",
          "11:30",
          "11:45",
          "12:00",
          "12:15",
          "12:30",
          "12:45",
          "13:00",
          "13:15",
          "13:30",
          "17:00"
         ],
         "type": "barpolar"
        },
        {
         "customdata": [
          [
           "BAGUETTE GRAINE",
           51,
           1,
           "07:15"
          ],
          [
           "BAGUETTE GRAINE",
           59,
           9,
           "07:30"
          ],
          [
           "BAGUETTE GRAINE",
           71,
           21,
           "07:45"
          ],
          [
           "BAGUETTE GRAINE",
           86,
           36,
           "08:00"
          ],
          [
           "BAGUETTE GRAINE",
           102,
           52,
           "08:15"
          ],
          [
           "BAGUETTE GRAINE",
           94,
           44,
           "08:30"
          ],
          [
           "BAGUETTE GRAINE",
           120,
           70,
           "08:45"
          ],
          [
           "BAGUETTE GRAINE",
           110,
           60,
           "09:00"
          ],
          [
           "BAGUETTE GRAINE",
           135,
           85,
           "09:15"
          ],
          [
           "BAGUETTE GRAINE",
           132,
           82,
           "09:30"
          ],
          [
           "BAGUETTE GRAINE",
           115,
           65,
           "09:45"
          ],
          [
           "BAGUETTE GRAINE",
           131,
           81,
           "10:00"
          ],
          [
           "BAGUETTE GRAINE",
           117,
           67,
           "10:15"
          ],
          [
           "BAGUETTE GRAINE",
           136,
           86,
           "10:30"
          ],
          [
           "BAGUETTE GRAINE",
           148,
           98,
           "10:45"
          ],
          [
           "BAGUETTE GRAINE",
           148,
           98,
           "11:00"
          ],
          [
           "BAGUETTE GRAINE",
           162,
           112,
           "11:15"
          ],
          [
           "BAGUETTE GRAINE",
           164,
           114,
           "11:30"
          ],
          [
           "BAGUETTE GRAINE",
           146,
           96,
           "11:45"
          ],
          [
           "BAGUETTE GRAINE",
           162,
           112,
           "12:00"
          ],
          [
           "BAGUETTE GRAINE",
           113,
           63,
           "12:15"
          ],
          [
           "BAGUETTE GRAINE",
           149,
           99,
           "12:30"
          ],
          [
           "BAGUETTE GRAINE",
           136,
           86,
           "12:45"
          ],
          [
           "BAGUETTE GRAINE",
           70,
           20,
           "13:00"
          ],
          [
           "BAGUETTE GRAINE",
           61,
           11,
           "13:15"
          ],
          [
           "BAGUETTE GRAINE",
           63,
           13,
           "13:30"
          ],
          [
           "BAGUETTE GRAINE",
           58,
           8,
           "13:45"
          ],
          [
           "BAGUETTE GRAINE",
           56,
           6,
           "16:00"
          ],
          [
           "BAGUETTE GRAINE",
           56,
           6,
           "16:15"
          ],
          [
           "BAGUETTE GRAINE",
           61,
           11,
           "16:30"
          ],
          [
           "BAGUETTE GRAINE",
           59,
           9,
           "16:45"
          ],
          [
           "BAGUETTE GRAINE",
           63,
           13,
           "17:00"
          ],
          [
           "BAGUETTE GRAINE",
           60,
           10,
           "17:15"
          ],
          [
           "BAGUETTE GRAINE",
           54,
           4,
           "17:30"
          ],
          [
           "BAGUETTE GRAINE",
           65,
           15,
           "17:45"
          ],
          [
           "BAGUETTE GRAINE",
           64,
           14,
           "18:00"
          ],
          [
           "BAGUETTE GRAINE",
           65,
           15,
           "18:15"
          ],
          [
           "BAGUETTE GRAINE",
           77,
           27,
           "18:30"
          ],
          [
           "BAGUETTE GRAINE",
           69,
           19,
           "18:45"
          ],
          [
           "BAGUETTE GRAINE",
           65,
           15,
           "19:00"
          ],
          [
           "BAGUETTE GRAINE",
           57,
           7,
           "19:15"
          ],
          [
           "BAGUETTE GRAINE",
           52,
           2,
           "19:30"
          ]
         ],
         "hovertemplate": "article=%{customdata[0]}<br>Time=%{customdata[3]}<br>Quantity=%{customdata[2]}<extra></extra>",
         "legendgroup": "BAGUETTE GRAINE",
         "marker": {
          "color": "#9c179e"
         },
         "name": "BAGUETTE GRAINE",
         "r": [
          51,
          59,
          71,
          86,
          102,
          94,
          120,
          110,
          135,
          132,
          115,
          131,
          117,
          136,
          148,
          148,
          162,
          164,
          146,
          162,
          113,
          149,
          136,
          70,
          61,
          63,
          58,
          56,
          56,
          61,
          59,
          63,
          60,
          54,
          65,
          64,
          65,
          77,
          69,
          65,
          57,
          52
         ],
         "showlegend": true,
         "subplot": "polar",
         "theta": [
          "07:15",
          "07:30",
          "07:45",
          "08:00",
          "08:15",
          "08:30",
          "08:45",
          "09:00",
          "09:15",
          "09:30",
          "09:45",
          "10:00",
          "10:15",
          "10:30",
          "10:45",
          "11:00",
          "11:15",
          "11:30",
          "11:45",
          "12:00",
          "12:15",
          "12:30",
          "12:45",
          "13:00",
          "13:15",
          "13:30",
          "13:45",
          "16:00",
          "16:15",
          "16:30",
          "16:45",
          "17:00",
          "17:15",
          "17:30",
          "17:45",
          "18:00",
          "18:15",
          "18:30",
          "18:45",
          "19:00",
          "19:15",
          "19:30"
         ],
         "type": "barpolar"
        },
        {
         "customdata": [
          [
           "BANETTINE",
           51,
           1,
           "07:15"
          ],
          [
           "BANETTINE",
           64,
           14,
           "07:30"
          ],
          [
           "BANETTINE",
           96,
           46,
           "07:45"
          ],
          [
           "BANETTINE",
           167,
           117,
           "08:00"
          ],
          [
           "BANETTINE",
           206,
           156,
           "08:15"
          ],
          [
           "BANETTINE",
           183,
           133,
           "08:30"
          ],
          [
           "BANETTINE",
           179,
           129,
           "08:45"
          ],
          [
           "BANETTINE",
           186,
           136,
           "09:00"
          ],
          [
           "BANETTINE",
           232,
           182,
           "09:15"
          ],
          [
           "BANETTINE",
           224,
           174,
           "09:30"
          ],
          [
           "BANETTINE",
           248,
           198,
           "09:45"
          ],
          [
           "BANETTINE",
           220,
           170,
           "10:00"
          ],
          [
           "BANETTINE",
           210,
           160,
           "10:15"
          ],
          [
           "BANETTINE",
           205,
           155,
           "10:30"
          ],
          [
           "BANETTINE",
           178,
           128,
           "10:45"
          ],
          [
           "BANETTINE",
           196,
           146,
           "11:00"
          ],
          [
           "BANETTINE",
           202,
           152,
           "11:15"
          ],
          [
           "BANETTINE",
           204,
           154,
           "11:30"
          ],
          [
           "BANETTINE",
           154,
           104,
           "11:45"
          ],
          [
           "BANETTINE",
           141,
           91,
           "12:00"
          ],
          [
           "BANETTINE",
           130,
           80,
           "12:15"
          ],
          [
           "BANETTINE",
           132,
           82,
           "12:30"
          ],
          [
           "BANETTINE",
           90,
           40,
           "12:45"
          ],
          [
           "BANETTINE",
           87,
           37,
           "13:00"
          ],
          [
           "BANETTINE",
           64,
           14,
           "13:15"
          ],
          [
           "BANETTINE",
           63,
           13,
           "13:30"
          ],
          [
           "BANETTINE",
           60,
           10,
           "13:45"
          ],
          [
           "BANETTINE",
           51,
           1,
           "14:00"
          ],
          [
           "BANETTINE",
           52,
           2,
           "16:00"
          ],
          [
           "BANETTINE",
           75,
           25,
           "16:15"
          ],
          [
           "BANETTINE",
           69,
           19,
           "16:30"
          ],
          [
           "BANETTINE",
           62,
           12,
           "16:45"
          ],
          [
           "BANETTINE",
           75,
           25,
           "17:00"
          ],
          [
           "BANETTINE",
           77,
           27,
           "17:15"
          ],
          [
           "BANETTINE",
           71,
           21,
           "17:30"
          ],
          [
           "BANETTINE",
           81,
           31,
           "17:45"
          ],
          [
           "BANETTINE",
           70,
           20,
           "18:00"
          ],
          [
           "BANETTINE",
           75,
           25,
           "18:15"
          ],
          [
           "BANETTINE",
           75,
           25,
           "18:30"
          ],
          [
           "BANETTINE",
           72,
           22,
           "18:45"
          ],
          [
           "BANETTINE",
           61,
           11,
           "19:00"
          ],
          [
           "BANETTINE",
           51,
           1,
           "19:15"
          ],
          [
           "BANETTINE",
           53,
           3,
           "19:30"
          ]
         ],
         "hovertemplate": "article=%{customdata[0]}<br>Time=%{customdata[3]}<br>Quantity=%{customdata[2]}<extra></extra>",
         "legendgroup": "BANETTINE",
         "marker": {
          "color": "#7201a8"
         },
         "name": "BANETTINE",
         "r": [
          51,
          64,
          96,
          167,
          206,
          183,
          179,
          186,
          232,
          224,
          248,
          220,
          210,
          205,
          178,
          196,
          202,
          204,
          154,
          141,
          130,
          132,
          90,
          87,
          64,
          63,
          60,
          51,
          52,
          75,
          69,
          62,
          75,
          77,
          71,
          81,
          70,
          75,
          75,
          72,
          61,
          51,
          53
         ],
         "showlegend": true,
         "subplot": "polar",
         "theta": [
          "07:15",
          "07:30",
          "07:45",
          "08:00",
          "08:15",
          "08:30",
          "08:45",
          "09:00",
          "09:15",
          "09:30",
          "09:45",
          "10:00",
          "10:15",
          "10:30",
          "10:45",
          "11:00",
          "11:15",
          "11:30",
          "11:45",
          "12:00",
          "12:15",
          "12:30",
          "12:45",
          "13:00",
          "13:15",
          "13:30",
          "13:45",
          "14:00",
          "16:00",
          "16:15",
          "16:30",
          "16:45",
          "17:00",
          "17:15",
          "17:30",
          "17:45",
          "18:00",
          "18:15",
          "18:30",
          "18:45",
          "19:00",
          "19:15",
          "19:30"
         ],
         "type": "barpolar"
        },
        {
         "customdata": [
          [
           "BOISSON 33CL",
           71,
           21,
           "07:15"
          ],
          [
           "BOISSON 33CL",
           72,
           22,
           "07:30"
          ],
          [
           "BOISSON 33CL",
           89,
           39,
           "07:45"
          ],
          [
           "BOISSON 33CL",
           119,
           69,
           "08:00"
          ],
          [
           "BOISSON 33CL",
           128,
           78,
           "08:15"
          ],
          [
           "BOISSON 33CL",
           117,
           67,
           "08:30"
          ],
          [
           "BOISSON 33CL",
           116,
           66,
           "08:45"
          ],
          [
           "BOISSON 33CL",
           110,
           60,
           "09:00"
          ],
          [
           "BOISSON 33CL",
           84,
           34,
           "09:15"
          ],
          [
           "BOISSON 33CL",
           80,
           30,
           "09:30"
          ],
          [
           "BOISSON 33CL",
           104,
           54,
           "09:45"
          ],
          [
           "BOISSON 33CL",
           98,
           48,
           "10:00"
          ],
          [
           "BOISSON 33CL",
           82,
           32,
           "10:15"
          ],
          [
           "BOISSON 33CL",
           95,
           45,
           "10:30"
          ],
          [
           "BOISSON 33CL",
           78,
           28,
           "10:45"
          ],
          [
           "BOISSON 33CL",
           92,
           42,
           "11:00"
          ],
          [
           "BOISSON 33CL",
           84,
           34,
           "11:15"
          ],
          [
           "BOISSON 33CL",
           100,
           50,
           "11:30"
          ],
          [
           "BOISSON 33CL",
           126,
           76,
           "11:45"
          ],
          [
           "BOISSON 33CL",
           154,
           104,
           "12:00"
          ],
          [
           "BOISSON 33CL",
           171,
           121,
           "12:15"
          ],
          [
           "BOISSON 33CL",
           212,
           162,
           "12:30"
          ],
          [
           "BOISSON 33CL",
           180,
           130,
           "12:45"
          ],
          [
           "BOISSON 33CL",
           163,
           113,
           "13:00"
          ],
          [
           "BOISSON 33CL",
           86,
           36,
           "13:15"
          ],
          [
           "BOISSON 33CL",
           66,
           16,
           "13:30"
          ],
          [
           "BOISSON 33CL",
           60,
           10,
           "13:45"
          ],
          [
           "BOISSON 33CL",
           59,
           9,
           "14:00"
          ],
          [
           "BOISSON 33CL",
           51,
           1,
           "14:15"
          ],
          [
           "BOISSON 33CL",
           65,
           15,
           "16:00"
          ],
          [
           "BOISSON 33CL",
           68,
           18,
           "16:15"
          ],
          [
           "BOISSON 33CL",
           64,
           14,
           "16:30"
          ],
          [
           "BOISSON 33CL",
           88,
           38,
           "16:45"
          ],
          [
           "BOISSON 33CL",
           80,
           30,
           "17:00"
          ],
          [
           "BOISSON 33CL",
           77,
           27,
           "17:15"
          ],
          [
           "BOISSON 33CL",
           81,
           31,
           "17:30"
          ],
          [
           "BOISSON 33CL",
           65,
           15,
           "17:45"
          ],
          [
           "BOISSON 33CL",
           75,
           25,
           "18:00"
          ],
          [
           "BOISSON 33CL",
           70,
           20,
           "18:15"
          ],
          [
           "BOISSON 33CL",
           67,
           17,
           "18:30"
          ],
          [
           "BOISSON 33CL",
           59,
           9,
           "18:45"
          ],
          [
           "BOISSON 33CL",
           59,
           9,
           "19:00"
          ],
          [
           "BOISSON 33CL",
           54,
           4,
           "19:15"
          ],
          [
           "BOISSON 33CL",
           51,
           1,
           "19:30"
          ],
          [
           "BOISSON 33CL",
           52,
           2,
           "19:45"
          ]
         ],
         "hovertemplate": "article=%{customdata[0]}<br>Time=%{customdata[3]}<br>Quantity=%{customdata[2]}<extra></extra>",
         "legendgroup": "BOISSON 33CL",
         "marker": {
          "color": "#46039f"
         },
         "name": "BOISSON 33CL",
         "r": [
          71,
          72,
          89,
          119,
          128,
          117,
          116,
          110,
          84,
          80,
          104,
          98,
          82,
          95,
          78,
          92,
          84,
          100,
          126,
          154,
          171,
          212,
          180,
          163,
          86,
          66,
          60,
          59,
          51,
          65,
          68,
          64,
          88,
          80,
          77,
          81,
          65,
          75,
          70,
          67,
          59,
          59,
          54,
          51,
          52
         ],
         "showlegend": true,
         "subplot": "polar",
         "theta": [
          "07:15",
          "07:30",
          "07:45",
          "08:00",
          "08:15",
          "08:30",
          "08:45",
          "09:00",
          "09:15",
          "09:30",
          "09:45",
          "10:00",
          "10:15",
          "10:30",
          "10:45",
          "11:00",
          "11:15",
          "11:30",
          "11:45",
          "12:00",
          "12:15",
          "12:30",
          "12:45",
          "13:00",
          "13:15",
          "13:30",
          "13:45",
          "14:00",
          "14:15",
          "16:00",
          "16:15",
          "16:30",
          "16:45",
          "17:00",
          "17:15",
          "17:30",
          "17:45",
          "18:00",
          "18:15",
          "18:30",
          "18:45",
          "19:00",
          "19:15",
          "19:30",
          "19:45"
         ],
         "type": "barpolar"
        },
        {
         "customdata": [
          [
           "BRIOCHE",
           51,
           1,
           "07:15"
          ],
          [
           "BRIOCHE",
           72,
           22,
           "07:30"
          ],
          [
           "BRIOCHE",
           87,
           37,
           "07:45"
          ],
          [
           "BRIOCHE",
           110,
           60,
           "08:00"
          ],
          [
           "BRIOCHE",
           126,
           76,
           "08:15"
          ],
          [
           "BRIOCHE",
           126,
           76,
           "08:30"
          ],
          [
           "BRIOCHE",
           159,
           109,
           "08:45"
          ],
          [
           "BRIOCHE",
           137,
           87,
           "09:00"
          ],
          [
           "BRIOCHE",
           125,
           75,
           "09:15"
          ],
          [
           "BRIOCHE",
           119,
           69,
           "09:30"
          ],
          [
           "BRIOCHE",
           140,
           90,
           "09:45"
          ],
          [
           "BRIOCHE",
           105,
           55,
           "10:00"
          ],
          [
           "BRIOCHE",
           112,
           62,
           "10:15"
          ],
          [
           "BRIOCHE",
           113,
           63,
           "10:30"
          ],
          [
           "BRIOCHE",
           122,
           72,
           "10:45"
          ],
          [
           "BRIOCHE",
           110,
           60,
           "11:00"
          ],
          [
           "BRIOCHE",
           104,
           54,
           "11:15"
          ],
          [
           "BRIOCHE",
           123,
           73,
           "11:30"
          ],
          [
           "BRIOCHE",
           126,
           76,
           "11:45"
          ],
          [
           "BRIOCHE",
           120,
           70,
           "12:00"
          ],
          [
           "BRIOCHE",
           92,
           42,
           "12:15"
          ],
          [
           "BRIOCHE",
           99,
           49,
           "12:30"
          ],
          [
           "BRIOCHE",
           87,
           37,
           "12:45"
          ],
          [
           "BRIOCHE",
           76,
           26,
           "13:00"
          ],
          [
           "BRIOCHE",
           60,
           10,
           "13:15"
          ],
          [
           "BRIOCHE",
           55,
           5,
           "13:30"
          ],
          [
           "BRIOCHE",
           52,
           2,
           "13:45"
          ],
          [
           "BRIOCHE",
           52,
           2,
           "14:00"
          ],
          [
           "BRIOCHE",
           61,
           11,
           "16:00"
          ],
          [
           "BRIOCHE",
           65,
           15,
           "16:15"
          ],
          [
           "BRIOCHE",
           73,
           23,
           "16:30"
          ],
          [
           "BRIOCHE",
           73,
           23,
           "16:45"
          ],
          [
           "BRIOCHE",
           71,
           21,
           "17:00"
          ],
          [
           "BRIOCHE",
           70,
           20,
           "17:15"
          ],
          [
           "BRIOCHE",
           66,
           16,
           "17:30"
          ],
          [
           "BRIOCHE",
           67,
           17,
           "17:45"
          ],
          [
           "BRIOCHE",
           73,
           23,
           "18:00"
          ],
          [
           "BRIOCHE",
           76,
           26,
           "18:15"
          ],
          [
           "BRIOCHE",
           71,
           21,
           "18:30"
          ],
          [
           "BRIOCHE",
           66,
           16,
           "18:45"
          ],
          [
           "BRIOCHE",
           58,
           8,
           "19:00"
          ],
          [
           "BRIOCHE",
           51,
           1,
           "19:15"
          ],
          [
           "BRIOCHE",
           51,
           1,
           "19:30"
          ]
         ],
         "hovertemplate": "article=%{customdata[0]}<br>Time=%{customdata[3]}<br>Quantity=%{customdata[2]}<extra></extra>",
         "legendgroup": "BRIOCHE",
         "marker": {
          "color": "#0d0887"
         },
         "name": "BRIOCHE",
         "r": [
          51,
          72,
          87,
          110,
          126,
          126,
          159,
          137,
          125,
          119,
          140,
          105,
          112,
          113,
          122,
          110,
          104,
          123,
          126,
          120,
          92,
          99,
          87,
          76,
          60,
          55,
          52,
          52,
          61,
          65,
          73,
          73,
          71,
          70,
          66,
          67,
          73,
          76,
          71,
          66,
          58,
          51,
          51
         ],
         "showlegend": true,
         "subplot": "polar",
         "theta": [
          "07:15",
          "07:30",
          "07:45",
          "08:00",
          "08:15",
          "08:30",
          "08:45",
          "09:00",
          "09:15",
          "09:30",
          "09:45",
          "10:00",
          "10:15",
          "10:30",
          "10:45",
          "11:00",
          "11:15",
          "11:30",
          "11:45",
          "12:00",
          "12:15",
          "12:30",
          "12:45",
          "13:00",
          "13:15",
          "13:30",
          "13:45",
          "14:00",
          "16:00",
          "16:15",
          "16:30",
          "16:45",
          "17:00",
          "17:15",
          "17:30",
          "17:45",
          "18:00",
          "18:15",
          "18:30",
          "18:45",
          "19:00",
          "19:15",
          "19:30"
         ],
         "type": "barpolar"
        },
        {
         "customdata": [
          [
           "CHAUSSON AUX POMMES",
           53,
           3,
           "07:15"
          ],
          [
           "CHAUSSON AUX POMMES",
           78,
           28,
           "07:30"
          ],
          [
           "CHAUSSON AUX POMMES",
           91,
           41,
           "07:45"
          ],
          [
           "CHAUSSON AUX POMMES",
           110,
           60,
           "08:00"
          ],
          [
           "CHAUSSON AUX POMMES",
           126,
           76,
           "08:15"
          ],
          [
           "CHAUSSON AUX POMMES",
           138,
           88,
           "08:30"
          ],
          [
           "CHAUSSON AUX POMMES",
           157,
           107,
           "08:45"
          ],
          [
           "CHAUSSON AUX POMMES",
           146,
           96,
           "09:00"
          ],
          [
           "CHAUSSON AUX POMMES",
           126,
           76,
           "09:15"
          ],
          [
           "CHAUSSON AUX POMMES",
           126,
           76,
           "09:30"
          ],
          [
           "CHAUSSON AUX POMMES",
           139,
           89,
           "09:45"
          ],
          [
           "CHAUSSON AUX POMMES",
           122,
           72,
           "10:00"
          ],
          [
           "CHAUSSON AUX POMMES",
           150,
           100,
           "10:15"
          ],
          [
           "CHAUSSON AUX POMMES",
           113,
           63,
           "10:30"
          ],
          [
           "CHAUSSON AUX POMMES",
           135,
           85,
           "10:45"
          ],
          [
           "CHAUSSON AUX POMMES",
           124,
           74,
           "11:00"
          ],
          [
           "CHAUSSON AUX POMMES",
           98,
           48,
           "11:15"
          ],
          [
           "CHAUSSON AUX POMMES",
           111,
           61,
           "11:30"
          ],
          [
           "CHAUSSON AUX POMMES",
           124,
           74,
           "11:45"
          ],
          [
           "CHAUSSON AUX POMMES",
           105,
           55,
           "12:00"
          ],
          [
           "CHAUSSON AUX POMMES",
           94,
           44,
           "12:15"
          ],
          [
           "CHAUSSON AUX POMMES",
           113,
           63,
           "12:30"
          ],
          [
           "CHAUSSON AUX POMMES",
           86,
           36,
           "12:45"
          ],
          [
           "CHAUSSON AUX POMMES",
           71,
           21,
           "13:00"
          ],
          [
           "CHAUSSON AUX POMMES",
           67,
           17,
           "13:15"
          ],
          [
           "CHAUSSON AUX POMMES",
           56,
           6,
           "13:30"
          ],
          [
           "CHAUSSON AUX POMMES",
           56,
           6,
           "13:45"
          ],
          [
           "CHAUSSON AUX POMMES",
           52,
           2,
           "14:00"
          ],
          [
           "CHAUSSON AUX POMMES",
           62,
           12,
           "16:00"
          ],
          [
           "CHAUSSON AUX POMMES",
           76,
           26,
           "16:15"
          ],
          [
           "CHAUSSON AUX POMMES",
           81,
           31,
           "16:30"
          ],
          [
           "CHAUSSON AUX POMMES",
           85,
           35,
           "16:45"
          ],
          [
           "CHAUSSON AUX POMMES",
           90,
           40,
           "17:00"
          ],
          [
           "CHAUSSON AUX POMMES",
           96,
           46,
           "17:15"
          ],
          [
           "CHAUSSON AUX POMMES",
           92,
           42,
           "17:30"
          ],
          [
           "CHAUSSON AUX POMMES",
           79,
           29,
           "17:45"
          ],
          [
           "CHAUSSON AUX POMMES",
           76,
           26,
           "18:00"
          ],
          [
           "CHAUSSON AUX POMMES",
           73,
           23,
           "18:15"
          ],
          [
           "CHAUSSON AUX POMMES",
           78,
           28,
           "18:30"
          ],
          [
           "CHAUSSON AUX POMMES",
           68,
           18,
           "18:45"
          ],
          [
           "CHAUSSON AUX POMMES",
           59,
           9,
           "19:00"
          ],
          [
           "CHAUSSON AUX POMMES",
           52,
           2,
           "19:15"
          ],
          [
           "CHAUSSON AUX POMMES",
           52,
           2,
           "19:30"
          ]
         ],
         "hovertemplate": "article=%{customdata[0]}<br>Time=%{customdata[3]}<br>Quantity=%{customdata[2]}<extra></extra>",
         "legendgroup": "CHAUSSON AUX POMMES",
         "marker": {
          "color": "#f0f921"
         },
         "name": "CHAUSSON AUX POMMES",
         "r": [
          53,
          78,
          91,
          110,
          126,
          138,
          157,
          146,
          126,
          126,
          139,
          122,
          150,
          113,
          135,
          124,
          98,
          111,
          124,
          105,
          94,
          113,
          86,
          71,
          67,
          56,
          56,
          52,
          62,
          76,
          81,
          85,
          90,
          96,
          92,
          79,
          76,
          73,
          78,
          68,
          59,
          52,
          52
         ],
         "showlegend": true,
         "subplot": "polar",
         "theta": [
          "07:15",
          "07:30",
          "07:45",
          "08:00",
          "08:15",
          "08:30",
          "08:45",
          "09:00",
          "09:15",
          "09:30",
          "09:45",
          "10:00",
          "10:15",
          "10:30",
          "10:45",
          "11:00",
          "11:15",
          "11:30",
          "11:45",
          "12:00",
          "12:15",
          "12:30",
          "12:45",
          "13:00",
          "13:15",
          "13:30",
          "13:45",
          "14:00",
          "16:00",
          "16:15",
          "16:30",
          "16:45",
          "17:00",
          "17:15",
          "17:30",
          "17:45",
          "18:00",
          "18:15",
          "18:30",
          "18:45",
          "19:00",
          "19:15",
          "19:30"
         ],
         "type": "barpolar"
        },
        {
         "customdata": [
          [
           "CHOCOLAT",
           52,
           2,
           "07:15"
          ],
          [
           "CHOCOLAT",
           53,
           3,
           "07:30"
          ],
          [
           "CHOCOLAT",
           59,
           9,
           "07:45"
          ],
          [
           "CHOCOLAT",
           57,
           7,
           "08:00"
          ],
          [
           "CHOCOLAT",
           52,
           2,
           "08:15"
          ],
          [
           "CHOCOLAT",
           55,
           5,
           "08:30"
          ],
          [
           "CHOCOLAT",
           55,
           5,
           "08:45"
          ],
          [
           "CHOCOLAT",
           58,
           8,
           "09:00"
          ],
          [
           "CHOCOLAT",
           54,
           4,
           "09:15"
          ],
          [
           "CHOCOLAT",
           59,
           9,
           "09:30"
          ],
          [
           "CHOCOLAT",
           57,
           7,
           "09:45"
          ],
          [
           "CHOCOLAT",
           51,
           1,
           "10:00"
          ],
          [
           "CHOCOLAT",
           53,
           3,
           "10:15"
          ],
          [
           "CHOCOLAT",
           57,
           7,
           "10:30"
          ],
          [
           "CHOCOLAT",
           57,
           7,
           "10:45"
          ],
          [
           "CHOCOLAT",
           51,
           1,
           "11:00"
          ],
          [
           "CHOCOLAT",
           51,
           1,
           "17:00"
          ],
          [
           "CHOCOLAT",
           51,
           1,
           "19:00"
          ]
         ],
         "hovertemplate": "article=%{customdata[0]}<br>Time=%{customdata[3]}<br>Quantity=%{customdata[2]}<extra></extra>",
         "legendgroup": "CHOCOLAT",
         "marker": {
          "color": "#fdca26"
         },
         "name": "CHOCOLAT",
         "r": [
          52,
          53,
          59,
          57,
          52,
          55,
          55,
          58,
          54,
          59,
          57,
          51,
          53,
          57,
          57,
          51,
          51,
          51
         ],
         "showlegend": true,
         "subplot": "polar",
         "theta": [
          "07:15",
          "07:30",
          "07:45",
          "08:00",
          "08:15",
          "08:30",
          "08:45",
          "09:00",
          "09:15",
          "09:30",
          "09:45",
          "10:00",
          "10:15",
          "10:30",
          "10:45",
          "11:00",
          "17:00",
          "19:00"
         ],
         "type": "barpolar"
        },
        {
         "customdata": [
          [
           "COOKIE",
           57,
           7,
           "07:15"
          ],
          [
           "COOKIE",
           66,
           16,
           "07:30"
          ],
          [
           "COOKIE",
           107,
           57,
           "07:45"
          ],
          [
           "COOKIE",
           131,
           81,
           "08:00"
          ],
          [
           "COOKIE",
           97,
           47,
           "08:15"
          ],
          [
           "COOKIE",
           143,
           93,
           "08:30"
          ],
          [
           "COOKIE",
           179,
           129,
           "08:45"
          ],
          [
           "COOKIE",
           175,
           125,
           "09:00"
          ],
          [
           "COOKIE",
           182,
           132,
           "09:15"
          ],
          [
           "COOKIE",
           196,
           146,
           "09:30"
          ],
          [
           "COOKIE",
           184,
           134,
           "09:45"
          ],
          [
           "COOKIE",
           180,
           130,
           "10:00"
          ],
          [
           "COOKIE",
           179,
           129,
           "10:15"
          ],
          [
           "COOKIE",
           218,
           168,
           "10:30"
          ],
          [
           "COOKIE",
           214,
           164,
           "10:45"
          ],
          [
           "COOKIE",
           199,
           149,
           "11:00"
          ],
          [
           "COOKIE",
           187,
           137,
           "11:15"
          ],
          [
           "COOKIE",
           157,
           107,
           "11:30"
          ],
          [
           "COOKIE",
           264,
           214,
           "11:45"
          ],
          [
           "COOKIE",
           235,
           185,
           "12:00"
          ],
          [
           "COOKIE",
           250,
           200,
           "12:15"
          ],
          [
           "COOKIE",
           197,
           147,
           "12:30"
          ],
          [
           "COOKIE",
           157,
           107,
           "12:45"
          ],
          [
           "COOKIE",
           135,
           85,
           "13:00"
          ],
          [
           "COOKIE",
           77,
           27,
           "13:15"
          ],
          [
           "COOKIE",
           61,
           11,
           "13:30"
          ],
          [
           "COOKIE",
           63,
           13,
           "13:45"
          ],
          [
           "COOKIE",
           59,
           9,
           "14:00"
          ],
          [
           "COOKIE",
           83,
           33,
           "16:00"
          ],
          [
           "COOKIE",
           126,
           76,
           "16:15"
          ],
          [
           "COOKIE",
           126,
           76,
           "16:30"
          ],
          [
           "COOKIE",
           156,
           106,
           "16:45"
          ],
          [
           "COOKIE",
           149,
           99,
           "17:00"
          ],
          [
           "COOKIE",
           142,
           92,
           "17:15"
          ],
          [
           "COOKIE",
           121,
           71,
           "17:30"
          ],
          [
           "COOKIE",
           130,
           80,
           "17:45"
          ],
          [
           "COOKIE",
           97,
           47,
           "18:00"
          ],
          [
           "COOKIE",
           101,
           51,
           "18:15"
          ],
          [
           "COOKIE",
           89,
           39,
           "18:30"
          ],
          [
           "COOKIE",
           84,
           34,
           "18:45"
          ],
          [
           "COOKIE",
           68,
           18,
           "19:00"
          ],
          [
           "COOKIE",
           58,
           8,
           "19:30"
          ]
         ],
         "hovertemplate": "article=%{customdata[0]}<br>Time=%{customdata[3]}<br>Quantity=%{customdata[2]}<extra></extra>",
         "legendgroup": "COOKIE",
         "marker": {
          "color": "#fb9f3a"
         },
         "name": "COOKIE",
         "r": [
          57,
          66,
          107,
          131,
          97,
          143,
          179,
          175,
          182,
          196,
          184,
          180,
          179,
          218,
          214,
          199,
          187,
          157,
          264,
          235,
          250,
          197,
          157,
          135,
          77,
          61,
          63,
          59,
          83,
          126,
          126,
          156,
          149,
          142,
          121,
          130,
          97,
          101,
          89,
          84,
          68,
          58
         ],
         "showlegend": true,
         "subplot": "polar",
         "theta": [
          "07:15",
          "07:30",
          "07:45",
          "08:00",
          "08:15",
          "08:30",
          "08:45",
          "09:00",
          "09:15",
          "09:30",
          "09:45",
          "10:00",
          "10:15",
          "10:30",
          "10:45",
          "11:00",
          "11:15",
          "11:30",
          "11:45",
          "12:00",
          "12:15",
          "12:30",
          "12:45",
          "13:00",
          "13:15",
          "13:30",
          "13:45",
          "14:00",
          "16:00",
          "16:15",
          "16:30",
          "16:45",
          "17:00",
          "17:15",
          "17:30",
          "17:45",
          "18:00",
          "18:15",
          "18:30",
          "18:45",
          "19:00",
          "19:30"
         ],
         "type": "barpolar"
        },
        {
         "customdata": [
          [
           "DEMI BAGUETTE",
           51,
           1,
           "07:15"
          ],
          [
           "DEMI BAGUETTE",
           54,
           4,
           "07:30"
          ],
          [
           "DEMI BAGUETTE",
           62,
           12,
           "07:45"
          ],
          [
           "DEMI BAGUETTE",
           73,
           23,
           "08:00"
          ],
          [
           "DEMI BAGUETTE",
           98,
           48,
           "08:15"
          ],
          [
           "DEMI BAGUETTE",
           97,
           47,
           "08:30"
          ],
          [
           "DEMI BAGUETTE",
           92,
           42,
           "08:45"
          ],
          [
           "DEMI BAGUETTE",
           85,
           35,
           "09:00"
          ],
          [
           "DEMI BAGUETTE",
           82,
           32,
           "09:15"
          ],
          [
           "DEMI BAGUETTE",
           90,
           40,
           "09:30"
          ],
          [
           "DEMI BAGUETTE",
           108,
           58,
           "09:45"
          ],
          [
           "DEMI BAGUETTE",
           91,
           41,
           "10:00"
          ],
          [
           "DEMI BAGUETTE",
           85,
           35,
           "10:15"
          ],
          [
           "DEMI BAGUETTE",
           106,
           56,
           "10:30"
          ],
          [
           "DEMI BAGUETTE",
           115,
           65,
           "10:45"
          ],
          [
           "DEMI BAGUETTE",
           110,
           60,
           "11:00"
          ],
          [
           "DEMI BAGUETTE",
           128,
           78,
           "11:15"
          ],
          [
           "DEMI BAGUETTE",
           116,
           66,
           "11:30"
          ],
          [
           "DEMI BAGUETTE",
           121,
           71,
           "11:45"
          ],
          [
           "DEMI BAGUETTE",
           110,
           60,
           "12:00"
          ],
          [
           "DEMI BAGUETTE",
           111,
           61,
           "12:15"
          ],
          [
           "DEMI BAGUETTE",
           85,
           35,
           "12:30"
          ],
          [
           "DEMI BAGUETTE",
           75,
           25,
           "12:45"
          ],
          [
           "DEMI BAGUETTE",
           64,
           14,
           "13:00"
          ],
          [
           "DEMI BAGUETTE",
           54,
           4,
           "13:15"
          ],
          [
           "DEMI BAGUETTE",
           57,
           7,
           "13:30"
          ],
          [
           "DEMI BAGUETTE",
           53,
           3,
           "13:45"
          ],
          [
           "DEMI BAGUETTE",
           52,
           2,
           "14:00"
          ],
          [
           "DEMI BAGUETTE",
           51,
           1,
           "15:45"
          ],
          [
           "DEMI BAGUETTE",
           52,
           2,
           "16:00"
          ],
          [
           "DEMI BAGUETTE",
           55,
           5,
           "16:15"
          ],
          [
           "DEMI BAGUETTE",
           63,
           13,
           "16:30"
          ],
          [
           "DEMI BAGUETTE",
           59,
           9,
           "16:45"
          ],
          [
           "DEMI BAGUETTE",
           63,
           13,
           "17:00"
          ],
          [
           "DEMI BAGUETTE",
           65,
           15,
           "17:15"
          ],
          [
           "DEMI BAGUETTE",
           55,
           5,
           "17:30"
          ],
          [
           "DEMI BAGUETTE",
           62,
           12,
           "17:45"
          ],
          [
           "DEMI BAGUETTE",
           60,
           10,
           "18:00"
          ],
          [
           "DEMI BAGUETTE",
           64,
           14,
           "18:15"
          ],
          [
           "DEMI BAGUETTE",
           62,
           12,
           "18:30"
          ],
          [
           "DEMI BAGUETTE",
           54,
           4,
           "18:45"
          ],
          [
           "DEMI BAGUETTE",
           55,
           5,
           "19:00"
          ]
         ],
         "hovertemplate": "article=%{customdata[0]}<br>Time=%{customdata[3]}<br>Quantity=%{customdata[2]}<extra></extra>",
         "legendgroup": "DEMI BAGUETTE",
         "marker": {
          "color": "#ed7953"
         },
         "name": "DEMI BAGUETTE",
         "r": [
          51,
          54,
          62,
          73,
          98,
          97,
          92,
          85,
          82,
          90,
          108,
          91,
          85,
          106,
          115,
          110,
          128,
          116,
          121,
          110,
          111,
          85,
          75,
          64,
          54,
          57,
          53,
          52,
          51,
          52,
          55,
          63,
          59,
          63,
          65,
          55,
          62,
          60,
          64,
          62,
          54,
          55
         ],
         "showlegend": true,
         "subplot": "polar",
         "theta": [
          "07:15",
          "07:30",
          "07:45",
          "08:00",
          "08:15",
          "08:30",
          "08:45",
          "09:00",
          "09:15",
          "09:30",
          "09:45",
          "10:00",
          "10:15",
          "10:30",
          "10:45",
          "11:00",
          "11:15",
          "11:30",
          "11:45",
          "12:00",
          "12:15",
          "12:30",
          "12:45",
          "13:00",
          "13:15",
          "13:30",
          "13:45",
          "14:00",
          "15:45",
          "16:00",
          "16:15",
          "16:30",
          "16:45",
          "17:00",
          "17:15",
          "17:30",
          "17:45",
          "18:00",
          "18:15",
          "18:30",
          "18:45",
          "19:00"
         ],
         "type": "barpolar"
        },
        {
         "customdata": [
          [
           "ECLAIR",
           52,
           2,
           "07:15"
          ],
          [
           "ECLAIR",
           62,
           12,
           "07:30"
          ],
          [
           "ECLAIR",
           73,
           23,
           "07:45"
          ],
          [
           "ECLAIR",
           74,
           24,
           "08:00"
          ],
          [
           "ECLAIR",
           92,
           42,
           "08:15"
          ],
          [
           "ECLAIR",
           113,
           63,
           "08:30"
          ],
          [
           "ECLAIR",
           123,
           73,
           "08:45"
          ],
          [
           "ECLAIR",
           114,
           64,
           "09:00"
          ],
          [
           "ECLAIR",
           160,
           110,
           "09:15"
          ],
          [
           "ECLAIR",
           134,
           84,
           "09:30"
          ],
          [
           "ECLAIR",
           158,
           108,
           "09:45"
          ],
          [
           "ECLAIR",
           202,
           152,
           "10:00"
          ],
          [
           "ECLAIR",
           187,
           137,
           "10:15"
          ],
          [
           "ECLAIR",
           257,
           207,
           "10:30"
          ],
          [
           "ECLAIR",
           223,
           173,
           "10:45"
          ],
          [
           "ECLAIR",
           261,
           211,
           "11:00"
          ],
          [
           "ECLAIR",
           294,
           244,
           "11:15"
          ],
          [
           "ECLAIR",
           237,
           187,
           "11:30"
          ],
          [
           "ECLAIR",
           307,
           257,
           "11:45"
          ],
          [
           "ECLAIR",
           276,
           226,
           "12:00"
          ],
          [
           "ECLAIR",
           303,
           253,
           "12:15"
          ],
          [
           "ECLAIR",
           216,
           166,
           "12:30"
          ],
          [
           "ECLAIR",
           179,
           129,
           "12:45"
          ],
          [
           "ECLAIR",
           149,
           99,
           "13:00"
          ],
          [
           "ECLAIR",
           84,
           34,
           "13:15"
          ],
          [
           "ECLAIR",
           78,
           28,
           "13:30"
          ],
          [
           "ECLAIR",
           65,
           15,
           "13:45"
          ],
          [
           "ECLAIR",
           54,
           4,
           "14:00"
          ],
          [
           "ECLAIR",
           52,
           2,
           "14:15"
          ],
          [
           "ECLAIR",
           69,
           19,
           "16:00"
          ],
          [
           "ECLAIR",
           96,
           46,
           "16:15"
          ],
          [
           "ECLAIR",
           93,
           43,
           "16:30"
          ],
          [
           "ECLAIR",
           105,
           55,
           "16:45"
          ],
          [
           "ECLAIR",
           111,
           61,
           "17:00"
          ],
          [
           "ECLAIR",
           86,
           36,
           "17:15"
          ],
          [
           "ECLAIR",
           96,
           46,
           "17:30"
          ],
          [
           "ECLAIR",
           92,
           42,
           "17:45"
          ],
          [
           "ECLAIR",
           104,
           54,
           "18:00"
          ],
          [
           "ECLAIR",
           95,
           45,
           "18:15"
          ],
          [
           "ECLAIR",
           85,
           35,
           "18:30"
          ],
          [
           "ECLAIR",
           80,
           30,
           "18:45"
          ],
          [
           "ECLAIR",
           61,
           11,
           "19:00"
          ],
          [
           "ECLAIR",
           51,
           1,
           "19:15"
          ],
          [
           "ECLAIR",
           51,
           1,
           "20:00"
          ]
         ],
         "hovertemplate": "article=%{customdata[0]}<br>Time=%{customdata[3]}<br>Quantity=%{customdata[2]}<extra></extra>",
         "legendgroup": "ECLAIR",
         "marker": {
          "color": "#d8576b"
         },
         "name": "ECLAIR",
         "r": [
          52,
          62,
          73,
          74,
          92,
          113,
          123,
          114,
          160,
          134,
          158,
          202,
          187,
          257,
          223,
          261,
          294,
          237,
          307,
          276,
          303,
          216,
          179,
          149,
          84,
          78,
          65,
          54,
          52,
          69,
          96,
          93,
          105,
          111,
          86,
          96,
          92,
          104,
          95,
          85,
          80,
          61,
          51,
          51
         ],
         "showlegend": true,
         "subplot": "polar",
         "theta": [
          "07:15",
          "07:30",
          "07:45",
          "08:00",
          "08:15",
          "08:30",
          "08:45",
          "09:00",
          "09:15",
          "09:30",
          "09:45",
          "10:00",
          "10:15",
          "10:30",
          "10:45",
          "11:00",
          "11:15",
          "11:30",
          "11:45",
          "12:00",
          "12:15",
          "12:30",
          "12:45",
          "13:00",
          "13:15",
          "13:30",
          "13:45",
          "14:00",
          "14:15",
          "16:00",
          "16:15",
          "16:30",
          "16:45",
          "17:00",
          "17:15",
          "17:30",
          "17:45",
          "18:00",
          "18:15",
          "18:30",
          "18:45",
          "19:00",
          "19:15",
          "20:00"
         ],
         "type": "barpolar"
        },
        {
         "customdata": [
          [
           "FORMULE SANDWICH",
           51,
           1,
           "07:15"
          ],
          [
           "FORMULE SANDWICH",
           54,
           4,
           "07:30"
          ],
          [
           "FORMULE SANDWICH",
           92,
           42,
           "07:45"
          ],
          [
           "FORMULE SANDWICH",
           108,
           58,
           "08:00"
          ],
          [
           "FORMULE SANDWICH",
           86,
           36,
           "08:15"
          ],
          [
           "FORMULE SANDWICH",
           106,
           56,
           "08:30"
          ],
          [
           "FORMULE SANDWICH",
           134,
           84,
           "08:45"
          ],
          [
           "FORMULE SANDWICH",
           129,
           79,
           "09:00"
          ],
          [
           "FORMULE SANDWICH",
           116,
           66,
           "09:15"
          ],
          [
           "FORMULE SANDWICH",
           131,
           81,
           "09:30"
          ],
          [
           "FORMULE SANDWICH",
           124,
           74,
           "09:45"
          ],
          [
           "FORMULE SANDWICH",
           131,
           81,
           "10:00"
          ],
          [
           "FORMULE SANDWICH",
           155,
           105,
           "10:15"
          ],
          [
           "FORMULE SANDWICH",
           133,
           83,
           "10:30"
          ],
          [
           "FORMULE SANDWICH",
           168,
           118,
           "10:45"
          ],
          [
           "FORMULE SANDWICH",
           181,
           131,
           "11:00"
          ],
          [
           "FORMULE SANDWICH",
           207,
           157,
           "11:15"
          ],
          [
           "FORMULE SANDWICH",
           243,
           193,
           "11:30"
          ],
          [
           "FORMULE SANDWICH",
           437,
           387,
           "11:45"
          ],
          [
           "FORMULE SANDWICH",
           584,
           534,
           "12:00"
          ],
          [
           "FORMULE SANDWICH",
           754,
           704,
           "12:15"
          ],
          [
           "FORMULE SANDWICH",
           711,
           661,
           "12:30"
          ],
          [
           "FORMULE SANDWICH",
           591,
           541,
           "12:45"
          ],
          [
           "FORMULE SANDWICH",
           491,
           441,
           "13:00"
          ],
          [
           "FORMULE SANDWICH",
           204,
           154,
           "13:15"
          ],
          [
           "FORMULE SANDWICH",
           163,
           113,
           "13:30"
          ],
          [
           "FORMULE SANDWICH",
           138,
           88,
           "13:45"
          ],
          [
           "FORMULE SANDWICH",
           112,
           62,
           "14:00"
          ],
          [
           "FORMULE SANDWICH",
           51,
           1,
           "15:45"
          ],
          [
           "FORMULE SANDWICH",
           53,
           3,
           "16:00"
          ],
          [
           "FORMULE SANDWICH",
           55,
           5,
           "16:15"
          ],
          [
           "FORMULE SANDWICH",
           52,
           2,
           "16:30"
          ],
          [
           "FORMULE SANDWICH",
           51,
           1,
           "16:45"
          ],
          [
           "FORMULE SANDWICH",
           52,
           2,
           "17:00"
          ],
          [
           "FORMULE SANDWICH",
           61,
           11,
           "17:15"
          ],
          [
           "FORMULE SANDWICH",
           51,
           1,
           "17:30"
          ],
          [
           "FORMULE SANDWICH",
           53,
           3,
           "18:00"
          ],
          [
           "FORMULE SANDWICH",
           56,
           6,
           "18:15"
          ],
          [
           "FORMULE SANDWICH",
           54,
           4,
           "18:30"
          ],
          [
           "FORMULE SANDWICH",
           53,
           3,
           "18:45"
          ],
          [
           "FORMULE SANDWICH",
           55,
           5,
           "19:15"
          ]
         ],
         "hovertemplate": "article=%{customdata[0]}<br>Time=%{customdata[3]}<br>Quantity=%{customdata[2]}<extra></extra>",
         "legendgroup": "FORMULE SANDWICH",
         "marker": {
          "color": "#bd3786"
         },
         "name": "FORMULE SANDWICH",
         "r": [
          51,
          54,
          92,
          108,
          86,
          106,
          134,
          129,
          116,
          131,
          124,
          131,
          155,
          133,
          168,
          181,
          207,
          243,
          437,
          584,
          754,
          711,
          591,
          491,
          204,
          163,
          138,
          112,
          51,
          53,
          55,
          52,
          51,
          52,
          61,
          51,
          53,
          56,
          54,
          53,
          55
         ],
         "showlegend": true,
         "subplot": "polar",
         "theta": [
          "07:15",
          "07:30",
          "07:45",
          "08:00",
          "08:15",
          "08:30",
          "08:45",
          "09:00",
          "09:15",
          "09:30",
          "09:45",
          "10:00",
          "10:15",
          "10:30",
          "10:45",
          "11:00",
          "11:15",
          "11:30",
          "11:45",
          "12:00",
          "12:15",
          "12:30",
          "12:45",
          "13:00",
          "13:15",
          "13:30",
          "13:45",
          "14:00",
          "15:45",
          "16:00",
          "16:15",
          "16:30",
          "16:45",
          "17:00",
          "17:15",
          "17:30",
          "18:00",
          "18:15",
          "18:30",
          "18:45",
          "19:15"
         ],
         "type": "barpolar"
        },
        {
         "customdata": [
          [
           "KOUIGN AMANN",
           52,
           2,
           "07:15"
          ],
          [
           "KOUIGN AMANN",
           75,
           25,
           "07:30"
          ],
          [
           "KOUIGN AMANN",
           71,
           21,
           "07:45"
          ],
          [
           "KOUIGN AMANN",
           87,
           37,
           "08:00"
          ],
          [
           "KOUIGN AMANN",
           83,
           33,
           "08:15"
          ],
          [
           "KOUIGN AMANN",
           89,
           39,
           "08:30"
          ],
          [
           "KOUIGN AMANN",
           115,
           65,
           "08:45"
          ],
          [
           "KOUIGN AMANN",
           105,
           55,
           "09:00"
          ],
          [
           "KOUIGN AMANN",
           118,
           68,
           "09:15"
          ],
          [
           "KOUIGN AMANN",
           130,
           80,
           "09:30"
          ],
          [
           "KOUIGN AMANN",
           139,
           89,
           "09:45"
          ],
          [
           "KOUIGN AMANN",
           119,
           69,
           "10:00"
          ],
          [
           "KOUIGN AMANN",
           120,
           70,
           "10:15"
          ],
          [
           "KOUIGN AMANN",
           140,
           90,
           "10:30"
          ],
          [
           "KOUIGN AMANN",
           147,
           97,
           "10:45"
          ],
          [
           "KOUIGN AMANN",
           179,
           129,
           "11:00"
          ],
          [
           "KOUIGN AMANN",
           182,
           132,
           "11:15"
          ],
          [
           "KOUIGN AMANN",
           178,
           128,
           "11:30"
          ],
          [
           "KOUIGN AMANN",
           195,
           145,
           "11:45"
          ],
          [
           "KOUIGN AMANN",
           183,
           133,
           "12:00"
          ],
          [
           "KOUIGN AMANN",
           183,
           133,
           "12:15"
          ],
          [
           "KOUIGN AMANN",
           147,
           97,
           "12:30"
          ],
          [
           "KOUIGN AMANN",
           146,
           96,
           "12:45"
          ],
          [
           "KOUIGN AMANN",
           103,
           53,
           "13:00"
          ],
          [
           "KOUIGN AMANN",
           74,
           24,
           "13:15"
          ],
          [
           "KOUIGN AMANN",
           68,
           18,
           "13:30"
          ],
          [
           "KOUIGN AMANN",
           61,
           11,
           "13:45"
          ],
          [
           "KOUIGN AMANN",
           58,
           8,
           "14:00"
          ],
          [
           "KOUIGN AMANN",
           51,
           1,
           "14:15"
          ],
          [
           "KOUIGN AMANN",
           61,
           11,
           "16:00"
          ],
          [
           "KOUIGN AMANN",
           71,
           21,
           "16:15"
          ],
          [
           "KOUIGN AMANN",
           78,
           28,
           "16:30"
          ],
          [
           "KOUIGN AMANN",
           83,
           33,
           "16:45"
          ],
          [
           "KOUIGN AMANN",
           87,
           37,
           "17:00"
          ],
          [
           "KOUIGN AMANN",
           92,
           42,
           "17:15"
          ],
          [
           "KOUIGN AMANN",
           96,
           46,
           "17:30"
          ],
          [
           "KOUIGN AMANN",
           104,
           54,
           "17:45"
          ],
          [
           "KOUIGN AMANN",
           80,
           30,
           "18:00"
          ],
          [
           "KOUIGN AMANN",
           112,
           62,
           "18:15"
          ],
          [
           "KOUIGN AMANN",
           70,
           20,
           "18:30"
          ],
          [
           "KOUIGN AMANN",
           70,
           20,
           "18:45"
          ],
          [
           "KOUIGN AMANN",
           75,
           25,
           "19:00"
          ],
          [
           "KOUIGN AMANN",
           52,
           2,
           "19:15"
          ],
          [
           "KOUIGN AMANN",
           54,
           4,
           "19:30"
          ]
         ],
         "hovertemplate": "article=%{customdata[0]}<br>Time=%{customdata[3]}<br>Quantity=%{customdata[2]}<extra></extra>",
         "legendgroup": "KOUIGN AMANN",
         "marker": {
          "color": "#9c179e"
         },
         "name": "KOUIGN AMANN",
         "r": [
          52,
          75,
          71,
          87,
          83,
          89,
          115,
          105,
          118,
          130,
          139,
          119,
          120,
          140,
          147,
          179,
          182,
          178,
          195,
          183,
          183,
          147,
          146,
          103,
          74,
          68,
          61,
          58,
          51,
          61,
          71,
          78,
          83,
          87,
          92,
          96,
          104,
          80,
          112,
          70,
          70,
          75,
          52,
          54
         ],
         "showlegend": true,
         "subplot": "polar",
         "theta": [
          "07:15",
          "07:30",
          "07:45",
          "08:00",
          "08:15",
          "08:30",
          "08:45",
          "09:00",
          "09:15",
          "09:30",
          "09:45",
          "10:00",
          "10:15",
          "10:30",
          "10:45",
          "11:00",
          "11:15",
          "11:30",
          "11:45",
          "12:00",
          "12:15",
          "12:30",
          "12:45",
          "13:00",
          "13:15",
          "13:30",
          "13:45",
          "14:00",
          "14:15",
          "16:00",
          "16:15",
          "16:30",
          "16:45",
          "17:00",
          "17:15",
          "17:30",
          "17:45",
          "18:00",
          "18:15",
          "18:30",
          "18:45",
          "19:00",
          "19:15",
          "19:30"
         ],
         "type": "barpolar"
        },
        {
         "customdata": [
          [
           "MOISSON",
           51,
           1,
           "07:15"
          ],
          [
           "MOISSON",
           61,
           11,
           "07:30"
          ],
          [
           "MOISSON",
           66,
           16,
           "07:45"
          ],
          [
           "MOISSON",
           90,
           40,
           "08:00"
          ],
          [
           "MOISSON",
           99,
           49,
           "08:15"
          ],
          [
           "MOISSON",
           119,
           69,
           "08:30"
          ],
          [
           "MOISSON",
           109,
           59,
           "08:45"
          ],
          [
           "MOISSON",
           116,
           66,
           "09:00"
          ],
          [
           "MOISSON",
           135,
           85,
           "09:15"
          ],
          [
           "MOISSON",
           156,
           106,
           "09:30"
          ],
          [
           "MOISSON",
           174,
           124,
           "09:45"
          ],
          [
           "MOISSON",
           162,
           112,
           "10:00"
          ],
          [
           "MOISSON",
           176,
           126,
           "10:15"
          ],
          [
           "MOISSON",
           170,
           120,
           "10:30"
          ],
          [
           "MOISSON",
           203,
           153,
           "10:45"
          ],
          [
           "MOISSON",
           231,
           181,
           "11:00"
          ],
          [
           "MOISSON",
           283,
           233,
           "11:15"
          ],
          [
           "MOISSON",
           270,
           220,
           "11:30"
          ],
          [
           "MOISSON",
           267,
           217,
           "11:45"
          ],
          [
           "MOISSON",
           222,
           172,
           "12:00"
          ],
          [
           "MOISSON",
           248,
           198,
           "12:15"
          ],
          [
           "MOISSON",
           205,
           155,
           "12:30"
          ],
          [
           "MOISSON",
           155,
           105,
           "12:45"
          ],
          [
           "MOISSON",
           110,
           60,
           "13:00"
          ],
          [
           "MOISSON",
           78,
           28,
           "13:15"
          ],
          [
           "MOISSON",
           74,
           24,
           "13:30"
          ],
          [
           "MOISSON",
           60,
           10,
           "13:45"
          ],
          [
           "MOISSON",
           55,
           5,
           "14:00"
          ],
          [
           "MOISSON",
           68,
           18,
           "16:00"
          ],
          [
           "MOISSON",
           102,
           52,
           "16:15"
          ],
          [
           "MOISSON",
           92,
           42,
           "16:30"
          ],
          [
           "MOISSON",
           82,
           32,
           "16:45"
          ],
          [
           "MOISSON",
           108,
           58,
           "17:00"
          ],
          [
           "MOISSON",
           100,
           50,
           "17:15"
          ],
          [
           "MOISSON",
           101,
           51,
           "17:30"
          ],
          [
           "MOISSON",
           119,
           69,
           "17:45"
          ],
          [
           "MOISSON",
           127,
           77,
           "18:00"
          ],
          [
           "MOISSON",
           98,
           48,
           "18:15"
          ],
          [
           "MOISSON",
           100,
           50,
           "18:30"
          ],
          [
           "MOISSON",
           92,
           42,
           "18:45"
          ],
          [
           "MOISSON",
           70,
           20,
           "19:00"
          ],
          [
           "MOISSON",
           54,
           4,
           "19:15"
          ],
          [
           "MOISSON",
           51,
           1,
           "19:30"
          ],
          [
           "MOISSON",
           52,
           2,
           "19:45"
          ],
          [
           "MOISSON",
           51,
           1,
           "20:00"
          ]
         ],
         "hovertemplate": "article=%{customdata[0]}<br>Time=%{customdata[3]}<br>Quantity=%{customdata[2]}<extra></extra>",
         "legendgroup": "MOISSON",
         "marker": {
          "color": "#7201a8"
         },
         "name": "MOISSON",
         "r": [
          51,
          61,
          66,
          90,
          99,
          119,
          109,
          116,
          135,
          156,
          174,
          162,
          176,
          170,
          203,
          231,
          283,
          270,
          267,
          222,
          248,
          205,
          155,
          110,
          78,
          74,
          60,
          55,
          68,
          102,
          92,
          82,
          108,
          100,
          101,
          119,
          127,
          98,
          100,
          92,
          70,
          54,
          51,
          52,
          51
         ],
         "showlegend": true,
         "subplot": "polar",
         "theta": [
          "07:15",
          "07:30",
          "07:45",
          "08:00",
          "08:15",
          "08:30",
          "08:45",
          "09:00",
          "09:15",
          "09:30",
          "09:45",
          "10:00",
          "10:15",
          "10:30",
          "10:45",
          "11:00",
          "11:15",
          "11:30",
          "11:45",
          "12:00",
          "12:15",
          "12:30",
          "12:45",
          "13:00",
          "13:15",
          "13:30",
          "13:45",
          "14:00",
          "16:00",
          "16:15",
          "16:30",
          "16:45",
          "17:00",
          "17:15",
          "17:30",
          "17:45",
          "18:00",
          "18:15",
          "18:30",
          "18:45",
          "19:00",
          "19:15",
          "19:30",
          "19:45",
          "20:00"
         ],
         "type": "barpolar"
        },
        {
         "customdata": [
          [
           "QUIM BREAD",
           52,
           2,
           "07:15"
          ],
          [
           "QUIM BREAD",
           63,
           13,
           "07:30"
          ],
          [
           "QUIM BREAD",
           86,
           36,
           "07:45"
          ],
          [
           "QUIM BREAD",
           110,
           60,
           "08:00"
          ],
          [
           "QUIM BREAD",
           106,
           56,
           "08:15"
          ],
          [
           "QUIM BREAD",
           102,
           52,
           "08:30"
          ],
          [
           "QUIM BREAD",
           116,
           66,
           "08:45"
          ],
          [
           "QUIM BREAD",
           105,
           55,
           "09:00"
          ],
          [
           "QUIM BREAD",
           120,
           70,
           "09:15"
          ],
          [
           "QUIM BREAD",
           108,
           58,
           "09:30"
          ],
          [
           "QUIM BREAD",
           117,
           67,
           "09:45"
          ],
          [
           "QUIM BREAD",
           131,
           81,
           "10:00"
          ],
          [
           "QUIM BREAD",
           113,
           63,
           "10:15"
          ],
          [
           "QUIM BREAD",
           147,
           97,
           "10:30"
          ],
          [
           "QUIM BREAD",
           135,
           85,
           "10:45"
          ],
          [
           "QUIM BREAD",
           143,
           93,
           "11:00"
          ],
          [
           "QUIM BREAD",
           148,
           98,
           "11:15"
          ],
          [
           "QUIM BREAD",
           142,
           92,
           "11:30"
          ],
          [
           "QUIM BREAD",
           155,
           105,
           "11:45"
          ],
          [
           "QUIM BREAD",
           144,
           94,
           "12:00"
          ],
          [
           "QUIM BREAD",
           150,
           100,
           "12:15"
          ],
          [
           "QUIM BREAD",
           138,
           88,
           "12:30"
          ],
          [
           "QUIM BREAD",
           103,
           53,
           "12:45"
          ],
          [
           "QUIM BREAD",
           108,
           58,
           "13:00"
          ],
          [
           "QUIM BREAD",
           82,
           32,
           "13:15"
          ],
          [
           "QUIM BREAD",
           59,
           9,
           "13:30"
          ],
          [
           "QUIM BREAD",
           59,
           9,
           "13:45"
          ],
          [
           "QUIM BREAD",
           55,
           5,
           "14:00"
          ],
          [
           "QUIM BREAD",
           71,
           21,
           "16:00"
          ],
          [
           "QUIM BREAD",
           86,
           36,
           "16:15"
          ],
          [
           "QUIM BREAD",
           101,
           51,
           "16:30"
          ],
          [
           "QUIM BREAD",
           100,
           50,
           "16:45"
          ],
          [
           "QUIM BREAD",
           102,
           52,
           "17:00"
          ],
          [
           "QUIM BREAD",
           108,
           58,
           "17:15"
          ],
          [
           "QUIM BREAD",
           78,
           28,
           "17:30"
          ],
          [
           "QUIM BREAD",
           103,
           53,
           "17:45"
          ],
          [
           "QUIM BREAD",
           85,
           35,
           "18:00"
          ],
          [
           "QUIM BREAD",
           85,
           35,
           "18:15"
          ],
          [
           "QUIM BREAD",
           88,
           38,
           "18:30"
          ],
          [
           "QUIM BREAD",
           67,
           17,
           "18:45"
          ],
          [
           "QUIM BREAD",
           56,
           6,
           "19:00"
          ],
          [
           "QUIM BREAD",
           53,
           3,
           "19:15"
          ],
          [
           "QUIM BREAD",
           51,
           1,
           "19:45"
          ]
         ],
         "hovertemplate": "article=%{customdata[0]}<br>Time=%{customdata[3]}<br>Quantity=%{customdata[2]}<extra></extra>",
         "legendgroup": "QUIM BREAD",
         "marker": {
          "color": "#46039f"
         },
         "name": "QUIM BREAD",
         "r": [
          52,
          63,
          86,
          110,
          106,
          102,
          116,
          105,
          120,
          108,
          117,
          131,
          113,
          147,
          135,
          143,
          148,
          142,
          155,
          144,
          150,
          138,
          103,
          108,
          82,
          59,
          59,
          55,
          71,
          86,
          101,
          100,
          102,
          108,
          78,
          103,
          85,
          85,
          88,
          67,
          56,
          53,
          51
         ],
         "showlegend": true,
         "subplot": "polar",
         "theta": [
          "07:15",
          "07:30",
          "07:45",
          "08:00",
          "08:15",
          "08:30",
          "08:45",
          "09:00",
          "09:15",
          "09:30",
          "09:45",
          "10:00",
          "10:15",
          "10:30",
          "10:45",
          "11:00",
          "11:15",
          "11:30",
          "11:45",
          "12:00",
          "12:15",
          "12:30",
          "12:45",
          "13:00",
          "13:15",
          "13:30",
          "13:45",
          "14:00",
          "16:00",
          "16:15",
          "16:30",
          "16:45",
          "17:00",
          "17:15",
          "17:30",
          "17:45",
          "18:00",
          "18:15",
          "18:30",
          "18:45",
          "19:00",
          "19:15",
          "19:45"
         ],
         "type": "barpolar"
        },
        {
         "customdata": [
          [
           "SANDWICH COMPLET",
           54,
           4,
           "07:15"
          ],
          [
           "SANDWICH COMPLET",
           54,
           4,
           "07:30"
          ],
          [
           "SANDWICH COMPLET",
           71,
           21,
           "07:45"
          ],
          [
           "SANDWICH COMPLET",
           75,
           25,
           "08:00"
          ],
          [
           "SANDWICH COMPLET",
           73,
           23,
           "08:15"
          ],
          [
           "SANDWICH COMPLET",
           103,
           53,
           "08:30"
          ],
          [
           "SANDWICH COMPLET",
           114,
           64,
           "08:45"
          ],
          [
           "SANDWICH COMPLET",
           95,
           45,
           "09:00"
          ],
          [
           "SANDWICH COMPLET",
           116,
           66,
           "09:15"
          ],
          [
           "SANDWICH COMPLET",
           112,
           62,
           "09:30"
          ],
          [
           "SANDWICH COMPLET",
           106,
           56,
           "09:45"
          ],
          [
           "SANDWICH COMPLET",
           110,
           60,
           "10:00"
          ],
          [
           "SANDWICH COMPLET",
           134,
           84,
           "10:15"
          ],
          [
           "SANDWICH COMPLET",
           156,
           106,
           "10:30"
          ],
          [
           "SANDWICH COMPLET",
           155,
           105,
           "10:45"
          ],
          [
           "SANDWICH COMPLET",
           147,
           97,
           "11:00"
          ],
          [
           "SANDWICH COMPLET",
           192,
           142,
           "11:15"
          ],
          [
           "SANDWICH COMPLET",
           195,
           145,
           "11:30"
          ],
          [
           "SANDWICH COMPLET",
           244,
           194,
           "11:45"
          ],
          [
           "SANDWICH COMPLET",
           283,
           233,
           "12:00"
          ],
          [
           "SANDWICH COMPLET",
           331,
           281,
           "12:15"
          ],
          [
           "SANDWICH COMPLET",
           321,
           271,
           "12:30"
          ],
          [
           "SANDWICH COMPLET",
           285,
           235,
           "12:45"
          ],
          [
           "SANDWICH COMPLET",
           246,
           196,
           "13:00"
          ],
          [
           "SANDWICH COMPLET",
           141,
           91,
           "13:15"
          ],
          [
           "SANDWICH COMPLET",
           114,
           64,
           "13:30"
          ],
          [
           "SANDWICH COMPLET",
           94,
           44,
           "13:45"
          ],
          [
           "SANDWICH COMPLET",
           97,
           47,
           "14:00"
          ],
          [
           "SANDWICH COMPLET",
           54,
           4,
           "14:15"
          ],
          [
           "SANDWICH COMPLET",
           54,
           4,
           "16:00"
          ],
          [
           "SANDWICH COMPLET",
           58,
           8,
           "16:15"
          ],
          [
           "SANDWICH COMPLET",
           58,
           8,
           "16:30"
          ],
          [
           "SANDWICH COMPLET",
           57,
           7,
           "16:45"
          ],
          [
           "SANDWICH COMPLET",
           59,
           9,
           "17:00"
          ],
          [
           "SANDWICH COMPLET",
           58,
           8,
           "17:15"
          ],
          [
           "SANDWICH COMPLET",
           55,
           5,
           "17:30"
          ],
          [
           "SANDWICH COMPLET",
           52,
           2,
           "17:45"
          ],
          [
           "SANDWICH COMPLET",
           56,
           6,
           "18:00"
          ],
          [
           "SANDWICH COMPLET",
           53,
           3,
           "18:15"
          ],
          [
           "SANDWICH COMPLET",
           54,
           4,
           "18:30"
          ],
          [
           "SANDWICH COMPLET",
           52,
           2,
           "18:45"
          ]
         ],
         "hovertemplate": "article=%{customdata[0]}<br>Time=%{customdata[3]}<br>Quantity=%{customdata[2]}<extra></extra>",
         "legendgroup": "SANDWICH COMPLET",
         "marker": {
          "color": "#0d0887"
         },
         "name": "SANDWICH COMPLET",
         "r": [
          54,
          54,
          71,
          75,
          73,
          103,
          114,
          95,
          116,
          112,
          106,
          110,
          134,
          156,
          155,
          147,
          192,
          195,
          244,
          283,
          331,
          321,
          285,
          246,
          141,
          114,
          94,
          97,
          54,
          54,
          58,
          58,
          57,
          59,
          58,
          55,
          52,
          56,
          53,
          54,
          52
         ],
         "showlegend": true,
         "subplot": "polar",
         "theta": [
          "07:15",
          "07:30",
          "07:45",
          "08:00",
          "08:15",
          "08:30",
          "08:45",
          "09:00",
          "09:15",
          "09:30",
          "09:45",
          "10:00",
          "10:15",
          "10:30",
          "10:45",
          "11:00",
          "11:15",
          "11:30",
          "11:45",
          "12:00",
          "12:15",
          "12:30",
          "12:45",
          "13:00",
          "13:15",
          "13:30",
          "13:45",
          "14:00",
          "14:15",
          "16:00",
          "16:15",
          "16:30",
          "16:45",
          "17:00",
          "17:15",
          "17:30",
          "17:45",
          "18:00",
          "18:15",
          "18:30",
          "18:45"
         ],
         "type": "barpolar"
        },
        {
         "customdata": [
          [
           "SPECIAL BREAD",
           51,
           1,
           "07:15"
          ],
          [
           "SPECIAL BREAD",
           71,
           21,
           "07:30"
          ],
          [
           "SPECIAL BREAD",
           109,
           59,
           "07:45"
          ],
          [
           "SPECIAL BREAD",
           134,
           84,
           "08:00"
          ],
          [
           "SPECIAL BREAD",
           140,
           90,
           "08:15"
          ],
          [
           "SPECIAL BREAD",
           183,
           133,
           "08:30"
          ],
          [
           "SPECIAL BREAD",
           195,
           145,
           "08:45"
          ],
          [
           "SPECIAL BREAD",
           197,
           147,
           "09:00"
          ],
          [
           "SPECIAL BREAD",
           213,
           163,
           "09:15"
          ],
          [
           "SPECIAL BREAD",
           235,
           185,
           "09:30"
          ],
          [
           "SPECIAL BREAD",
           255,
           205,
           "09:45"
          ],
          [
           "SPECIAL BREAD",
           264,
           214,
           "10:00"
          ],
          [
           "SPECIAL BREAD",
           315,
           265,
           "10:15"
          ],
          [
           "SPECIAL BREAD",
           351,
           301,
           "10:30"
          ],
          [
           "SPECIAL BREAD",
           357,
           307,
           "10:45"
          ],
          [
           "SPECIAL BREAD",
           383,
           333,
           "11:00"
          ],
          [
           "SPECIAL BREAD",
           372,
           322,
           "11:15"
          ],
          [
           "SPECIAL BREAD",
           380,
           330,
           "11:30"
          ],
          [
           "SPECIAL BREAD",
           369,
           319,
           "11:45"
          ],
          [
           "SPECIAL BREAD",
           364,
           314,
           "12:00"
          ],
          [
           "SPECIAL BREAD",
           321,
           271,
           "12:15"
          ],
          [
           "SPECIAL BREAD",
           248,
           198,
           "12:30"
          ],
          [
           "SPECIAL BREAD",
           184,
           134,
           "12:45"
          ],
          [
           "SPECIAL BREAD",
           141,
           91,
           "13:00"
          ],
          [
           "SPECIAL BREAD",
           104,
           54,
           "13:15"
          ],
          [
           "SPECIAL BREAD",
           73,
           23,
           "13:30"
          ],
          [
           "SPECIAL BREAD",
           64,
           14,
           "13:45"
          ],
          [
           "SPECIAL BREAD",
           55,
           5,
           "14:00"
          ],
          [
           "SPECIAL BREAD",
           51,
           1,
           "14:15"
          ],
          [
           "SPECIAL BREAD",
           68,
           18,
           "16:00"
          ],
          [
           "SPECIAL BREAD",
           96,
           46,
           "16:15"
          ],
          [
           "SPECIAL BREAD",
           99,
           49,
           "16:30"
          ],
          [
           "SPECIAL BREAD",
           87,
           37,
           "16:45"
          ],
          [
           "SPECIAL BREAD",
           121,
           71,
           "17:00"
          ],
          [
           "SPECIAL BREAD",
           117,
           67,
           "17:15"
          ],
          [
           "SPECIAL BREAD",
           124,
           74,
           "17:30"
          ],
          [
           "SPECIAL BREAD",
           109,
           59,
           "17:45"
          ],
          [
           "SPECIAL BREAD",
           117,
           67,
           "18:00"
          ],
          [
           "SPECIAL BREAD",
           128,
           78,
           "18:15"
          ],
          [
           "SPECIAL BREAD",
           124,
           74,
           "18:30"
          ],
          [
           "SPECIAL BREAD",
           88,
           38,
           "18:45"
          ],
          [
           "SPECIAL BREAD",
           81,
           31,
           "19:00"
          ],
          [
           "SPECIAL BREAD",
           59,
           9,
           "19:15"
          ],
          [
           "SPECIAL BREAD",
           59,
           9,
           "19:30"
          ]
         ],
         "hovertemplate": "article=%{customdata[0]}<br>Time=%{customdata[3]}<br>Quantity=%{customdata[2]}<extra></extra>",
         "legendgroup": "SPECIAL BREAD",
         "marker": {
          "color": "#f0f921"
         },
         "name": "SPECIAL BREAD",
         "r": [
          51,
          71,
          109,
          134,
          140,
          183,
          195,
          197,
          213,
          235,
          255,
          264,
          315,
          351,
          357,
          383,
          372,
          380,
          369,
          364,
          321,
          248,
          184,
          141,
          104,
          73,
          64,
          55,
          51,
          68,
          96,
          99,
          87,
          121,
          117,
          124,
          109,
          117,
          128,
          124,
          88,
          81,
          59,
          59
         ],
         "showlegend": true,
         "subplot": "polar",
         "theta": [
          "07:15",
          "07:30",
          "07:45",
          "08:00",
          "08:15",
          "08:30",
          "08:45",
          "09:00",
          "09:15",
          "09:30",
          "09:45",
          "10:00",
          "10:15",
          "10:30",
          "10:45",
          "11:00",
          "11:15",
          "11:30",
          "11:45",
          "12:00",
          "12:15",
          "12:30",
          "12:45",
          "13:00",
          "13:15",
          "13:30",
          "13:45",
          "14:00",
          "14:15",
          "16:00",
          "16:15",
          "16:30",
          "16:45",
          "17:00",
          "17:15",
          "17:30",
          "17:45",
          "18:00",
          "18:15",
          "18:30",
          "18:45",
          "19:00",
          "19:15",
          "19:30"
         ],
         "type": "barpolar"
        },
        {
         "customdata": [
          [
           "TARTELETTE FRAISE",
           52,
           2,
           "07:15"
          ],
          [
           "TARTELETTE FRAISE",
           53,
           3,
           "07:30"
          ],
          [
           "TARTELETTE FRAISE",
           55,
           5,
           "07:45"
          ],
          [
           "TARTELETTE FRAISE",
           64,
           14,
           "08:00"
          ],
          [
           "TARTELETTE FRAISE",
           69,
           19,
           "08:15"
          ],
          [
           "TARTELETTE FRAISE",
           58,
           8,
           "08:30"
          ],
          [
           "TARTELETTE FRAISE",
           73,
           23,
           "08:45"
          ],
          [
           "TARTELETTE FRAISE",
           72,
           22,
           "09:00"
          ],
          [
           "TARTELETTE FRAISE",
           67,
           17,
           "09:15"
          ],
          [
           "TARTELETTE FRAISE",
           98,
           48,
           "09:30"
          ],
          [
           "TARTELETTE FRAISE",
           70,
           20,
           "09:45"
          ],
          [
           "TARTELETTE FRAISE",
           82,
           32,
           "10:00"
          ],
          [
           "TARTELETTE FRAISE",
           80,
           30,
           "10:15"
          ],
          [
           "TARTELETTE FRAISE",
           103,
           53,
           "10:30"
          ],
          [
           "TARTELETTE FRAISE",
           120,
           70,
           "10:45"
          ],
          [
           "TARTELETTE FRAISE",
           92,
           42,
           "11:00"
          ],
          [
           "TARTELETTE FRAISE",
           95,
           45,
           "11:15"
          ],
          [
           "TARTELETTE FRAISE",
           98,
           48,
           "11:30"
          ],
          [
           "TARTELETTE FRAISE",
           96,
           46,
           "11:45"
          ],
          [
           "TARTELETTE FRAISE",
           86,
           36,
           "12:00"
          ],
          [
           "TARTELETTE FRAISE",
           88,
           38,
           "12:15"
          ],
          [
           "TARTELETTE FRAISE",
           90,
           40,
           "12:30"
          ],
          [
           "TARTELETTE FRAISE",
           87,
           37,
           "12:45"
          ],
          [
           "TARTELETTE FRAISE",
           65,
           15,
           "13:00"
          ],
          [
           "TARTELETTE FRAISE",
           59,
           9,
           "13:15"
          ],
          [
           "TARTELETTE FRAISE",
           51,
           1,
           "13:30"
          ],
          [
           "TARTELETTE FRAISE",
           52,
           2,
           "16:00"
          ],
          [
           "TARTELETTE FRAISE",
           59,
           9,
           "16:15"
          ],
          [
           "TARTELETTE FRAISE",
           60,
           10,
           "16:30"
          ],
          [
           "TARTELETTE FRAISE",
           56,
           6,
           "16:45"
          ],
          [
           "TARTELETTE FRAISE",
           56,
           6,
           "17:00"
          ],
          [
           "TARTELETTE FRAISE",
           55,
           5,
           "17:30"
          ],
          [
           "TARTELETTE FRAISE",
           54,
           4,
           "17:45"
          ],
          [
           "TARTELETTE FRAISE",
           52,
           2,
           "18:00"
          ],
          [
           "TARTELETTE FRAISE",
           59,
           9,
           "18:15"
          ],
          [
           "TARTELETTE FRAISE",
           57,
           7,
           "18:30"
          ],
          [
           "TARTELETTE FRAISE",
           59,
           9,
           "18:45"
          ],
          [
           "TARTELETTE FRAISE",
           58,
           8,
           "19:00"
          ],
          [
           "TARTELETTE FRAISE",
           55,
           5,
           "19:15"
          ]
         ],
         "hovertemplate": "article=%{customdata[0]}<br>Time=%{customdata[3]}<br>Quantity=%{customdata[2]}<extra></extra>",
         "legendgroup": "TARTELETTE FRAISE",
         "marker": {
          "color": "#fdca26"
         },
         "name": "TARTELETTE FRAISE",
         "r": [
          52,
          53,
          55,
          64,
          69,
          58,
          73,
          72,
          67,
          98,
          70,
          82,
          80,
          103,
          120,
          92,
          95,
          98,
          96,
          86,
          88,
          90,
          87,
          65,
          59,
          51,
          52,
          59,
          60,
          56,
          56,
          55,
          54,
          52,
          59,
          57,
          59,
          58,
          55
         ],
         "showlegend": true,
         "subplot": "polar",
         "theta": [
          "07:15",
          "07:30",
          "07:45",
          "08:00",
          "08:15",
          "08:30",
          "08:45",
          "09:00",
          "09:15",
          "09:30",
          "09:45",
          "10:00",
          "10:15",
          "10:30",
          "10:45",
          "11:00",
          "11:15",
          "11:30",
          "11:45",
          "12:00",
          "12:15",
          "12:30",
          "12:45",
          "13:00",
          "13:15",
          "13:30",
          "16:00",
          "16:15",
          "16:30",
          "16:45",
          "17:00",
          "17:30",
          "17:45",
          "18:00",
          "18:15",
          "18:30",
          "18:45",
          "19:00",
          "19:15"
         ],
         "type": "barpolar"
        },
        {
         "customdata": [
          [
           "VIK BREAD",
           51,
           1,
           "07:15"
          ],
          [
           "VIK BREAD",
           64,
           14,
           "07:30"
          ],
          [
           "VIK BREAD",
           65,
           15,
           "07:45"
          ],
          [
           "VIK BREAD",
           93,
           43,
           "08:00"
          ],
          [
           "VIK BREAD",
           123,
           73,
           "08:15"
          ],
          [
           "VIK BREAD",
           148,
           98,
           "08:30"
          ],
          [
           "VIK BREAD",
           165,
           115,
           "08:45"
          ],
          [
           "VIK BREAD",
           183,
           133,
           "09:00"
          ],
          [
           "VIK BREAD",
           182,
           132,
           "09:15"
          ],
          [
           "VIK BREAD",
           182,
           132,
           "09:30"
          ],
          [
           "VIK BREAD",
           206,
           156,
           "09:45"
          ],
          [
           "VIK BREAD",
           202,
           152,
           "10:00"
          ],
          [
           "VIK BREAD",
           229,
           179,
           "10:15"
          ],
          [
           "VIK BREAD",
           227,
           177,
           "10:30"
          ],
          [
           "VIK BREAD",
           258,
           208,
           "10:45"
          ],
          [
           "VIK BREAD",
           261,
           211,
           "11:00"
          ],
          [
           "VIK BREAD",
           290,
           240,
           "11:15"
          ],
          [
           "VIK BREAD",
           247,
           197,
           "11:30"
          ],
          [
           "VIK BREAD",
           246,
           196,
           "11:45"
          ],
          [
           "VIK BREAD",
           233,
           183,
           "12:00"
          ],
          [
           "VIK BREAD",
           203,
           153,
           "12:15"
          ],
          [
           "VIK BREAD",
           170,
           120,
           "12:30"
          ],
          [
           "VIK BREAD",
           150,
           100,
           "12:45"
          ],
          [
           "VIK BREAD",
           112,
           62,
           "13:00"
          ],
          [
           "VIK BREAD",
           74,
           24,
           "13:15"
          ],
          [
           "VIK BREAD",
           55,
           5,
           "13:30"
          ],
          [
           "VIK BREAD",
           61,
           11,
           "13:45"
          ],
          [
           "VIK BREAD",
           76,
           26,
           "16:00"
          ],
          [
           "VIK BREAD",
           77,
           27,
           "16:15"
          ],
          [
           "VIK BREAD",
           92,
           42,
           "16:30"
          ],
          [
           "VIK BREAD",
           79,
           29,
           "16:45"
          ],
          [
           "VIK BREAD",
           115,
           65,
           "17:00"
          ],
          [
           "VIK BREAD",
           95,
           45,
           "17:15"
          ],
          [
           "VIK BREAD",
           101,
           51,
           "17:30"
          ],
          [
           "VIK BREAD",
           90,
           40,
           "17:45"
          ],
          [
           "VIK BREAD",
           88,
           38,
           "18:00"
          ],
          [
           "VIK BREAD",
           76,
           26,
           "18:15"
          ],
          [
           "VIK BREAD",
           96,
           46,
           "18:30"
          ],
          [
           "VIK BREAD",
           80,
           30,
           "18:45"
          ],
          [
           "VIK BREAD",
           65,
           15,
           "19:00"
          ],
          [
           "VIK BREAD",
           57,
           7,
           "19:15"
          ],
          [
           "VIK BREAD",
           51,
           1,
           "19:30"
          ],
          [
           "VIK BREAD",
           51,
           1,
           "20:00"
          ]
         ],
         "hovertemplate": "article=%{customdata[0]}<br>Time=%{customdata[3]}<br>Quantity=%{customdata[2]}<extra></extra>",
         "legendgroup": "VIK BREAD",
         "marker": {
          "color": "#fb9f3a"
         },
         "name": "VIK BREAD",
         "r": [
          51,
          64,
          65,
          93,
          123,
          148,
          165,
          183,
          182,
          182,
          206,
          202,
          229,
          227,
          258,
          261,
          290,
          247,
          246,
          233,
          203,
          170,
          150,
          112,
          74,
          55,
          61,
          76,
          77,
          92,
          79,
          115,
          95,
          101,
          90,
          88,
          76,
          96,
          80,
          65,
          57,
          51,
          51
         ],
         "showlegend": true,
         "subplot": "polar",
         "theta": [
          "07:15",
          "07:30",
          "07:45",
          "08:00",
          "08:15",
          "08:30",
          "08:45",
          "09:00",
          "09:15",
          "09:30",
          "09:45",
          "10:00",
          "10:15",
          "10:30",
          "10:45",
          "11:00",
          "11:15",
          "11:30",
          "11:45",
          "12:00",
          "12:15",
          "12:30",
          "12:45",
          "13:00",
          "13:15",
          "13:30",
          "13:45",
          "16:00",
          "16:15",
          "16:30",
          "16:45",
          "17:00",
          "17:15",
          "17:30",
          "17:45",
          "18:00",
          "18:15",
          "18:30",
          "18:45",
          "19:00",
          "19:15",
          "19:30",
          "20:00"
         ],
         "type": "barpolar"
        },
        {
         "customdata": [
          [
           "BOULE 200G",
           56,
           6,
           "07:30"
          ],
          [
           "BOULE 200G",
           70,
           20,
           "07:45"
          ],
          [
           "BOULE 200G",
           118,
           68,
           "08:00"
          ],
          [
           "BOULE 200G",
           116,
           66,
           "08:15"
          ],
          [
           "BOULE 200G",
           110,
           60,
           "08:30"
          ],
          [
           "BOULE 200G",
           130,
           80,
           "08:45"
          ],
          [
           "BOULE 200G",
           128,
           78,
           "09:00"
          ],
          [
           "BOULE 200G",
           144,
           94,
           "09:15"
          ],
          [
           "BOULE 200G",
           162,
           112,
           "09:30"
          ],
          [
           "BOULE 200G",
           188,
           138,
           "09:45"
          ],
          [
           "BOULE 200G",
           180,
           130,
           "10:00"
          ],
          [
           "BOULE 200G",
           223,
           173,
           "10:15"
          ],
          [
           "BOULE 200G",
           226,
           176,
           "10:30"
          ],
          [
           "BOULE 200G",
           302,
           252,
           "10:45"
          ],
          [
           "BOULE 200G",
           287,
           237,
           "11:00"
          ],
          [
           "BOULE 200G",
           230,
           180,
           "11:15"
          ],
          [
           "BOULE 200G",
           205,
           155,
           "11:30"
          ],
          [
           "BOULE 200G",
           199,
           149,
           "11:45"
          ],
          [
           "BOULE 200G",
           196,
           146,
           "12:00"
          ],
          [
           "BOULE 200G",
           140,
           90,
           "12:15"
          ],
          [
           "BOULE 200G",
           128,
           78,
           "12:30"
          ],
          [
           "BOULE 200G",
           109,
           59,
           "12:45"
          ],
          [
           "BOULE 200G",
           85,
           35,
           "13:00"
          ],
          [
           "BOULE 200G",
           70,
           20,
           "13:15"
          ],
          [
           "BOULE 200G",
           60,
           10,
           "13:30"
          ],
          [
           "BOULE 200G",
           55,
           5,
           "13:45"
          ],
          [
           "BOULE 200G",
           51,
           1,
           "14:00"
          ],
          [
           "BOULE 200G",
           76,
           26,
           "16:00"
          ],
          [
           "BOULE 200G",
           86,
           36,
           "16:15"
          ],
          [
           "BOULE 200G",
           85,
           35,
           "16:30"
          ],
          [
           "BOULE 200G",
           85,
           35,
           "16:45"
          ],
          [
           "BOULE 200G",
           63,
           13,
           "17:00"
          ],
          [
           "BOULE 200G",
           81,
           31,
           "17:15"
          ],
          [
           "BOULE 200G",
           87,
           37,
           "17:30"
          ],
          [
           "BOULE 200G",
           92,
           42,
           "17:45"
          ],
          [
           "BOULE 200G",
           96,
           46,
           "18:00"
          ],
          [
           "BOULE 200G",
           97,
           47,
           "18:15"
          ],
          [
           "BOULE 200G",
           95,
           45,
           "18:30"
          ],
          [
           "BOULE 200G",
           88,
           38,
           "18:45"
          ],
          [
           "BOULE 200G",
           72,
           22,
           "19:00"
          ],
          [
           "BOULE 200G",
           55,
           5,
           "19:15"
          ],
          [
           "BOULE 200G",
           54,
           4,
           "19:30"
          ]
         ],
         "hovertemplate": "article=%{customdata[0]}<br>Time=%{customdata[3]}<br>Quantity=%{customdata[2]}<extra></extra>",
         "legendgroup": "BOULE 200G",
         "marker": {
          "color": "#ed7953"
         },
         "name": "BOULE 200G",
         "r": [
          56,
          70,
          118,
          116,
          110,
          130,
          128,
          144,
          162,
          188,
          180,
          223,
          226,
          302,
          287,
          230,
          205,
          199,
          196,
          140,
          128,
          109,
          85,
          70,
          60,
          55,
          51,
          76,
          86,
          85,
          85,
          63,
          81,
          87,
          92,
          96,
          97,
          95,
          88,
          72,
          55,
          54
         ],
         "showlegend": true,
         "subplot": "polar",
         "theta": [
          "07:30",
          "07:45",
          "08:00",
          "08:15",
          "08:30",
          "08:45",
          "09:00",
          "09:15",
          "09:30",
          "09:45",
          "10:00",
          "10:15",
          "10:30",
          "10:45",
          "11:00",
          "11:15",
          "11:30",
          "11:45",
          "12:00",
          "12:15",
          "12:30",
          "12:45",
          "13:00",
          "13:15",
          "13:30",
          "13:45",
          "14:00",
          "16:00",
          "16:15",
          "16:30",
          "16:45",
          "17:00",
          "17:15",
          "17:30",
          "17:45",
          "18:00",
          "18:15",
          "18:30",
          "18:45",
          "19:00",
          "19:15",
          "19:30"
         ],
         "type": "barpolar"
        },
        {
         "customdata": [
          [
           "BOULE 400G",
           57,
           7,
           "07:30"
          ],
          [
           "BOULE 400G",
           71,
           21,
           "07:45"
          ],
          [
           "BOULE 400G",
           102,
           52,
           "08:00"
          ],
          [
           "BOULE 400G",
           129,
           79,
           "08:15"
          ],
          [
           "BOULE 400G",
           168,
           118,
           "08:30"
          ],
          [
           "BOULE 400G",
           207,
           157,
           "08:45"
          ],
          [
           "BOULE 400G",
           212,
           162,
           "09:00"
          ],
          [
           "BOULE 400G",
           225,
           175,
           "09:15"
          ],
          [
           "BOULE 400G",
           221,
           171,
           "09:30"
          ],
          [
           "BOULE 400G",
           245,
           195,
           "09:45"
          ],
          [
           "BOULE 400G",
           268,
           218,
           "10:00"
          ],
          [
           "BOULE 400G",
           298,
           248,
           "10:15"
          ],
          [
           "BOULE 400G",
           323,
           273,
           "10:30"
          ],
          [
           "BOULE 400G",
           327,
           277,
           "10:45"
          ],
          [
           "BOULE 400G",
           345,
           295,
           "11:00"
          ],
          [
           "BOULE 400G",
           386,
           336,
           "11:15"
          ],
          [
           "BOULE 400G",
           341,
           291,
           "11:30"
          ],
          [
           "BOULE 400G",
           298,
           248,
           "11:45"
          ],
          [
           "BOULE 400G",
           271,
           221,
           "12:00"
          ],
          [
           "BOULE 400G",
           242,
           192,
           "12:15"
          ],
          [
           "BOULE 400G",
           227,
           177,
           "12:30"
          ],
          [
           "BOULE 400G",
           166,
           116,
           "12:45"
          ],
          [
           "BOULE 400G",
           116,
           66,
           "13:00"
          ],
          [
           "BOULE 400G",
           76,
           26,
           "13:15"
          ],
          [
           "BOULE 400G",
           69,
           19,
           "13:30"
          ],
          [
           "BOULE 400G",
           53,
           3,
           "13:45"
          ],
          [
           "BOULE 400G",
           56,
           6,
           "14:00"
          ],
          [
           "BOULE 400G",
           77,
           27,
           "16:00"
          ],
          [
           "BOULE 400G",
           108,
           58,
           "16:15"
          ],
          [
           "BOULE 400G",
           100,
           50,
           "16:30"
          ],
          [
           "BOULE 400G",
           102,
           52,
           "16:45"
          ],
          [
           "BOULE 400G",
           94,
           44,
           "17:00"
          ],
          [
           "BOULE 400G",
           100,
           50,
           "17:15"
          ],
          [
           "BOULE 400G",
           103,
           53,
           "17:30"
          ],
          [
           "BOULE 400G",
           127,
           77,
           "17:45"
          ],
          [
           "BOULE 400G",
           119,
           69,
           "18:00"
          ],
          [
           "BOULE 400G",
           93,
           43,
           "18:15"
          ],
          [
           "BOULE 400G",
           103,
           53,
           "18:30"
          ],
          [
           "BOULE 400G",
           104,
           54,
           "18:45"
          ],
          [
           "BOULE 400G",
           78,
           28,
           "19:00"
          ],
          [
           "BOULE 400G",
           61,
           11,
           "19:15"
          ],
          [
           "BOULE 400G",
           53,
           3,
           "19:30"
          ],
          [
           "BOULE 400G",
           53,
           3,
           "19:45"
          ],
          [
           "BOULE 400G",
           50,
           0,
           "20:00"
          ]
         ],
         "hovertemplate": "article=%{customdata[0]}<br>Time=%{customdata[3]}<br>Quantity=%{customdata[2]}<extra></extra>",
         "legendgroup": "BOULE 400G",
         "marker": {
          "color": "#d8576b"
         },
         "name": "BOULE 400G",
         "r": [
          57,
          71,
          102,
          129,
          168,
          207,
          212,
          225,
          221,
          245,
          268,
          298,
          323,
          327,
          345,
          386,
          341,
          298,
          271,
          242,
          227,
          166,
          116,
          76,
          69,
          53,
          56,
          77,
          108,
          100,
          102,
          94,
          100,
          103,
          127,
          119,
          93,
          103,
          104,
          78,
          61,
          53,
          53,
          50
         ],
         "showlegend": true,
         "subplot": "polar",
         "theta": [
          "07:30",
          "07:45",
          "08:00",
          "08:15",
          "08:30",
          "08:45",
          "09:00",
          "09:15",
          "09:30",
          "09:45",
          "10:00",
          "10:15",
          "10:30",
          "10:45",
          "11:00",
          "11:15",
          "11:30",
          "11:45",
          "12:00",
          "12:15",
          "12:30",
          "12:45",
          "13:00",
          "13:15",
          "13:30",
          "13:45",
          "14:00",
          "16:00",
          "16:15",
          "16:30",
          "16:45",
          "17:00",
          "17:15",
          "17:30",
          "17:45",
          "18:00",
          "18:15",
          "18:30",
          "18:45",
          "19:00",
          "19:15",
          "19:30",
          "19:45",
          "20:00"
         ],
         "type": "barpolar"
        },
        {
         "customdata": [
          [
           "BOULE POLKA",
           51,
           1,
           "07:30"
          ],
          [
           "BOULE POLKA",
           55,
           5,
           "08:00"
          ],
          [
           "BOULE POLKA",
           55,
           5,
           "08:15"
          ],
          [
           "BOULE POLKA",
           56,
           6,
           "08:30"
          ],
          [
           "BOULE POLKA",
           65,
           15,
           "08:45"
          ],
          [
           "BOULE POLKA",
           65,
           15,
           "09:00"
          ],
          [
           "BOULE POLKA",
           70,
           20,
           "09:15"
          ],
          [
           "BOULE POLKA",
           72,
           22,
           "09:30"
          ],
          [
           "BOULE POLKA",
           69,
           19,
           "09:45"
          ],
          [
           "BOULE POLKA",
           84,
           34,
           "10:00"
          ],
          [
           "BOULE POLKA",
           95,
           45,
           "10:15"
          ],
          [
           "BOULE POLKA",
           86,
           36,
           "10:30"
          ],
          [
           "BOULE POLKA",
           75,
           25,
           "10:45"
          ],
          [
           "BOULE POLKA",
           87,
           37,
           "11:00"
          ],
          [
           "BOULE POLKA",
           72,
           22,
           "11:15"
          ],
          [
           "BOULE POLKA",
           69,
           19,
           "11:30"
          ],
          [
           "BOULE POLKA",
           71,
           21,
           "11:45"
          ],
          [
           "BOULE POLKA",
           75,
           25,
           "12:00"
          ],
          [
           "BOULE POLKA",
           76,
           26,
           "12:15"
          ],
          [
           "BOULE POLKA",
           65,
           15,
           "12:30"
          ],
          [
           "BOULE POLKA",
           62,
           12,
           "12:45"
          ],
          [
           "BOULE POLKA",
           59,
           9,
           "13:00"
          ],
          [
           "BOULE POLKA",
           54,
           4,
           "13:15"
          ],
          [
           "BOULE POLKA",
           51,
           1,
           "13:30"
          ],
          [
           "BOULE POLKA",
           51,
           1,
           "16:00"
          ],
          [
           "BOULE POLKA",
           54,
           4,
           "16:15"
          ],
          [
           "BOULE POLKA",
           55,
           5,
           "16:30"
          ],
          [
           "BOULE POLKA",
           55,
           5,
           "16:45"
          ],
          [
           "BOULE POLKA",
           54,
           4,
           "17:00"
          ],
          [
           "BOULE POLKA",
           58,
           8,
           "17:15"
          ],
          [
           "BOULE POLKA",
           53,
           3,
           "17:30"
          ],
          [
           "BOULE POLKA",
           56,
           6,
           "17:45"
          ],
          [
           "BOULE POLKA",
           58,
           8,
           "18:00"
          ],
          [
           "BOULE POLKA",
           65,
           15,
           "18:15"
          ],
          [
           "BOULE POLKA",
           63,
           13,
           "18:30"
          ],
          [
           "BOULE POLKA",
           59,
           9,
           "18:45"
          ],
          [
           "BOULE POLKA",
           54,
           4,
           "19:00"
          ],
          [
           "BOULE POLKA",
           56,
           6,
           "19:15"
          ],
          [
           "BOULE POLKA",
           51,
           1,
           "19:30"
          ]
         ],
         "hovertemplate": "article=%{customdata[0]}<br>Time=%{customdata[3]}<br>Quantity=%{customdata[2]}<extra></extra>",
         "legendgroup": "BOULE POLKA",
         "marker": {
          "color": "#bd3786"
         },
         "name": "BOULE POLKA",
         "r": [
          51,
          55,
          55,
          56,
          65,
          65,
          70,
          72,
          69,
          84,
          95,
          86,
          75,
          87,
          72,
          69,
          71,
          75,
          76,
          65,
          62,
          59,
          54,
          51,
          51,
          54,
          55,
          55,
          54,
          58,
          53,
          56,
          58,
          65,
          63,
          59,
          54,
          56,
          51
         ],
         "showlegend": true,
         "subplot": "polar",
         "theta": [
          "07:30",
          "08:00",
          "08:15",
          "08:30",
          "08:45",
          "09:00",
          "09:15",
          "09:30",
          "09:45",
          "10:00",
          "10:15",
          "10:30",
          "10:45",
          "11:00",
          "11:15",
          "11:30",
          "11:45",
          "12:00",
          "12:15",
          "12:30",
          "12:45",
          "13:00",
          "13:15",
          "13:30",
          "16:00",
          "16:15",
          "16:30",
          "16:45",
          "17:00",
          "17:15",
          "17:30",
          "17:45",
          "18:00",
          "18:15",
          "18:30",
          "18:45",
          "19:00",
          "19:15",
          "19:30"
         ],
         "type": "barpolar"
        },
        {
         "customdata": [
          [
           "BROWNIES",
           51,
           1,
           "07:30"
          ],
          [
           "BROWNIES",
           52,
           2,
           "07:45"
          ],
          [
           "BROWNIES",
           52,
           2,
           "08:00"
          ],
          [
           "BROWNIES",
           51,
           1,
           "08:15"
          ],
          [
           "BROWNIES",
           51,
           1,
           "08:45"
          ],
          [
           "BROWNIES",
           52,
           2,
           "09:15"
          ],
          [
           "BROWNIES",
           53,
           3,
           "09:45"
          ],
          [
           "BROWNIES",
           51,
           1,
           "10:15"
          ],
          [
           "BROWNIES",
           51,
           1,
           "10:30"
          ],
          [
           "BROWNIES",
           51,
           1,
           "11:00"
          ],
          [
           "BROWNIES",
           52,
           2,
           "11:15"
          ],
          [
           "BROWNIES",
           54,
           4,
           "12:15"
          ],
          [
           "BROWNIES",
           52,
           2,
           "12:30"
          ],
          [
           "BROWNIES",
           53,
           3,
           "13:00"
          ],
          [
           "BROWNIES",
           52,
           2,
           "13:15"
          ],
          [
           "BROWNIES",
           51,
           1,
           "16:00"
          ],
          [
           "BROWNIES",
           51,
           1,
           "16:30"
          ],
          [
           "BROWNIES",
           56,
           6,
           "16:45"
          ],
          [
           "BROWNIES",
           53,
           3,
           "17:00"
          ],
          [
           "BROWNIES",
           52,
           2,
           "17:30"
          ],
          [
           "BROWNIES",
           53,
           3,
           "17:45"
          ],
          [
           "BROWNIES",
           51,
           1,
           "18:15"
          ]
         ],
         "hovertemplate": "article=%{customdata[0]}<br>Time=%{customdata[3]}<br>Quantity=%{customdata[2]}<extra></extra>",
         "legendgroup": "BROWNIES",
         "marker": {
          "color": "#9c179e"
         },
         "name": "BROWNIES",
         "r": [
          51,
          52,
          52,
          51,
          51,
          52,
          53,
          51,
          51,
          51,
          52,
          54,
          52,
          53,
          52,
          51,
          51,
          56,
          53,
          52,
          53,
          51
         ],
         "showlegend": true,
         "subplot": "polar",
         "theta": [
          "07:30",
          "07:45",
          "08:00",
          "08:15",
          "08:45",
          "09:15",
          "09:45",
          "10:15",
          "10:30",
          "11:00",
          "11:15",
          "12:15",
          "12:30",
          "13:00",
          "13:15",
          "16:00",
          "16:30",
          "16:45",
          "17:00",
          "17:30",
          "17:45",
          "18:15"
         ],
         "type": "barpolar"
        },
        {
         "customdata": [
          [
           "CAMPAGNE",
           70,
           20,
           "07:30"
          ],
          [
           "CAMPAGNE",
           67,
           17,
           "07:45"
          ],
          [
           "CAMPAGNE",
           86,
           36,
           "08:00"
          ],
          [
           "CAMPAGNE",
           132,
           82,
           "08:15"
          ],
          [
           "CAMPAGNE",
           132,
           82,
           "08:30"
          ],
          [
           "CAMPAGNE",
           210,
           160,
           "08:45"
          ],
          [
           "CAMPAGNE",
           187,
           137,
           "09:00"
          ],
          [
           "CAMPAGNE",
           203,
           153,
           "09:15"
          ],
          [
           "CAMPAGNE",
           182,
           132,
           "09:30"
          ],
          [
           "CAMPAGNE",
           237,
           187,
           "09:45"
          ],
          [
           "CAMPAGNE",
           262,
           212,
           "10:00"
          ],
          [
           "CAMPAGNE",
           245,
           195,
           "10:15"
          ],
          [
           "CAMPAGNE",
           275,
           225,
           "10:30"
          ],
          [
           "CAMPAGNE",
           299,
           249,
           "10:45"
          ],
          [
           "CAMPAGNE",
           265,
           215,
           "11:00"
          ],
          [
           "CAMPAGNE",
           282,
           232,
           "11:15"
          ],
          [
           "CAMPAGNE",
           278,
           228,
           "11:30"
          ],
          [
           "CAMPAGNE",
           284,
           234,
           "11:45"
          ],
          [
           "CAMPAGNE",
           278,
           228,
           "12:00"
          ],
          [
           "CAMPAGNE",
           234,
           184,
           "12:15"
          ],
          [
           "CAMPAGNE",
           214,
           164,
           "12:30"
          ],
          [
           "CAMPAGNE",
           174,
           124,
           "12:45"
          ],
          [
           "CAMPAGNE",
           114,
           64,
           "13:00"
          ],
          [
           "CAMPAGNE",
           83,
           33,
           "13:15"
          ],
          [
           "CAMPAGNE",
           75,
           25,
           "13:30"
          ],
          [
           "CAMPAGNE",
           68,
           18,
           "13:45"
          ],
          [
           "CAMPAGNE",
           58,
           8,
           "14:00"
          ],
          [
           "CAMPAGNE",
           66,
           16,
           "16:00"
          ],
          [
           "CAMPAGNE",
           93,
           43,
           "16:15"
          ],
          [
           "CAMPAGNE",
           85,
           35,
           "16:30"
          ],
          [
           "CAMPAGNE",
           102,
           52,
           "16:45"
          ],
          [
           "CAMPAGNE",
           95,
           45,
           "17:00"
          ],
          [
           "CAMPAGNE",
           129,
           79,
           "17:15"
          ],
          [
           "CAMPAGNE",
           122,
           72,
           "17:30"
          ],
          [
           "CAMPAGNE",
           123,
           73,
           "17:45"
          ],
          [
           "CAMPAGNE",
           111,
           61,
           "18:00"
          ],
          [
           "CAMPAGNE",
           115,
           65,
           "18:15"
          ],
          [
           "CAMPAGNE",
           121,
           71,
           "18:30"
          ],
          [
           "CAMPAGNE",
           100,
           50,
           "18:45"
          ],
          [
           "CAMPAGNE",
           87,
           37,
           "19:00"
          ],
          [
           "CAMPAGNE",
           59,
           9,
           "19:15"
          ],
          [
           "CAMPAGNE",
           53,
           3,
           "19:30"
          ],
          [
           "CAMPAGNE",
           51,
           1,
           "19:45"
          ],
          [
           "CAMPAGNE",
           50,
           0,
           "20:00"
          ]
         ],
         "hovertemplate": "article=%{customdata[0]}<br>Time=%{customdata[3]}<br>Quantity=%{customdata[2]}<extra></extra>",
         "legendgroup": "CAMPAGNE",
         "marker": {
          "color": "#7201a8"
         },
         "name": "CAMPAGNE",
         "r": [
          70,
          67,
          86,
          132,
          132,
          210,
          187,
          203,
          182,
          237,
          262,
          245,
          275,
          299,
          265,
          282,
          278,
          284,
          278,
          234,
          214,
          174,
          114,
          83,
          75,
          68,
          58,
          66,
          93,
          85,
          102,
          95,
          129,
          122,
          123,
          111,
          115,
          121,
          100,
          87,
          59,
          53,
          51,
          50
         ],
         "showlegend": true,
         "subplot": "polar",
         "theta": [
          "07:30",
          "07:45",
          "08:00",
          "08:15",
          "08:30",
          "08:45",
          "09:00",
          "09:15",
          "09:30",
          "09:45",
          "10:00",
          "10:15",
          "10:30",
          "10:45",
          "11:00",
          "11:15",
          "11:30",
          "11:45",
          "12:00",
          "12:15",
          "12:30",
          "12:45",
          "13:00",
          "13:15",
          "13:30",
          "13:45",
          "14:00",
          "16:00",
          "16:15",
          "16:30",
          "16:45",
          "17:00",
          "17:15",
          "17:30",
          "17:45",
          "18:00",
          "18:15",
          "18:30",
          "18:45",
          "19:00",
          "19:15",
          "19:30",
          "19:45",
          "20:00"
         ],
         "type": "barpolar"
        },
        {
         "customdata": [
          [
           "CROISSANT AMANDES",
           72,
           22,
           "07:30"
          ],
          [
           "CROISSANT AMANDES",
           93,
           43,
           "07:45"
          ],
          [
           "CROISSANT AMANDES",
           138,
           88,
           "08:00"
          ],
          [
           "CROISSANT AMANDES",
           120,
           70,
           "08:15"
          ],
          [
           "CROISSANT AMANDES",
           158,
           108,
           "08:30"
          ],
          [
           "CROISSANT AMANDES",
           135,
           85,
           "08:45"
          ],
          [
           "CROISSANT AMANDES",
           170,
           120,
           "09:00"
          ],
          [
           "CROISSANT AMANDES",
           152,
           102,
           "09:15"
          ],
          [
           "CROISSANT AMANDES",
           127,
           77,
           "09:30"
          ],
          [
           "CROISSANT AMANDES",
           155,
           105,
           "09:45"
          ],
          [
           "CROISSANT AMANDES",
           139,
           89,
           "10:00"
          ],
          [
           "CROISSANT AMANDES",
           137,
           87,
           "10:15"
          ],
          [
           "CROISSANT AMANDES",
           146,
           96,
           "10:30"
          ],
          [
           "CROISSANT AMANDES",
           150,
           100,
           "10:45"
          ],
          [
           "CROISSANT AMANDES",
           128,
           78,
           "11:00"
          ],
          [
           "CROISSANT AMANDES",
           123,
           73,
           "11:15"
          ],
          [
           "CROISSANT AMANDES",
           110,
           60,
           "11:30"
          ],
          [
           "CROISSANT AMANDES",
           141,
           91,
           "11:45"
          ],
          [
           "CROISSANT AMANDES",
           124,
           74,
           "12:00"
          ],
          [
           "CROISSANT AMANDES",
           130,
           80,
           "12:15"
          ],
          [
           "CROISSANT AMANDES",
           95,
           45,
           "12:30"
          ],
          [
           "CROISSANT AMANDES",
           107,
           57,
           "12:45"
          ],
          [
           "CROISSANT AMANDES",
           92,
           42,
           "13:00"
          ],
          [
           "CROISSANT AMANDES",
           68,
           18,
           "13:15"
          ],
          [
           "CROISSANT AMANDES",
           58,
           8,
           "13:30"
          ],
          [
           "CROISSANT AMANDES",
           60,
           10,
           "13:45"
          ],
          [
           "CROISSANT AMANDES",
           52,
           2,
           "14:00"
          ],
          [
           "CROISSANT AMANDES",
           66,
           16,
           "16:00"
          ],
          [
           "CROISSANT AMANDES",
           92,
           42,
           "16:15"
          ],
          [
           "CROISSANT AMANDES",
           97,
           47,
           "16:30"
          ],
          [
           "CROISSANT AMANDES",
           104,
           54,
           "16:45"
          ],
          [
           "CROISSANT AMANDES",
           106,
           56,
           "17:00"
          ],
          [
           "CROISSANT AMANDES",
           104,
           54,
           "17:15"
          ],
          [
           "CROISSANT AMANDES",
           98,
           48,
           "17:30"
          ],
          [
           "CROISSANT AMANDES",
           102,
           52,
           "17:45"
          ],
          [
           "CROISSANT AMANDES",
           93,
           43,
           "18:00"
          ],
          [
           "CROISSANT AMANDES",
           74,
           24,
           "18:15"
          ],
          [
           "CROISSANT AMANDES",
           75,
           25,
           "18:30"
          ],
          [
           "CROISSANT AMANDES",
           77,
           27,
           "18:45"
          ],
          [
           "CROISSANT AMANDES",
           74,
           24,
           "19:00"
          ],
          [
           "CROISSANT AMANDES",
           51,
           1,
           "19:15"
          ],
          [
           "CROISSANT AMANDES",
           52,
           2,
           "19:45"
          ]
         ],
         "hovertemplate": "article=%{customdata[0]}<br>Time=%{customdata[3]}<br>Quantity=%{customdata[2]}<extra></extra>",
         "legendgroup": "CROISSANT AMANDES",
         "marker": {
          "color": "#46039f"
         },
         "name": "CROISSANT AMANDES",
         "r": [
          72,
          93,
          138,
          120,
          158,
          135,
          170,
          152,
          127,
          155,
          139,
          137,
          146,
          150,
          128,
          123,
          110,
          141,
          124,
          130,
          95,
          107,
          92,
          68,
          58,
          60,
          52,
          66,
          92,
          97,
          104,
          106,
          104,
          98,
          102,
          93,
          74,
          75,
          77,
          74,
          51,
          52
         ],
         "showlegend": true,
         "subplot": "polar",
         "theta": [
          "07:30",
          "07:45",
          "08:00",
          "08:15",
          "08:30",
          "08:45",
          "09:00",
          "09:15",
          "09:30",
          "09:45",
          "10:00",
          "10:15",
          "10:30",
          "10:45",
          "11:00",
          "11:15",
          "11:30",
          "11:45",
          "12:00",
          "12:15",
          "12:30",
          "12:45",
          "13:00",
          "13:15",
          "13:30",
          "13:45",
          "14:00",
          "16:00",
          "16:15",
          "16:30",
          "16:45",
          "17:00",
          "17:15",
          "17:30",
          "17:45",
          "18:00",
          "18:15",
          "18:30",
          "18:45",
          "19:00",
          "19:15",
          "19:45"
         ],
         "type": "barpolar"
        },
        {
         "customdata": [
          [
           "DIVERS BOULANGERIE",
           53,
           3,
           "07:30"
          ],
          [
           "DIVERS BOULANGERIE",
           55,
           5,
           "07:45"
          ],
          [
           "DIVERS BOULANGERIE",
           63,
           13,
           "08:00"
          ],
          [
           "DIVERS BOULANGERIE",
           58,
           8,
           "08:15"
          ],
          [
           "DIVERS BOULANGERIE",
           64,
           14,
           "08:30"
          ],
          [
           "DIVERS BOULANGERIE",
           69,
           19,
           "08:45"
          ],
          [
           "DIVERS BOULANGERIE",
           77,
           27,
           "09:00"
          ],
          [
           "DIVERS BOULANGERIE",
           62,
           12,
           "09:15"
          ],
          [
           "DIVERS BOULANGERIE",
           60,
           10,
           "09:30"
          ],
          [
           "DIVERS BOULANGERIE",
           68,
           18,
           "09:45"
          ],
          [
           "DIVERS BOULANGERIE",
           58,
           8,
           "10:00"
          ],
          [
           "DIVERS BOULANGERIE",
           59,
           9,
           "10:15"
          ],
          [
           "DIVERS BOULANGERIE",
           60,
           10,
           "10:30"
          ],
          [
           "DIVERS BOULANGERIE",
           68,
           18,
           "10:45"
          ],
          [
           "DIVERS BOULANGERIE",
           57,
           7,
           "11:00"
          ],
          [
           "DIVERS BOULANGERIE",
           61,
           11,
           "11:15"
          ],
          [
           "DIVERS BOULANGERIE",
           62,
           12,
           "11:30"
          ],
          [
           "DIVERS BOULANGERIE",
           67,
           17,
           "11:45"
          ],
          [
           "DIVERS BOULANGERIE",
           66,
           16,
           "12:00"
          ],
          [
           "DIVERS BOULANGERIE",
           60,
           10,
           "12:15"
          ],
          [
           "DIVERS BOULANGERIE",
           62,
           12,
           "12:30"
          ],
          [
           "DIVERS BOULANGERIE",
           55,
           5,
           "12:45"
          ],
          [
           "DIVERS BOULANGERIE",
           52,
           2,
           "13:00"
          ],
          [
           "DIVERS BOULANGERIE",
           51,
           1,
           "13:15"
          ],
          [
           "DIVERS BOULANGERIE",
           51,
           1,
           "13:30"
          ],
          [
           "DIVERS BOULANGERIE",
           51,
           1,
           "14:00"
          ],
          [
           "DIVERS BOULANGERIE",
           51,
           1,
           "16:00"
          ],
          [
           "DIVERS BOULANGERIE",
           55,
           5,
           "16:15"
          ],
          [
           "DIVERS BOULANGERIE",
           55,
           5,
           "16:30"
          ],
          [
           "DIVERS BOULANGERIE",
           56,
           6,
           "16:45"
          ],
          [
           "DIVERS BOULANGERIE",
           58,
           8,
           "17:00"
          ],
          [
           "DIVERS BOULANGERIE",
           54,
           4,
           "17:15"
          ],
          [
           "DIVERS BOULANGERIE",
           53,
           3,
           "17:30"
          ],
          [
           "DIVERS BOULANGERIE",
           53,
           3,
           "17:45"
          ],
          [
           "DIVERS BOULANGERIE",
           56,
           6,
           "18:00"
          ],
          [
           "DIVERS BOULANGERIE",
           52,
           2,
           "18:15"
          ],
          [
           "DIVERS BOULANGERIE",
           55,
           5,
           "18:30"
          ],
          [
           "DIVERS BOULANGERIE",
           51,
           1,
           "18:45"
          ],
          [
           "DIVERS BOULANGERIE",
           50,
           0,
           "19:00"
          ],
          [
           "DIVERS BOULANGERIE",
           51,
           1,
           "20:00"
          ]
         ],
         "hovertemplate": "article=%{customdata[0]}<br>Time=%{customdata[3]}<br>Quantity=%{customdata[2]}<extra></extra>",
         "legendgroup": "DIVERS BOULANGERIE",
         "marker": {
          "color": "#0d0887"
         },
         "name": "DIVERS BOULANGERIE",
         "r": [
          53,
          55,
          63,
          58,
          64,
          69,
          77,
          62,
          60,
          68,
          58,
          59,
          60,
          68,
          57,
          61,
          62,
          67,
          66,
          60,
          62,
          55,
          52,
          51,
          51,
          51,
          51,
          55,
          55,
          56,
          58,
          54,
          53,
          53,
          56,
          52,
          55,
          51,
          50,
          51
         ],
         "showlegend": true,
         "subplot": "polar",
         "theta": [
          "07:30",
          "07:45",
          "08:00",
          "08:15",
          "08:30",
          "08:45",
          "09:00",
          "09:15",
          "09:30",
          "09:45",
          "10:00",
          "10:15",
          "10:30",
          "10:45",
          "11:00",
          "11:15",
          "11:30",
          "11:45",
          "12:00",
          "12:15",
          "12:30",
          "12:45",
          "13:00",
          "13:15",
          "13:30",
          "14:00",
          "16:00",
          "16:15",
          "16:30",
          "16:45",
          "17:00",
          "17:15",
          "17:30",
          "17:45",
          "18:00",
          "18:15",
          "18:30",
          "18:45",
          "19:00",
          "20:00"
         ],
         "type": "barpolar"
        },
        {
         "customdata": [
          [
           "DIVERS CONFISERIE",
           52,
           2,
           "07:30"
          ],
          [
           "DIVERS CONFISERIE",
           53,
           3,
           "07:45"
          ],
          [
           "DIVERS CONFISERIE",
           57,
           7,
           "08:00"
          ],
          [
           "DIVERS CONFISERIE",
           54,
           4,
           "08:15"
          ],
          [
           "DIVERS CONFISERIE",
           57,
           7,
           "08:30"
          ],
          [
           "DIVERS CONFISERIE",
           60,
           10,
           "08:45"
          ],
          [
           "DIVERS CONFISERIE",
           62,
           12,
           "09:00"
          ],
          [
           "DIVERS CONFISERIE",
           62,
           12,
           "09:15"
          ],
          [
           "DIVERS CONFISERIE",
           54,
           4,
           "09:30"
          ],
          [
           "DIVERS CONFISERIE",
           66,
           16,
           "09:45"
          ],
          [
           "DIVERS CONFISERIE",
           58,
           8,
           "10:00"
          ],
          [
           "DIVERS CONFISERIE",
           63,
           13,
           "10:15"
          ],
          [
           "DIVERS CONFISERIE",
           60,
           10,
           "10:30"
          ],
          [
           "DIVERS CONFISERIE",
           72,
           22,
           "10:45"
          ],
          [
           "DIVERS CONFISERIE",
           73,
           23,
           "11:00"
          ],
          [
           "DIVERS CONFISERIE",
           78,
           28,
           "11:15"
          ],
          [
           "DIVERS CONFISERIE",
           74,
           24,
           "11:30"
          ],
          [
           "DIVERS CONFISERIE",
           75,
           25,
           "11:45"
          ],
          [
           "DIVERS CONFISERIE",
           70,
           20,
           "12:00"
          ],
          [
           "DIVERS CONFISERIE",
           82,
           32,
           "12:15"
          ],
          [
           "DIVERS CONFISERIE",
           77,
           27,
           "12:30"
          ],
          [
           "DIVERS CONFISERIE",
           75,
           25,
           "12:45"
          ],
          [
           "DIVERS CONFISERIE",
           62,
           12,
           "13:00"
          ],
          [
           "DIVERS CONFISERIE",
           55,
           5,
           "13:15"
          ],
          [
           "DIVERS CONFISERIE",
           52,
           2,
           "13:30"
          ],
          [
           "DIVERS CONFISERIE",
           55,
           5,
           "16:00"
          ],
          [
           "DIVERS CONFISERIE",
           56,
           6,
           "16:15"
          ],
          [
           "DIVERS CONFISERIE",
           55,
           5,
           "16:30"
          ],
          [
           "DIVERS CONFISERIE",
           62,
           12,
           "16:45"
          ],
          [
           "DIVERS CONFISERIE",
           70,
           20,
           "17:00"
          ],
          [
           "DIVERS CONFISERIE",
           62,
           12,
           "17:15"
          ],
          [
           "DIVERS CONFISERIE",
           63,
           13,
           "17:30"
          ],
          [
           "DIVERS CONFISERIE",
           69,
           19,
           "17:45"
          ],
          [
           "DIVERS CONFISERIE",
           67,
           17,
           "18:00"
          ],
          [
           "DIVERS CONFISERIE",
           67,
           17,
           "18:15"
          ],
          [
           "DIVERS CONFISERIE",
           62,
           12,
           "18:30"
          ],
          [
           "DIVERS CONFISERIE",
           56,
           6,
           "18:45"
          ],
          [
           "DIVERS CONFISERIE",
           56,
           6,
           "19:00"
          ]
         ],
         "hovertemplate": "article=%{customdata[0]}<br>Time=%{customdata[3]}<br>Quantity=%{customdata[2]}<extra></extra>",
         "legendgroup": "DIVERS CONFISERIE",
         "marker": {
          "color": "#f0f921"
         },
         "name": "DIVERS CONFISERIE",
         "r": [
          52,
          53,
          57,
          54,
          57,
          60,
          62,
          62,
          54,
          66,
          58,
          63,
          60,
          72,
          73,
          78,
          74,
          75,
          70,
          82,
          77,
          75,
          62,
          55,
          52,
          55,
          56,
          55,
          62,
          70,
          62,
          63,
          69,
          67,
          67,
          62,
          56,
          56
         ],
         "showlegend": true,
         "subplot": "polar",
         "theta": [
          "07:30",
          "07:45",
          "08:00",
          "08:15",
          "08:30",
          "08:45",
          "09:00",
          "09:15",
          "09:30",
          "09:45",
          "10:00",
          "10:15",
          "10:30",
          "10:45",
          "11:00",
          "11:15",
          "11:30",
          "11:45",
          "12:00",
          "12:15",
          "12:30",
          "12:45",
          "13:00",
          "13:15",
          "13:30",
          "16:00",
          "16:15",
          "16:30",
          "16:45",
          "17:00",
          "17:15",
          "17:30",
          "17:45",
          "18:00",
          "18:15",
          "18:30",
          "18:45",
          "19:00"
         ],
         "type": "barpolar"
        },
        {
         "customdata": [
          [
           "DIVERS PATISSERIE",
           51,
           1,
           "07:30"
          ],
          [
           "DIVERS PATISSERIE",
           51,
           1,
           "07:45"
          ],
          [
           "DIVERS PATISSERIE",
           52,
           2,
           "08:00"
          ],
          [
           "DIVERS PATISSERIE",
           54,
           4,
           "08:15"
          ],
          [
           "DIVERS PATISSERIE",
           58,
           8,
           "08:30"
          ],
          [
           "DIVERS PATISSERIE",
           54,
           4,
           "08:45"
          ],
          [
           "DIVERS PATISSERIE",
           55,
           5,
           "09:00"
          ],
          [
           "DIVERS PATISSERIE",
           64,
           14,
           "09:15"
          ],
          [
           "DIVERS PATISSERIE",
           58,
           8,
           "09:30"
          ],
          [
           "DIVERS PATISSERIE",
           60,
           10,
           "09:45"
          ],
          [
           "DIVERS PATISSERIE",
           62,
           12,
           "10:00"
          ],
          [
           "DIVERS PATISSERIE",
           69,
           19,
           "10:15"
          ],
          [
           "DIVERS PATISSERIE",
           68,
           18,
           "10:30"
          ],
          [
           "DIVERS PATISSERIE",
           80,
           30,
           "10:45"
          ],
          [
           "DIVERS PATISSERIE",
           72,
           22,
           "11:00"
          ],
          [
           "DIVERS PATISSERIE",
           76,
           26,
           "11:15"
          ],
          [
           "DIVERS PATISSERIE",
           79,
           29,
           "11:30"
          ],
          [
           "DIVERS PATISSERIE",
           86,
           36,
           "11:45"
          ],
          [
           "DIVERS PATISSERIE",
           79,
           29,
           "12:00"
          ],
          [
           "DIVERS PATISSERIE",
           90,
           40,
           "12:15"
          ],
          [
           "DIVERS PATISSERIE",
           92,
           42,
           "12:30"
          ],
          [
           "DIVERS PATISSERIE",
           67,
           17,
           "12:45"
          ],
          [
           "DIVERS PATISSERIE",
           63,
           13,
           "13:00"
          ],
          [
           "DIVERS PATISSERIE",
           60,
           10,
           "13:15"
          ],
          [
           "DIVERS PATISSERIE",
           52,
           2,
           "13:30"
          ],
          [
           "DIVERS PATISSERIE",
           54,
           4,
           "13:45"
          ],
          [
           "DIVERS PATISSERIE",
           51,
           1,
           "14:00"
          ],
          [
           "DIVERS PATISSERIE",
           61,
           11,
           "16:00"
          ],
          [
           "DIVERS PATISSERIE",
           61,
           11,
           "16:15"
          ],
          [
           "DIVERS PATISSERIE",
           66,
           16,
           "16:30"
          ],
          [
           "DIVERS PATISSERIE",
           60,
           10,
           "16:45"
          ],
          [
           "DIVERS PATISSERIE",
           62,
           12,
           "17:00"
          ],
          [
           "DIVERS PATISSERIE",
           55,
           5,
           "17:15"
          ],
          [
           "DIVERS PATISSERIE",
           56,
           6,
           "17:30"
          ],
          [
           "DIVERS PATISSERIE",
           60,
           10,
           "17:45"
          ],
          [
           "DIVERS PATISSERIE",
           62,
           12,
           "18:00"
          ],
          [
           "DIVERS PATISSERIE",
           57,
           7,
           "18:15"
          ],
          [
           "DIVERS PATISSERIE",
           60,
           10,
           "18:30"
          ],
          [
           "DIVERS PATISSERIE",
           60,
           10,
           "18:45"
          ],
          [
           "DIVERS PATISSERIE",
           52,
           2,
           "19:00"
          ],
          [
           "DIVERS PATISSERIE",
           53,
           3,
           "19:15"
          ],
          [
           "DIVERS PATISSERIE",
           51,
           1,
           "19:30"
          ],
          [
           "DIVERS PATISSERIE",
           53,
           3,
           "19:45"
          ]
         ],
         "hovertemplate": "article=%{customdata[0]}<br>Time=%{customdata[3]}<br>Quantity=%{customdata[2]}<extra></extra>",
         "legendgroup": "DIVERS PATISSERIE",
         "marker": {
          "color": "#fdca26"
         },
         "name": "DIVERS PATISSERIE",
         "r": [
          51,
          51,
          52,
          54,
          58,
          54,
          55,
          64,
          58,
          60,
          62,
          69,
          68,
          80,
          72,
          76,
          79,
          86,
          79,
          90,
          92,
          67,
          63,
          60,
          52,
          54,
          51,
          61,
          61,
          66,
          60,
          62,
          55,
          56,
          60,
          62,
          57,
          60,
          60,
          52,
          53,
          51,
          53
         ],
         "showlegend": true,
         "subplot": "polar",
         "theta": [
          "07:30",
          "07:45",
          "08:00",
          "08:15",
          "08:30",
          "08:45",
          "09:00",
          "09:15",
          "09:30",
          "09:45",
          "10:00",
          "10:15",
          "10:30",
          "10:45",
          "11:00",
          "11:15",
          "11:30",
          "11:45",
          "12:00",
          "12:15",
          "12:30",
          "12:45",
          "13:00",
          "13:15",
          "13:30",
          "13:45",
          "14:00",
          "16:00",
          "16:15",
          "16:30",
          "16:45",
          "17:00",
          "17:15",
          "17:30",
          "17:45",
          "18:00",
          "18:15",
          "18:30",
          "18:45",
          "19:00",
          "19:15",
          "19:30",
          "19:45"
         ],
         "type": "barpolar"
        },
        {
         "customdata": [
          [
           "FINANCIER X5",
           54,
           4,
           "07:30"
          ],
          [
           "FINANCIER X5",
           66,
           16,
           "07:45"
          ],
          [
           "FINANCIER X5",
           69,
           19,
           "08:00"
          ],
          [
           "FINANCIER X5",
           65,
           15,
           "08:15"
          ],
          [
           "FINANCIER X5",
           66,
           16,
           "08:30"
          ],
          [
           "FINANCIER X5",
           79,
           29,
           "08:45"
          ],
          [
           "FINANCIER X5",
           77,
           27,
           "09:00"
          ],
          [
           "FINANCIER X5",
           74,
           24,
           "09:15"
          ],
          [
           "FINANCIER X5",
           80,
           30,
           "09:30"
          ],
          [
           "FINANCIER X5",
           95,
           45,
           "09:45"
          ],
          [
           "FINANCIER X5",
           100,
           50,
           "10:00"
          ],
          [
           "FINANCIER X5",
           100,
           50,
           "10:15"
          ],
          [
           "FINANCIER X5",
           103,
           53,
           "10:30"
          ],
          [
           "FINANCIER X5",
           104,
           54,
           "10:45"
          ],
          [
           "FINANCIER X5",
           109,
           59,
           "11:00"
          ],
          [
           "FINANCIER X5",
           121,
           71,
           "11:15"
          ],
          [
           "FINANCIER X5",
           113,
           63,
           "11:30"
          ],
          [
           "FINANCIER X5",
           137,
           87,
           "11:45"
          ],
          [
           "FINANCIER X5",
           122,
           72,
           "12:00"
          ],
          [
           "FINANCIER X5",
           126,
           76,
           "12:15"
          ],
          [
           "FINANCIER X5",
           110,
           60,
           "12:30"
          ],
          [
           "FINANCIER X5",
           102,
           52,
           "12:45"
          ],
          [
           "FINANCIER X5",
           68,
           18,
           "13:00"
          ],
          [
           "FINANCIER X5",
           58,
           8,
           "13:15"
          ],
          [
           "FINANCIER X5",
           58,
           8,
           "13:30"
          ],
          [
           "FINANCIER X5",
           53,
           3,
           "13:45"
          ],
          [
           "FINANCIER X5",
           52,
           2,
           "14:15"
          ],
          [
           "FINANCIER X5",
           64,
           14,
           "16:00"
          ],
          [
           "FINANCIER X5",
           62,
           12,
           "16:15"
          ],
          [
           "FINANCIER X5",
           72,
           22,
           "16:30"
          ],
          [
           "FINANCIER X5",
           71,
           21,
           "16:45"
          ],
          [
           "FINANCIER X5",
           83,
           33,
           "17:00"
          ],
          [
           "FINANCIER X5",
           71,
           21,
           "17:15"
          ],
          [
           "FINANCIER X5",
           82,
           32,
           "17:30"
          ],
          [
           "FINANCIER X5",
           70,
           20,
           "17:45"
          ],
          [
           "FINANCIER X5",
           66,
           16,
           "18:00"
          ],
          [
           "FINANCIER X5",
           71,
           21,
           "18:15"
          ],
          [
           "FINANCIER X5",
           63,
           13,
           "18:30"
          ],
          [
           "FINANCIER X5",
           64,
           14,
           "18:45"
          ],
          [
           "FINANCIER X5",
           63,
           13,
           "19:00"
          ]
         ],
         "hovertemplate": "article=%{customdata[0]}<br>Time=%{customdata[3]}<br>Quantity=%{customdata[2]}<extra></extra>",
         "legendgroup": "FINANCIER X5",
         "marker": {
          "color": "#fb9f3a"
         },
         "name": "FINANCIER X5",
         "r": [
          54,
          66,
          69,
          65,
          66,
          79,
          77,
          74,
          80,
          95,
          100,
          100,
          103,
          104,
          109,
          121,
          113,
          137,
          122,
          126,
          110,
          102,
          68,
          58,
          58,
          53,
          52,
          64,
          62,
          72,
          71,
          83,
          71,
          82,
          70,
          66,
          71,
          63,
          64,
          63
         ],
         "showlegend": true,
         "subplot": "polar",
         "theta": [
          "07:30",
          "07:45",
          "08:00",
          "08:15",
          "08:30",
          "08:45",
          "09:00",
          "09:15",
          "09:30",
          "09:45",
          "10:00",
          "10:15",
          "10:30",
          "10:45",
          "11:00",
          "11:15",
          "11:30",
          "11:45",
          "12:00",
          "12:15",
          "12:30",
          "12:45",
          "13:00",
          "13:15",
          "13:30",
          "13:45",
          "14:15",
          "16:00",
          "16:15",
          "16:30",
          "16:45",
          "17:00",
          "17:15",
          "17:30",
          "17:45",
          "18:00",
          "18:15",
          "18:30",
          "18:45",
          "19:00"
         ],
         "type": "barpolar"
        },
        {
         "customdata": [
          [
           "FLAN",
           53,
           3,
           "07:30"
          ],
          [
           "FLAN",
           58,
           8,
           "07:45"
          ],
          [
           "FLAN",
           65,
           15,
           "08:00"
          ],
          [
           "FLAN",
           58,
           8,
           "08:15"
          ],
          [
           "FLAN",
           77,
           27,
           "08:30"
          ],
          [
           "FLAN",
           70,
           20,
           "08:45"
          ],
          [
           "FLAN",
           77,
           27,
           "09:00"
          ],
          [
           "FLAN",
           75,
           25,
           "09:15"
          ],
          [
           "FLAN",
           76,
           26,
           "09:30"
          ],
          [
           "FLAN",
           81,
           31,
           "09:45"
          ],
          [
           "FLAN",
           93,
           43,
           "10:00"
          ],
          [
           "FLAN",
           99,
           49,
           "10:15"
          ],
          [
           "FLAN",
           105,
           55,
           "10:30"
          ],
          [
           "FLAN",
           103,
           53,
           "10:45"
          ],
          [
           "FLAN",
           113,
           63,
           "11:00"
          ],
          [
           "FLAN",
           112,
           62,
           "11:15"
          ],
          [
           "FLAN",
           146,
           96,
           "11:30"
          ],
          [
           "FLAN",
           117,
           67,
           "11:45"
          ],
          [
           "FLAN",
           106,
           56,
           "12:00"
          ],
          [
           "FLAN",
           99,
           49,
           "12:15"
          ],
          [
           "FLAN",
           98,
           48,
           "12:30"
          ],
          [
           "FLAN",
           91,
           41,
           "12:45"
          ],
          [
           "FLAN",
           73,
           23,
           "13:00"
          ],
          [
           "FLAN",
           64,
           14,
           "13:15"
          ],
          [
           "FLAN",
           63,
           13,
           "13:30"
          ],
          [
           "FLAN",
           53,
           3,
           "13:45"
          ],
          [
           "FLAN",
           60,
           10,
           "16:00"
          ],
          [
           "FLAN",
           75,
           25,
           "16:15"
          ],
          [
           "FLAN",
           61,
           11,
           "16:30"
          ],
          [
           "FLAN",
           61,
           11,
           "16:45"
          ],
          [
           "FLAN",
           73,
           23,
           "17:00"
          ],
          [
           "FLAN",
           68,
           18,
           "17:15"
          ],
          [
           "FLAN",
           61,
           11,
           "17:30"
          ],
          [
           "FLAN",
           65,
           15,
           "17:45"
          ],
          [
           "FLAN",
           59,
           9,
           "18:00"
          ],
          [
           "FLAN",
           57,
           7,
           "18:15"
          ],
          [
           "FLAN",
           52,
           2,
           "18:30"
          ],
          [
           "FLAN",
           56,
           6,
           "18:45"
          ],
          [
           "FLAN",
           53,
           3,
           "19:00"
          ],
          [
           "FLAN",
           51,
           1,
           "19:30"
          ]
         ],
         "hovertemplate": "article=%{customdata[0]}<br>Time=%{customdata[3]}<br>Quantity=%{customdata[2]}<extra></extra>",
         "legendgroup": "FLAN",
         "marker": {
          "color": "#ed7953"
         },
         "name": "FLAN",
         "r": [
          53,
          58,
          65,
          58,
          77,
          70,
          77,
          75,
          76,
          81,
          93,
          99,
          105,
          103,
          113,
          112,
          146,
          117,
          106,
          99,
          98,
          91,
          73,
          64,
          63,
          53,
          60,
          75,
          61,
          61,
          73,
          68,
          61,
          65,
          59,
          57,
          52,
          56,
          53,
          51
         ],
         "showlegend": true,
         "subplot": "polar",
         "theta": [
          "07:30",
          "07:45",
          "08:00",
          "08:15",
          "08:30",
          "08:45",
          "09:00",
          "09:15",
          "09:30",
          "09:45",
          "10:00",
          "10:15",
          "10:30",
          "10:45",
          "11:00",
          "11:15",
          "11:30",
          "11:45",
          "12:00",
          "12:15",
          "12:30",
          "12:45",
          "13:00",
          "13:15",
          "13:30",
          "13:45",
          "16:00",
          "16:15",
          "16:30",
          "16:45",
          "17:00",
          "17:15",
          "17:30",
          "17:45",
          "18:00",
          "18:15",
          "18:30",
          "18:45",
          "19:00",
          "19:30"
         ],
         "type": "barpolar"
        },
        {
         "customdata": [
          [
           "FONDANT CHOCOLAT",
           52,
           2,
           "07:30"
          ],
          [
           "FONDANT CHOCOLAT",
           56,
           6,
           "07:45"
          ],
          [
           "FONDANT CHOCOLAT",
           52,
           2,
           "08:00"
          ],
          [
           "FONDANT CHOCOLAT",
           59,
           9,
           "08:15"
          ],
          [
           "FONDANT CHOCOLAT",
           54,
           4,
           "08:30"
          ],
          [
           "FONDANT CHOCOLAT",
           53,
           3,
           "08:45"
          ],
          [
           "FONDANT CHOCOLAT",
           53,
           3,
           "09:00"
          ],
          [
           "FONDANT CHOCOLAT",
           54,
           4,
           "09:15"
          ],
          [
           "FONDANT CHOCOLAT",
           53,
           3,
           "09:30"
          ],
          [
           "FONDANT CHOCOLAT",
           54,
           4,
           "10:00"
          ],
          [
           "FONDANT CHOCOLAT",
           61,
           11,
           "10:15"
          ],
          [
           "FONDANT CHOCOLAT",
           60,
           10,
           "10:30"
          ],
          [
           "FONDANT CHOCOLAT",
           63,
           13,
           "10:45"
          ],
          [
           "FONDANT CHOCOLAT",
           60,
           10,
           "11:00"
          ],
          [
           "FONDANT CHOCOLAT",
           61,
           11,
           "11:15"
          ],
          [
           "FONDANT CHOCOLAT",
           66,
           16,
           "11:30"
          ],
          [
           "FONDANT CHOCOLAT",
           78,
           28,
           "11:45"
          ],
          [
           "FONDANT CHOCOLAT",
           65,
           15,
           "12:00"
          ],
          [
           "FONDANT CHOCOLAT",
           62,
           12,
           "12:15"
          ],
          [
           "FONDANT CHOCOLAT",
           64,
           14,
           "12:30"
          ],
          [
           "FONDANT CHOCOLAT",
           72,
           22,
           "12:45"
          ],
          [
           "FONDANT CHOCOLAT",
           65,
           15,
           "13:00"
          ],
          [
           "FONDANT CHOCOLAT",
           57,
           7,
           "13:15"
          ],
          [
           "FONDANT CHOCOLAT",
           55,
           5,
           "13:30"
          ],
          [
           "FONDANT CHOCOLAT",
           57,
           7,
           "13:45"
          ],
          [
           "FONDANT CHOCOLAT",
           54,
           4,
           "14:00"
          ],
          [
           "FONDANT CHOCOLAT",
           53,
           3,
           "16:00"
          ],
          [
           "FONDANT CHOCOLAT",
           55,
           5,
           "16:15"
          ],
          [
           "FONDANT CHOCOLAT",
           52,
           2,
           "16:30"
          ],
          [
           "FONDANT CHOCOLAT",
           63,
           13,
           "16:45"
          ],
          [
           "FONDANT CHOCOLAT",
           56,
           6,
           "17:00"
          ],
          [
           "FONDANT CHOCOLAT",
           55,
           5,
           "17:15"
          ],
          [
           "FONDANT CHOCOLAT",
           59,
           9,
           "17:30"
          ],
          [
           "FONDANT CHOCOLAT",
           56,
           6,
           "17:45"
          ],
          [
           "FONDANT CHOCOLAT",
           54,
           4,
           "18:00"
          ],
          [
           "FONDANT CHOCOLAT",
           59,
           9,
           "18:15"
          ],
          [
           "FONDANT CHOCOLAT",
           58,
           8,
           "18:30"
          ],
          [
           "FONDANT CHOCOLAT",
           54,
           4,
           "18:45"
          ],
          [
           "FONDANT CHOCOLAT",
           54,
           4,
           "19:00"
          ]
         ],
         "hovertemplate": "article=%{customdata[0]}<br>Time=%{customdata[3]}<br>Quantity=%{customdata[2]}<extra></extra>",
         "legendgroup": "FONDANT CHOCOLAT",
         "marker": {
          "color": "#d8576b"
         },
         "name": "FONDANT CHOCOLAT",
         "r": [
          52,
          56,
          52,
          59,
          54,
          53,
          53,
          54,
          53,
          54,
          61,
          60,
          63,
          60,
          61,
          66,
          78,
          65,
          62,
          64,
          72,
          65,
          57,
          55,
          57,
          54,
          53,
          55,
          52,
          63,
          56,
          55,
          59,
          56,
          54,
          59,
          58,
          54,
          54
         ],
         "showlegend": true,
         "subplot": "polar",
         "theta": [
          "07:30",
          "07:45",
          "08:00",
          "08:15",
          "08:30",
          "08:45",
          "09:00",
          "09:15",
          "09:30",
          "10:00",
          "10:15",
          "10:30",
          "10:45",
          "11:00",
          "11:15",
          "11:30",
          "11:45",
          "12:00",
          "12:15",
          "12:30",
          "12:45",
          "13:00",
          "13:15",
          "13:30",
          "13:45",
          "14:00",
          "16:00",
          "16:15",
          "16:30",
          "16:45",
          "17:00",
          "17:15",
          "17:30",
          "17:45",
          "18:00",
          "18:15",
          "18:30",
          "18:45",
          "19:00"
         ],
         "type": "barpolar"
        },
        {
         "customdata": [
          [
           "GAL FRANGIPANE 6P",
           51,
           1,
           "07:30"
          ],
          [
           "GAL FRANGIPANE 6P",
           51,
           1,
           "08:30"
          ],
          [
           "GAL FRANGIPANE 6P",
           52,
           2,
           "08:45"
          ],
          [
           "GAL FRANGIPANE 6P",
           56,
           6,
           "09:00"
          ],
          [
           "GAL FRANGIPANE 6P",
           51,
           1,
           "09:15"
          ],
          [
           "GAL FRANGIPANE 6P",
           51,
           1,
           "09:30"
          ],
          [
           "GAL FRANGIPANE 6P",
           52,
           2,
           "09:45"
          ],
          [
           "GAL FRANGIPANE 6P",
           52,
           2,
           "10:00"
          ],
          [
           "GAL FRANGIPANE 6P",
           54,
           4,
           "10:15"
          ],
          [
           "GAL FRANGIPANE 6P",
           54,
           4,
           "10:30"
          ],
          [
           "GAL FRANGIPANE 6P",
           57,
           7,
           "10:45"
          ],
          [
           "GAL FRANGIPANE 6P",
           58,
           8,
           "11:00"
          ],
          [
           "GAL FRANGIPANE 6P",
           57,
           7,
           "11:15"
          ],
          [
           "GAL FRANGIPANE 6P",
           56,
           6,
           "11:30"
          ],
          [
           "GAL FRANGIPANE 6P",
           62,
           12,
           "11:45"
          ],
          [
           "GAL FRANGIPANE 6P",
           60,
           10,
           "12:00"
          ],
          [
           "GAL FRANGIPANE 6P",
           64,
           14,
           "12:15"
          ],
          [
           "GAL FRANGIPANE 6P",
           56,
           6,
           "12:30"
          ],
          [
           "GAL FRANGIPANE 6P",
           55,
           5,
           "12:45"
          ],
          [
           "GAL FRANGIPANE 6P",
           53,
           3,
           "13:00"
          ],
          [
           "GAL FRANGIPANE 6P",
           53,
           3,
           "13:15"
          ],
          [
           "GAL FRANGIPANE 6P",
           51,
           1,
           "13:30"
          ],
          [
           "GAL FRANGIPANE 6P",
           51,
           1,
           "13:45"
          ],
          [
           "GAL FRANGIPANE 6P",
           51,
           1,
           "14:00"
          ],
          [
           "GAL FRANGIPANE 6P",
           51,
           1,
           "16:00"
          ],
          [
           "GAL FRANGIPANE 6P",
           51,
           1,
           "16:15"
          ],
          [
           "GAL FRANGIPANE 6P",
           51,
           1,
           "16:30"
          ],
          [
           "GAL FRANGIPANE 6P",
           52,
           2,
           "16:45"
          ],
          [
           "GAL FRANGIPANE 6P",
           52,
           2,
           "17:00"
          ],
          [
           "GAL FRANGIPANE 6P",
           53,
           3,
           "17:15"
          ],
          [
           "GAL FRANGIPANE 6P",
           52,
           2,
           "17:30"
          ],
          [
           "GAL FRANGIPANE 6P",
           52,
           2,
           "17:45"
          ],
          [
           "GAL FRANGIPANE 6P",
           51,
           1,
           "18:00"
          ],
          [
           "GAL FRANGIPANE 6P",
           52,
           2,
           "18:15"
          ],
          [
           "GAL FRANGIPANE 6P",
           52,
           2,
           "18:30"
          ],
          [
           "GAL FRANGIPANE 6P",
           51,
           1,
           "20:00"
          ]
         ],
         "hovertemplate": "article=%{customdata[0]}<br>Time=%{customdata[3]}<br>Quantity=%{customdata[2]}<extra></extra>",
         "legendgroup": "GAL FRANGIPANE 6P",
         "marker": {
          "color": "#bd3786"
         },
         "name": "GAL FRANGIPANE 6P",
         "r": [
          51,
          51,
          52,
          56,
          51,
          51,
          52,
          52,
          54,
          54,
          57,
          58,
          57,
          56,
          62,
          60,
          64,
          56,
          55,
          53,
          53,
          51,
          51,
          51,
          51,
          51,
          51,
          52,
          52,
          53,
          52,
          52,
          51,
          52,
          52,
          51
         ],
         "showlegend": true,
         "subplot": "polar",
         "theta": [
          "07:30",
          "08:30",
          "08:45",
          "09:00",
          "09:15",
          "09:30",
          "09:45",
          "10:00",
          "10:15",
          "10:30",
          "10:45",
          "11:00",
          "11:15",
          "11:30",
          "11:45",
          "12:00",
          "12:15",
          "12:30",
          "12:45",
          "13:00",
          "13:15",
          "13:30",
          "13:45",
          "14:00",
          "16:00",
          "16:15",
          "16:30",
          "16:45",
          "17:00",
          "17:15",
          "17:30",
          "17:45",
          "18:00",
          "18:15",
          "18:30",
          "20:00"
         ],
         "type": "barpolar"
        },
        {
         "customdata": [
          [
           "GD FAR BRETON",
           51,
           1,
           "07:30"
          ],
          [
           "GD FAR BRETON",
           51,
           1,
           "08:00"
          ],
          [
           "GD FAR BRETON",
           59,
           9,
           "08:30"
          ],
          [
           "GD FAR BRETON",
           57,
           7,
           "09:00"
          ],
          [
           "GD FAR BRETON",
           51,
           1,
           "09:15"
          ],
          [
           "GD FAR BRETON",
           53,
           3,
           "09:30"
          ],
          [
           "GD FAR BRETON",
           58,
           8,
           "09:45"
          ],
          [
           "GD FAR BRETON",
           54,
           4,
           "10:00"
          ],
          [
           "GD FAR BRETON",
           62,
           12,
           "10:15"
          ],
          [
           "GD FAR BRETON",
           57,
           7,
           "10:30"
          ],
          [
           "GD FAR BRETON",
           59,
           9,
           "10:45"
          ],
          [
           "GD FAR BRETON",
           54,
           4,
           "11:00"
          ],
          [
           "GD FAR BRETON",
           57,
           7,
           "11:15"
          ],
          [
           "GD FAR BRETON",
           64,
           14,
           "11:30"
          ],
          [
           "GD FAR BRETON",
           58,
           8,
           "11:45"
          ],
          [
           "GD FAR BRETON",
           60,
           10,
           "12:00"
          ],
          [
           "GD FAR BRETON",
           60,
           10,
           "12:15"
          ],
          [
           "GD FAR BRETON",
           61,
           11,
           "12:30"
          ],
          [
           "GD FAR BRETON",
           54,
           4,
           "12:45"
          ],
          [
           "GD FAR BRETON",
           51,
           1,
           "13:00"
          ],
          [
           "GD FAR BRETON",
           52,
           2,
           "16:00"
          ],
          [
           "GD FAR BRETON",
           55,
           5,
           "16:15"
          ],
          [
           "GD FAR BRETON",
           53,
           3,
           "16:30"
          ],
          [
           "GD FAR BRETON",
           53,
           3,
           "16:45"
          ],
          [
           "GD FAR BRETON",
           52,
           2,
           "17:00"
          ],
          [
           "GD FAR BRETON",
           54,
           4,
           "17:15"
          ],
          [
           "GD FAR BRETON",
           52,
           2,
           "17:30"
          ],
          [
           "GD FAR BRETON",
           54,
           4,
           "17:45"
          ],
          [
           "GD FAR BRETON",
           55,
           5,
           "18:00"
          ],
          [
           "GD FAR BRETON",
           54,
           4,
           "18:15"
          ],
          [
           "GD FAR BRETON",
           51,
           1,
           "18:30"
          ],
          [
           "GD FAR BRETON",
           54,
           4,
           "18:45"
          ],
          [
           "GD FAR BRETON",
           51,
           1,
           "19:00"
          ]
         ],
         "hovertemplate": "article=%{customdata[0]}<br>Time=%{customdata[3]}<br>Quantity=%{customdata[2]}<extra></extra>",
         "legendgroup": "GD FAR BRETON",
         "marker": {
          "color": "#9c179e"
         },
         "name": "GD FAR BRETON",
         "r": [
          51,
          51,
          59,
          57,
          51,
          53,
          58,
          54,
          62,
          57,
          59,
          54,
          57,
          64,
          58,
          60,
          60,
          61,
          54,
          51,
          52,
          55,
          53,
          53,
          52,
          54,
          52,
          54,
          55,
          54,
          51,
          54,
          51
         ],
         "showlegend": true,
         "subplot": "polar",
         "theta": [
          "07:30",
          "08:00",
          "08:30",
          "09:00",
          "09:15",
          "09:30",
          "09:45",
          "10:00",
          "10:15",
          "10:30",
          "10:45",
          "11:00",
          "11:15",
          "11:30",
          "11:45",
          "12:00",
          "12:15",
          "12:30",
          "12:45",
          "13:00",
          "16:00",
          "16:15",
          "16:30",
          "16:45",
          "17:00",
          "17:15",
          "17:30",
          "17:45",
          "18:00",
          "18:15",
          "18:30",
          "18:45",
          "19:00"
         ],
         "type": "barpolar"
        },
        {
         "customdata": [
          [
           "GD KOUIGN AMANN",
           54,
           4,
           "07:30"
          ],
          [
           "GD KOUIGN AMANN",
           56,
           6,
           "07:45"
          ],
          [
           "GD KOUIGN AMANN",
           67,
           17,
           "08:00"
          ],
          [
           "GD KOUIGN AMANN",
           62,
           12,
           "08:15"
          ],
          [
           "GD KOUIGN AMANN",
           68,
           18,
           "08:30"
          ],
          [
           "GD KOUIGN AMANN",
           66,
           16,
           "08:45"
          ],
          [
           "GD KOUIGN AMANN",
           75,
           25,
           "09:00"
          ],
          [
           "GD KOUIGN AMANN",
           74,
           24,
           "09:15"
          ],
          [
           "GD KOUIGN AMANN",
           82,
           32,
           "09:30"
          ],
          [
           "GD KOUIGN AMANN",
           83,
           33,
           "09:45"
          ],
          [
           "GD KOUIGN AMANN",
           97,
           47,
           "10:00"
          ],
          [
           "GD KOUIGN AMANN",
           90,
           40,
           "10:15"
          ],
          [
           "GD KOUIGN AMANN",
           79,
           29,
           "10:30"
          ],
          [
           "GD KOUIGN AMANN",
           100,
           50,
           "10:45"
          ],
          [
           "GD KOUIGN AMANN",
           100,
           50,
           "11:00"
          ],
          [
           "GD KOUIGN AMANN",
           103,
           53,
           "11:15"
          ],
          [
           "GD KOUIGN AMANN",
           126,
           76,
           "11:30"
          ],
          [
           "GD KOUIGN AMANN",
           119,
           69,
           "11:45"
          ],
          [
           "GD KOUIGN AMANN",
           117,
           67,
           "12:00"
          ],
          [
           "GD KOUIGN AMANN",
           102,
           52,
           "12:15"
          ],
          [
           "GD KOUIGN AMANN",
           110,
           60,
           "12:30"
          ],
          [
           "GD KOUIGN AMANN",
           88,
           38,
           "12:45"
          ],
          [
           "GD KOUIGN AMANN",
           70,
           20,
           "13:00"
          ],
          [
           "GD KOUIGN AMANN",
           55,
           5,
           "13:15"
          ],
          [
           "GD KOUIGN AMANN",
           55,
           5,
           "13:30"
          ],
          [
           "GD KOUIGN AMANN",
           51,
           1,
           "13:45"
          ],
          [
           "GD KOUIGN AMANN",
           51,
           1,
           "16:00"
          ],
          [
           "GD KOUIGN AMANN",
           63,
           13,
           "16:15"
          ],
          [
           "GD KOUIGN AMANN",
           64,
           14,
           "16:30"
          ],
          [
           "GD KOUIGN AMANN",
           57,
           7,
           "16:45"
          ],
          [
           "GD KOUIGN AMANN",
           61,
           11,
           "17:00"
          ],
          [
           "GD KOUIGN AMANN",
           57,
           7,
           "17:15"
          ],
          [
           "GD KOUIGN AMANN",
           72,
           22,
           "17:30"
          ],
          [
           "GD KOUIGN AMANN",
           60,
           10,
           "17:45"
          ],
          [
           "GD KOUIGN AMANN",
           72,
           22,
           "18:00"
          ],
          [
           "GD KOUIGN AMANN",
           62,
           12,
           "18:15"
          ],
          [
           "GD KOUIGN AMANN",
           59,
           9,
           "18:30"
          ],
          [
           "GD KOUIGN AMANN",
           64,
           14,
           "18:45"
          ],
          [
           "GD KOUIGN AMANN",
           62,
           12,
           "19:00"
          ],
          [
           "GD KOUIGN AMANN",
           54,
           4,
           "19:15"
          ],
          [
           "GD KOUIGN AMANN",
           52,
           2,
           "19:45"
          ]
         ],
         "hovertemplate": "article=%{customdata[0]}<br>Time=%{customdata[3]}<br>Quantity=%{customdata[2]}<extra></extra>",
         "legendgroup": "GD KOUIGN AMANN",
         "marker": {
          "color": "#7201a8"
         },
         "name": "GD KOUIGN AMANN",
         "r": [
          54,
          56,
          67,
          62,
          68,
          66,
          75,
          74,
          82,
          83,
          97,
          90,
          79,
          100,
          100,
          103,
          126,
          119,
          117,
          102,
          110,
          88,
          70,
          55,
          55,
          51,
          51,
          63,
          64,
          57,
          61,
          57,
          72,
          60,
          72,
          62,
          59,
          64,
          62,
          54,
          52
         ],
         "showlegend": true,
         "subplot": "polar",
         "theta": [
          "07:30",
          "07:45",
          "08:00",
          "08:15",
          "08:30",
          "08:45",
          "09:00",
          "09:15",
          "09:30",
          "09:45",
          "10:00",
          "10:15",
          "10:30",
          "10:45",
          "11:00",
          "11:15",
          "11:30",
          "11:45",
          "12:00",
          "12:15",
          "12:30",
          "12:45",
          "13:00",
          "13:15",
          "13:30",
          "13:45",
          "16:00",
          "16:15",
          "16:30",
          "16:45",
          "17:00",
          "17:15",
          "17:30",
          "17:45",
          "18:00",
          "18:15",
          "18:30",
          "18:45",
          "19:00",
          "19:15",
          "19:45"
         ],
         "type": "barpolar"
        },
        {
         "customdata": [
          [
           "GRAND FAR BRETON",
           52,
           2,
           "07:30"
          ],
          [
           "GRAND FAR BRETON",
           58,
           8,
           "07:45"
          ],
          [
           "GRAND FAR BRETON",
           64,
           14,
           "08:00"
          ],
          [
           "GRAND FAR BRETON",
           71,
           21,
           "08:15"
          ],
          [
           "GRAND FAR BRETON",
           73,
           23,
           "08:30"
          ],
          [
           "GRAND FAR BRETON",
           78,
           28,
           "08:45"
          ],
          [
           "GRAND FAR BRETON",
           79,
           29,
           "09:00"
          ],
          [
           "GRAND FAR BRETON",
           80,
           30,
           "09:15"
          ],
          [
           "GRAND FAR BRETON",
           92,
           42,
           "09:30"
          ],
          [
           "GRAND FAR BRETON",
           92,
           42,
           "09:45"
          ],
          [
           "GRAND FAR BRETON",
           116,
           66,
           "10:00"
          ],
          [
           "GRAND FAR BRETON",
           103,
           53,
           "10:15"
          ],
          [
           "GRAND FAR BRETON",
           130,
           80,
           "10:30"
          ],
          [
           "GRAND FAR BRETON",
           127,
           77,
           "10:45"
          ],
          [
           "GRAND FAR BRETON",
           138,
           88,
           "11:00"
          ],
          [
           "GRAND FAR BRETON",
           153,
           103,
           "11:15"
          ],
          [
           "GRAND FAR BRETON",
           137,
           87,
           "11:30"
          ],
          [
           "GRAND FAR BRETON",
           130,
           80,
           "11:45"
          ],
          [
           "GRAND FAR BRETON",
           144,
           94,
           "12:00"
          ],
          [
           "GRAND FAR BRETON",
           144,
           94,
           "12:15"
          ],
          [
           "GRAND FAR BRETON",
           134,
           84,
           "12:30"
          ],
          [
           "GRAND FAR BRETON",
           105,
           55,
           "12:45"
          ],
          [
           "GRAND FAR BRETON",
           84,
           34,
           "13:00"
          ],
          [
           "GRAND FAR BRETON",
           67,
           17,
           "13:15"
          ],
          [
           "GRAND FAR BRETON",
           59,
           9,
           "13:30"
          ],
          [
           "GRAND FAR BRETON",
           53,
           3,
           "13:45"
          ],
          [
           "GRAND FAR BRETON",
           52,
           2,
           "14:00"
          ],
          [
           "GRAND FAR BRETON",
           51,
           1,
           "14:15"
          ],
          [
           "GRAND FAR BRETON",
           56,
           6,
           "16:00"
          ],
          [
           "GRAND FAR BRETON",
           66,
           16,
           "16:15"
          ],
          [
           "GRAND FAR BRETON",
           59,
           9,
           "16:30"
          ],
          [
           "GRAND FAR BRETON",
           67,
           17,
           "16:45"
          ],
          [
           "GRAND FAR BRETON",
           64,
           14,
           "17:00"
          ],
          [
           "GRAND FAR BRETON",
           64,
           14,
           "17:15"
          ],
          [
           "GRAND FAR BRETON",
           68,
           18,
           "17:30"
          ],
          [
           "GRAND FAR BRETON",
           73,
           23,
           "17:45"
          ],
          [
           "GRAND FAR BRETON",
           68,
           18,
           "18:00"
          ],
          [
           "GRAND FAR BRETON",
           70,
           20,
           "18:15"
          ],
          [
           "GRAND FAR BRETON",
           75,
           25,
           "18:30"
          ],
          [
           "GRAND FAR BRETON",
           64,
           14,
           "18:45"
          ],
          [
           "GRAND FAR BRETON",
           70,
           20,
           "19:00"
          ],
          [
           "GRAND FAR BRETON",
           56,
           6,
           "19:15"
          ]
         ],
         "hovertemplate": "article=%{customdata[0]}<br>Time=%{customdata[3]}<br>Quantity=%{customdata[2]}<extra></extra>",
         "legendgroup": "GRAND FAR BRETON",
         "marker": {
          "color": "#46039f"
         },
         "name": "GRAND FAR BRETON",
         "r": [
          52,
          58,
          64,
          71,
          73,
          78,
          79,
          80,
          92,
          92,
          116,
          103,
          130,
          127,
          138,
          153,
          137,
          130,
          144,
          144,
          134,
          105,
          84,
          67,
          59,
          53,
          52,
          51,
          56,
          66,
          59,
          67,
          64,
          64,
          68,
          73,
          68,
          70,
          75,
          64,
          70,
          56
         ],
         "showlegend": true,
         "subplot": "polar",
         "theta": [
          "07:30",
          "07:45",
          "08:00",
          "08:15",
          "08:30",
          "08:45",
          "09:00",
          "09:15",
          "09:30",
          "09:45",
          "10:00",
          "10:15",
          "10:30",
          "10:45",
          "11:00",
          "11:15",
          "11:30",
          "11:45",
          "12:00",
          "12:15",
          "12:30",
          "12:45",
          "13:00",
          "13:15",
          "13:30",
          "13:45",
          "14:00",
          "14:15",
          "16:00",
          "16:15",
          "16:30",
          "16:45",
          "17:00",
          "17:15",
          "17:30",
          "17:45",
          "18:00",
          "18:15",
          "18:30",
          "18:45",
          "19:00",
          "19:15"
         ],
         "type": "barpolar"
        },
        {
         "customdata": [
          [
           "GRANDE SUCETTE",
           55,
           5,
           "07:30"
          ],
          [
           "GRANDE SUCETTE",
           51,
           1,
           "07:45"
          ],
          [
           "GRANDE SUCETTE",
           52,
           2,
           "08:15"
          ],
          [
           "GRANDE SUCETTE",
           52,
           2,
           "08:30"
          ],
          [
           "GRANDE SUCETTE",
           54,
           4,
           "08:45"
          ],
          [
           "GRANDE SUCETTE",
           53,
           3,
           "09:15"
          ],
          [
           "GRANDE SUCETTE",
           53,
           3,
           "09:30"
          ],
          [
           "GRANDE SUCETTE",
           62,
           12,
           "09:45"
          ],
          [
           "GRANDE SUCETTE",
           53,
           3,
           "10:00"
          ],
          [
           "GRANDE SUCETTE",
           64,
           14,
           "10:15"
          ],
          [
           "GRANDE SUCETTE",
           60,
           10,
           "10:30"
          ],
          [
           "GRANDE SUCETTE",
           56,
           6,
           "10:45"
          ],
          [
           "GRANDE SUCETTE",
           67,
           17,
           "11:00"
          ],
          [
           "GRANDE SUCETTE",
           64,
           14,
           "11:15"
          ],
          [
           "GRANDE SUCETTE",
           54,
           4,
           "11:30"
          ],
          [
           "GRANDE SUCETTE",
           66,
           16,
           "11:45"
          ],
          [
           "GRANDE SUCETTE",
           67,
           17,
           "12:00"
          ],
          [
           "GRANDE SUCETTE",
           65,
           15,
           "12:15"
          ],
          [
           "GRANDE SUCETTE",
           83,
           33,
           "12:30"
          ],
          [
           "GRANDE SUCETTE",
           57,
           7,
           "12:45"
          ],
          [
           "GRANDE SUCETTE",
           62,
           12,
           "13:00"
          ],
          [
           "GRANDE SUCETTE",
           51,
           1,
           "13:15"
          ],
          [
           "GRANDE SUCETTE",
           51,
           1,
           "13:45"
          ],
          [
           "GRANDE SUCETTE",
           56,
           6,
           "16:00"
          ],
          [
           "GRANDE SUCETTE",
           54,
           4,
           "16:15"
          ],
          [
           "GRANDE SUCETTE",
           56,
           6,
           "16:30"
          ],
          [
           "GRANDE SUCETTE",
           60,
           10,
           "16:45"
          ],
          [
           "GRANDE SUCETTE",
           63,
           13,
           "17:00"
          ],
          [
           "GRANDE SUCETTE",
           75,
           25,
           "17:15"
          ],
          [
           "GRANDE SUCETTE",
           61,
           11,
           "17:30"
          ],
          [
           "GRANDE SUCETTE",
           77,
           27,
           "17:45"
          ],
          [
           "GRANDE SUCETTE",
           62,
           12,
           "18:00"
          ],
          [
           "GRANDE SUCETTE",
           62,
           12,
           "18:15"
          ],
          [
           "GRANDE SUCETTE",
           58,
           8,
           "18:30"
          ],
          [
           "GRANDE SUCETTE",
           58,
           8,
           "18:45"
          ]
         ],
         "hovertemplate": "article=%{customdata[0]}<br>Time=%{customdata[3]}<br>Quantity=%{customdata[2]}<extra></extra>",
         "legendgroup": "GRANDE SUCETTE",
         "marker": {
          "color": "#0d0887"
         },
         "name": "GRANDE SUCETTE",
         "r": [
          55,
          51,
          52,
          52,
          54,
          53,
          53,
          62,
          53,
          64,
          60,
          56,
          67,
          64,
          54,
          66,
          67,
          65,
          83,
          57,
          62,
          51,
          51,
          56,
          54,
          56,
          60,
          63,
          75,
          61,
          77,
          62,
          62,
          58,
          58
         ],
         "showlegend": true,
         "subplot": "polar",
         "theta": [
          "07:30",
          "07:45",
          "08:15",
          "08:30",
          "08:45",
          "09:15",
          "09:30",
          "09:45",
          "10:00",
          "10:15",
          "10:30",
          "10:45",
          "11:00",
          "11:15",
          "11:30",
          "11:45",
          "12:00",
          "12:15",
          "12:30",
          "12:45",
          "13:00",
          "13:15",
          "13:45",
          "16:00",
          "16:15",
          "16:30",
          "16:45",
          "17:00",
          "17:15",
          "17:30",
          "17:45",
          "18:00",
          "18:15",
          "18:30",
          "18:45"
         ],
         "type": "barpolar"
        },
        {
         "customdata": [
          [
           "MILLES FEUILLES",
           57,
           7,
           "07:30"
          ],
          [
           "MILLES FEUILLES",
           56,
           6,
           "07:45"
          ],
          [
           "MILLES FEUILLES",
           59,
           9,
           "08:00"
          ],
          [
           "MILLES FEUILLES",
           58,
           8,
           "08:15"
          ],
          [
           "MILLES FEUILLES",
           67,
           17,
           "08:30"
          ],
          [
           "MILLES FEUILLES",
           62,
           12,
           "08:45"
          ],
          [
           "MILLES FEUILLES",
           68,
           18,
           "09:00"
          ],
          [
           "MILLES FEUILLES",
           81,
           31,
           "09:15"
          ],
          [
           "MILLES FEUILLES",
           73,
           23,
           "09:30"
          ],
          [
           "MILLES FEUILLES",
           75,
           25,
           "09:45"
          ],
          [
           "MILLES FEUILLES",
           103,
           53,
           "10:00"
          ],
          [
           "MILLES FEUILLES",
           94,
           44,
           "10:15"
          ],
          [
           "MILLES FEUILLES",
           129,
           79,
           "10:30"
          ],
          [
           "MILLES FEUILLES",
           118,
           68,
           "10:45"
          ],
          [
           "MILLES FEUILLES",
           100,
           50,
           "11:00"
          ],
          [
           "MILLES FEUILLES",
           110,
           60,
           "11:15"
          ],
          [
           "MILLES FEUILLES",
           121,
           71,
           "11:30"
          ],
          [
           "MILLES FEUILLES",
           125,
           75,
           "11:45"
          ],
          [
           "MILLES FEUILLES",
           103,
           53,
           "12:00"
          ],
          [
           "MILLES FEUILLES",
           110,
           60,
           "12:15"
          ],
          [
           "MILLES FEUILLES",
           95,
           45,
           "12:30"
          ],
          [
           "MILLES FEUILLES",
           93,
           43,
           "12:45"
          ],
          [
           "MILLES FEUILLES",
           77,
           27,
           "13:00"
          ],
          [
           "MILLES FEUILLES",
           67,
           17,
           "13:15"
          ],
          [
           "MILLES FEUILLES",
           59,
           9,
           "13:30"
          ],
          [
           "MILLES FEUILLES",
           55,
           5,
           "13:45"
          ],
          [
           "MILLES FEUILLES",
           54,
           4,
           "16:00"
          ],
          [
           "MILLES FEUILLES",
           61,
           11,
           "16:15"
          ],
          [
           "MILLES FEUILLES",
           63,
           13,
           "16:30"
          ],
          [
           "MILLES FEUILLES",
           57,
           7,
           "16:45"
          ],
          [
           "MILLES FEUILLES",
           59,
           9,
           "17:00"
          ],
          [
           "MILLES FEUILLES",
           64,
           14,
           "17:15"
          ],
          [
           "MILLES FEUILLES",
           61,
           11,
           "17:30"
          ],
          [
           "MILLES FEUILLES",
           59,
           9,
           "17:45"
          ],
          [
           "MILLES FEUILLES",
           59,
           9,
           "18:00"
          ],
          [
           "MILLES FEUILLES",
           65,
           15,
           "18:15"
          ],
          [
           "MILLES FEUILLES",
           63,
           13,
           "18:30"
          ],
          [
           "MILLES FEUILLES",
           63,
           13,
           "18:45"
          ],
          [
           "MILLES FEUILLES",
           53,
           3,
           "19:00"
          ],
          [
           "MILLES FEUILLES",
           52,
           2,
           "19:15"
          ],
          [
           "MILLES FEUILLES",
           51,
           1,
           "19:30"
          ],
          [
           "MILLES FEUILLES",
           52,
           2,
           "19:45"
          ],
          [
           "MILLES FEUILLES",
           51,
           1,
           "20:00"
          ]
         ],
         "hovertemplate": "article=%{customdata[0]}<br>Time=%{customdata[3]}<br>Quantity=%{customdata[2]}<extra></extra>",
         "legendgroup": "MILLES FEUILLES",
         "marker": {
          "color": "#f0f921"
         },
         "name": "MILLES FEUILLES",
         "r": [
          57,
          56,
          59,
          58,
          67,
          62,
          68,
          81,
          73,
          75,
          103,
          94,
          129,
          118,
          100,
          110,
          121,
          125,
          103,
          110,
          95,
          93,
          77,
          67,
          59,
          55,
          54,
          61,
          63,
          57,
          59,
          64,
          61,
          59,
          59,
          65,
          63,
          63,
          53,
          52,
          51,
          52,
          51
         ],
         "showlegend": true,
         "subplot": "polar",
         "theta": [
          "07:30",
          "07:45",
          "08:00",
          "08:15",
          "08:30",
          "08:45",
          "09:00",
          "09:15",
          "09:30",
          "09:45",
          "10:00",
          "10:15",
          "10:30",
          "10:45",
          "11:00",
          "11:15",
          "11:30",
          "11:45",
          "12:00",
          "12:15",
          "12:30",
          "12:45",
          "13:00",
          "13:15",
          "13:30",
          "13:45",
          "16:00",
          "16:15",
          "16:30",
          "16:45",
          "17:00",
          "17:15",
          "17:30",
          "17:45",
          "18:00",
          "18:15",
          "18:30",
          "18:45",
          "19:00",
          "19:15",
          "19:30",
          "19:45",
          "20:00"
         ],
         "type": "barpolar"
        },
        {
         "customdata": [
          [
           "NANTAIS",
           51,
           1,
           "07:30"
          ],
          [
           "NANTAIS",
           52,
           2,
           "07:45"
          ],
          [
           "NANTAIS",
           54,
           4,
           "08:00"
          ],
          [
           "NANTAIS",
           52,
           2,
           "08:15"
          ],
          [
           "NANTAIS",
           51,
           1,
           "08:30"
          ],
          [
           "NANTAIS",
           63,
           13,
           "08:45"
          ],
          [
           "NANTAIS",
           58,
           8,
           "09:00"
          ],
          [
           "NANTAIS",
           59,
           9,
           "09:15"
          ],
          [
           "NANTAIS",
           59,
           9,
           "09:30"
          ],
          [
           "NANTAIS",
           67,
           17,
           "09:45"
          ],
          [
           "NANTAIS",
           66,
           16,
           "10:00"
          ],
          [
           "NANTAIS",
           70,
           20,
           "10:15"
          ],
          [
           "NANTAIS",
           69,
           19,
           "10:30"
          ],
          [
           "NANTAIS",
           77,
           27,
           "10:45"
          ],
          [
           "NANTAIS",
           77,
           27,
           "11:00"
          ],
          [
           "NANTAIS",
           84,
           34,
           "11:15"
          ],
          [
           "NANTAIS",
           82,
           32,
           "11:30"
          ],
          [
           "NANTAIS",
           96,
           46,
           "11:45"
          ],
          [
           "NANTAIS",
           70,
           20,
           "12:00"
          ],
          [
           "NANTAIS",
           96,
           46,
           "12:15"
          ],
          [
           "NANTAIS",
           80,
           30,
           "12:30"
          ],
          [
           "NANTAIS",
           74,
           24,
           "12:45"
          ],
          [
           "NANTAIS",
           75,
           25,
           "13:00"
          ],
          [
           "NANTAIS",
           62,
           12,
           "13:15"
          ],
          [
           "NANTAIS",
           62,
           12,
           "13:30"
          ],
          [
           "NANTAIS",
           59,
           9,
           "13:45"
          ],
          [
           "NANTAIS",
           53,
           3,
           "16:00"
          ],
          [
           "NANTAIS",
           56,
           6,
           "16:15"
          ],
          [
           "NANTAIS",
           56,
           6,
           "16:30"
          ],
          [
           "NANTAIS",
           58,
           8,
           "16:45"
          ],
          [
           "NANTAIS",
           67,
           17,
           "17:00"
          ],
          [
           "NANTAIS",
           66,
           16,
           "17:15"
          ],
          [
           "NANTAIS",
           56,
           6,
           "17:30"
          ],
          [
           "NANTAIS",
           58,
           8,
           "17:45"
          ],
          [
           "NANTAIS",
           68,
           18,
           "18:00"
          ],
          [
           "NANTAIS",
           60,
           10,
           "18:15"
          ],
          [
           "NANTAIS",
           61,
           11,
           "18:30"
          ],
          [
           "NANTAIS",
           62,
           12,
           "18:45"
          ],
          [
           "NANTAIS",
           54,
           4,
           "19:00"
          ],
          [
           "NANTAIS",
           51,
           1,
           "19:30"
          ]
         ],
         "hovertemplate": "article=%{customdata[0]}<br>Time=%{customdata[3]}<br>Quantity=%{customdata[2]}<extra></extra>",
         "legendgroup": "NANTAIS",
         "marker": {
          "color": "#fdca26"
         },
         "name": "NANTAIS",
         "r": [
          51,
          52,
          54,
          52,
          51,
          63,
          58,
          59,
          59,
          67,
          66,
          70,
          69,
          77,
          77,
          84,
          82,
          96,
          70,
          96,
          80,
          74,
          75,
          62,
          62,
          59,
          53,
          56,
          56,
          58,
          67,
          66,
          56,
          58,
          68,
          60,
          61,
          62,
          54,
          51
         ],
         "showlegend": true,
         "subplot": "polar",
         "theta": [
          "07:30",
          "07:45",
          "08:00",
          "08:15",
          "08:30",
          "08:45",
          "09:00",
          "09:15",
          "09:30",
          "09:45",
          "10:00",
          "10:15",
          "10:30",
          "10:45",
          "11:00",
          "11:15",
          "11:30",
          "11:45",
          "12:00",
          "12:15",
          "12:30",
          "12:45",
          "13:00",
          "13:15",
          "13:30",
          "13:45",
          "16:00",
          "16:15",
          "16:30",
          "16:45",
          "17:00",
          "17:15",
          "17:30",
          "17:45",
          "18:00",
          "18:15",
          "18:30",
          "18:45",
          "19:00",
          "19:30"
         ],
         "type": "barpolar"
        },
        {
         "customdata": [
          [
           "PAIN",
           59,
           9,
           "07:30"
          ],
          [
           "PAIN",
           97,
           47,
           "07:45"
          ],
          [
           "PAIN",
           76,
           26,
           "08:00"
          ],
          [
           "PAIN",
           96,
           46,
           "08:15"
          ],
          [
           "PAIN",
           118,
           68,
           "08:30"
          ],
          [
           "PAIN",
           270,
           220,
           "08:45"
          ],
          [
           "PAIN",
           177,
           127,
           "09:00"
          ],
          [
           "PAIN",
           202,
           152,
           "09:15"
          ],
          [
           "PAIN",
           200,
           150,
           "09:30"
          ],
          [
           "PAIN",
           243,
           193,
           "09:45"
          ],
          [
           "PAIN",
           247,
           197,
           "10:00"
          ],
          [
           "PAIN",
           217,
           167,
           "10:15"
          ],
          [
           "PAIN",
           238,
           188,
           "10:30"
          ],
          [
           "PAIN",
           137,
           87,
           "10:45"
          ],
          [
           "PAIN",
           110,
           60,
           "11:00"
          ],
          [
           "PAIN",
           138,
           88,
           "11:15"
          ],
          [
           "PAIN",
           165,
           115,
           "11:30"
          ],
          [
           "PAIN",
           118,
           68,
           "11:45"
          ],
          [
           "PAIN",
           112,
           62,
           "12:00"
          ],
          [
           "PAIN",
           84,
           34,
           "12:15"
          ],
          [
           "PAIN",
           87,
           37,
           "12:30"
          ],
          [
           "PAIN",
           75,
           25,
           "12:45"
          ],
          [
           "PAIN",
           83,
           33,
           "13:00"
          ],
          [
           "PAIN",
           71,
           21,
           "13:15"
          ],
          [
           "PAIN",
           67,
           17,
           "13:30"
          ],
          [
           "PAIN",
           59,
           9,
           "13:45"
          ],
          [
           "PAIN",
           78,
           28,
           "14:00"
          ],
          [
           "PAIN",
           56,
           6,
           "16:00"
          ],
          [
           "PAIN",
           61,
           11,
           "16:15"
          ],
          [
           "PAIN",
           60,
           10,
           "16:30"
          ],
          [
           "PAIN",
           57,
           7,
           "16:45"
          ],
          [
           "PAIN",
           60,
           10,
           "17:00"
          ],
          [
           "PAIN",
           61,
           11,
           "17:15"
          ],
          [
           "PAIN",
           62,
           12,
           "17:30"
          ],
          [
           "PAIN",
           65,
           15,
           "17:45"
          ],
          [
           "PAIN",
           59,
           9,
           "18:00"
          ],
          [
           "PAIN",
           71,
           21,
           "18:15"
          ],
          [
           "PAIN",
           75,
           25,
           "18:30"
          ],
          [
           "PAIN",
           83,
           33,
           "18:45"
          ],
          [
           "PAIN",
           66,
           16,
           "19:00"
          ],
          [
           "PAIN",
           51,
           1,
           "19:30"
          ]
         ],
         "hovertemplate": "article=%{customdata[0]}<br>Time=%{customdata[3]}<br>Quantity=%{customdata[2]}<extra></extra>",
         "legendgroup": "PAIN",
         "marker": {
          "color": "#fb9f3a"
         },
         "name": "PAIN",
         "r": [
          59,
          97,
          76,
          96,
          118,
          270,
          177,
          202,
          200,
          243,
          247,
          217,
          238,
          137,
          110,
          138,
          165,
          118,
          112,
          84,
          87,
          75,
          83,
          71,
          67,
          59,
          78,
          56,
          61,
          60,
          57,
          60,
          61,
          62,
          65,
          59,
          71,
          75,
          83,
          66,
          51
         ],
         "showlegend": true,
         "subplot": "polar",
         "theta": [
          "07:30",
          "07:45",
          "08:00",
          "08:15",
          "08:30",
          "08:45",
          "09:00",
          "09:15",
          "09:30",
          "09:45",
          "10:00",
          "10:15",
          "10:30",
          "10:45",
          "11:00",
          "11:15",
          "11:30",
          "11:45",
          "12:00",
          "12:15",
          "12:30",
          "12:45",
          "13:00",
          "13:15",
          "13:30",
          "13:45",
          "14:00",
          "16:00",
          "16:15",
          "16:30",
          "16:45",
          "17:00",
          "17:15",
          "17:30",
          "17:45",
          "18:00",
          "18:15",
          "18:30",
          "18:45",
          "19:00",
          "19:30"
         ],
         "type": "barpolar"
        },
        {
         "customdata": [
          [
           "PAIN BANETTE",
           72,
           22,
           "07:30"
          ],
          [
           "PAIN BANETTE",
           62,
           12,
           "07:45"
          ],
          [
           "PAIN BANETTE",
           66,
           16,
           "08:00"
          ],
          [
           "PAIN BANETTE",
           85,
           35,
           "08:15"
          ],
          [
           "PAIN BANETTE",
           87,
           37,
           "08:30"
          ],
          [
           "PAIN BANETTE",
           126,
           76,
           "08:45"
          ],
          [
           "PAIN BANETTE",
           138,
           88,
           "09:00"
          ],
          [
           "PAIN BANETTE",
           151,
           101,
           "09:15"
          ],
          [
           "PAIN BANETTE",
           176,
           126,
           "09:30"
          ],
          [
           "PAIN BANETTE",
           215,
           165,
           "09:45"
          ],
          [
           "PAIN BANETTE",
           199,
           149,
           "10:00"
          ],
          [
           "PAIN BANETTE",
           225,
           175,
           "10:15"
          ],
          [
           "PAIN BANETTE",
           187,
           137,
           "10:30"
          ],
          [
           "PAIN BANETTE",
           213,
           163,
           "10:45"
          ],
          [
           "PAIN BANETTE",
           206,
           156,
           "11:00"
          ],
          [
           "PAIN BANETTE",
           234,
           184,
           "11:15"
          ],
          [
           "PAIN BANETTE",
           226,
           176,
           "11:30"
          ],
          [
           "PAIN BANETTE",
           219,
           169,
           "11:45"
          ],
          [
           "PAIN BANETTE",
           196,
           146,
           "12:00"
          ],
          [
           "PAIN BANETTE",
           200,
           150,
           "12:15"
          ],
          [
           "PAIN BANETTE",
           158,
           108,
           "12:30"
          ],
          [
           "PAIN BANETTE",
           143,
           93,
           "12:45"
          ],
          [
           "PAIN BANETTE",
           113,
           63,
           "13:00"
          ],
          [
           "PAIN BANETTE",
           77,
           27,
           "13:15"
          ],
          [
           "PAIN BANETTE",
           69,
           19,
           "13:30"
          ],
          [
           "PAIN BANETTE",
           54,
           4,
           "13:45"
          ],
          [
           "PAIN BANETTE",
           55,
           5,
           "14:00"
          ],
          [
           "PAIN BANETTE",
           76,
           26,
           "16:00"
          ],
          [
           "PAIN BANETTE",
           78,
           28,
           "16:15"
          ],
          [
           "PAIN BANETTE",
           80,
           30,
           "16:30"
          ],
          [
           "PAIN BANETTE",
           74,
           24,
           "16:45"
          ],
          [
           "PAIN BANETTE",
           72,
           22,
           "17:00"
          ],
          [
           "PAIN BANETTE",
           77,
           27,
           "17:15"
          ],
          [
           "PAIN BANETTE",
           85,
           35,
           "17:30"
          ],
          [
           "PAIN BANETTE",
           81,
           31,
           "17:45"
          ],
          [
           "PAIN BANETTE",
           101,
           51,
           "18:00"
          ],
          [
           "PAIN BANETTE",
           89,
           39,
           "18:15"
          ],
          [
           "PAIN BANETTE",
           92,
           42,
           "18:30"
          ],
          [
           "PAIN BANETTE",
           79,
           29,
           "18:45"
          ],
          [
           "PAIN BANETTE",
           70,
           20,
           "19:00"
          ],
          [
           "PAIN BANETTE",
           59,
           9,
           "19:15"
          ],
          [
           "PAIN BANETTE",
           53,
           3,
           "19:30"
          ],
          [
           "PAIN BANETTE",
           53,
           3,
           "19:45"
          ]
         ],
         "hovertemplate": "article=%{customdata[0]}<br>Time=%{customdata[3]}<br>Quantity=%{customdata[2]}<extra></extra>",
         "legendgroup": "PAIN BANETTE",
         "marker": {
          "color": "#ed7953"
         },
         "name": "PAIN BANETTE",
         "r": [
          72,
          62,
          66,
          85,
          87,
          126,
          138,
          151,
          176,
          215,
          199,
          225,
          187,
          213,
          206,
          234,
          226,
          219,
          196,
          200,
          158,
          143,
          113,
          77,
          69,
          54,
          55,
          76,
          78,
          80,
          74,
          72,
          77,
          85,
          81,
          101,
          89,
          92,
          79,
          70,
          59,
          53,
          53
         ],
         "showlegend": true,
         "subplot": "polar",
         "theta": [
          "07:30",
          "07:45",
          "08:00",
          "08:15",
          "08:30",
          "08:45",
          "09:00",
          "09:15",
          "09:30",
          "09:45",
          "10:00",
          "10:15",
          "10:30",
          "10:45",
          "11:00",
          "11:15",
          "11:30",
          "11:45",
          "12:00",
          "12:15",
          "12:30",
          "12:45",
          "13:00",
          "13:15",
          "13:30",
          "13:45",
          "14:00",
          "16:00",
          "16:15",
          "16:30",
          "16:45",
          "17:00",
          "17:15",
          "17:30",
          "17:45",
          "18:00",
          "18:15",
          "18:30",
          "18:45",
          "19:00",
          "19:15",
          "19:30",
          "19:45"
         ],
         "type": "barpolar"
        },
        {
         "customdata": [
          [
           "PALET BRETON",
           52,
           2,
           "07:30"
          ],
          [
           "PALET BRETON",
           53,
           3,
           "07:45"
          ],
          [
           "PALET BRETON",
           52,
           2,
           "08:00"
          ],
          [
           "PALET BRETON",
           58,
           8,
           "08:15"
          ],
          [
           "PALET BRETON",
           57,
           7,
           "08:30"
          ],
          [
           "PALET BRETON",
           51,
           1,
           "08:45"
          ],
          [
           "PALET BRETON",
           62,
           12,
           "09:00"
          ],
          [
           "PALET BRETON",
           55,
           5,
           "09:15"
          ],
          [
           "PALET BRETON",
           53,
           3,
           "09:30"
          ],
          [
           "PALET BRETON",
           54,
           4,
           "09:45"
          ],
          [
           "PALET BRETON",
           54,
           4,
           "10:00"
          ],
          [
           "PALET BRETON",
           57,
           7,
           "10:15"
          ],
          [
           "PALET BRETON",
           54,
           4,
           "10:30"
          ],
          [
           "PALET BRETON",
           58,
           8,
           "10:45"
          ],
          [
           "PALET BRETON",
           55,
           5,
           "11:00"
          ],
          [
           "PALET BRETON",
           59,
           9,
           "11:15"
          ],
          [
           "PALET BRETON",
           69,
           19,
           "11:30"
          ],
          [
           "PALET BRETON",
           79,
           29,
           "11:45"
          ],
          [
           "PALET BRETON",
           78,
           28,
           "12:00"
          ],
          [
           "PALET BRETON",
           81,
           31,
           "12:15"
          ],
          [
           "PALET BRETON",
           59,
           9,
           "12:30"
          ],
          [
           "PALET BRETON",
           55,
           5,
           "12:45"
          ],
          [
           "PALET BRETON",
           53,
           3,
           "13:00"
          ],
          [
           "PALET BRETON",
           51,
           1,
           "16:00"
          ],
          [
           "PALET BRETON",
           56,
           6,
           "16:15"
          ],
          [
           "PALET BRETON",
           56,
           6,
           "16:30"
          ],
          [
           "PALET BRETON",
           54,
           4,
           "16:45"
          ],
          [
           "PALET BRETON",
           51,
           1,
           "17:00"
          ],
          [
           "PALET BRETON",
           55,
           5,
           "17:30"
          ],
          [
           "PALET BRETON",
           56,
           6,
           "17:45"
          ],
          [
           "PALET BRETON",
           54,
           4,
           "18:00"
          ],
          [
           "PALET BRETON",
           59,
           9,
           "18:15"
          ],
          [
           "PALET BRETON",
           56,
           6,
           "18:30"
          ],
          [
           "PALET BRETON",
           56,
           6,
           "18:45"
          ],
          [
           "PALET BRETON",
           53,
           3,
           "19:00"
          ]
         ],
         "hovertemplate": "article=%{customdata[0]}<br>Time=%{customdata[3]}<br>Quantity=%{customdata[2]}<extra></extra>",
         "legendgroup": "PALET BRETON",
         "marker": {
          "color": "#d8576b"
         },
         "name": "PALET BRETON",
         "r": [
          52,
          53,
          52,
          58,
          57,
          51,
          62,
          55,
          53,
          54,
          54,
          57,
          54,
          58,
          55,
          59,
          69,
          79,
          78,
          81,
          59,
          55,
          53,
          51,
          56,
          56,
          54,
          51,
          55,
          56,
          54,
          59,
          56,
          56,
          53
         ],
         "showlegend": true,
         "subplot": "polar",
         "theta": [
          "07:30",
          "07:45",
          "08:00",
          "08:15",
          "08:30",
          "08:45",
          "09:00",
          "09:15",
          "09:30",
          "09:45",
          "10:00",
          "10:15",
          "10:30",
          "10:45",
          "11:00",
          "11:15",
          "11:30",
          "11:45",
          "12:00",
          "12:15",
          "12:30",
          "12:45",
          "13:00",
          "16:00",
          "16:15",
          "16:30",
          "16:45",
          "17:00",
          "17:30",
          "17:45",
          "18:00",
          "18:15",
          "18:30",
          "18:45",
          "19:00"
         ],
         "type": "barpolar"
        },
        {
         "customdata": [
          [
           "PARIS BREST",
           56,
           6,
           "07:30"
          ],
          [
           "PARIS BREST",
           65,
           15,
           "07:45"
          ],
          [
           "PARIS BREST",
           66,
           16,
           "08:00"
          ],
          [
           "PARIS BREST",
           89,
           39,
           "08:15"
          ],
          [
           "PARIS BREST",
           83,
           33,
           "08:30"
          ],
          [
           "PARIS BREST",
           75,
           25,
           "08:45"
          ],
          [
           "PARIS BREST",
           64,
           14,
           "09:00"
          ],
          [
           "PARIS BREST",
           67,
           17,
           "09:15"
          ],
          [
           "PARIS BREST",
           89,
           39,
           "09:30"
          ],
          [
           "PARIS BREST",
           96,
           46,
           "09:45"
          ],
          [
           "PARIS BREST",
           94,
           44,
           "10:00"
          ],
          [
           "PARIS BREST",
           109,
           59,
           "10:15"
          ],
          [
           "PARIS BREST",
           107,
           57,
           "10:30"
          ],
          [
           "PARIS BREST",
           116,
           66,
           "10:45"
          ],
          [
           "PARIS BREST",
           129,
           79,
           "11:00"
          ],
          [
           "PARIS BREST",
           125,
           75,
           "11:15"
          ],
          [
           "PARIS BREST",
           133,
           83,
           "11:30"
          ],
          [
           "PARIS BREST",
           131,
           81,
           "11:45"
          ],
          [
           "PARIS BREST",
           149,
           99,
           "12:00"
          ],
          [
           "PARIS BREST",
           122,
           72,
           "12:15"
          ],
          [
           "PARIS BREST",
           90,
           40,
           "12:30"
          ],
          [
           "PARIS BREST",
           94,
           44,
           "12:45"
          ],
          [
           "PARIS BREST",
           71,
           21,
           "13:00"
          ],
          [
           "PARIS BREST",
           67,
           17,
           "13:15"
          ],
          [
           "PARIS BREST",
           56,
           6,
           "13:30"
          ],
          [
           "PARIS BREST",
           53,
           3,
           "13:45"
          ],
          [
           "PARIS BREST",
           51,
           1,
           "14:00"
          ],
          [
           "PARIS BREST",
           51,
           1,
           "14:15"
          ],
          [
           "PARIS BREST",
           54,
           4,
           "16:00"
          ],
          [
           "PARIS BREST",
           65,
           15,
           "16:15"
          ],
          [
           "PARIS BREST",
           63,
           13,
           "16:30"
          ],
          [
           "PARIS BREST",
           69,
           19,
           "16:45"
          ],
          [
           "PARIS BREST",
           60,
           10,
           "17:00"
          ],
          [
           "PARIS BREST",
           75,
           25,
           "17:15"
          ],
          [
           "PARIS BREST",
           61,
           11,
           "17:30"
          ],
          [
           "PARIS BREST",
           60,
           10,
           "17:45"
          ],
          [
           "PARIS BREST",
           67,
           17,
           "18:00"
          ],
          [
           "PARIS BREST",
           65,
           15,
           "18:15"
          ],
          [
           "PARIS BREST",
           55,
           5,
           "18:30"
          ],
          [
           "PARIS BREST",
           75,
           25,
           "18:45"
          ],
          [
           "PARIS BREST",
           56,
           6,
           "19:00"
          ],
          [
           "PARIS BREST",
           51,
           1,
           "19:15"
          ]
         ],
         "hovertemplate": "article=%{customdata[0]}<br>Time=%{customdata[3]}<br>Quantity=%{customdata[2]}<extra></extra>",
         "legendgroup": "PARIS BREST",
         "marker": {
          "color": "#bd3786"
         },
         "name": "PARIS BREST",
         "r": [
          56,
          65,
          66,
          89,
          83,
          75,
          64,
          67,
          89,
          96,
          94,
          109,
          107,
          116,
          129,
          125,
          133,
          131,
          149,
          122,
          90,
          94,
          71,
          67,
          56,
          53,
          51,
          51,
          54,
          65,
          63,
          69,
          60,
          75,
          61,
          60,
          67,
          65,
          55,
          75,
          56,
          51
         ],
         "showlegend": true,
         "subplot": "polar",
         "theta": [
          "07:30",
          "07:45",
          "08:00",
          "08:15",
          "08:30",
          "08:45",
          "09:00",
          "09:15",
          "09:30",
          "09:45",
          "10:00",
          "10:15",
          "10:30",
          "10:45",
          "11:00",
          "11:15",
          "11:30",
          "11:45",
          "12:00",
          "12:15",
          "12:30",
          "12:45",
          "13:00",
          "13:15",
          "13:30",
          "13:45",
          "14:00",
          "14:15",
          "16:00",
          "16:15",
          "16:30",
          "16:45",
          "17:00",
          "17:15",
          "17:30",
          "17:45",
          "18:00",
          "18:15",
          "18:30",
          "18:45",
          "19:00",
          "19:15"
         ],
         "type": "barpolar"
        },
        {
         "customdata": [
          [
           "PT NANTAIS",
           51,
           1,
           "07:30"
          ],
          [
           "PT NANTAIS",
           53,
           3,
           "07:45"
          ],
          [
           "PT NANTAIS",
           53,
           3,
           "08:00"
          ],
          [
           "PT NANTAIS",
           62,
           12,
           "08:15"
          ],
          [
           "PT NANTAIS",
           54,
           4,
           "08:30"
          ],
          [
           "PT NANTAIS",
           65,
           15,
           "08:45"
          ],
          [
           "PT NANTAIS",
           60,
           10,
           "09:00"
          ],
          [
           "PT NANTAIS",
           71,
           21,
           "09:15"
          ],
          [
           "PT NANTAIS",
           60,
           10,
           "09:30"
          ],
          [
           "PT NANTAIS",
           63,
           13,
           "09:45"
          ],
          [
           "PT NANTAIS",
           86,
           36,
           "10:00"
          ],
          [
           "PT NANTAIS",
           81,
           31,
           "10:15"
          ],
          [
           "PT NANTAIS",
           83,
           33,
           "10:30"
          ],
          [
           "PT NANTAIS",
           71,
           21,
           "10:45"
          ],
          [
           "PT NANTAIS",
           92,
           42,
           "11:00"
          ],
          [
           "PT NANTAIS",
           101,
           51,
           "11:15"
          ],
          [
           "PT NANTAIS",
           96,
           46,
           "11:30"
          ],
          [
           "PT NANTAIS",
           98,
           48,
           "11:45"
          ],
          [
           "PT NANTAIS",
           89,
           39,
           "12:00"
          ],
          [
           "PT NANTAIS",
           96,
           46,
           "12:15"
          ],
          [
           "PT NANTAIS",
           87,
           37,
           "12:30"
          ],
          [
           "PT NANTAIS",
           78,
           28,
           "12:45"
          ],
          [
           "PT NANTAIS",
           72,
           22,
           "13:00"
          ],
          [
           "PT NANTAIS",
           55,
           5,
           "13:15"
          ],
          [
           "PT NANTAIS",
           54,
           4,
           "13:30"
          ],
          [
           "PT NANTAIS",
           53,
           3,
           "13:45"
          ],
          [
           "PT NANTAIS",
           52,
           2,
           "16:00"
          ],
          [
           "PT NANTAIS",
           57,
           7,
           "16:15"
          ],
          [
           "PT NANTAIS",
           71,
           21,
           "16:30"
          ],
          [
           "PT NANTAIS",
           62,
           12,
           "16:45"
          ],
          [
           "PT NANTAIS",
           63,
           13,
           "17:00"
          ],
          [
           "PT NANTAIS",
           67,
           17,
           "17:15"
          ],
          [
           "PT NANTAIS",
           62,
           12,
           "17:30"
          ],
          [
           "PT NANTAIS",
           64,
           14,
           "17:45"
          ],
          [
           "PT NANTAIS",
           68,
           18,
           "18:00"
          ],
          [
           "PT NANTAIS",
           62,
           12,
           "18:15"
          ],
          [
           "PT NANTAIS",
           54,
           4,
           "18:30"
          ],
          [
           "PT NANTAIS",
           67,
           17,
           "18:45"
          ],
          [
           "PT NANTAIS",
           62,
           12,
           "19:00"
          ],
          [
           "PT NANTAIS",
           52,
           2,
           "19:15"
          ],
          [
           "PT NANTAIS",
           54,
           4,
           "19:30"
          ]
         ],
         "hovertemplate": "article=%{customdata[0]}<br>Time=%{customdata[3]}<br>Quantity=%{customdata[2]}<extra></extra>",
         "legendgroup": "PT NANTAIS",
         "marker": {
          "color": "#9c179e"
         },
         "name": "PT NANTAIS",
         "r": [
          51,
          53,
          53,
          62,
          54,
          65,
          60,
          71,
          60,
          63,
          86,
          81,
          83,
          71,
          92,
          101,
          96,
          98,
          89,
          96,
          87,
          78,
          72,
          55,
          54,
          53,
          52,
          57,
          71,
          62,
          63,
          67,
          62,
          64,
          68,
          62,
          54,
          67,
          62,
          52,
          54
         ],
         "showlegend": true,
         "subplot": "polar",
         "theta": [
          "07:30",
          "07:45",
          "08:00",
          "08:15",
          "08:30",
          "08:45",
          "09:00",
          "09:15",
          "09:30",
          "09:45",
          "10:00",
          "10:15",
          "10:30",
          "10:45",
          "11:00",
          "11:15",
          "11:30",
          "11:45",
          "12:00",
          "12:15",
          "12:30",
          "12:45",
          "13:00",
          "13:15",
          "13:30",
          "13:45",
          "16:00",
          "16:15",
          "16:30",
          "16:45",
          "17:00",
          "17:15",
          "17:30",
          "17:45",
          "18:00",
          "18:15",
          "18:30",
          "18:45",
          "19:00",
          "19:15",
          "19:30"
         ],
         "type": "barpolar"
        },
        {
         "customdata": [
          [
           "SPECIAL BREAD KG",
           56,
           6,
           "07:30"
          ],
          [
           "SPECIAL BREAD KG",
           52,
           2,
           "07:45"
          ],
          [
           "SPECIAL BREAD KG",
           57,
           7,
           "08:00"
          ],
          [
           "SPECIAL BREAD KG",
           57,
           7,
           "08:15"
          ],
          [
           "SPECIAL BREAD KG",
           57,
           7,
           "08:30"
          ],
          [
           "SPECIAL BREAD KG",
           62,
           12,
           "08:45"
          ],
          [
           "SPECIAL BREAD KG",
           62,
           12,
           "09:00"
          ],
          [
           "SPECIAL BREAD KG",
           64,
           14,
           "09:15"
          ],
          [
           "SPECIAL BREAD KG",
           64,
           14,
           "09:30"
          ],
          [
           "SPECIAL BREAD KG",
           67,
           17,
           "09:45"
          ],
          [
           "SPECIAL BREAD KG",
           74,
           24,
           "10:00"
          ],
          [
           "SPECIAL BREAD KG",
           69,
           19,
           "10:15"
          ],
          [
           "SPECIAL BREAD KG",
           60,
           10,
           "10:30"
          ],
          [
           "SPECIAL BREAD KG",
           66,
           16,
           "10:45"
          ],
          [
           "SPECIAL BREAD KG",
           69,
           19,
           "11:00"
          ],
          [
           "SPECIAL BREAD KG",
           82,
           32,
           "11:15"
          ],
          [
           "SPECIAL BREAD KG",
           78,
           28,
           "11:30"
          ],
          [
           "SPECIAL BREAD KG",
           78,
           28,
           "11:45"
          ],
          [
           "SPECIAL BREAD KG",
           72,
           22,
           "12:00"
          ],
          [
           "SPECIAL BREAD KG",
           66,
           16,
           "12:15"
          ],
          [
           "SPECIAL BREAD KG",
           76,
           26,
           "12:30"
          ],
          [
           "SPECIAL BREAD KG",
           65,
           15,
           "12:45"
          ],
          [
           "SPECIAL BREAD KG",
           65,
           15,
           "13:00"
          ],
          [
           "SPECIAL BREAD KG",
           58,
           8,
           "13:15"
          ],
          [
           "SPECIAL BREAD KG",
           53,
           3,
           "13:30"
          ],
          [
           "SPECIAL BREAD KG",
           53,
           3,
           "13:45"
          ],
          [
           "SPECIAL BREAD KG",
           52,
           2,
           "14:00"
          ],
          [
           "SPECIAL BREAD KG",
           52,
           2,
           "16:00"
          ],
          [
           "SPECIAL BREAD KG",
           53,
           3,
           "16:15"
          ],
          [
           "SPECIAL BREAD KG",
           57,
           7,
           "16:30"
          ],
          [
           "SPECIAL BREAD KG",
           59,
           9,
           "16:45"
          ],
          [
           "SPECIAL BREAD KG",
           54,
           4,
           "17:00"
          ],
          [
           "SPECIAL BREAD KG",
           59,
           9,
           "17:15"
          ],
          [
           "SPECIAL BREAD KG",
           57,
           7,
           "17:30"
          ],
          [
           "SPECIAL BREAD KG",
           60,
           10,
           "17:45"
          ],
          [
           "SPECIAL BREAD KG",
           54,
           4,
           "18:00"
          ],
          [
           "SPECIAL BREAD KG",
           53,
           3,
           "18:15"
          ],
          [
           "SPECIAL BREAD KG",
           56,
           6,
           "18:30"
          ],
          [
           "SPECIAL BREAD KG",
           55,
           5,
           "18:45"
          ],
          [
           "SPECIAL BREAD KG",
           53,
           3,
           "19:00"
          ],
          [
           "SPECIAL BREAD KG",
           51,
           1,
           "20:00"
          ]
         ],
         "hovertemplate": "article=%{customdata[0]}<br>Time=%{customdata[3]}<br>Quantity=%{customdata[2]}<extra></extra>",
         "legendgroup": "SPECIAL BREAD KG",
         "marker": {
          "color": "#7201a8"
         },
         "name": "SPECIAL BREAD KG",
         "r": [
          56,
          52,
          57,
          57,
          57,
          62,
          62,
          64,
          64,
          67,
          74,
          69,
          60,
          66,
          69,
          82,
          78,
          78,
          72,
          66,
          76,
          65,
          65,
          58,
          53,
          53,
          52,
          52,
          53,
          57,
          59,
          54,
          59,
          57,
          60,
          54,
          53,
          56,
          55,
          53,
          51
         ],
         "showlegend": true,
         "subplot": "polar",
         "theta": [
          "07:30",
          "07:45",
          "08:00",
          "08:15",
          "08:30",
          "08:45",
          "09:00",
          "09:15",
          "09:30",
          "09:45",
          "10:00",
          "10:15",
          "10:30",
          "10:45",
          "11:00",
          "11:15",
          "11:30",
          "11:45",
          "12:00",
          "12:15",
          "12:30",
          "12:45",
          "13:00",
          "13:15",
          "13:30",
          "13:45",
          "14:00",
          "16:00",
          "16:15",
          "16:30",
          "16:45",
          "17:00",
          "17:15",
          "17:30",
          "17:45",
          "18:00",
          "18:15",
          "18:30",
          "18:45",
          "19:00",
          "20:00"
         ],
         "type": "barpolar"
        },
        {
         "customdata": [
          [
           "TARTELETTE",
           51,
           1,
           "07:30"
          ],
          [
           "TARTELETTE",
           77,
           27,
           "07:45"
          ],
          [
           "TARTELETTE",
           89,
           39,
           "08:00"
          ],
          [
           "TARTELETTE",
           97,
           47,
           "08:15"
          ],
          [
           "TARTELETTE",
           115,
           65,
           "08:30"
          ],
          [
           "TARTELETTE",
           119,
           69,
           "08:45"
          ],
          [
           "TARTELETTE",
           115,
           65,
           "09:00"
          ],
          [
           "TARTELETTE",
           132,
           82,
           "09:15"
          ],
          [
           "TARTELETTE",
           170,
           120,
           "09:30"
          ],
          [
           "TARTELETTE",
           202,
           152,
           "09:45"
          ],
          [
           "TARTELETTE",
           239,
           189,
           "10:00"
          ],
          [
           "TARTELETTE",
           205,
           155,
           "10:15"
          ],
          [
           "TARTELETTE",
           282,
           232,
           "10:30"
          ],
          [
           "TARTELETTE",
           317,
           267,
           "10:45"
          ],
          [
           "TARTELETTE",
           346,
           296,
           "11:00"
          ],
          [
           "TARTELETTE",
           351,
           301,
           "11:15"
          ],
          [
           "TARTELETTE",
           369,
           319,
           "11:30"
          ],
          [
           "TARTELETTE",
           405,
           355,
           "11:45"
          ],
          [
           "TARTELETTE",
           383,
           333,
           "12:00"
          ],
          [
           "TARTELETTE",
           452,
           402,
           "12:15"
          ],
          [
           "TARTELETTE",
           369,
           319,
           "12:30"
          ],
          [
           "TARTELETTE",
           241,
           191,
           "12:45"
          ],
          [
           "TARTELETTE",
           163,
           113,
           "13:00"
          ],
          [
           "TARTELETTE",
           101,
           51,
           "13:15"
          ],
          [
           "TARTELETTE",
           90,
           40,
           "13:30"
          ],
          [
           "TARTELETTE",
           77,
           27,
           "13:45"
          ],
          [
           "TARTELETTE",
           63,
           13,
           "14:00"
          ],
          [
           "TARTELETTE",
           88,
           38,
           "16:00"
          ],
          [
           "TARTELETTE",
           114,
           64,
           "16:15"
          ],
          [
           "TARTELETTE",
           103,
           53,
           "16:30"
          ],
          [
           "TARTELETTE",
           106,
           56,
           "16:45"
          ],
          [
           "TARTELETTE",
           118,
           68,
           "17:00"
          ],
          [
           "TARTELETTE",
           105,
           55,
           "17:15"
          ],
          [
           "TARTELETTE",
           118,
           68,
           "17:30"
          ],
          [
           "TARTELETTE",
           103,
           53,
           "17:45"
          ],
          [
           "TARTELETTE",
           120,
           70,
           "18:00"
          ],
          [
           "TARTELETTE",
           109,
           59,
           "18:15"
          ],
          [
           "TARTELETTE",
           113,
           63,
           "18:30"
          ],
          [
           "TARTELETTE",
           101,
           51,
           "18:45"
          ],
          [
           "TARTELETTE",
           84,
           34,
           "19:00"
          ],
          [
           "TARTELETTE",
           58,
           8,
           "19:15"
          ],
          [
           "TARTELETTE",
           57,
           7,
           "19:30"
          ],
          [
           "TARTELETTE",
           52,
           2,
           "19:45"
          ],
          [
           "TARTELETTE",
           51,
           1,
           "20:00"
          ]
         ],
         "hovertemplate": "article=%{customdata[0]}<br>Time=%{customdata[3]}<br>Quantity=%{customdata[2]}<extra></extra>",
         "legendgroup": "TARTELETTE",
         "marker": {
          "color": "#46039f"
         },
         "name": "TARTELETTE",
         "r": [
          51,
          77,
          89,
          97,
          115,
          119,
          115,
          132,
          170,
          202,
          239,
          205,
          282,
          317,
          346,
          351,
          369,
          405,
          383,
          452,
          369,
          241,
          163,
          101,
          90,
          77,
          63,
          88,
          114,
          103,
          106,
          118,
          105,
          118,
          103,
          120,
          109,
          113,
          101,
          84,
          58,
          57,
          52,
          51
         ],
         "showlegend": true,
         "subplot": "polar",
         "theta": [
          "07:30",
          "07:45",
          "08:00",
          "08:15",
          "08:30",
          "08:45",
          "09:00",
          "09:15",
          "09:30",
          "09:45",
          "10:00",
          "10:15",
          "10:30",
          "10:45",
          "11:00",
          "11:15",
          "11:30",
          "11:45",
          "12:00",
          "12:15",
          "12:30",
          "12:45",
          "13:00",
          "13:15",
          "13:30",
          "13:45",
          "14:00",
          "16:00",
          "16:15",
          "16:30",
          "16:45",
          "17:00",
          "17:15",
          "17:30",
          "17:45",
          "18:00",
          "18:15",
          "18:30",
          "18:45",
          "19:00",
          "19:15",
          "19:30",
          "19:45",
          "20:00"
         ],
         "type": "barpolar"
        },
        {
         "customdata": [
          [
           "TRAITEUR",
           52,
           2,
           "07:30"
          ],
          [
           "TRAITEUR",
           58,
           8,
           "07:45"
          ],
          [
           "TRAITEUR",
           57,
           7,
           "08:00"
          ],
          [
           "TRAITEUR",
           53,
           3,
           "08:15"
          ],
          [
           "TRAITEUR",
           60,
           10,
           "08:30"
          ],
          [
           "TRAITEUR",
           58,
           8,
           "08:45"
          ],
          [
           "TRAITEUR",
           59,
           9,
           "09:00"
          ],
          [
           "TRAITEUR",
           67,
           17,
           "09:15"
          ],
          [
           "TRAITEUR",
           56,
           6,
           "09:30"
          ],
          [
           "TRAITEUR",
           68,
           18,
           "09:45"
          ],
          [
           "TRAITEUR",
           82,
           32,
           "10:00"
          ],
          [
           "TRAITEUR",
           87,
           37,
           "10:15"
          ],
          [
           "TRAITEUR",
           76,
           26,
           "10:30"
          ],
          [
           "TRAITEUR",
           99,
           49,
           "10:45"
          ],
          [
           "TRAITEUR",
           99,
           49,
           "11:00"
          ],
          [
           "TRAITEUR",
           98,
           48,
           "11:15"
          ],
          [
           "TRAITEUR",
           116,
           66,
           "11:30"
          ],
          [
           "TRAITEUR",
           138,
           88,
           "11:45"
          ],
          [
           "TRAITEUR",
           170,
           120,
           "12:00"
          ],
          [
           "TRAITEUR",
           232,
           182,
           "12:15"
          ],
          [
           "TRAITEUR",
           205,
           155,
           "12:30"
          ],
          [
           "TRAITEUR",
           221,
           171,
           "12:45"
          ],
          [
           "TRAITEUR",
           181,
           131,
           "13:00"
          ],
          [
           "TRAITEUR",
           78,
           28,
           "13:15"
          ],
          [
           "TRAITEUR",
           65,
           15,
           "13:30"
          ],
          [
           "TRAITEUR",
           56,
           6,
           "13:45"
          ],
          [
           "TRAITEUR",
           55,
           5,
           "14:00"
          ],
          [
           "TRAITEUR",
           55,
           5,
           "16:00"
          ],
          [
           "TRAITEUR",
           60,
           10,
           "16:15"
          ],
          [
           "TRAITEUR",
           63,
           13,
           "16:30"
          ],
          [
           "TRAITEUR",
           68,
           18,
           "16:45"
          ],
          [
           "TRAITEUR",
           66,
           16,
           "17:00"
          ],
          [
           "TRAITEUR",
           63,
           13,
           "17:15"
          ],
          [
           "TRAITEUR",
           61,
           11,
           "17:30"
          ],
          [
           "TRAITEUR",
           67,
           17,
           "17:45"
          ],
          [
           "TRAITEUR",
           66,
           16,
           "18:00"
          ],
          [
           "TRAITEUR",
           64,
           14,
           "18:15"
          ],
          [
           "TRAITEUR",
           60,
           10,
           "18:30"
          ],
          [
           "TRAITEUR",
           57,
           7,
           "18:45"
          ],
          [
           "TRAITEUR",
           59,
           9,
           "19:00"
          ],
          [
           "TRAITEUR",
           51,
           1,
           "19:15"
          ]
         ],
         "hovertemplate": "article=%{customdata[0]}<br>Time=%{customdata[3]}<br>Quantity=%{customdata[2]}<extra></extra>",
         "legendgroup": "TRAITEUR",
         "marker": {
          "color": "#0d0887"
         },
         "name": "TRAITEUR",
         "r": [
          52,
          58,
          57,
          53,
          60,
          58,
          59,
          67,
          56,
          68,
          82,
          87,
          76,
          99,
          99,
          98,
          116,
          138,
          170,
          232,
          205,
          221,
          181,
          78,
          65,
          56,
          55,
          55,
          60,
          63,
          68,
          66,
          63,
          61,
          67,
          66,
          64,
          60,
          57,
          59,
          51
         ],
         "showlegend": true,
         "subplot": "polar",
         "theta": [
          "07:30",
          "07:45",
          "08:00",
          "08:15",
          "08:30",
          "08:45",
          "09:00",
          "09:15",
          "09:30",
          "09:45",
          "10:00",
          "10:15",
          "10:30",
          "10:45",
          "11:00",
          "11:15",
          "11:30",
          "11:45",
          "12:00",
          "12:15",
          "12:30",
          "12:45",
          "13:00",
          "13:15",
          "13:30",
          "13:45",
          "14:00",
          "16:00",
          "16:15",
          "16:30",
          "16:45",
          "17:00",
          "17:15",
          "17:30",
          "17:45",
          "18:00",
          "18:15",
          "18:30",
          "18:45",
          "19:00",
          "19:15"
         ],
         "type": "barpolar"
        },
        {
         "customdata": [
          [
           "TROPEZIENNE",
           52,
           2,
           "07:30"
          ],
          [
           "TROPEZIENNE",
           52,
           2,
           "07:45"
          ],
          [
           "TROPEZIENNE",
           53,
           3,
           "08:00"
          ],
          [
           "TROPEZIENNE",
           54,
           4,
           "08:15"
          ],
          [
           "TROPEZIENNE",
           62,
           12,
           "08:30"
          ],
          [
           "TROPEZIENNE",
           54,
           4,
           "08:45"
          ],
          [
           "TROPEZIENNE",
           58,
           8,
           "09:00"
          ],
          [
           "TROPEZIENNE",
           57,
           7,
           "09:15"
          ],
          [
           "TROPEZIENNE",
           59,
           9,
           "09:30"
          ],
          [
           "TROPEZIENNE",
           69,
           19,
           "09:45"
          ],
          [
           "TROPEZIENNE",
           70,
           20,
           "10:00"
          ],
          [
           "TROPEZIENNE",
           60,
           10,
           "10:15"
          ],
          [
           "TROPEZIENNE",
           76,
           26,
           "10:30"
          ],
          [
           "TROPEZIENNE",
           74,
           24,
           "10:45"
          ],
          [
           "TROPEZIENNE",
           83,
           33,
           "11:00"
          ],
          [
           "TROPEZIENNE",
           72,
           22,
           "11:15"
          ],
          [
           "TROPEZIENNE",
           80,
           30,
           "11:30"
          ],
          [
           "TROPEZIENNE",
           82,
           32,
           "11:45"
          ],
          [
           "TROPEZIENNE",
           88,
           38,
           "12:00"
          ],
          [
           "TROPEZIENNE",
           79,
           29,
           "12:15"
          ],
          [
           "TROPEZIENNE",
           92,
           42,
           "12:30"
          ],
          [
           "TROPEZIENNE",
           74,
           24,
           "12:45"
          ],
          [
           "TROPEZIENNE",
           58,
           8,
           "13:00"
          ],
          [
           "TROPEZIENNE",
           54,
           4,
           "13:15"
          ],
          [
           "TROPEZIENNE",
           53,
           3,
           "16:00"
          ],
          [
           "TROPEZIENNE",
           56,
           6,
           "16:15"
          ],
          [
           "TROPEZIENNE",
           56,
           6,
           "16:30"
          ],
          [
           "TROPEZIENNE",
           54,
           4,
           "16:45"
          ],
          [
           "TROPEZIENNE",
           59,
           9,
           "17:00"
          ],
          [
           "TROPEZIENNE",
           59,
           9,
           "17:15"
          ],
          [
           "TROPEZIENNE",
           60,
           10,
           "17:30"
          ],
          [
           "TROPEZIENNE",
           59,
           9,
           "17:45"
          ],
          [
           "TROPEZIENNE",
           53,
           3,
           "18:00"
          ],
          [
           "TROPEZIENNE",
           66,
           16,
           "18:15"
          ],
          [
           "TROPEZIENNE",
           55,
           5,
           "18:30"
          ],
          [
           "TROPEZIENNE",
           57,
           7,
           "18:45"
          ],
          [
           "TROPEZIENNE",
           55,
           5,
           "19:00"
          ],
          [
           "TROPEZIENNE",
           51,
           1,
           "19:15"
          ],
          [
           "TROPEZIENNE",
           53,
           3,
           "19:45"
          ]
         ],
         "hovertemplate": "article=%{customdata[0]}<br>Time=%{customdata[3]}<br>Quantity=%{customdata[2]}<extra></extra>",
         "legendgroup": "TROPEZIENNE",
         "marker": {
          "color": "#f0f921"
         },
         "name": "TROPEZIENNE",
         "r": [
          52,
          52,
          53,
          54,
          62,
          54,
          58,
          57,
          59,
          69,
          70,
          60,
          76,
          74,
          83,
          72,
          80,
          82,
          88,
          79,
          92,
          74,
          58,
          54,
          53,
          56,
          56,
          54,
          59,
          59,
          60,
          59,
          53,
          66,
          55,
          57,
          55,
          51,
          53
         ],
         "showlegend": true,
         "subplot": "polar",
         "theta": [
          "07:30",
          "07:45",
          "08:00",
          "08:15",
          "08:30",
          "08:45",
          "09:00",
          "09:15",
          "09:30",
          "09:45",
          "10:00",
          "10:15",
          "10:30",
          "10:45",
          "11:00",
          "11:15",
          "11:30",
          "11:45",
          "12:00",
          "12:15",
          "12:30",
          "12:45",
          "13:00",
          "13:15",
          "16:00",
          "16:15",
          "16:30",
          "16:45",
          "17:00",
          "17:15",
          "17:30",
          "17:45",
          "18:00",
          "18:15",
          "18:30",
          "18:45",
          "19:00",
          "19:15",
          "19:45"
         ],
         "type": "barpolar"
        },
        {
         "customdata": [
          [
           "BOTTEREAU",
           56,
           6,
           "07:45"
          ],
          [
           "BOTTEREAU",
           53,
           3,
           "08:00"
          ],
          [
           "BOTTEREAU",
           78,
           28,
           "08:15"
          ],
          [
           "BOTTEREAU",
           64,
           14,
           "08:30"
          ],
          [
           "BOTTEREAU",
           55,
           5,
           "08:45"
          ],
          [
           "BOTTEREAU",
           59,
           9,
           "09:00"
          ],
          [
           "BOTTEREAU",
           56,
           6,
           "09:15"
          ],
          [
           "BOTTEREAU",
           63,
           13,
           "09:30"
          ],
          [
           "BOTTEREAU",
           68,
           18,
           "09:45"
          ],
          [
           "BOTTEREAU",
           68,
           18,
           "10:00"
          ],
          [
           "BOTTEREAU",
           62,
           12,
           "10:15"
          ],
          [
           "BOTTEREAU",
           88,
           38,
           "10:30"
          ],
          [
           "BOTTEREAU",
           69,
           19,
           "10:45"
          ],
          [
           "BOTTEREAU",
           100,
           50,
           "11:00"
          ],
          [
           "BOTTEREAU",
           65,
           15,
           "11:15"
          ],
          [
           "BOTTEREAU",
           70,
           20,
           "11:30"
          ],
          [
           "BOTTEREAU",
           77,
           27,
           "12:00"
          ],
          [
           "BOTTEREAU",
           80,
           30,
           "12:15"
          ],
          [
           "BOTTEREAU",
           66,
           16,
           "12:30"
          ],
          [
           "BOTTEREAU",
           56,
           6,
           "12:45"
          ],
          [
           "BOTTEREAU",
           54,
           4,
           "16:00"
          ],
          [
           "BOTTEREAU",
           55,
           5,
           "16:30"
          ],
          [
           "BOTTEREAU",
           52,
           2,
           "17:00"
          ],
          [
           "BOTTEREAU",
           60,
           10,
           "17:30"
          ],
          [
           "BOTTEREAU",
           55,
           5,
           "18:00"
          ],
          [
           "BOTTEREAU",
           53,
           3,
           "18:15"
          ],
          [
           "BOTTEREAU",
           53,
           3,
           "18:30"
          ],
          [
           "BOTTEREAU",
           54,
           4,
           "18:45"
          ]
         ],
         "hovertemplate": "article=%{customdata[0]}<br>Time=%{customdata[3]}<br>Quantity=%{customdata[2]}<extra></extra>",
         "legendgroup": "BOTTEREAU",
         "marker": {
          "color": "#fdca26"
         },
         "name": "BOTTEREAU",
         "r": [
          56,
          53,
          78,
          64,
          55,
          59,
          56,
          63,
          68,
          68,
          62,
          88,
          69,
          100,
          65,
          70,
          77,
          80,
          66,
          56,
          54,
          55,
          52,
          60,
          55,
          53,
          53,
          54
         ],
         "showlegend": true,
         "subplot": "polar",
         "theta": [
          "07:45",
          "08:00",
          "08:15",
          "08:30",
          "08:45",
          "09:00",
          "09:15",
          "09:30",
          "09:45",
          "10:00",
          "10:15",
          "10:30",
          "10:45",
          "11:00",
          "11:15",
          "11:30",
          "12:00",
          "12:15",
          "12:30",
          "12:45",
          "16:00",
          "16:30",
          "17:00",
          "17:30",
          "18:00",
          "18:15",
          "18:30",
          "18:45"
         ],
         "type": "barpolar"
        },
        {
         "customdata": [
          [
           "DELICETROPICAL",
           52,
           2,
           "07:45"
          ],
          [
           "DELICETROPICAL",
           51,
           1,
           "08:15"
          ],
          [
           "DELICETROPICAL",
           53,
           3,
           "09:00"
          ],
          [
           "DELICETROPICAL",
           54,
           4,
           "09:15"
          ],
          [
           "DELICETROPICAL",
           53,
           3,
           "09:30"
          ],
          [
           "DELICETROPICAL",
           53,
           3,
           "09:45"
          ],
          [
           "DELICETROPICAL",
           56,
           6,
           "10:00"
          ],
          [
           "DELICETROPICAL",
           55,
           5,
           "10:15"
          ],
          [
           "DELICETROPICAL",
           54,
           4,
           "10:30"
          ],
          [
           "DELICETROPICAL",
           52,
           2,
           "10:45"
          ],
          [
           "DELICETROPICAL",
           53,
           3,
           "11:00"
          ],
          [
           "DELICETROPICAL",
           52,
           2,
           "11:15"
          ],
          [
           "DELICETROPICAL",
           55,
           5,
           "11:30"
          ],
          [
           "DELICETROPICAL",
           54,
           4,
           "11:45"
          ],
          [
           "DELICETROPICAL",
           52,
           2,
           "12:00"
          ],
          [
           "DELICETROPICAL",
           51,
           1,
           "12:30"
          ],
          [
           "DELICETROPICAL",
           53,
           3,
           "12:45"
          ],
          [
           "DELICETROPICAL",
           53,
           3,
           "13:00"
          ],
          [
           "DELICETROPICAL",
           51,
           1,
           "17:15"
          ],
          [
           "DELICETROPICAL",
           52,
           2,
           "18:15"
          ],
          [
           "DELICETROPICAL",
           52,
           2,
           "18:30"
          ]
         ],
         "hovertemplate": "article=%{customdata[0]}<br>Time=%{customdata[3]}<br>Quantity=%{customdata[2]}<extra></extra>",
         "legendgroup": "DELICETROPICAL",
         "marker": {
          "color": "#fb9f3a"
         },
         "name": "DELICETROPICAL",
         "r": [
          52,
          51,
          53,
          54,
          53,
          53,
          56,
          55,
          54,
          52,
          53,
          52,
          55,
          54,
          52,
          51,
          53,
          53,
          51,
          52,
          52
         ],
         "showlegend": true,
         "subplot": "polar",
         "theta": [
          "07:45",
          "08:15",
          "09:00",
          "09:15",
          "09:30",
          "09:45",
          "10:00",
          "10:15",
          "10:30",
          "10:45",
          "11:00",
          "11:15",
          "11:30",
          "11:45",
          "12:00",
          "12:30",
          "12:45",
          "13:00",
          "17:15",
          "18:15",
          "18:30"
         ],
         "type": "barpolar"
        },
        {
         "customdata": [
          [
           "DIVERS BOISSONS",
           53,
           3,
           "07:45"
          ],
          [
           "DIVERS BOISSONS",
           53,
           3,
           "08:15"
          ],
          [
           "DIVERS BOISSONS",
           50,
           0,
           "08:30"
          ],
          [
           "DIVERS BOISSONS",
           52,
           2,
           "09:00"
          ],
          [
           "DIVERS BOISSONS",
           53,
           3,
           "09:15"
          ],
          [
           "DIVERS BOISSONS",
           51,
           1,
           "09:30"
          ],
          [
           "DIVERS BOISSONS",
           51,
           1,
           "09:45"
          ],
          [
           "DIVERS BOISSONS",
           52,
           2,
           "10:00"
          ],
          [
           "DIVERS BOISSONS",
           51,
           1,
           "10:15"
          ],
          [
           "DIVERS BOISSONS",
           55,
           5,
           "10:45"
          ],
          [
           "DIVERS BOISSONS",
           54,
           4,
           "11:00"
          ],
          [
           "DIVERS BOISSONS",
           59,
           9,
           "11:15"
          ],
          [
           "DIVERS BOISSONS",
           53,
           3,
           "11:30"
          ],
          [
           "DIVERS BOISSONS",
           54,
           4,
           "11:45"
          ],
          [
           "DIVERS BOISSONS",
           54,
           4,
           "12:00"
          ],
          [
           "DIVERS BOISSONS",
           56,
           6,
           "12:15"
          ],
          [
           "DIVERS BOISSONS",
           57,
           7,
           "12:30"
          ],
          [
           "DIVERS BOISSONS",
           56,
           6,
           "12:45"
          ],
          [
           "DIVERS BOISSONS",
           54,
           4,
           "13:00"
          ],
          [
           "DIVERS BOISSONS",
           52,
           2,
           "13:15"
          ],
          [
           "DIVERS BOISSONS",
           51,
           1,
           "16:00"
          ],
          [
           "DIVERS BOISSONS",
           57,
           7,
           "16:15"
          ],
          [
           "DIVERS BOISSONS",
           51,
           1,
           "17:00"
          ],
          [
           "DIVERS BOISSONS",
           52,
           2,
           "17:15"
          ],
          [
           "DIVERS BOISSONS",
           51,
           1,
           "17:30"
          ],
          [
           "DIVERS BOISSONS",
           51,
           1,
           "17:45"
          ],
          [
           "DIVERS BOISSONS",
           52,
           2,
           "18:15"
          ],
          [
           "DIVERS BOISSONS",
           51,
           1,
           "18:45"
          ]
         ],
         "hovertemplate": "article=%{customdata[0]}<br>Time=%{customdata[3]}<br>Quantity=%{customdata[2]}<extra></extra>",
         "legendgroup": "DIVERS BOISSONS",
         "marker": {
          "color": "#ed7953"
         },
         "name": "DIVERS BOISSONS",
         "r": [
          53,
          53,
          50,
          52,
          53,
          51,
          51,
          52,
          51,
          55,
          54,
          59,
          53,
          54,
          54,
          56,
          57,
          56,
          54,
          52,
          51,
          57,
          51,
          52,
          51,
          51,
          52,
          51
         ],
         "showlegend": true,
         "subplot": "polar",
         "theta": [
          "07:45",
          "08:15",
          "08:30",
          "09:00",
          "09:15",
          "09:30",
          "09:45",
          "10:00",
          "10:15",
          "10:45",
          "11:00",
          "11:15",
          "11:30",
          "11:45",
          "12:00",
          "12:15",
          "12:30",
          "12:45",
          "13:00",
          "13:15",
          "16:00",
          "16:15",
          "17:00",
          "17:15",
          "17:30",
          "17:45",
          "18:15",
          "18:45"
         ],
         "type": "barpolar"
        },
        {
         "customdata": [
          [
           "DIVERS SANDWICHS",
           51,
           1,
           "07:45"
          ],
          [
           "DIVERS SANDWICHS",
           51,
           1,
           "08:00"
          ],
          [
           "DIVERS SANDWICHS",
           51,
           1,
           "08:15"
          ],
          [
           "DIVERS SANDWICHS",
           51,
           1,
           "08:30"
          ],
          [
           "DIVERS SANDWICHS",
           51,
           1,
           "09:00"
          ],
          [
           "DIVERS SANDWICHS",
           52,
           2,
           "09:15"
          ],
          [
           "DIVERS SANDWICHS",
           53,
           3,
           "09:30"
          ],
          [
           "DIVERS SANDWICHS",
           54,
           4,
           "09:45"
          ],
          [
           "DIVERS SANDWICHS",
           54,
           4,
           "10:00"
          ],
          [
           "DIVERS SANDWICHS",
           55,
           5,
           "10:15"
          ],
          [
           "DIVERS SANDWICHS",
           51,
           1,
           "10:30"
          ],
          [
           "DIVERS SANDWICHS",
           52,
           2,
           "10:45"
          ],
          [
           "DIVERS SANDWICHS",
           57,
           7,
           "11:00"
          ],
          [
           "DIVERS SANDWICHS",
           58,
           8,
           "11:15"
          ],
          [
           "DIVERS SANDWICHS",
           59,
           9,
           "11:30"
          ],
          [
           "DIVERS SANDWICHS",
           58,
           8,
           "11:45"
          ],
          [
           "DIVERS SANDWICHS",
           61,
           11,
           "12:00"
          ],
          [
           "DIVERS SANDWICHS",
           63,
           13,
           "12:15"
          ],
          [
           "DIVERS SANDWICHS",
           70,
           20,
           "12:30"
          ],
          [
           "DIVERS SANDWICHS",
           72,
           22,
           "12:45"
          ],
          [
           "DIVERS SANDWICHS",
           70,
           20,
           "13:00"
          ],
          [
           "DIVERS SANDWICHS",
           71,
           21,
           "13:15"
          ],
          [
           "DIVERS SANDWICHS",
           66,
           16,
           "13:30"
          ],
          [
           "DIVERS SANDWICHS",
           68,
           18,
           "13:45"
          ],
          [
           "DIVERS SANDWICHS",
           63,
           13,
           "14:00"
          ],
          [
           "DIVERS SANDWICHS",
           52,
           2,
           "16:15"
          ],
          [
           "DIVERS SANDWICHS",
           54,
           4,
           "16:45"
          ],
          [
           "DIVERS SANDWICHS",
           51,
           1,
           "17:00"
          ],
          [
           "DIVERS SANDWICHS",
           51,
           1,
           "17:30"
          ],
          [
           "DIVERS SANDWICHS",
           52,
           2,
           "17:45"
          ],
          [
           "DIVERS SANDWICHS",
           52,
           2,
           "18:00"
          ],
          [
           "DIVERS SANDWICHS",
           55,
           5,
           "18:15"
          ],
          [
           "DIVERS SANDWICHS",
           52,
           2,
           "18:30"
          ],
          [
           "DIVERS SANDWICHS",
           51,
           1,
           "19:00"
          ],
          [
           "DIVERS SANDWICHS",
           51,
           1,
           "19:15"
          ]
         ],
         "hovertemplate": "article=%{customdata[0]}<br>Time=%{customdata[3]}<br>Quantity=%{customdata[2]}<extra></extra>",
         "legendgroup": "DIVERS SANDWICHS",
         "marker": {
          "color": "#d8576b"
         },
         "name": "DIVERS SANDWICHS",
         "r": [
          51,
          51,
          51,
          51,
          51,
          52,
          53,
          54,
          54,
          55,
          51,
          52,
          57,
          58,
          59,
          58,
          61,
          63,
          70,
          72,
          70,
          71,
          66,
          68,
          63,
          52,
          54,
          51,
          51,
          52,
          52,
          55,
          52,
          51,
          51
         ],
         "showlegend": true,
         "subplot": "polar",
         "theta": [
          "07:45",
          "08:00",
          "08:15",
          "08:30",
          "09:00",
          "09:15",
          "09:30",
          "09:45",
          "10:00",
          "10:15",
          "10:30",
          "10:45",
          "11:00",
          "11:15",
          "11:30",
          "11:45",
          "12:00",
          "12:15",
          "12:30",
          "12:45",
          "13:00",
          "13:15",
          "13:30",
          "13:45",
          "14:00",
          "16:15",
          "16:45",
          "17:00",
          "17:30",
          "17:45",
          "18:00",
          "18:15",
          "18:30",
          "19:00",
          "19:15"
         ],
         "type": "barpolar"
        },
        {
         "customdata": [
          [
           "DIVERS VIENNOISERIE",
           55,
           5,
           "07:45"
          ],
          [
           "DIVERS VIENNOISERIE",
           58,
           8,
           "08:00"
          ],
          [
           "DIVERS VIENNOISERIE",
           59,
           9,
           "08:15"
          ],
          [
           "DIVERS VIENNOISERIE",
           61,
           11,
           "08:30"
          ],
          [
           "DIVERS VIENNOISERIE",
           59,
           9,
           "08:45"
          ],
          [
           "DIVERS VIENNOISERIE",
           62,
           12,
           "09:00"
          ],
          [
           "DIVERS VIENNOISERIE",
           59,
           9,
           "09:15"
          ],
          [
           "DIVERS VIENNOISERIE",
           65,
           15,
           "09:30"
          ],
          [
           "DIVERS VIENNOISERIE",
           71,
           21,
           "09:45"
          ],
          [
           "DIVERS VIENNOISERIE",
           69,
           19,
           "10:00"
          ],
          [
           "DIVERS VIENNOISERIE",
           75,
           25,
           "10:15"
          ],
          [
           "DIVERS VIENNOISERIE",
           73,
           23,
           "10:30"
          ],
          [
           "DIVERS VIENNOISERIE",
           79,
           29,
           "10:45"
          ],
          [
           "DIVERS VIENNOISERIE",
           72,
           22,
           "11:00"
          ],
          [
           "DIVERS VIENNOISERIE",
           79,
           29,
           "11:15"
          ],
          [
           "DIVERS VIENNOISERIE",
           77,
           27,
           "11:30"
          ],
          [
           "DIVERS VIENNOISERIE",
           86,
           36,
           "11:45"
          ],
          [
           "DIVERS VIENNOISERIE",
           80,
           30,
           "12:00"
          ],
          [
           "DIVERS VIENNOISERIE",
           72,
           22,
           "12:15"
          ],
          [
           "DIVERS VIENNOISERIE",
           94,
           44,
           "12:30"
          ],
          [
           "DIVERS VIENNOISERIE",
           75,
           25,
           "12:45"
          ],
          [
           "DIVERS VIENNOISERIE",
           80,
           30,
           "13:00"
          ],
          [
           "DIVERS VIENNOISERIE",
           67,
           17,
           "13:15"
          ],
          [
           "DIVERS VIENNOISERIE",
           63,
           13,
           "13:30"
          ],
          [
           "DIVERS VIENNOISERIE",
           57,
           7,
           "13:45"
          ],
          [
           "DIVERS VIENNOISERIE",
           53,
           3,
           "14:00"
          ],
          [
           "DIVERS VIENNOISERIE",
           57,
           7,
           "16:00"
          ],
          [
           "DIVERS VIENNOISERIE",
           62,
           12,
           "16:15"
          ],
          [
           "DIVERS VIENNOISERIE",
           63,
           13,
           "16:30"
          ],
          [
           "DIVERS VIENNOISERIE",
           73,
           23,
           "16:45"
          ],
          [
           "DIVERS VIENNOISERIE",
           73,
           23,
           "17:00"
          ],
          [
           "DIVERS VIENNOISERIE",
           70,
           20,
           "17:15"
          ],
          [
           "DIVERS VIENNOISERIE",
           73,
           23,
           "17:30"
          ],
          [
           "DIVERS VIENNOISERIE",
           88,
           38,
           "17:45"
          ],
          [
           "DIVERS VIENNOISERIE",
           82,
           32,
           "18:00"
          ],
          [
           "DIVERS VIENNOISERIE",
           84,
           34,
           "18:15"
          ],
          [
           "DIVERS VIENNOISERIE",
           90,
           40,
           "18:30"
          ],
          [
           "DIVERS VIENNOISERIE",
           84,
           34,
           "18:45"
          ],
          [
           "DIVERS VIENNOISERIE",
           68,
           18,
           "19:00"
          ],
          [
           "DIVERS VIENNOISERIE",
           59,
           9,
           "19:15"
          ],
          [
           "DIVERS VIENNOISERIE",
           54,
           4,
           "19:30"
          ],
          [
           "DIVERS VIENNOISERIE",
           51,
           1,
           "19:45"
          ],
          [
           "DIVERS VIENNOISERIE",
           51,
           1,
           "20:00"
          ]
         ],
         "hovertemplate": "article=%{customdata[0]}<br>Time=%{customdata[3]}<br>Quantity=%{customdata[2]}<extra></extra>",
         "legendgroup": "DIVERS VIENNOISERIE",
         "marker": {
          "color": "#bd3786"
         },
         "name": "DIVERS VIENNOISERIE",
         "r": [
          55,
          58,
          59,
          61,
          59,
          62,
          59,
          65,
          71,
          69,
          75,
          73,
          79,
          72,
          79,
          77,
          86,
          80,
          72,
          94,
          75,
          80,
          67,
          63,
          57,
          53,
          57,
          62,
          63,
          73,
          73,
          70,
          73,
          88,
          82,
          84,
          90,
          84,
          68,
          59,
          54,
          51,
          51
         ],
         "showlegend": true,
         "subplot": "polar",
         "theta": [
          "07:45",
          "08:00",
          "08:15",
          "08:30",
          "08:45",
          "09:00",
          "09:15",
          "09:30",
          "09:45",
          "10:00",
          "10:15",
          "10:30",
          "10:45",
          "11:00",
          "11:15",
          "11:30",
          "11:45",
          "12:00",
          "12:15",
          "12:30",
          "12:45",
          "13:00",
          "13:15",
          "13:30",
          "13:45",
          "14:00",
          "16:00",
          "16:15",
          "16:30",
          "16:45",
          "17:00",
          "17:15",
          "17:30",
          "17:45",
          "18:00",
          "18:15",
          "18:30",
          "18:45",
          "19:00",
          "19:15",
          "19:30",
          "19:45",
          "20:00"
         ],
         "type": "barpolar"
        },
        {
         "customdata": [
          [
           "FLAN ABRICOT",
           54,
           4,
           "07:45"
          ],
          [
           "FLAN ABRICOT",
           59,
           9,
           "08:00"
          ],
          [
           "FLAN ABRICOT",
           64,
           14,
           "08:15"
          ],
          [
           "FLAN ABRICOT",
           58,
           8,
           "08:30"
          ],
          [
           "FLAN ABRICOT",
           58,
           8,
           "08:45"
          ],
          [
           "FLAN ABRICOT",
           62,
           12,
           "09:00"
          ],
          [
           "FLAN ABRICOT",
           62,
           12,
           "09:15"
          ],
          [
           "FLAN ABRICOT",
           63,
           13,
           "09:30"
          ],
          [
           "FLAN ABRICOT",
           75,
           25,
           "09:45"
          ],
          [
           "FLAN ABRICOT",
           63,
           13,
           "10:00"
          ],
          [
           "FLAN ABRICOT",
           80,
           30,
           "10:15"
          ],
          [
           "FLAN ABRICOT",
           97,
           47,
           "10:30"
          ],
          [
           "FLAN ABRICOT",
           105,
           55,
           "10:45"
          ],
          [
           "FLAN ABRICOT",
           97,
           47,
           "11:00"
          ],
          [
           "FLAN ABRICOT",
           79,
           29,
           "11:15"
          ],
          [
           "FLAN ABRICOT",
           110,
           60,
           "11:30"
          ],
          [
           "FLAN ABRICOT",
           104,
           54,
           "11:45"
          ],
          [
           "FLAN ABRICOT",
           95,
           45,
           "12:00"
          ],
          [
           "FLAN ABRICOT",
           95,
           45,
           "12:15"
          ],
          [
           "FLAN ABRICOT",
           85,
           35,
           "12:30"
          ],
          [
           "FLAN ABRICOT",
           80,
           30,
           "12:45"
          ],
          [
           "FLAN ABRICOT",
           75,
           25,
           "13:00"
          ],
          [
           "FLAN ABRICOT",
           62,
           12,
           "13:15"
          ],
          [
           "FLAN ABRICOT",
           58,
           8,
           "13:30"
          ],
          [
           "FLAN ABRICOT",
           57,
           7,
           "13:45"
          ],
          [
           "FLAN ABRICOT",
           57,
           7,
           "14:00"
          ],
          [
           "FLAN ABRICOT",
           53,
           3,
           "16:00"
          ],
          [
           "FLAN ABRICOT",
           59,
           9,
           "16:15"
          ],
          [
           "FLAN ABRICOT",
           57,
           7,
           "16:30"
          ],
          [
           "FLAN ABRICOT",
           59,
           9,
           "16:45"
          ],
          [
           "FLAN ABRICOT",
           68,
           18,
           "17:00"
          ],
          [
           "FLAN ABRICOT",
           63,
           13,
           "17:15"
          ],
          [
           "FLAN ABRICOT",
           65,
           15,
           "17:30"
          ],
          [
           "FLAN ABRICOT",
           67,
           17,
           "17:45"
          ],
          [
           "FLAN ABRICOT",
           58,
           8,
           "18:00"
          ],
          [
           "FLAN ABRICOT",
           68,
           18,
           "18:15"
          ],
          [
           "FLAN ABRICOT",
           57,
           7,
           "18:30"
          ],
          [
           "FLAN ABRICOT",
           57,
           7,
           "18:45"
          ],
          [
           "FLAN ABRICOT",
           55,
           5,
           "19:00"
          ],
          [
           "FLAN ABRICOT",
           51,
           1,
           "19:30"
          ]
         ],
         "hovertemplate": "article=%{customdata[0]}<br>Time=%{customdata[3]}<br>Quantity=%{customdata[2]}<extra></extra>",
         "legendgroup": "FLAN ABRICOT",
         "marker": {
          "color": "#9c179e"
         },
         "name": "FLAN ABRICOT",
         "r": [
          54,
          59,
          64,
          58,
          58,
          62,
          62,
          63,
          75,
          63,
          80,
          97,
          105,
          97,
          79,
          110,
          104,
          95,
          95,
          85,
          80,
          75,
          62,
          58,
          57,
          57,
          53,
          59,
          57,
          59,
          68,
          63,
          65,
          67,
          58,
          68,
          57,
          57,
          55,
          51
         ],
         "showlegend": true,
         "subplot": "polar",
         "theta": [
          "07:45",
          "08:00",
          "08:15",
          "08:30",
          "08:45",
          "09:00",
          "09:15",
          "09:30",
          "09:45",
          "10:00",
          "10:15",
          "10:30",
          "10:45",
          "11:00",
          "11:15",
          "11:30",
          "11:45",
          "12:00",
          "12:15",
          "12:30",
          "12:45",
          "13:00",
          "13:15",
          "13:30",
          "13:45",
          "14:00",
          "16:00",
          "16:15",
          "16:30",
          "16:45",
          "17:00",
          "17:15",
          "17:30",
          "17:45",
          "18:00",
          "18:15",
          "18:30",
          "18:45",
          "19:00",
          "19:30"
         ],
         "type": "barpolar"
        },
        {
         "customdata": [
          [
           "FRAISIER",
           54,
           4,
           "07:45"
          ],
          [
           "FRAISIER",
           62,
           12,
           "08:15"
          ],
          [
           "FRAISIER",
           68,
           18,
           "08:30"
          ],
          [
           "FRAISIER",
           69,
           19,
           "08:45"
          ],
          [
           "FRAISIER",
           71,
           21,
           "09:00"
          ],
          [
           "FRAISIER",
           65,
           15,
           "09:15"
          ],
          [
           "FRAISIER",
           78,
           28,
           "09:30"
          ],
          [
           "FRAISIER",
           71,
           21,
           "09:45"
          ],
          [
           "FRAISIER",
           72,
           22,
           "10:00"
          ],
          [
           "FRAISIER",
           80,
           30,
           "10:15"
          ],
          [
           "FRAISIER",
           118,
           68,
           "10:30"
          ],
          [
           "FRAISIER",
           81,
           31,
           "10:45"
          ],
          [
           "FRAISIER",
           113,
           63,
           "11:00"
          ],
          [
           "FRAISIER",
           85,
           35,
           "11:15"
          ],
          [
           "FRAISIER",
           84,
           34,
           "11:30"
          ],
          [
           "FRAISIER",
           93,
           43,
           "11:45"
          ],
          [
           "FRAISIER",
           70,
           20,
           "12:00"
          ],
          [
           "FRAISIER",
           73,
           23,
           "12:15"
          ],
          [
           "FRAISIER",
           66,
           16,
           "12:30"
          ],
          [
           "FRAISIER",
           68,
           18,
           "12:45"
          ],
          [
           "FRAISIER",
           61,
           11,
           "13:00"
          ],
          [
           "FRAISIER",
           52,
           2,
           "13:15"
          ],
          [
           "FRAISIER",
           51,
           1,
           "13:30"
          ],
          [
           "FRAISIER",
           52,
           2,
           "16:15"
          ],
          [
           "FRAISIER",
           51,
           1,
           "16:30"
          ],
          [
           "FRAISIER",
           58,
           8,
           "16:45"
          ],
          [
           "FRAISIER",
           53,
           3,
           "17:15"
          ],
          [
           "FRAISIER",
           54,
           4,
           "17:30"
          ],
          [
           "FRAISIER",
           51,
           1,
           "17:45"
          ],
          [
           "FRAISIER",
           53,
           3,
           "18:00"
          ],
          [
           "FRAISIER",
           54,
           4,
           "18:15"
          ],
          [
           "FRAISIER",
           57,
           7,
           "18:30"
          ],
          [
           "FRAISIER",
           52,
           2,
           "18:45"
          ],
          [
           "FRAISIER",
           53,
           3,
           "19:00"
          ]
         ],
         "hovertemplate": "article=%{customdata[0]}<br>Time=%{customdata[3]}<br>Quantity=%{customdata[2]}<extra></extra>",
         "legendgroup": "FRAISIER",
         "marker": {
          "color": "#7201a8"
         },
         "name": "FRAISIER",
         "r": [
          54,
          62,
          68,
          69,
          71,
          65,
          78,
          71,
          72,
          80,
          118,
          81,
          113,
          85,
          84,
          93,
          70,
          73,
          66,
          68,
          61,
          52,
          51,
          52,
          51,
          58,
          53,
          54,
          51,
          53,
          54,
          57,
          52,
          53
         ],
         "showlegend": true,
         "subplot": "polar",
         "theta": [
          "07:45",
          "08:15",
          "08:30",
          "08:45",
          "09:00",
          "09:15",
          "09:30",
          "09:45",
          "10:00",
          "10:15",
          "10:30",
          "10:45",
          "11:00",
          "11:15",
          "11:30",
          "11:45",
          "12:00",
          "12:15",
          "12:30",
          "12:45",
          "13:00",
          "13:15",
          "13:30",
          "16:15",
          "16:30",
          "16:45",
          "17:15",
          "17:30",
          "17:45",
          "18:00",
          "18:15",
          "18:30",
          "18:45",
          "19:00"
         ],
         "type": "barpolar"
        },
        {
         "customdata": [
          [
           "GACHE",
           51,
           1,
           "07:45"
          ],
          [
           "GACHE",
           51,
           1,
           "08:00"
          ],
          [
           "GACHE",
           53,
           3,
           "08:15"
          ],
          [
           "GACHE",
           52,
           2,
           "08:30"
          ],
          [
           "GACHE",
           53,
           3,
           "08:45"
          ],
          [
           "GACHE",
           57,
           7,
           "09:00"
          ],
          [
           "GACHE",
           54,
           4,
           "09:15"
          ],
          [
           "GACHE",
           54,
           4,
           "09:30"
          ],
          [
           "GACHE",
           56,
           6,
           "09:45"
          ],
          [
           "GACHE",
           59,
           9,
           "10:00"
          ],
          [
           "GACHE",
           53,
           3,
           "10:15"
          ],
          [
           "GACHE",
           57,
           7,
           "10:30"
          ],
          [
           "GACHE",
           52,
           2,
           "10:45"
          ],
          [
           "GACHE",
           55,
           5,
           "11:00"
          ],
          [
           "GACHE",
           55,
           5,
           "11:15"
          ],
          [
           "GACHE",
           56,
           6,
           "11:30"
          ],
          [
           "GACHE",
           58,
           8,
           "11:45"
          ],
          [
           "GACHE",
           58,
           8,
           "12:00"
          ],
          [
           "GACHE",
           55,
           5,
           "12:15"
          ],
          [
           "GACHE",
           58,
           8,
           "12:30"
          ],
          [
           "GACHE",
           52,
           2,
           "12:45"
          ],
          [
           "GACHE",
           54,
           4,
           "13:00"
          ],
          [
           "GACHE",
           52,
           2,
           "13:30"
          ],
          [
           "GACHE",
           51,
           1,
           "14:00"
          ],
          [
           "GACHE",
           52,
           2,
           "16:15"
          ],
          [
           "GACHE",
           51,
           1,
           "16:30"
          ],
          [
           "GACHE",
           53,
           3,
           "16:45"
          ],
          [
           "GACHE",
           52,
           2,
           "17:00"
          ],
          [
           "GACHE",
           52,
           2,
           "17:30"
          ],
          [
           "GACHE",
           53,
           3,
           "17:45"
          ],
          [
           "GACHE",
           51,
           1,
           "18:00"
          ],
          [
           "GACHE",
           53,
           3,
           "18:15"
          ],
          [
           "GACHE",
           55,
           5,
           "18:30"
          ],
          [
           "GACHE",
           51,
           1,
           "18:45"
          ]
         ],
         "hovertemplate": "article=%{customdata[0]}<br>Time=%{customdata[3]}<br>Quantity=%{customdata[2]}<extra></extra>",
         "legendgroup": "GACHE",
         "marker": {
          "color": "#46039f"
         },
         "name": "GACHE",
         "r": [
          51,
          51,
          53,
          52,
          53,
          57,
          54,
          54,
          56,
          59,
          53,
          57,
          52,
          55,
          55,
          56,
          58,
          58,
          55,
          58,
          52,
          54,
          52,
          51,
          52,
          51,
          53,
          52,
          52,
          53,
          51,
          53,
          55,
          51
         ],
         "showlegend": true,
         "subplot": "polar",
         "theta": [
          "07:45",
          "08:00",
          "08:15",
          "08:30",
          "08:45",
          "09:00",
          "09:15",
          "09:30",
          "09:45",
          "10:00",
          "10:15",
          "10:30",
          "10:45",
          "11:00",
          "11:15",
          "11:30",
          "11:45",
          "12:00",
          "12:15",
          "12:30",
          "12:45",
          "13:00",
          "13:30",
          "14:00",
          "16:15",
          "16:30",
          "16:45",
          "17:00",
          "17:30",
          "17:45",
          "18:00",
          "18:15",
          "18:30",
          "18:45"
         ],
         "type": "barpolar"
        },
        {
         "customdata": [
          [
           "GAL FRANGIPANE 4P",
           51,
           1,
           "07:45"
          ],
          [
           "GAL FRANGIPANE 4P",
           51,
           1,
           "08:00"
          ],
          [
           "GAL FRANGIPANE 4P",
           52,
           2,
           "08:15"
          ],
          [
           "GAL FRANGIPANE 4P",
           52,
           2,
           "08:30"
          ],
          [
           "GAL FRANGIPANE 4P",
           54,
           4,
           "09:00"
          ],
          [
           "GAL FRANGIPANE 4P",
           54,
           4,
           "09:15"
          ],
          [
           "GAL FRANGIPANE 4P",
           56,
           6,
           "09:30"
          ],
          [
           "GAL FRANGIPANE 4P",
           58,
           8,
           "09:45"
          ],
          [
           "GAL FRANGIPANE 4P",
           57,
           7,
           "10:00"
          ],
          [
           "GAL FRANGIPANE 4P",
           54,
           4,
           "10:15"
          ],
          [
           "GAL FRANGIPANE 4P",
           56,
           6,
           "10:30"
          ],
          [
           "GAL FRANGIPANE 4P",
           62,
           12,
           "10:45"
          ],
          [
           "GAL FRANGIPANE 4P",
           63,
           13,
           "11:00"
          ],
          [
           "GAL FRANGIPANE 4P",
           61,
           11,
           "11:15"
          ],
          [
           "GAL FRANGIPANE 4P",
           65,
           15,
           "11:30"
          ],
          [
           "GAL FRANGIPANE 4P",
           72,
           22,
           "11:45"
          ],
          [
           "GAL FRANGIPANE 4P",
           64,
           14,
           "12:00"
          ],
          [
           "GAL FRANGIPANE 4P",
           59,
           9,
           "12:15"
          ],
          [
           "GAL FRANGIPANE 4P",
           70,
           20,
           "12:30"
          ],
          [
           "GAL FRANGIPANE 4P",
           54,
           4,
           "12:45"
          ],
          [
           "GAL FRANGIPANE 4P",
           55,
           5,
           "13:00"
          ],
          [
           "GAL FRANGIPANE 4P",
           53,
           3,
           "13:15"
          ],
          [
           "GAL FRANGIPANE 4P",
           51,
           1,
           "13:30"
          ],
          [
           "GAL FRANGIPANE 4P",
           51,
           1,
           "16:00"
          ],
          [
           "GAL FRANGIPANE 4P",
           52,
           2,
           "16:15"
          ],
          [
           "GAL FRANGIPANE 4P",
           53,
           3,
           "16:30"
          ],
          [
           "GAL FRANGIPANE 4P",
           52,
           2,
           "16:45"
          ],
          [
           "GAL FRANGIPANE 4P",
           55,
           5,
           "17:00"
          ],
          [
           "GAL FRANGIPANE 4P",
           55,
           5,
           "17:15"
          ],
          [
           "GAL FRANGIPANE 4P",
           60,
           10,
           "17:30"
          ],
          [
           "GAL FRANGIPANE 4P",
           52,
           2,
           "17:45"
          ],
          [
           "GAL FRANGIPANE 4P",
           51,
           1,
           "18:00"
          ],
          [
           "GAL FRANGIPANE 4P",
           54,
           4,
           "18:15"
          ],
          [
           "GAL FRANGIPANE 4P",
           51,
           1,
           "18:30"
          ],
          [
           "GAL FRANGIPANE 4P",
           53,
           3,
           "19:00"
          ]
         ],
         "hovertemplate": "article=%{customdata[0]}<br>Time=%{customdata[3]}<br>Quantity=%{customdata[2]}<extra></extra>",
         "legendgroup": "GAL FRANGIPANE 4P",
         "marker": {
          "color": "#0d0887"
         },
         "name": "GAL FRANGIPANE 4P",
         "r": [
          51,
          51,
          52,
          52,
          54,
          54,
          56,
          58,
          57,
          54,
          56,
          62,
          63,
          61,
          65,
          72,
          64,
          59,
          70,
          54,
          55,
          53,
          51,
          51,
          52,
          53,
          52,
          55,
          55,
          60,
          52,
          51,
          54,
          51,
          53
         ],
         "showlegend": true,
         "subplot": "polar",
         "theta": [
          "07:45",
          "08:00",
          "08:15",
          "08:30",
          "09:00",
          "09:15",
          "09:30",
          "09:45",
          "10:00",
          "10:15",
          "10:30",
          "10:45",
          "11:00",
          "11:15",
          "11:30",
          "11:45",
          "12:00",
          "12:15",
          "12:30",
          "12:45",
          "13:00",
          "13:15",
          "13:30",
          "16:00",
          "16:15",
          "16:30",
          "16:45",
          "17:00",
          "17:15",
          "17:30",
          "17:45",
          "18:00",
          "18:15",
          "18:30",
          "19:00"
         ],
         "type": "barpolar"
        },
        {
         "customdata": [
          [
           "MACARON",
           57,
           7,
           "07:45"
          ],
          [
           "MACARON",
           52,
           2,
           "08:00"
          ],
          [
           "MACARON",
           52,
           2,
           "08:15"
          ],
          [
           "MACARON",
           64,
           14,
           "08:30"
          ],
          [
           "MACARON",
           60,
           10,
           "08:45"
          ],
          [
           "MACARON",
           56,
           6,
           "09:00"
          ],
          [
           "MACARON",
           56,
           6,
           "09:15"
          ],
          [
           "MACARON",
           61,
           11,
           "09:30"
          ],
          [
           "MACARON",
           51,
           1,
           "09:45"
          ],
          [
           "MACARON",
           66,
           16,
           "10:00"
          ],
          [
           "MACARON",
           72,
           22,
           "10:15"
          ],
          [
           "MACARON",
           54,
           4,
           "10:30"
          ],
          [
           "MACARON",
           62,
           12,
           "10:45"
          ],
          [
           "MACARON",
           58,
           8,
           "11:00"
          ],
          [
           "MACARON",
           71,
           21,
           "11:15"
          ],
          [
           "MACARON",
           73,
           23,
           "11:30"
          ],
          [
           "MACARON",
           99,
           49,
           "11:45"
          ],
          [
           "MACARON",
           58,
           8,
           "12:00"
          ],
          [
           "MACARON",
           76,
           26,
           "12:15"
          ],
          [
           "MACARON",
           90,
           40,
           "12:30"
          ],
          [
           "MACARON",
           71,
           21,
           "12:45"
          ],
          [
           "MACARON",
           58,
           8,
           "13:00"
          ],
          [
           "MACARON",
           52,
           2,
           "16:00"
          ],
          [
           "MACARON",
           66,
           16,
           "16:15"
          ],
          [
           "MACARON",
           63,
           13,
           "16:30"
          ],
          [
           "MACARON",
           58,
           8,
           "16:45"
          ],
          [
           "MACARON",
           60,
           10,
           "17:00"
          ],
          [
           "MACARON",
           72,
           22,
           "17:15"
          ],
          [
           "MACARON",
           58,
           8,
           "17:30"
          ],
          [
           "MACARON",
           61,
           11,
           "17:45"
          ],
          [
           "MACARON",
           64,
           14,
           "18:00"
          ],
          [
           "MACARON",
           76,
           26,
           "18:15"
          ]
         ],
         "hovertemplate": "article=%{customdata[0]}<br>Time=%{customdata[3]}<br>Quantity=%{customdata[2]}<extra></extra>",
         "legendgroup": "MACARON",
         "marker": {
          "color": "#f0f921"
         },
         "name": "MACARON",
         "r": [
          57,
          52,
          52,
          64,
          60,
          56,
          56,
          61,
          51,
          66,
          72,
          54,
          62,
          58,
          71,
          73,
          99,
          58,
          76,
          90,
          71,
          58,
          52,
          66,
          63,
          58,
          60,
          72,
          58,
          61,
          64,
          76
         ],
         "showlegend": true,
         "subplot": "polar",
         "theta": [
          "07:45",
          "08:00",
          "08:15",
          "08:30",
          "08:45",
          "09:00",
          "09:15",
          "09:30",
          "09:45",
          "10:00",
          "10:15",
          "10:30",
          "10:45",
          "11:00",
          "11:15",
          "11:30",
          "11:45",
          "12:00",
          "12:15",
          "12:30",
          "12:45",
          "13:00",
          "16:00",
          "16:15",
          "16:30",
          "16:45",
          "17:00",
          "17:15",
          "17:30",
          "17:45",
          "18:00",
          "18:15"
         ],
         "type": "barpolar"
        },
        {
         "customdata": [
          [
           "NOIX JAPONAISE",
           51,
           1,
           "07:45"
          ],
          [
           "NOIX JAPONAISE",
           51,
           1,
           "08:00"
          ],
          [
           "NOIX JAPONAISE",
           51,
           1,
           "08:15"
          ],
          [
           "NOIX JAPONAISE",
           57,
           7,
           "08:45"
          ],
          [
           "NOIX JAPONAISE",
           51,
           1,
           "09:00"
          ],
          [
           "NOIX JAPONAISE",
           58,
           8,
           "09:15"
          ],
          [
           "NOIX JAPONAISE",
           63,
           13,
           "09:30"
          ],
          [
           "NOIX JAPONAISE",
           57,
           7,
           "09:45"
          ],
          [
           "NOIX JAPONAISE",
           66,
           16,
           "10:00"
          ],
          [
           "NOIX JAPONAISE",
           62,
           12,
           "10:15"
          ],
          [
           "NOIX JAPONAISE",
           73,
           23,
           "10:30"
          ],
          [
           "NOIX JAPONAISE",
           79,
           29,
           "10:45"
          ],
          [
           "NOIX JAPONAISE",
           65,
           15,
           "11:00"
          ],
          [
           "NOIX JAPONAISE",
           84,
           34,
           "11:15"
          ],
          [
           "NOIX JAPONAISE",
           77,
           27,
           "11:30"
          ],
          [
           "NOIX JAPONAISE",
           84,
           34,
           "11:45"
          ],
          [
           "NOIX JAPONAISE",
           95,
           45,
           "12:00"
          ],
          [
           "NOIX JAPONAISE",
           81,
           31,
           "12:15"
          ],
          [
           "NOIX JAPONAISE",
           70,
           20,
           "12:30"
          ],
          [
           "NOIX JAPONAISE",
           66,
           16,
           "12:45"
          ],
          [
           "NOIX JAPONAISE",
           67,
           17,
           "13:00"
          ],
          [
           "NOIX JAPONAISE",
           58,
           8,
           "13:15"
          ],
          [
           "NOIX JAPONAISE",
           57,
           7,
           "13:30"
          ],
          [
           "NOIX JAPONAISE",
           51,
           1,
           "16:00"
          ],
          [
           "NOIX JAPONAISE",
           52,
           2,
           "16:15"
          ],
          [
           "NOIX JAPONAISE",
           55,
           5,
           "16:30"
          ],
          [
           "NOIX JAPONAISE",
           54,
           4,
           "16:45"
          ],
          [
           "NOIX JAPONAISE",
           52,
           2,
           "17:00"
          ],
          [
           "NOIX JAPONAISE",
           56,
           6,
           "17:15"
          ],
          [
           "NOIX JAPONAISE",
           59,
           9,
           "17:30"
          ],
          [
           "NOIX JAPONAISE",
           60,
           10,
           "17:45"
          ],
          [
           "NOIX JAPONAISE",
           57,
           7,
           "18:00"
          ],
          [
           "NOIX JAPONAISE",
           66,
           16,
           "18:15"
          ],
          [
           "NOIX JAPONAISE",
           53,
           3,
           "18:30"
          ],
          [
           "NOIX JAPONAISE",
           56,
           6,
           "18:45"
          ],
          [
           "NOIX JAPONAISE",
           51,
           1,
           "19:00"
          ],
          [
           "NOIX JAPONAISE",
           51,
           1,
           "19:15"
          ],
          [
           "NOIX JAPONAISE",
           51,
           1,
           "19:30"
          ]
         ],
         "hovertemplate": "article=%{customdata[0]}<br>Time=%{customdata[3]}<br>Quantity=%{customdata[2]}<extra></extra>",
         "legendgroup": "NOIX JAPONAISE",
         "marker": {
          "color": "#fdca26"
         },
         "name": "NOIX JAPONAISE",
         "r": [
          51,
          51,
          51,
          57,
          51,
          58,
          63,
          57,
          66,
          62,
          73,
          79,
          65,
          84,
          77,
          84,
          95,
          81,
          70,
          66,
          67,
          58,
          57,
          51,
          52,
          55,
          54,
          52,
          56,
          59,
          60,
          57,
          66,
          53,
          56,
          51,
          51,
          51
         ],
         "showlegend": true,
         "subplot": "polar",
         "theta": [
          "07:45",
          "08:00",
          "08:15",
          "08:45",
          "09:00",
          "09:15",
          "09:30",
          "09:45",
          "10:00",
          "10:15",
          "10:30",
          "10:45",
          "11:00",
          "11:15",
          "11:30",
          "11:45",
          "12:00",
          "12:15",
          "12:30",
          "12:45",
          "13:00",
          "13:15",
          "13:30",
          "16:00",
          "16:15",
          "16:30",
          "16:45",
          "17:00",
          "17:15",
          "17:30",
          "17:45",
          "18:00",
          "18:15",
          "18:30",
          "18:45",
          "19:00",
          "19:15",
          "19:30"
         ],
         "type": "barpolar"
        },
        {
         "customdata": [
          [
           "PAILLE",
           52,
           2,
           "07:45"
          ],
          [
           "PAILLE",
           52,
           2,
           "08:00"
          ],
          [
           "PAILLE",
           54,
           4,
           "08:15"
          ],
          [
           "PAILLE",
           54,
           4,
           "08:30"
          ],
          [
           "PAILLE",
           51,
           1,
           "09:00"
          ],
          [
           "PAILLE",
           51,
           1,
           "09:15"
          ],
          [
           "PAILLE",
           51,
           1,
           "09:30"
          ],
          [
           "PAILLE",
           60,
           10,
           "09:45"
          ],
          [
           "PAILLE",
           54,
           4,
           "10:00"
          ],
          [
           "PAILLE",
           56,
           6,
           "10:15"
          ],
          [
           "PAILLE",
           58,
           8,
           "10:30"
          ],
          [
           "PAILLE",
           57,
           7,
           "10:45"
          ],
          [
           "PAILLE",
           56,
           6,
           "11:00"
          ],
          [
           "PAILLE",
           58,
           8,
           "11:15"
          ],
          [
           "PAILLE",
           63,
           13,
           "11:30"
          ],
          [
           "PAILLE",
           52,
           2,
           "11:45"
          ],
          [
           "PAILLE",
           60,
           10,
           "12:00"
          ],
          [
           "PAILLE",
           56,
           6,
           "12:15"
          ],
          [
           "PAILLE",
           55,
           5,
           "12:30"
          ],
          [
           "PAILLE",
           56,
           6,
           "12:45"
          ],
          [
           "PAILLE",
           52,
           2,
           "13:00"
          ],
          [
           "PAILLE",
           51,
           1,
           "16:00"
          ],
          [
           "PAILLE",
           55,
           5,
           "16:15"
          ],
          [
           "PAILLE",
           52,
           2,
           "16:30"
          ],
          [
           "PAILLE",
           53,
           3,
           "16:45"
          ],
          [
           "PAILLE",
           51,
           1,
           "17:00"
          ],
          [
           "PAILLE",
           54,
           4,
           "17:15"
          ],
          [
           "PAILLE",
           53,
           3,
           "17:30"
          ],
          [
           "PAILLE",
           51,
           1,
           "18:15"
          ],
          [
           "PAILLE",
           51,
           1,
           "18:30"
          ],
          [
           "PAILLE",
           52,
           2,
           "18:45"
          ]
         ],
         "hovertemplate": "article=%{customdata[0]}<br>Time=%{customdata[3]}<br>Quantity=%{customdata[2]}<extra></extra>",
         "legendgroup": "PAILLE",
         "marker": {
          "color": "#fb9f3a"
         },
         "name": "PAILLE",
         "r": [
          52,
          52,
          54,
          54,
          51,
          51,
          51,
          60,
          54,
          56,
          58,
          57,
          56,
          58,
          63,
          52,
          60,
          56,
          55,
          56,
          52,
          51,
          55,
          52,
          53,
          51,
          54,
          53,
          51,
          51,
          52
         ],
         "showlegend": true,
         "subplot": "polar",
         "theta": [
          "07:45",
          "08:00",
          "08:15",
          "08:30",
          "09:00",
          "09:15",
          "09:30",
          "09:45",
          "10:00",
          "10:15",
          "10:30",
          "10:45",
          "11:00",
          "11:15",
          "11:30",
          "11:45",
          "12:00",
          "12:15",
          "12:30",
          "12:45",
          "13:00",
          "16:00",
          "16:15",
          "16:30",
          "16:45",
          "17:00",
          "17:15",
          "17:30",
          "18:15",
          "18:30",
          "18:45"
         ],
         "type": "barpolar"
        },
        {
         "customdata": [
          [
           "PAIN DE MIE",
           51,
           1,
           "07:45"
          ],
          [
           "PAIN DE MIE",
           51,
           1,
           "08:15"
          ],
          [
           "PAIN DE MIE",
           51,
           1,
           "09:00"
          ],
          [
           "PAIN DE MIE",
           55,
           5,
           "09:15"
          ],
          [
           "PAIN DE MIE",
           52,
           2,
           "09:45"
          ],
          [
           "PAIN DE MIE",
           51,
           1,
           "10:00"
          ],
          [
           "PAIN DE MIE",
           52,
           2,
           "10:15"
          ],
          [
           "PAIN DE MIE",
           51,
           1,
           "10:45"
          ],
          [
           "PAIN DE MIE",
           55,
           5,
           "11:00"
          ],
          [
           "PAIN DE MIE",
           53,
           3,
           "11:15"
          ],
          [
           "PAIN DE MIE",
           54,
           4,
           "11:30"
          ],
          [
           "PAIN DE MIE",
           55,
           5,
           "11:45"
          ],
          [
           "PAIN DE MIE",
           52,
           2,
           "12:00"
          ],
          [
           "PAIN DE MIE",
           52,
           2,
           "12:15"
          ],
          [
           "PAIN DE MIE",
           52,
           2,
           "13:00"
          ],
          [
           "PAIN DE MIE",
           51,
           1,
           "16:30"
          ],
          [
           "PAIN DE MIE",
           51,
           1,
           "17:15"
          ],
          [
           "PAIN DE MIE",
           51,
           1,
           "17:30"
          ]
         ],
         "hovertemplate": "article=%{customdata[0]}<br>Time=%{customdata[3]}<br>Quantity=%{customdata[2]}<extra></extra>",
         "legendgroup": "PAIN DE MIE",
         "marker": {
          "color": "#ed7953"
         },
         "name": "PAIN DE MIE",
         "r": [
          51,
          51,
          51,
          55,
          52,
          51,
          52,
          51,
          55,
          53,
          54,
          55,
          52,
          52,
          52,
          51,
          51,
          51
         ],
         "showlegend": true,
         "subplot": "polar",
         "theta": [
          "07:45",
          "08:15",
          "09:00",
          "09:15",
          "09:45",
          "10:00",
          "10:15",
          "10:45",
          "11:00",
          "11:15",
          "11:30",
          "11:45",
          "12:00",
          "12:15",
          "13:00",
          "16:30",
          "17:15",
          "17:30"
         ],
         "type": "barpolar"
        },
        {
         "customdata": [
          [
           "PLAT 6.50E",
           51,
           1,
           "07:45"
          ],
          [
           "PLAT 6.50E",
           49,
           -1,
           "08:00"
          ]
         ],
         "hovertemplate": "article=%{customdata[0]}<br>Time=%{customdata[3]}<br>Quantity=%{customdata[2]}<extra></extra>",
         "legendgroup": "PLAT 6.50E",
         "marker": {
          "color": "#d8576b"
         },
         "name": "PLAT 6.50E",
         "r": [
          51,
          49
         ],
         "showlegend": true,
         "subplot": "polar",
         "theta": [
          "07:45",
          "08:00"
         ],
         "type": "barpolar"
        },
        {
         "customdata": [
          [
           "PLAT 7.00",
           56,
           6,
           "07:45"
          ],
          [
           "PLAT 7.00",
           52,
           2,
           "08:00"
          ],
          [
           "PLAT 7.00",
           51,
           1,
           "08:15"
          ],
          [
           "PLAT 7.00",
           52,
           2,
           "08:30"
          ],
          [
           "PLAT 7.00",
           51,
           1,
           "08:45"
          ],
          [
           "PLAT 7.00",
           54,
           4,
           "09:15"
          ],
          [
           "PLAT 7.00",
           51,
           1,
           "10:00"
          ],
          [
           "PLAT 7.00",
           51,
           1,
           "10:15"
          ],
          [
           "PLAT 7.00",
           53,
           3,
           "10:30"
          ],
          [
           "PLAT 7.00",
           51,
           1,
           "10:45"
          ],
          [
           "PLAT 7.00",
           56,
           6,
           "11:00"
          ],
          [
           "PLAT 7.00",
           53,
           3,
           "11:15"
          ],
          [
           "PLAT 7.00",
           59,
           9,
           "11:30"
          ],
          [
           "PLAT 7.00",
           59,
           9,
           "11:45"
          ],
          [
           "PLAT 7.00",
           73,
           23,
           "12:00"
          ],
          [
           "PLAT 7.00",
           57,
           7,
           "12:15"
          ],
          [
           "PLAT 7.00",
           60,
           10,
           "12:30"
          ],
          [
           "PLAT 7.00",
           55,
           5,
           "12:45"
          ],
          [
           "PLAT 7.00",
           59,
           9,
           "13:00"
          ],
          [
           "PLAT 7.00",
           50,
           0,
           "17:15"
          ],
          [
           "PLAT 7.00",
           52,
           2,
           "17:30"
          ],
          [
           "PLAT 7.00",
           51,
           1,
           "18:00"
          ],
          [
           "PLAT 7.00",
           51,
           1,
           "18:15"
          ],
          [
           "PLAT 7.00",
           51,
           1,
           "18:30"
          ],
          [
           "PLAT 7.00",
           52,
           2,
           "19:00"
          ]
         ],
         "hovertemplate": "article=%{customdata[0]}<br>Time=%{customdata[3]}<br>Quantity=%{customdata[2]}<extra></extra>",
         "legendgroup": "PLAT 7.00",
         "marker": {
          "color": "#bd3786"
         },
         "name": "PLAT 7.00",
         "r": [
          56,
          52,
          51,
          52,
          51,
          54,
          51,
          51,
          53,
          51,
          56,
          53,
          59,
          59,
          73,
          57,
          60,
          55,
          59,
          50,
          52,
          51,
          51,
          51,
          52
         ],
         "showlegend": true,
         "subplot": "polar",
         "theta": [
          "07:45",
          "08:00",
          "08:15",
          "08:30",
          "08:45",
          "09:15",
          "10:00",
          "10:15",
          "10:30",
          "10:45",
          "11:00",
          "11:15",
          "11:30",
          "11:45",
          "12:00",
          "12:15",
          "12:30",
          "12:45",
          "13:00",
          "17:15",
          "17:30",
          "18:00",
          "18:15",
          "18:30",
          "19:00"
         ],
         "type": "barpolar"
        },
        {
         "customdata": [
          [
           "PLAT 7.60E",
           58,
           8,
           "07:45"
          ],
          [
           "PLAT 7.60E",
           56,
           6,
           "08:00"
          ],
          [
           "PLAT 7.60E",
           53,
           3,
           "08:30"
          ],
          [
           "PLAT 7.60E",
           52,
           2,
           "08:45"
          ],
          [
           "PLAT 7.60E",
           58,
           8,
           "09:00"
          ],
          [
           "PLAT 7.60E",
           57,
           7,
           "09:15"
          ],
          [
           "PLAT 7.60E",
           53,
           3,
           "09:30"
          ],
          [
           "PLAT 7.60E",
           54,
           4,
           "09:45"
          ],
          [
           "PLAT 7.60E",
           56,
           6,
           "10:00"
          ],
          [
           "PLAT 7.60E",
           58,
           8,
           "10:15"
          ],
          [
           "PLAT 7.60E",
           55,
           5,
           "10:30"
          ],
          [
           "PLAT 7.60E",
           56,
           6,
           "10:45"
          ],
          [
           "PLAT 7.60E",
           66,
           16,
           "11:00"
          ],
          [
           "PLAT 7.60E",
           69,
           19,
           "11:15"
          ],
          [
           "PLAT 7.60E",
           72,
           22,
           "11:30"
          ],
          [
           "PLAT 7.60E",
           76,
           26,
           "11:45"
          ],
          [
           "PLAT 7.60E",
           92,
           42,
           "12:00"
          ],
          [
           "PLAT 7.60E",
           83,
           33,
           "12:15"
          ],
          [
           "PLAT 7.60E",
           70,
           20,
           "12:30"
          ],
          [
           "PLAT 7.60E",
           71,
           21,
           "12:45"
          ],
          [
           "PLAT 7.60E",
           63,
           13,
           "13:00"
          ],
          [
           "PLAT 7.60E",
           52,
           2,
           "16:00"
          ],
          [
           "PLAT 7.60E",
           52,
           2,
           "16:15"
          ],
          [
           "PLAT 7.60E",
           53,
           3,
           "16:30"
          ],
          [
           "PLAT 7.60E",
           51,
           1,
           "16:45"
          ],
          [
           "PLAT 7.60E",
           51,
           1,
           "17:00"
          ],
          [
           "PLAT 7.60E",
           54,
           4,
           "17:15"
          ],
          [
           "PLAT 7.60E",
           53,
           3,
           "17:30"
          ],
          [
           "PLAT 7.60E",
           55,
           5,
           "17:45"
          ],
          [
           "PLAT 7.60E",
           52,
           2,
           "18:00"
          ],
          [
           "PLAT 7.60E",
           56,
           6,
           "18:15"
          ],
          [
           "PLAT 7.60E",
           52,
           2,
           "18:30"
          ],
          [
           "PLAT 7.60E",
           58,
           8,
           "18:45"
          ],
          [
           "PLAT 7.60E",
           53,
           3,
           "19:00"
          ]
         ],
         "hovertemplate": "article=%{customdata[0]}<br>Time=%{customdata[3]}<br>Quantity=%{customdata[2]}<extra></extra>",
         "legendgroup": "PLAT 7.60E",
         "marker": {
          "color": "#9c179e"
         },
         "name": "PLAT 7.60E",
         "r": [
          58,
          56,
          53,
          52,
          58,
          57,
          53,
          54,
          56,
          58,
          55,
          56,
          66,
          69,
          72,
          76,
          92,
          83,
          70,
          71,
          63,
          52,
          52,
          53,
          51,
          51,
          54,
          53,
          55,
          52,
          56,
          52,
          58,
          53
         ],
         "showlegend": true,
         "subplot": "polar",
         "theta": [
          "07:45",
          "08:00",
          "08:30",
          "08:45",
          "09:00",
          "09:15",
          "09:30",
          "09:45",
          "10:00",
          "10:15",
          "10:30",
          "10:45",
          "11:00",
          "11:15",
          "11:30",
          "11:45",
          "12:00",
          "12:15",
          "12:30",
          "12:45",
          "13:00",
          "16:00",
          "16:15",
          "16:30",
          "16:45",
          "17:00",
          "17:15",
          "17:30",
          "17:45",
          "18:00",
          "18:15",
          "18:30",
          "18:45",
          "19:00"
         ],
         "type": "barpolar"
        },
        {
         "customdata": [
          [
           "PLAT 8.30E",
           51,
           1,
           "07:45"
          ],
          [
           "PLAT 8.30E",
           51,
           1,
           "08:00"
          ],
          [
           "PLAT 8.30E",
           51,
           1,
           "08:15"
          ],
          [
           "PLAT 8.30E",
           52,
           2,
           "08:30"
          ],
          [
           "PLAT 8.30E",
           53,
           3,
           "09:00"
          ],
          [
           "PLAT 8.30E",
           54,
           4,
           "09:15"
          ],
          [
           "PLAT 8.30E",
           53,
           3,
           "09:45"
          ],
          [
           "PLAT 8.30E",
           51,
           1,
           "10:00"
          ],
          [
           "PLAT 8.30E",
           58,
           8,
           "10:15"
          ],
          [
           "PLAT 8.30E",
           57,
           7,
           "10:30"
          ],
          [
           "PLAT 8.30E",
           58,
           8,
           "10:45"
          ],
          [
           "PLAT 8.30E",
           52,
           2,
           "11:00"
          ],
          [
           "PLAT 8.30E",
           54,
           4,
           "11:15"
          ],
          [
           "PLAT 8.30E",
           58,
           8,
           "11:30"
          ],
          [
           "PLAT 8.30E",
           58,
           8,
           "11:45"
          ],
          [
           "PLAT 8.30E",
           59,
           9,
           "12:00"
          ],
          [
           "PLAT 8.30E",
           71,
           21,
           "12:15"
          ],
          [
           "PLAT 8.30E",
           59,
           9,
           "12:30"
          ],
          [
           "PLAT 8.30E",
           55,
           5,
           "12:45"
          ],
          [
           "PLAT 8.30E",
           55,
           5,
           "13:00"
          ],
          [
           "PLAT 8.30E",
           53,
           3,
           "16:00"
          ],
          [
           "PLAT 8.30E",
           52,
           2,
           "16:15"
          ],
          [
           "PLAT 8.30E",
           51,
           1,
           "16:30"
          ],
          [
           "PLAT 8.30E",
           52,
           2,
           "16:45"
          ],
          [
           "PLAT 8.30E",
           52,
           2,
           "17:00"
          ],
          [
           "PLAT 8.30E",
           52,
           2,
           "17:15"
          ],
          [
           "PLAT 8.30E",
           54,
           4,
           "17:30"
          ],
          [
           "PLAT 8.30E",
           56,
           6,
           "17:45"
          ],
          [
           "PLAT 8.30E",
           54,
           4,
           "18:00"
          ],
          [
           "PLAT 8.30E",
           52,
           2,
           "18:15"
          ],
          [
           "PLAT 8.30E",
           52,
           2,
           "18:30"
          ],
          [
           "PLAT 8.30E",
           53,
           3,
           "18:45"
          ],
          [
           "PLAT 8.30E",
           53,
           3,
           "19:00"
          ]
         ],
         "hovertemplate": "article=%{customdata[0]}<br>Time=%{customdata[3]}<br>Quantity=%{customdata[2]}<extra></extra>",
         "legendgroup": "PLAT 8.30E",
         "marker": {
          "color": "#7201a8"
         },
         "name": "PLAT 8.30E",
         "r": [
          51,
          51,
          51,
          52,
          53,
          54,
          53,
          51,
          58,
          57,
          58,
          52,
          54,
          58,
          58,
          59,
          71,
          59,
          55,
          55,
          53,
          52,
          51,
          52,
          52,
          52,
          54,
          56,
          54,
          52,
          52,
          53,
          53
         ],
         "showlegend": true,
         "subplot": "polar",
         "theta": [
          "07:45",
          "08:00",
          "08:15",
          "08:30",
          "09:00",
          "09:15",
          "09:45",
          "10:00",
          "10:15",
          "10:30",
          "10:45",
          "11:00",
          "11:15",
          "11:30",
          "11:45",
          "12:00",
          "12:15",
          "12:30",
          "12:45",
          "13:00",
          "16:00",
          "16:15",
          "16:30",
          "16:45",
          "17:00",
          "17:15",
          "17:30",
          "17:45",
          "18:00",
          "18:15",
          "18:30",
          "18:45",
          "19:00"
         ],
         "type": "barpolar"
        },
        {
         "customdata": [
          [
           "RELIGIEUSE",
           51,
           1,
           "07:45"
          ],
          [
           "RELIGIEUSE",
           54,
           4,
           "08:15"
          ],
          [
           "RELIGIEUSE",
           51,
           1,
           "08:30"
          ],
          [
           "RELIGIEUSE",
           53,
           3,
           "08:45"
          ],
          [
           "RELIGIEUSE",
           59,
           9,
           "09:00"
          ],
          [
           "RELIGIEUSE",
           56,
           6,
           "09:15"
          ],
          [
           "RELIGIEUSE",
           51,
           1,
           "09:30"
          ],
          [
           "RELIGIEUSE",
           59,
           9,
           "09:45"
          ],
          [
           "RELIGIEUSE",
           52,
           2,
           "10:00"
          ],
          [
           "RELIGIEUSE",
           51,
           1,
           "10:15"
          ],
          [
           "RELIGIEUSE",
           53,
           3,
           "10:30"
          ],
          [
           "RELIGIEUSE",
           64,
           14,
           "10:45"
          ],
          [
           "RELIGIEUSE",
           53,
           3,
           "11:00"
          ],
          [
           "RELIGIEUSE",
           51,
           1,
           "11:15"
          ],
          [
           "RELIGIEUSE",
           52,
           2,
           "11:30"
          ],
          [
           "RELIGIEUSE",
           56,
           6,
           "11:45"
          ],
          [
           "RELIGIEUSE",
           57,
           7,
           "12:00"
          ],
          [
           "RELIGIEUSE",
           63,
           13,
           "12:15"
          ],
          [
           "RELIGIEUSE",
           51,
           1,
           "12:30"
          ],
          [
           "RELIGIEUSE",
           58,
           8,
           "12:45"
          ],
          [
           "RELIGIEUSE",
           51,
           1,
           "13:00"
          ],
          [
           "RELIGIEUSE",
           51,
           1,
           "13:30"
          ],
          [
           "RELIGIEUSE",
           55,
           5,
           "16:00"
          ],
          [
           "RELIGIEUSE",
           53,
           3,
           "16:30"
          ],
          [
           "RELIGIEUSE",
           51,
           1,
           "16:45"
          ],
          [
           "RELIGIEUSE",
           52,
           2,
           "17:00"
          ],
          [
           "RELIGIEUSE",
           53,
           3,
           "17:15"
          ],
          [
           "RELIGIEUSE",
           53,
           3,
           "18:00"
          ],
          [
           "RELIGIEUSE",
           51,
           1,
           "18:15"
          ],
          [
           "RELIGIEUSE",
           51,
           1,
           "18:30"
          ],
          [
           "RELIGIEUSE",
           52,
           2,
           "18:45"
          ],
          [
           "RELIGIEUSE",
           51,
           1,
           "19:15"
          ]
         ],
         "hovertemplate": "article=%{customdata[0]}<br>Time=%{customdata[3]}<br>Quantity=%{customdata[2]}<extra></extra>",
         "legendgroup": "RELIGIEUSE",
         "marker": {
          "color": "#46039f"
         },
         "name": "RELIGIEUSE",
         "r": [
          51,
          54,
          51,
          53,
          59,
          56,
          51,
          59,
          52,
          51,
          53,
          64,
          53,
          51,
          52,
          56,
          57,
          63,
          51,
          58,
          51,
          51,
          55,
          53,
          51,
          52,
          53,
          53,
          51,
          51,
          52,
          51
         ],
         "showlegend": true,
         "subplot": "polar",
         "theta": [
          "07:45",
          "08:15",
          "08:30",
          "08:45",
          "09:00",
          "09:15",
          "09:30",
          "09:45",
          "10:00",
          "10:15",
          "10:30",
          "10:45",
          "11:00",
          "11:15",
          "11:30",
          "11:45",
          "12:00",
          "12:15",
          "12:30",
          "12:45",
          "13:00",
          "13:30",
          "16:00",
          "16:30",
          "16:45",
          "17:00",
          "17:15",
          "18:00",
          "18:15",
          "18:30",
          "18:45",
          "19:15"
         ],
         "type": "barpolar"
        },
        {
         "customdata": [
          [
           "SABLE F  P",
           53,
           3,
           "07:45"
          ],
          [
           "SABLE F  P",
           53,
           3,
           "08:00"
          ],
          [
           "SABLE F  P",
           52,
           2,
           "08:15"
          ],
          [
           "SABLE F  P",
           53,
           3,
           "08:30"
          ],
          [
           "SABLE F  P",
           51,
           1,
           "08:45"
          ],
          [
           "SABLE F  P",
           52,
           2,
           "09:00"
          ],
          [
           "SABLE F  P",
           52,
           2,
           "09:15"
          ],
          [
           "SABLE F  P",
           54,
           4,
           "09:30"
          ],
          [
           "SABLE F  P",
           52,
           2,
           "09:45"
          ],
          [
           "SABLE F  P",
           59,
           9,
           "10:00"
          ],
          [
           "SABLE F  P",
           52,
           2,
           "10:15"
          ],
          [
           "SABLE F  P",
           51,
           1,
           "10:30"
          ],
          [
           "SABLE F  P",
           53,
           3,
           "10:45"
          ],
          [
           "SABLE F  P",
           58,
           8,
           "11:00"
          ],
          [
           "SABLE F  P",
           57,
           7,
           "11:15"
          ],
          [
           "SABLE F  P",
           55,
           5,
           "11:30"
          ],
          [
           "SABLE F  P",
           66,
           16,
           "11:45"
          ],
          [
           "SABLE F  P",
           69,
           19,
           "12:00"
          ],
          [
           "SABLE F  P",
           58,
           8,
           "12:15"
          ],
          [
           "SABLE F  P",
           53,
           3,
           "12:30"
          ],
          [
           "SABLE F  P",
           55,
           5,
           "12:45"
          ],
          [
           "SABLE F  P",
           51,
           1,
           "16:15"
          ],
          [
           "SABLE F  P",
           52,
           2,
           "16:30"
          ],
          [
           "SABLE F  P",
           52,
           2,
           "16:45"
          ],
          [
           "SABLE F  P",
           53,
           3,
           "17:00"
          ],
          [
           "SABLE F  P",
           51,
           1,
           "17:30"
          ],
          [
           "SABLE F  P",
           51,
           1,
           "17:45"
          ],
          [
           "SABLE F  P",
           51,
           1,
           "18:00"
          ],
          [
           "SABLE F  P",
           56,
           6,
           "18:15"
          ],
          [
           "SABLE F  P",
           51,
           1,
           "18:30"
          ],
          [
           "SABLE F  P",
           51,
           1,
           "18:45"
          ],
          [
           "SABLE F  P",
           51,
           1,
           "19:00"
          ]
         ],
         "hovertemplate": "article=%{customdata[0]}<br>Time=%{customdata[3]}<br>Quantity=%{customdata[2]}<extra></extra>",
         "legendgroup": "SABLE F  P",
         "marker": {
          "color": "#0d0887"
         },
         "name": "SABLE F  P",
         "r": [
          53,
          53,
          52,
          53,
          51,
          52,
          52,
          54,
          52,
          59,
          52,
          51,
          53,
          58,
          57,
          55,
          66,
          69,
          58,
          53,
          55,
          51,
          52,
          52,
          53,
          51,
          51,
          51,
          56,
          51,
          51,
          51
         ],
         "showlegend": true,
         "subplot": "polar",
         "theta": [
          "07:45",
          "08:00",
          "08:15",
          "08:30",
          "08:45",
          "09:00",
          "09:15",
          "09:30",
          "09:45",
          "10:00",
          "10:15",
          "10:30",
          "10:45",
          "11:00",
          "11:15",
          "11:30",
          "11:45",
          "12:00",
          "12:15",
          "12:30",
          "12:45",
          "16:15",
          "16:30",
          "16:45",
          "17:00",
          "17:30",
          "17:45",
          "18:00",
          "18:15",
          "18:30",
          "18:45",
          "19:00"
         ],
         "type": "barpolar"
        },
        {
         "customdata": [
          [
           "SACHET DE CROUTON",
           54,
           4,
           "07:45"
          ],
          [
           "SACHET DE CROUTON",
           53,
           3,
           "08:00"
          ],
          [
           "SACHET DE CROUTON",
           52,
           2,
           "08:15"
          ],
          [
           "SACHET DE CROUTON",
           52,
           2,
           "08:30"
          ],
          [
           "SACHET DE CROUTON",
           51,
           1,
           "08:45"
          ],
          [
           "SACHET DE CROUTON",
           55,
           5,
           "09:15"
          ],
          [
           "SACHET DE CROUTON",
           56,
           6,
           "09:30"
          ],
          [
           "SACHET DE CROUTON",
           51,
           1,
           "09:45"
          ],
          [
           "SACHET DE CROUTON",
           51,
           1,
           "10:00"
          ],
          [
           "SACHET DE CROUTON",
           56,
           6,
           "10:15"
          ],
          [
           "SACHET DE CROUTON",
           53,
           3,
           "10:30"
          ],
          [
           "SACHET DE CROUTON",
           54,
           4,
           "10:45"
          ],
          [
           "SACHET DE CROUTON",
           52,
           2,
           "11:00"
          ],
          [
           "SACHET DE CROUTON",
           56,
           6,
           "11:15"
          ],
          [
           "SACHET DE CROUTON",
           60,
           10,
           "11:30"
          ],
          [
           "SACHET DE CROUTON",
           57,
           7,
           "11:45"
          ],
          [
           "SACHET DE CROUTON",
           58,
           8,
           "12:00"
          ],
          [
           "SACHET DE CROUTON",
           55,
           5,
           "12:15"
          ],
          [
           "SACHET DE CROUTON",
           55,
           5,
           "12:30"
          ],
          [
           "SACHET DE CROUTON",
           52,
           2,
           "13:00"
          ],
          [
           "SACHET DE CROUTON",
           52,
           2,
           "13:30"
          ],
          [
           "SACHET DE CROUTON",
           54,
           4,
           "16:15"
          ],
          [
           "SACHET DE CROUTON",
           54,
           4,
           "16:30"
          ],
          [
           "SACHET DE CROUTON",
           55,
           5,
           "16:45"
          ],
          [
           "SACHET DE CROUTON",
           55,
           5,
           "17:00"
          ],
          [
           "SACHET DE CROUTON",
           54,
           4,
           "17:15"
          ],
          [
           "SACHET DE CROUTON",
           53,
           3,
           "17:30"
          ],
          [
           "SACHET DE CROUTON",
           55,
           5,
           "17:45"
          ],
          [
           "SACHET DE CROUTON",
           52,
           2,
           "18:00"
          ],
          [
           "SACHET DE CROUTON",
           53,
           3,
           "18:30"
          ],
          [
           "SACHET DE CROUTON",
           51,
           1,
           "19:00"
          ]
         ],
         "hovertemplate": "article=%{customdata[0]}<br>Time=%{customdata[3]}<br>Quantity=%{customdata[2]}<extra></extra>",
         "legendgroup": "SACHET DE CROUTON",
         "marker": {
          "color": "#f0f921"
         },
         "name": "SACHET DE CROUTON",
         "r": [
          54,
          53,
          52,
          52,
          51,
          55,
          56,
          51,
          51,
          56,
          53,
          54,
          52,
          56,
          60,
          57,
          58,
          55,
          55,
          52,
          52,
          54,
          54,
          55,
          55,
          54,
          53,
          55,
          52,
          53,
          51
         ],
         "showlegend": true,
         "subplot": "polar",
         "theta": [
          "07:45",
          "08:00",
          "08:15",
          "08:30",
          "08:45",
          "09:15",
          "09:30",
          "09:45",
          "10:00",
          "10:15",
          "10:30",
          "10:45",
          "11:00",
          "11:15",
          "11:30",
          "11:45",
          "12:00",
          "12:15",
          "12:30",
          "13:00",
          "13:30",
          "16:15",
          "16:30",
          "16:45",
          "17:00",
          "17:15",
          "17:30",
          "17:45",
          "18:00",
          "18:30",
          "19:00"
         ],
         "type": "barpolar"
        },
        {
         "customdata": [
          [
           "SAVARIN",
           53,
           3,
           "07:45"
          ],
          [
           "SAVARIN",
           54,
           4,
           "08:00"
          ],
          [
           "SAVARIN",
           52,
           2,
           "08:15"
          ],
          [
           "SAVARIN",
           54,
           4,
           "08:45"
          ],
          [
           "SAVARIN",
           57,
           7,
           "09:00"
          ],
          [
           "SAVARIN",
           64,
           14,
           "09:15"
          ],
          [
           "SAVARIN",
           68,
           18,
           "09:30"
          ],
          [
           "SAVARIN",
           75,
           25,
           "09:45"
          ],
          [
           "SAVARIN",
           71,
           21,
           "10:00"
          ],
          [
           "SAVARIN",
           74,
           24,
           "10:15"
          ],
          [
           "SAVARIN",
           91,
           41,
           "10:30"
          ],
          [
           "SAVARIN",
           77,
           27,
           "10:45"
          ],
          [
           "SAVARIN",
           86,
           36,
           "11:00"
          ],
          [
           "SAVARIN",
           84,
           34,
           "11:15"
          ],
          [
           "SAVARIN",
           90,
           40,
           "11:30"
          ],
          [
           "SAVARIN",
           85,
           35,
           "11:45"
          ],
          [
           "SAVARIN",
           73,
           23,
           "12:00"
          ],
          [
           "SAVARIN",
           78,
           28,
           "12:15"
          ],
          [
           "SAVARIN",
           70,
           20,
           "12:30"
          ],
          [
           "SAVARIN",
           68,
           18,
           "12:45"
          ],
          [
           "SAVARIN",
           60,
           10,
           "13:00"
          ],
          [
           "SAVARIN",
           55,
           5,
           "13:15"
          ],
          [
           "SAVARIN",
           53,
           3,
           "13:30"
          ],
          [
           "SAVARIN",
           52,
           2,
           "14:00"
          ],
          [
           "SAVARIN",
           53,
           3,
           "16:00"
          ],
          [
           "SAVARIN",
           54,
           4,
           "16:30"
          ],
          [
           "SAVARIN",
           52,
           2,
           "16:45"
          ],
          [
           "SAVARIN",
           52,
           2,
           "17:00"
          ],
          [
           "SAVARIN",
           53,
           3,
           "17:30"
          ],
          [
           "SAVARIN",
           51,
           1,
           "18:00"
          ],
          [
           "SAVARIN",
           52,
           2,
           "18:15"
          ],
          [
           "SAVARIN",
           53,
           3,
           "18:30"
          ],
          [
           "SAVARIN",
           53,
           3,
           "18:45"
          ]
         ],
         "hovertemplate": "article=%{customdata[0]}<br>Time=%{customdata[3]}<br>Quantity=%{customdata[2]}<extra></extra>",
         "legendgroup": "SAVARIN",
         "marker": {
          "color": "#fdca26"
         },
         "name": "SAVARIN",
         "r": [
          53,
          54,
          52,
          54,
          57,
          64,
          68,
          75,
          71,
          74,
          91,
          77,
          86,
          84,
          90,
          85,
          73,
          78,
          70,
          68,
          60,
          55,
          53,
          52,
          53,
          54,
          52,
          52,
          53,
          51,
          52,
          53,
          53
         ],
         "showlegend": true,
         "subplot": "polar",
         "theta": [
          "07:45",
          "08:00",
          "08:15",
          "08:45",
          "09:00",
          "09:15",
          "09:30",
          "09:45",
          "10:00",
          "10:15",
          "10:30",
          "10:45",
          "11:00",
          "11:15",
          "11:30",
          "11:45",
          "12:00",
          "12:15",
          "12:30",
          "12:45",
          "13:00",
          "13:15",
          "13:30",
          "14:00",
          "16:00",
          "16:30",
          "16:45",
          "17:00",
          "17:30",
          "18:00",
          "18:15",
          "18:30",
          "18:45"
         ],
         "type": "barpolar"
        },
        {
         "customdata": [
          [
           "SEIGLE",
           59,
           9,
           "07:45"
          ],
          [
           "SEIGLE",
           57,
           7,
           "08:00"
          ],
          [
           "SEIGLE",
           60,
           10,
           "08:15"
          ],
          [
           "SEIGLE",
           64,
           14,
           "08:30"
          ],
          [
           "SEIGLE",
           81,
           31,
           "08:45"
          ],
          [
           "SEIGLE",
           82,
           32,
           "09:00"
          ],
          [
           "SEIGLE",
           78,
           28,
           "09:15"
          ],
          [
           "SEIGLE",
           86,
           36,
           "09:30"
          ],
          [
           "SEIGLE",
           95,
           45,
           "09:45"
          ],
          [
           "SEIGLE",
           155,
           105,
           "10:00"
          ],
          [
           "SEIGLE",
           196,
           146,
           "10:15"
          ],
          [
           "SEIGLE",
           127,
           77,
           "10:30"
          ],
          [
           "SEIGLE",
           110,
           60,
           "10:45"
          ],
          [
           "SEIGLE",
           119,
           69,
           "11:00"
          ],
          [
           "SEIGLE",
           134,
           84,
           "11:15"
          ],
          [
           "SEIGLE",
           120,
           70,
           "11:30"
          ],
          [
           "SEIGLE",
           94,
           44,
           "11:45"
          ],
          [
           "SEIGLE",
           116,
           66,
           "12:00"
          ],
          [
           "SEIGLE",
           115,
           65,
           "12:15"
          ],
          [
           "SEIGLE",
           95,
           45,
           "12:30"
          ],
          [
           "SEIGLE",
           87,
           37,
           "12:45"
          ],
          [
           "SEIGLE",
           70,
           20,
           "13:00"
          ],
          [
           "SEIGLE",
           61,
           11,
           "13:15"
          ],
          [
           "SEIGLE",
           57,
           7,
           "13:30"
          ],
          [
           "SEIGLE",
           53,
           3,
           "13:45"
          ],
          [
           "SEIGLE",
           55,
           5,
           "16:00"
          ],
          [
           "SEIGLE",
           66,
           16,
           "16:15"
          ],
          [
           "SEIGLE",
           70,
           20,
           "16:30"
          ],
          [
           "SEIGLE",
           64,
           14,
           "16:45"
          ],
          [
           "SEIGLE",
           97,
           47,
           "17:00"
          ],
          [
           "SEIGLE",
           79,
           29,
           "17:15"
          ],
          [
           "SEIGLE",
           68,
           18,
           "17:30"
          ],
          [
           "SEIGLE",
           80,
           30,
           "17:45"
          ],
          [
           "SEIGLE",
           76,
           26,
           "18:00"
          ],
          [
           "SEIGLE",
           80,
           30,
           "18:15"
          ],
          [
           "SEIGLE",
           75,
           25,
           "18:30"
          ],
          [
           "SEIGLE",
           68,
           18,
           "18:45"
          ],
          [
           "SEIGLE",
           68,
           18,
           "19:00"
          ],
          [
           "SEIGLE",
           52,
           2,
           "19:15"
          ],
          [
           "SEIGLE",
           53,
           3,
           "19:45"
          ]
         ],
         "hovertemplate": "article=%{customdata[0]}<br>Time=%{customdata[3]}<br>Quantity=%{customdata[2]}<extra></extra>",
         "legendgroup": "SEIGLE",
         "marker": {
          "color": "#fb9f3a"
         },
         "name": "SEIGLE",
         "r": [
          59,
          57,
          60,
          64,
          81,
          82,
          78,
          86,
          95,
          155,
          196,
          127,
          110,
          119,
          134,
          120,
          94,
          116,
          115,
          95,
          87,
          70,
          61,
          57,
          53,
          55,
          66,
          70,
          64,
          97,
          79,
          68,
          80,
          76,
          80,
          75,
          68,
          68,
          52,
          53
         ],
         "showlegend": true,
         "subplot": "polar",
         "theta": [
          "07:45",
          "08:00",
          "08:15",
          "08:30",
          "08:45",
          "09:00",
          "09:15",
          "09:30",
          "09:45",
          "10:00",
          "10:15",
          "10:30",
          "10:45",
          "11:00",
          "11:15",
          "11:30",
          "11:45",
          "12:00",
          "12:15",
          "12:30",
          "12:45",
          "13:00",
          "13:15",
          "13:30",
          "13:45",
          "16:00",
          "16:15",
          "16:30",
          "16:45",
          "17:00",
          "17:15",
          "17:30",
          "17:45",
          "18:00",
          "18:15",
          "18:30",
          "18:45",
          "19:00",
          "19:15",
          "19:45"
         ],
         "type": "barpolar"
        },
        {
         "customdata": [
          [
           "ST HONORE",
           51,
           1,
           "07:45"
          ],
          [
           "ST HONORE",
           52,
           2,
           "08:15"
          ],
          [
           "ST HONORE",
           55,
           5,
           "08:30"
          ],
          [
           "ST HONORE",
           51,
           1,
           "08:45"
          ],
          [
           "ST HONORE",
           52,
           2,
           "09:00"
          ],
          [
           "ST HONORE",
           52,
           2,
           "09:15"
          ],
          [
           "ST HONORE",
           52,
           2,
           "09:45"
          ],
          [
           "ST HONORE",
           51,
           1,
           "10:00"
          ],
          [
           "ST HONORE",
           59,
           9,
           "10:30"
          ],
          [
           "ST HONORE",
           57,
           7,
           "10:45"
          ],
          [
           "ST HONORE",
           57,
           7,
           "11:00"
          ],
          [
           "ST HONORE",
           59,
           9,
           "11:15"
          ],
          [
           "ST HONORE",
           58,
           8,
           "11:30"
          ],
          [
           "ST HONORE",
           55,
           5,
           "11:45"
          ],
          [
           "ST HONORE",
           60,
           10,
           "12:00"
          ],
          [
           "ST HONORE",
           59,
           9,
           "12:15"
          ],
          [
           "ST HONORE",
           57,
           7,
           "12:30"
          ],
          [
           "ST HONORE",
           58,
           8,
           "12:45"
          ],
          [
           "ST HONORE",
           52,
           2,
           "13:00"
          ],
          [
           "ST HONORE",
           51,
           1,
           "13:30"
          ],
          [
           "ST HONORE",
           51,
           1,
           "16:15"
          ],
          [
           "ST HONORE",
           51,
           1,
           "16:30"
          ],
          [
           "ST HONORE",
           54,
           4,
           "16:45"
          ],
          [
           "ST HONORE",
           52,
           2,
           "17:00"
          ],
          [
           "ST HONORE",
           51,
           1,
           "17:45"
          ],
          [
           "ST HONORE",
           51,
           1,
           "18:00"
          ],
          [
           "ST HONORE",
           52,
           2,
           "19:15"
          ]
         ],
         "hovertemplate": "article=%{customdata[0]}<br>Time=%{customdata[3]}<br>Quantity=%{customdata[2]}<extra></extra>",
         "legendgroup": "ST HONORE",
         "marker": {
          "color": "#ed7953"
         },
         "name": "ST HONORE",
         "r": [
          51,
          52,
          55,
          51,
          52,
          52,
          52,
          51,
          59,
          57,
          57,
          59,
          58,
          55,
          60,
          59,
          57,
          58,
          52,
          51,
          51,
          51,
          54,
          52,
          51,
          51,
          52
         ],
         "showlegend": true,
         "subplot": "polar",
         "theta": [
          "07:45",
          "08:15",
          "08:30",
          "08:45",
          "09:00",
          "09:15",
          "09:45",
          "10:00",
          "10:30",
          "10:45",
          "11:00",
          "11:15",
          "11:30",
          "11:45",
          "12:00",
          "12:15",
          "12:30",
          "12:45",
          "13:00",
          "13:30",
          "16:15",
          "16:30",
          "16:45",
          "17:00",
          "17:45",
          "18:00",
          "19:15"
         ],
         "type": "barpolar"
        },
        {
         "customdata": [
          [
           "SUCETTE",
           54,
           4,
           "07:45"
          ],
          [
           "SUCETTE",
           55,
           5,
           "08:00"
          ],
          [
           "SUCETTE",
           61,
           11,
           "08:15"
          ],
          [
           "SUCETTE",
           62,
           12,
           "08:30"
          ],
          [
           "SUCETTE",
           66,
           16,
           "08:45"
          ],
          [
           "SUCETTE",
           59,
           9,
           "09:00"
          ],
          [
           "SUCETTE",
           70,
           20,
           "09:15"
          ],
          [
           "SUCETTE",
           66,
           16,
           "09:30"
          ],
          [
           "SUCETTE",
           70,
           20,
           "09:45"
          ],
          [
           "SUCETTE",
           72,
           22,
           "10:00"
          ],
          [
           "SUCETTE",
           78,
           28,
           "10:15"
          ],
          [
           "SUCETTE",
           72,
           22,
           "10:30"
          ],
          [
           "SUCETTE",
           88,
           38,
           "10:45"
          ],
          [
           "SUCETTE",
           92,
           42,
           "11:00"
          ],
          [
           "SUCETTE",
           99,
           49,
           "11:15"
          ],
          [
           "SUCETTE",
           106,
           56,
           "11:30"
          ],
          [
           "SUCETTE",
           101,
           51,
           "11:45"
          ],
          [
           "SUCETTE",
           103,
           53,
           "12:00"
          ],
          [
           "SUCETTE",
           122,
           72,
           "12:15"
          ],
          [
           "SUCETTE",
           80,
           30,
           "12:30"
          ],
          [
           "SUCETTE",
           119,
           69,
           "12:45"
          ],
          [
           "SUCETTE",
           108,
           58,
           "13:00"
          ],
          [
           "SUCETTE",
           52,
           2,
           "13:15"
          ],
          [
           "SUCETTE",
           54,
           4,
           "13:30"
          ],
          [
           "SUCETTE",
           54,
           4,
           "13:45"
          ],
          [
           "SUCETTE",
           51,
           1,
           "14:00"
          ],
          [
           "SUCETTE",
           55,
           5,
           "16:00"
          ],
          [
           "SUCETTE",
           81,
           31,
           "16:15"
          ],
          [
           "SUCETTE",
           74,
           24,
           "16:30"
          ],
          [
           "SUCETTE",
           69,
           19,
           "16:45"
          ],
          [
           "SUCETTE",
           79,
           29,
           "17:00"
          ],
          [
           "SUCETTE",
           83,
           33,
           "17:15"
          ],
          [
           "SUCETTE",
           87,
           37,
           "17:30"
          ],
          [
           "SUCETTE",
           89,
           39,
           "17:45"
          ],
          [
           "SUCETTE",
           108,
           58,
           "18:00"
          ],
          [
           "SUCETTE",
           77,
           27,
           "18:15"
          ],
          [
           "SUCETTE",
           65,
           15,
           "18:30"
          ],
          [
           "SUCETTE",
           64,
           14,
           "18:45"
          ],
          [
           "SUCETTE",
           60,
           10,
           "19:00"
          ],
          [
           "SUCETTE",
           52,
           2,
           "19:15"
          ],
          [
           "SUCETTE",
           54,
           4,
           "19:30"
          ]
         ],
         "hovertemplate": "article=%{customdata[0]}<br>Time=%{customdata[3]}<br>Quantity=%{customdata[2]}<extra></extra>",
         "legendgroup": "SUCETTE",
         "marker": {
          "color": "#d8576b"
         },
         "name": "SUCETTE",
         "r": [
          54,
          55,
          61,
          62,
          66,
          59,
          70,
          66,
          70,
          72,
          78,
          72,
          88,
          92,
          99,
          106,
          101,
          103,
          122,
          80,
          119,
          108,
          52,
          54,
          54,
          51,
          55,
          81,
          74,
          69,
          79,
          83,
          87,
          89,
          108,
          77,
          65,
          64,
          60,
          52,
          54
         ],
         "showlegend": true,
         "subplot": "polar",
         "theta": [
          "07:45",
          "08:00",
          "08:15",
          "08:30",
          "08:45",
          "09:00",
          "09:15",
          "09:30",
          "09:45",
          "10:00",
          "10:15",
          "10:30",
          "10:45",
          "11:00",
          "11:15",
          "11:30",
          "11:45",
          "12:00",
          "12:15",
          "12:30",
          "12:45",
          "13:00",
          "13:15",
          "13:30",
          "13:45",
          "14:00",
          "16:00",
          "16:15",
          "16:30",
          "16:45",
          "17:00",
          "17:15",
          "17:30",
          "17:45",
          "18:00",
          "18:15",
          "18:30",
          "18:45",
          "19:00",
          "19:15",
          "19:30"
         ],
         "type": "barpolar"
        },
        {
         "customdata": [
          [
           "TARTE FINE",
           51,
           1,
           "07:45"
          ],
          [
           "TARTE FINE",
           52,
           2,
           "08:45"
          ],
          [
           "TARTE FINE",
           52,
           2,
           "09:00"
          ],
          [
           "TARTE FINE",
           51,
           1,
           "09:30"
          ],
          [
           "TARTE FINE",
           53,
           3,
           "09:45"
          ],
          [
           "TARTE FINE",
           51,
           1,
           "10:00"
          ],
          [
           "TARTE FINE",
           55,
           5,
           "10:15"
          ],
          [
           "TARTE FINE",
           56,
           6,
           "10:30"
          ],
          [
           "TARTE FINE",
           54,
           4,
           "10:45"
          ],
          [
           "TARTE FINE",
           56,
           6,
           "11:00"
          ],
          [
           "TARTE FINE",
           56,
           6,
           "11:15"
          ],
          [
           "TARTE FINE",
           58,
           8,
           "11:30"
          ],
          [
           "TARTE FINE",
           53,
           3,
           "11:45"
          ],
          [
           "TARTE FINE",
           55,
           5,
           "12:00"
          ],
          [
           "TARTE FINE",
           52,
           2,
           "12:15"
          ],
          [
           "TARTE FINE",
           53,
           3,
           "12:30"
          ],
          [
           "TARTE FINE",
           51,
           1,
           "12:45"
          ],
          [
           "TARTE FINE",
           51,
           1,
           "16:00"
          ],
          [
           "TARTE FINE",
           51,
           1,
           "16:15"
          ],
          [
           "TARTE FINE",
           51,
           1,
           "17:00"
          ],
          [
           "TARTE FINE",
           51,
           1,
           "18:15"
          ],
          [
           "TARTE FINE",
           52,
           2,
           "18:45"
          ]
         ],
         "hovertemplate": "article=%{customdata[0]}<br>Time=%{customdata[3]}<br>Quantity=%{customdata[2]}<extra></extra>",
         "legendgroup": "TARTE FINE",
         "marker": {
          "color": "#bd3786"
         },
         "name": "TARTE FINE",
         "r": [
          51,
          52,
          52,
          51,
          53,
          51,
          55,
          56,
          54,
          56,
          56,
          58,
          53,
          55,
          52,
          53,
          51,
          51,
          51,
          51,
          51,
          52
         ],
         "showlegend": true,
         "subplot": "polar",
         "theta": [
          "07:45",
          "08:45",
          "09:00",
          "09:30",
          "09:45",
          "10:00",
          "10:15",
          "10:30",
          "10:45",
          "11:00",
          "11:15",
          "11:30",
          "11:45",
          "12:00",
          "12:15",
          "12:30",
          "12:45",
          "16:00",
          "16:15",
          "17:00",
          "18:15",
          "18:45"
         ],
         "type": "barpolar"
        },
        {
         "customdata": [
          [
           "TARTE FRUITS 4P",
           52,
           2,
           "07:45"
          ],
          [
           "TARTE FRUITS 4P",
           53,
           3,
           "08:00"
          ],
          [
           "TARTE FRUITS 4P",
           60,
           10,
           "08:15"
          ],
          [
           "TARTE FRUITS 4P",
           54,
           4,
           "08:30"
          ],
          [
           "TARTE FRUITS 4P",
           56,
           6,
           "08:45"
          ],
          [
           "TARTE FRUITS 4P",
           57,
           7,
           "09:00"
          ],
          [
           "TARTE FRUITS 4P",
           59,
           9,
           "09:15"
          ],
          [
           "TARTE FRUITS 4P",
           61,
           11,
           "09:30"
          ],
          [
           "TARTE FRUITS 4P",
           72,
           22,
           "09:45"
          ],
          [
           "TARTE FRUITS 4P",
           69,
           19,
           "10:00"
          ],
          [
           "TARTE FRUITS 4P",
           68,
           18,
           "10:15"
          ],
          [
           "TARTE FRUITS 4P",
           73,
           23,
           "10:30"
          ],
          [
           "TARTE FRUITS 4P",
           81,
           31,
           "10:45"
          ],
          [
           "TARTE FRUITS 4P",
           80,
           30,
           "11:00"
          ],
          [
           "TARTE FRUITS 4P",
           75,
           25,
           "11:15"
          ],
          [
           "TARTE FRUITS 4P",
           70,
           20,
           "11:30"
          ],
          [
           "TARTE FRUITS 4P",
           69,
           19,
           "11:45"
          ],
          [
           "TARTE FRUITS 4P",
           71,
           21,
           "12:00"
          ],
          [
           "TARTE FRUITS 4P",
           68,
           18,
           "12:15"
          ],
          [
           "TARTE FRUITS 4P",
           69,
           19,
           "12:30"
          ],
          [
           "TARTE FRUITS 4P",
           61,
           11,
           "12:45"
          ],
          [
           "TARTE FRUITS 4P",
           64,
           14,
           "13:00"
          ],
          [
           "TARTE FRUITS 4P",
           52,
           2,
           "13:15"
          ],
          [
           "TARTE FRUITS 4P",
           52,
           2,
           "16:00"
          ],
          [
           "TARTE FRUITS 4P",
           54,
           4,
           "16:15"
          ],
          [
           "TARTE FRUITS 4P",
           51,
           1,
           "16:30"
          ],
          [
           "TARTE FRUITS 4P",
           58,
           8,
           "16:45"
          ],
          [
           "TARTE FRUITS 4P",
           52,
           2,
           "17:00"
          ],
          [
           "TARTE FRUITS 4P",
           55,
           5,
           "17:15"
          ],
          [
           "TARTE FRUITS 4P",
           52,
           2,
           "17:30"
          ],
          [
           "TARTE FRUITS 4P",
           53,
           3,
           "17:45"
          ],
          [
           "TARTE FRUITS 4P",
           55,
           5,
           "18:00"
          ],
          [
           "TARTE FRUITS 4P",
           52,
           2,
           "18:15"
          ],
          [
           "TARTE FRUITS 4P",
           52,
           2,
           "18:45"
          ]
         ],
         "hovertemplate": "article=%{customdata[0]}<br>Time=%{customdata[3]}<br>Quantity=%{customdata[2]}<extra></extra>",
         "legendgroup": "TARTE FRUITS 4P",
         "marker": {
          "color": "#9c179e"
         },
         "name": "TARTE FRUITS 4P",
         "r": [
          52,
          53,
          60,
          54,
          56,
          57,
          59,
          61,
          72,
          69,
          68,
          73,
          81,
          80,
          75,
          70,
          69,
          71,
          68,
          69,
          61,
          64,
          52,
          52,
          54,
          51,
          58,
          52,
          55,
          52,
          53,
          55,
          52,
          52
         ],
         "showlegend": true,
         "subplot": "polar",
         "theta": [
          "07:45",
          "08:00",
          "08:15",
          "08:30",
          "08:45",
          "09:00",
          "09:15",
          "09:30",
          "09:45",
          "10:00",
          "10:15",
          "10:30",
          "10:45",
          "11:00",
          "11:15",
          "11:30",
          "11:45",
          "12:00",
          "12:15",
          "12:30",
          "12:45",
          "13:00",
          "13:15",
          "16:00",
          "16:15",
          "16:30",
          "16:45",
          "17:00",
          "17:15",
          "17:30",
          "17:45",
          "18:00",
          "18:15",
          "18:45"
         ],
         "type": "barpolar"
        },
        {
         "customdata": [
          [
           "TARTE FRUITS 6P",
           51,
           1,
           "07:45"
          ],
          [
           "TARTE FRUITS 6P",
           52,
           2,
           "08:00"
          ],
          [
           "TARTE FRUITS 6P",
           51,
           1,
           "08:15"
          ],
          [
           "TARTE FRUITS 6P",
           52,
           2,
           "08:30"
          ],
          [
           "TARTE FRUITS 6P",
           53,
           3,
           "08:45"
          ],
          [
           "TARTE FRUITS 6P",
           59,
           9,
           "09:00"
          ],
          [
           "TARTE FRUITS 6P",
           58,
           8,
           "09:15"
          ],
          [
           "TARTE FRUITS 6P",
           60,
           10,
           "09:30"
          ],
          [
           "TARTE FRUITS 6P",
           70,
           20,
           "09:45"
          ],
          [
           "TARTE FRUITS 6P",
           74,
           24,
           "10:00"
          ],
          [
           "TARTE FRUITS 6P",
           70,
           20,
           "10:15"
          ],
          [
           "TARTE FRUITS 6P",
           64,
           14,
           "10:30"
          ],
          [
           "TARTE FRUITS 6P",
           61,
           11,
           "10:45"
          ],
          [
           "TARTE FRUITS 6P",
           74,
           24,
           "11:00"
          ],
          [
           "TARTE FRUITS 6P",
           70,
           20,
           "11:15"
          ],
          [
           "TARTE FRUITS 6P",
           73,
           23,
           "11:30"
          ],
          [
           "TARTE FRUITS 6P",
           66,
           16,
           "11:45"
          ],
          [
           "TARTE FRUITS 6P",
           61,
           11,
           "12:00"
          ],
          [
           "TARTE FRUITS 6P",
           62,
           12,
           "12:15"
          ],
          [
           "TARTE FRUITS 6P",
           68,
           18,
           "12:30"
          ],
          [
           "TARTE FRUITS 6P",
           58,
           8,
           "12:45"
          ],
          [
           "TARTE FRUITS 6P",
           53,
           3,
           "13:00"
          ],
          [
           "TARTE FRUITS 6P",
           52,
           2,
           "13:15"
          ],
          [
           "TARTE FRUITS 6P",
           51,
           1,
           "13:30"
          ],
          [
           "TARTE FRUITS 6P",
           52,
           2,
           "16:15"
          ],
          [
           "TARTE FRUITS 6P",
           52,
           2,
           "16:45"
          ],
          [
           "TARTE FRUITS 6P",
           52,
           2,
           "17:15"
          ],
          [
           "TARTE FRUITS 6P",
           51,
           1,
           "17:30"
          ],
          [
           "TARTE FRUITS 6P",
           54,
           4,
           "17:45"
          ],
          [
           "TARTE FRUITS 6P",
           53,
           3,
           "18:15"
          ],
          [
           "TARTE FRUITS 6P",
           52,
           2,
           "18:30"
          ],
          [
           "TARTE FRUITS 6P",
           52,
           2,
           "18:45"
          ],
          [
           "TARTE FRUITS 6P",
           52,
           2,
           "19:00"
          ]
         ],
         "hovertemplate": "article=%{customdata[0]}<br>Time=%{customdata[3]}<br>Quantity=%{customdata[2]}<extra></extra>",
         "legendgroup": "TARTE FRUITS 6P",
         "marker": {
          "color": "#7201a8"
         },
         "name": "TARTE FRUITS 6P",
         "r": [
          51,
          52,
          51,
          52,
          53,
          59,
          58,
          60,
          70,
          74,
          70,
          64,
          61,
          74,
          70,
          73,
          66,
          61,
          62,
          68,
          58,
          53,
          52,
          51,
          52,
          52,
          52,
          51,
          54,
          53,
          52,
          52,
          52
         ],
         "showlegend": true,
         "subplot": "polar",
         "theta": [
          "07:45",
          "08:00",
          "08:15",
          "08:30",
          "08:45",
          "09:00",
          "09:15",
          "09:30",
          "09:45",
          "10:00",
          "10:15",
          "10:30",
          "10:45",
          "11:00",
          "11:15",
          "11:30",
          "11:45",
          "12:00",
          "12:15",
          "12:30",
          "12:45",
          "13:00",
          "13:15",
          "13:30",
          "16:15",
          "16:45",
          "17:15",
          "17:30",
          "17:45",
          "18:15",
          "18:30",
          "18:45",
          "19:00"
         ],
         "type": "barpolar"
        },
        {
         "customdata": [
          [
           "THE",
           51,
           1,
           "07:45"
          ],
          [
           "THE",
           51,
           1,
           "09:45"
          ],
          [
           "THE",
           52,
           2,
           "10:30"
          ],
          [
           "THE",
           51,
           1,
           "11:00"
          ],
          [
           "THE",
           52,
           2,
           "17:15"
          ]
         ],
         "hovertemplate": "article=%{customdata[0]}<br>Time=%{customdata[3]}<br>Quantity=%{customdata[2]}<extra></extra>",
         "legendgroup": "THE",
         "marker": {
          "color": "#46039f"
         },
         "name": "THE",
         "r": [
          51,
          51,
          52,
          51,
          52
         ],
         "showlegend": true,
         "subplot": "polar",
         "theta": [
          "07:45",
          "09:45",
          "10:30",
          "11:00",
          "17:15"
         ],
         "type": "barpolar"
        },
        {
         "customdata": [
          [
           "TROPEZIENNE FRAMBOISE",
           51,
           1,
           "07:45"
          ],
          [
           "TROPEZIENNE FRAMBOISE",
           54,
           4,
           "09:30"
          ],
          [
           "TROPEZIENNE FRAMBOISE",
           52,
           2,
           "10:00"
          ],
          [
           "TROPEZIENNE FRAMBOISE",
           51,
           1,
           "10:30"
          ],
          [
           "TROPEZIENNE FRAMBOISE",
           51,
           1,
           "11:15"
          ],
          [
           "TROPEZIENNE FRAMBOISE",
           56,
           6,
           "11:30"
          ],
          [
           "TROPEZIENNE FRAMBOISE",
           52,
           2,
           "11:45"
          ],
          [
           "TROPEZIENNE FRAMBOISE",
           52,
           2,
           "12:00"
          ],
          [
           "TROPEZIENNE FRAMBOISE",
           52,
           2,
           "12:15"
          ],
          [
           "TROPEZIENNE FRAMBOISE",
           53,
           3,
           "12:30"
          ],
          [
           "TROPEZIENNE FRAMBOISE",
           51,
           1,
           "13:00"
          ],
          [
           "TROPEZIENNE FRAMBOISE",
           51,
           1,
           "13:15"
          ],
          [
           "TROPEZIENNE FRAMBOISE",
           51,
           1,
           "13:30"
          ],
          [
           "TROPEZIENNE FRAMBOISE",
           51,
           1,
           "13:45"
          ],
          [
           "TROPEZIENNE FRAMBOISE",
           51,
           1,
           "17:00"
          ],
          [
           "TROPEZIENNE FRAMBOISE",
           51,
           1,
           "17:15"
          ],
          [
           "TROPEZIENNE FRAMBOISE",
           51,
           1,
           "17:30"
          ],
          [
           "TROPEZIENNE FRAMBOISE",
           51,
           1,
           "17:45"
          ],
          [
           "TROPEZIENNE FRAMBOISE",
           51,
           1,
           "18:00"
          ]
         ],
         "hovertemplate": "article=%{customdata[0]}<br>Time=%{customdata[3]}<br>Quantity=%{customdata[2]}<extra></extra>",
         "legendgroup": "TROPEZIENNE FRAMBOISE",
         "marker": {
          "color": "#0d0887"
         },
         "name": "TROPEZIENNE FRAMBOISE",
         "r": [
          51,
          54,
          52,
          51,
          51,
          56,
          52,
          52,
          52,
          53,
          51,
          51,
          51,
          51,
          51,
          51,
          51,
          51,
          51
         ],
         "showlegend": true,
         "subplot": "polar",
         "theta": [
          "07:45",
          "09:30",
          "10:00",
          "10:30",
          "11:15",
          "11:30",
          "11:45",
          "12:00",
          "12:15",
          "12:30",
          "13:00",
          "13:15",
          "13:30",
          "13:45",
          "17:00",
          "17:15",
          "17:30",
          "17:45",
          "18:00"
         ],
         "type": "barpolar"
        },
        {
         "customdata": [
          [
           "FINANCIER",
           50,
           0,
           "08:00"
          ],
          [
           "FINANCIER",
           51,
           1,
           "09:30"
          ],
          [
           "FINANCIER",
           51,
           1,
           "10:30"
          ],
          [
           "FINANCIER",
           54,
           4,
           "10:45"
          ],
          [
           "FINANCIER",
           51,
           1,
           "11:00"
          ],
          [
           "FINANCIER",
           52,
           2,
           "11:15"
          ],
          [
           "FINANCIER",
           51,
           1,
           "12:15"
          ],
          [
           "FINANCIER",
           51,
           1,
           "13:00"
          ],
          [
           "FINANCIER",
           52,
           2,
           "13:30"
          ],
          [
           "FINANCIER",
           51,
           1,
           "16:30"
          ],
          [
           "FINANCIER",
           52,
           2,
           "17:00"
          ],
          [
           "FINANCIER",
           51,
           1,
           "17:30"
          ],
          [
           "FINANCIER",
           51,
           1,
           "17:45"
          ],
          [
           "FINANCIER",
           51,
           1,
           "18:15"
          ],
          [
           "FINANCIER",
           51,
           1,
           "18:45"
          ]
         ],
         "hovertemplate": "article=%{customdata[0]}<br>Time=%{customdata[3]}<br>Quantity=%{customdata[2]}<extra></extra>",
         "legendgroup": "FINANCIER",
         "marker": {
          "color": "#f0f921"
         },
         "name": "FINANCIER",
         "r": [
          50,
          51,
          51,
          54,
          51,
          52,
          51,
          51,
          52,
          51,
          52,
          51,
          51,
          51,
          51
         ],
         "showlegend": true,
         "subplot": "polar",
         "theta": [
          "08:00",
          "09:30",
          "10:30",
          "10:45",
          "11:00",
          "11:15",
          "12:15",
          "13:00",
          "13:30",
          "16:30",
          "17:00",
          "17:30",
          "17:45",
          "18:15",
          "18:45"
         ],
         "type": "barpolar"
        },
        {
         "customdata": [
          [
           "GD NANTAIS",
           55,
           5,
           "08:00"
          ],
          [
           "GD NANTAIS",
           51,
           1,
           "08:30"
          ],
          [
           "GD NANTAIS",
           53,
           3,
           "08:45"
          ],
          [
           "GD NANTAIS",
           55,
           5,
           "09:00"
          ],
          [
           "GD NANTAIS",
           52,
           2,
           "09:45"
          ],
          [
           "GD NANTAIS",
           52,
           2,
           "10:00"
          ],
          [
           "GD NANTAIS",
           54,
           4,
           "10:15"
          ],
          [
           "GD NANTAIS",
           54,
           4,
           "10:30"
          ],
          [
           "GD NANTAIS",
           52,
           2,
           "10:45"
          ],
          [
           "GD NANTAIS",
           55,
           5,
           "11:00"
          ],
          [
           "GD NANTAIS",
           56,
           6,
           "11:15"
          ],
          [
           "GD NANTAIS",
           54,
           4,
           "11:30"
          ],
          [
           "GD NANTAIS",
           60,
           10,
           "11:45"
          ],
          [
           "GD NANTAIS",
           51,
           1,
           "12:00"
          ],
          [
           "GD NANTAIS",
           56,
           6,
           "12:15"
          ],
          [
           "GD NANTAIS",
           69,
           19,
           "12:30"
          ],
          [
           "GD NANTAIS",
           54,
           4,
           "12:45"
          ],
          [
           "GD NANTAIS",
           53,
           3,
           "13:00"
          ],
          [
           "GD NANTAIS",
           57,
           7,
           "16:15"
          ],
          [
           "GD NANTAIS",
           51,
           1,
           "16:30"
          ],
          [
           "GD NANTAIS",
           52,
           2,
           "17:15"
          ],
          [
           "GD NANTAIS",
           53,
           3,
           "17:30"
          ],
          [
           "GD NANTAIS",
           54,
           4,
           "18:15"
          ],
          [
           "GD NANTAIS",
           52,
           2,
           "18:45"
          ],
          [
           "GD NANTAIS",
           52,
           2,
           "19:00"
          ],
          [
           "GD NANTAIS",
           52,
           2,
           "19:15"
          ]
         ],
         "hovertemplate": "article=%{customdata[0]}<br>Time=%{customdata[3]}<br>Quantity=%{customdata[2]}<extra></extra>",
         "legendgroup": "GD NANTAIS",
         "marker": {
          "color": "#fdca26"
         },
         "name": "GD NANTAIS",
         "r": [
          55,
          51,
          53,
          55,
          52,
          52,
          54,
          54,
          52,
          55,
          56,
          54,
          60,
          51,
          56,
          69,
          54,
          53,
          57,
          51,
          52,
          53,
          54,
          52,
          52,
          52
         ],
         "showlegend": true,
         "subplot": "polar",
         "theta": [
          "08:00",
          "08:30",
          "08:45",
          "09:00",
          "09:45",
          "10:00",
          "10:15",
          "10:30",
          "10:45",
          "11:00",
          "11:15",
          "11:30",
          "11:45",
          "12:00",
          "12:15",
          "12:30",
          "12:45",
          "13:00",
          "16:15",
          "16:30",
          "17:15",
          "17:30",
          "18:15",
          "18:45",
          "19:00",
          "19:15"
         ],
         "type": "barpolar"
        },
        {
         "customdata": [
          [
           "MERINGUE",
           51,
           1,
           "08:00"
          ],
          [
           "MERINGUE",
           51,
           1,
           "08:15"
          ],
          [
           "MERINGUE",
           54,
           4,
           "09:00"
          ],
          [
           "MERINGUE",
           51,
           1,
           "09:15"
          ],
          [
           "MERINGUE",
           53,
           3,
           "09:30"
          ],
          [
           "MERINGUE",
           54,
           4,
           "09:45"
          ],
          [
           "MERINGUE",
           51,
           1,
           "10:15"
          ],
          [
           "MERINGUE",
           51,
           1,
           "10:30"
          ],
          [
           "MERINGUE",
           51,
           1,
           "10:45"
          ],
          [
           "MERINGUE",
           57,
           7,
           "11:00"
          ],
          [
           "MERINGUE",
           54,
           4,
           "11:15"
          ],
          [
           "MERINGUE",
           58,
           8,
           "11:30"
          ],
          [
           "MERINGUE",
           51,
           1,
           "11:45"
          ],
          [
           "MERINGUE",
           52,
           2,
           "12:00"
          ],
          [
           "MERINGUE",
           51,
           1,
           "12:15"
          ],
          [
           "MERINGUE",
           54,
           4,
           "12:30"
          ],
          [
           "MERINGUE",
           53,
           3,
           "12:45"
          ],
          [
           "MERINGUE",
           51,
           1,
           "16:00"
          ],
          [
           "MERINGUE",
           55,
           5,
           "16:15"
          ],
          [
           "MERINGUE",
           52,
           2,
           "16:45"
          ],
          [
           "MERINGUE",
           54,
           4,
           "17:00"
          ],
          [
           "MERINGUE",
           51,
           1,
           "17:15"
          ],
          [
           "MERINGUE",
           51,
           1,
           "17:30"
          ],
          [
           "MERINGUE",
           53,
           3,
           "17:45"
          ],
          [
           "MERINGUE",
           51,
           1,
           "18:30"
          ]
         ],
         "hovertemplate": "article=%{customdata[0]}<br>Time=%{customdata[3]}<br>Quantity=%{customdata[2]}<extra></extra>",
         "legendgroup": "MERINGUE",
         "marker": {
          "color": "#fb9f3a"
         },
         "name": "MERINGUE",
         "r": [
          51,
          51,
          54,
          51,
          53,
          54,
          51,
          51,
          51,
          57,
          54,
          58,
          51,
          52,
          51,
          54,
          53,
          51,
          55,
          52,
          54,
          51,
          51,
          53,
          51
         ],
         "showlegend": true,
         "subplot": "polar",
         "theta": [
          "08:00",
          "08:15",
          "09:00",
          "09:15",
          "09:30",
          "09:45",
          "10:15",
          "10:30",
          "10:45",
          "11:00",
          "11:15",
          "11:30",
          "11:45",
          "12:00",
          "12:15",
          "12:30",
          "12:45",
          "16:00",
          "16:15",
          "16:45",
          "17:00",
          "17:15",
          "17:30",
          "17:45",
          "18:30"
         ],
         "type": "barpolar"
        },
        {
         "customdata": [
          [
           "PAIN SUISSE PEPITO",
           52,
           2,
           "08:00"
          ],
          [
           "PAIN SUISSE PEPITO",
           51,
           1,
           "08:45"
          ],
          [
           "PAIN SUISSE PEPITO",
           51,
           1,
           "09:00"
          ],
          [
           "PAIN SUISSE PEPITO",
           51,
           1,
           "09:15"
          ],
          [
           "PAIN SUISSE PEPITO",
           56,
           6,
           "09:45"
          ],
          [
           "PAIN SUISSE PEPITO",
           54,
           4,
           "10:30"
          ],
          [
           "PAIN SUISSE PEPITO",
           51,
           1,
           "10:45"
          ],
          [
           "PAIN SUISSE PEPITO",
           51,
           1,
           "11:00"
          ],
          [
           "PAIN SUISSE PEPITO",
           51,
           1,
           "11:45"
          ],
          [
           "PAIN SUISSE PEPITO",
           52,
           2,
           "12:00"
          ],
          [
           "PAIN SUISSE PEPITO",
           51,
           1,
           "12:15"
          ]
         ],
         "hovertemplate": "article=%{customdata[0]}<br>Time=%{customdata[3]}<br>Quantity=%{customdata[2]}<extra></extra>",
         "legendgroup": "PAIN SUISSE PEPITO",
         "marker": {
          "color": "#ed7953"
         },
         "name": "PAIN SUISSE PEPITO",
         "r": [
          52,
          51,
          51,
          51,
          56,
          54,
          51,
          51,
          51,
          52,
          51
         ],
         "showlegend": true,
         "subplot": "polar",
         "theta": [
          "08:00",
          "08:45",
          "09:00",
          "09:15",
          "09:45",
          "10:30",
          "10:45",
          "11:00",
          "11:45",
          "12:00",
          "12:15"
         ],
         "type": "barpolar"
        },
        {
         "customdata": [
          [
           "ROYAL",
           51,
           1,
           "08:00"
          ],
          [
           "ROYAL",
           57,
           7,
           "08:15"
          ],
          [
           "ROYAL",
           60,
           10,
           "08:30"
          ],
          [
           "ROYAL",
           56,
           6,
           "08:45"
          ],
          [
           "ROYAL",
           63,
           13,
           "09:00"
          ],
          [
           "ROYAL",
           62,
           12,
           "09:15"
          ],
          [
           "ROYAL",
           52,
           2,
           "09:30"
          ],
          [
           "ROYAL",
           61,
           11,
           "09:45"
          ],
          [
           "ROYAL",
           59,
           9,
           "10:00"
          ],
          [
           "ROYAL",
           55,
           5,
           "10:15"
          ],
          [
           "ROYAL",
           72,
           22,
           "10:30"
          ],
          [
           "ROYAL",
           76,
           26,
           "10:45"
          ],
          [
           "ROYAL",
           67,
           17,
           "11:00"
          ],
          [
           "ROYAL",
           71,
           21,
           "11:15"
          ],
          [
           "ROYAL",
           69,
           19,
           "11:30"
          ],
          [
           "ROYAL",
           76,
           26,
           "11:45"
          ],
          [
           "ROYAL",
           57,
           7,
           "12:00"
          ],
          [
           "ROYAL",
           68,
           18,
           "12:15"
          ],
          [
           "ROYAL",
           66,
           16,
           "12:30"
          ],
          [
           "ROYAL",
           54,
           4,
           "12:45"
          ],
          [
           "ROYAL",
           55,
           5,
           "13:00"
          ],
          [
           "ROYAL",
           53,
           3,
           "13:15"
          ],
          [
           "ROYAL",
           52,
           2,
           "16:00"
          ],
          [
           "ROYAL",
           53,
           3,
           "16:30"
          ],
          [
           "ROYAL",
           54,
           4,
           "16:45"
          ],
          [
           "ROYAL",
           57,
           7,
           "17:00"
          ],
          [
           "ROYAL",
           55,
           5,
           "17:15"
          ],
          [
           "ROYAL",
           52,
           2,
           "17:45"
          ],
          [
           "ROYAL",
           51,
           1,
           "18:00"
          ],
          [
           "ROYAL",
           52,
           2,
           "18:30"
          ],
          [
           "ROYAL",
           51,
           1,
           "18:45"
          ]
         ],
         "hovertemplate": "article=%{customdata[0]}<br>Time=%{customdata[3]}<br>Quantity=%{customdata[2]}<extra></extra>",
         "legendgroup": "ROYAL",
         "marker": {
          "color": "#d8576b"
         },
         "name": "ROYAL",
         "r": [
          51,
          57,
          60,
          56,
          63,
          62,
          52,
          61,
          59,
          55,
          72,
          76,
          67,
          71,
          69,
          76,
          57,
          68,
          66,
          54,
          55,
          53,
          52,
          53,
          54,
          57,
          55,
          52,
          51,
          52,
          51
         ],
         "showlegend": true,
         "subplot": "polar",
         "theta": [
          "08:00",
          "08:15",
          "08:30",
          "08:45",
          "09:00",
          "09:15",
          "09:30",
          "09:45",
          "10:00",
          "10:15",
          "10:30",
          "10:45",
          "11:00",
          "11:15",
          "11:30",
          "11:45",
          "12:00",
          "12:15",
          "12:30",
          "12:45",
          "13:00",
          "13:15",
          "16:00",
          "16:30",
          "16:45",
          "17:00",
          "17:15",
          "17:45",
          "18:00",
          "18:30",
          "18:45"
         ],
         "type": "barpolar"
        },
        {
         "customdata": [
          [
           "ROYAL 6P",
           51,
           1,
           "08:00"
          ],
          [
           "ROYAL 6P",
           51,
           1,
           "08:15"
          ],
          [
           "ROYAL 6P",
           54,
           4,
           "08:45"
          ],
          [
           "ROYAL 6P",
           52,
           2,
           "09:00"
          ],
          [
           "ROYAL 6P",
           51,
           1,
           "09:15"
          ],
          [
           "ROYAL 6P",
           57,
           7,
           "09:30"
          ],
          [
           "ROYAL 6P",
           51,
           1,
           "09:45"
          ],
          [
           "ROYAL 6P",
           56,
           6,
           "10:00"
          ],
          [
           "ROYAL 6P",
           52,
           2,
           "10:15"
          ],
          [
           "ROYAL 6P",
           55,
           5,
           "10:45"
          ],
          [
           "ROYAL 6P",
           54,
           4,
           "11:00"
          ],
          [
           "ROYAL 6P",
           51,
           1,
           "11:15"
          ],
          [
           "ROYAL 6P",
           57,
           7,
           "11:30"
          ],
          [
           "ROYAL 6P",
           57,
           7,
           "11:45"
          ],
          [
           "ROYAL 6P",
           54,
           4,
           "12:00"
          ],
          [
           "ROYAL 6P",
           53,
           3,
           "12:15"
          ],
          [
           "ROYAL 6P",
           55,
           5,
           "12:30"
          ],
          [
           "ROYAL 6P",
           51,
           1,
           "13:30"
          ],
          [
           "ROYAL 6P",
           51,
           1,
           "13:45"
          ],
          [
           "ROYAL 6P",
           51,
           1,
           "17:00"
          ],
          [
           "ROYAL 6P",
           51,
           1,
           "17:15"
          ],
          [
           "ROYAL 6P",
           51,
           1,
           "18:15"
          ]
         ],
         "hovertemplate": "article=%{customdata[0]}<br>Time=%{customdata[3]}<br>Quantity=%{customdata[2]}<extra></extra>",
         "legendgroup": "ROYAL 6P",
         "marker": {
          "color": "#bd3786"
         },
         "name": "ROYAL 6P",
         "r": [
          51,
          51,
          54,
          52,
          51,
          57,
          51,
          56,
          52,
          55,
          54,
          51,
          57,
          57,
          54,
          53,
          55,
          51,
          51,
          51,
          51,
          51
         ],
         "showlegend": true,
         "subplot": "polar",
         "theta": [
          "08:00",
          "08:15",
          "08:45",
          "09:00",
          "09:15",
          "09:30",
          "09:45",
          "10:00",
          "10:15",
          "10:45",
          "11:00",
          "11:15",
          "11:30",
          "11:45",
          "12:00",
          "12:15",
          "12:30",
          "13:30",
          "13:45",
          "17:00",
          "17:15",
          "18:15"
         ],
         "type": "barpolar"
        },
        {
         "customdata": [
          [
           "TARTE FRAISE 4PER",
           51,
           1,
           "08:00"
          ],
          [
           "TARTE FRAISE 4PER",
           54,
           4,
           "08:15"
          ],
          [
           "TARTE FRAISE 4PER",
           63,
           13,
           "08:30"
          ],
          [
           "TARTE FRAISE 4PER",
           53,
           3,
           "08:45"
          ],
          [
           "TARTE FRAISE 4PER",
           52,
           2,
           "09:00"
          ],
          [
           "TARTE FRAISE 4PER",
           51,
           1,
           "09:15"
          ],
          [
           "TARTE FRAISE 4PER",
           57,
           7,
           "09:30"
          ],
          [
           "TARTE FRAISE 4PER",
           54,
           4,
           "09:45"
          ],
          [
           "TARTE FRAISE 4PER",
           58,
           8,
           "10:00"
          ],
          [
           "TARTE FRAISE 4PER",
           64,
           14,
           "10:15"
          ],
          [
           "TARTE FRAISE 4PER",
           59,
           9,
           "10:30"
          ],
          [
           "TARTE FRAISE 4PER",
           66,
           16,
           "10:45"
          ],
          [
           "TARTE FRAISE 4PER",
           59,
           9,
           "11:00"
          ],
          [
           "TARTE FRAISE 4PER",
           71,
           21,
           "11:15"
          ],
          [
           "TARTE FRAISE 4PER",
           62,
           12,
           "11:30"
          ],
          [
           "TARTE FRAISE 4PER",
           58,
           8,
           "11:45"
          ],
          [
           "TARTE FRAISE 4PER",
           58,
           8,
           "12:00"
          ],
          [
           "TARTE FRAISE 4PER",
           60,
           10,
           "12:15"
          ],
          [
           "TARTE FRAISE 4PER",
           52,
           2,
           "12:45"
          ],
          [
           "TARTE FRAISE 4PER",
           53,
           3,
           "16:30"
          ],
          [
           "TARTE FRAISE 4PER",
           52,
           2,
           "17:00"
          ],
          [
           "TARTE FRAISE 4PER",
           52,
           2,
           "17:30"
          ],
          [
           "TARTE FRAISE 4PER",
           51,
           1,
           "17:45"
          ],
          [
           "TARTE FRAISE 4PER",
           53,
           3,
           "18:30"
          ],
          [
           "TARTE FRAISE 4PER",
           52,
           2,
           "19:00"
          ]
         ],
         "hovertemplate": "article=%{customdata[0]}<br>Time=%{customdata[3]}<br>Quantity=%{customdata[2]}<extra></extra>",
         "legendgroup": "TARTE FRAISE 4PER",
         "marker": {
          "color": "#9c179e"
         },
         "name": "TARTE FRAISE 4PER",
         "r": [
          51,
          54,
          63,
          53,
          52,
          51,
          57,
          54,
          58,
          64,
          59,
          66,
          59,
          71,
          62,
          58,
          58,
          60,
          52,
          53,
          52,
          52,
          51,
          53,
          52
         ],
         "showlegend": true,
         "subplot": "polar",
         "theta": [
          "08:00",
          "08:15",
          "08:30",
          "08:45",
          "09:00",
          "09:15",
          "09:30",
          "09:45",
          "10:00",
          "10:15",
          "10:30",
          "10:45",
          "11:00",
          "11:15",
          "11:30",
          "11:45",
          "12:00",
          "12:15",
          "12:45",
          "16:30",
          "17:00",
          "17:30",
          "17:45",
          "18:30",
          "19:00"
         ],
         "type": "barpolar"
        },
        {
         "customdata": [
          [
           "TARTE FRAISE 6P",
           54,
           4,
           "08:00"
          ],
          [
           "TARTE FRAISE 6P",
           52,
           2,
           "08:30"
          ],
          [
           "TARTE FRAISE 6P",
           51,
           1,
           "08:45"
          ],
          [
           "TARTE FRAISE 6P",
           55,
           5,
           "09:00"
          ],
          [
           "TARTE FRAISE 6P",
           55,
           5,
           "09:15"
          ],
          [
           "TARTE FRAISE 6P",
           57,
           7,
           "09:30"
          ],
          [
           "TARTE FRAISE 6P",
           56,
           6,
           "09:45"
          ],
          [
           "TARTE FRAISE 6P",
           60,
           10,
           "10:00"
          ],
          [
           "TARTE FRAISE 6P",
           56,
           6,
           "10:15"
          ],
          [
           "TARTE FRAISE 6P",
           56,
           6,
           "10:30"
          ],
          [
           "TARTE FRAISE 6P",
           58,
           8,
           "10:45"
          ],
          [
           "TARTE FRAISE 6P",
           58,
           8,
           "11:00"
          ],
          [
           "TARTE FRAISE 6P",
           56,
           6,
           "11:15"
          ],
          [
           "TARTE FRAISE 6P",
           59,
           9,
           "11:30"
          ],
          [
           "TARTE FRAISE 6P",
           56,
           6,
           "11:45"
          ],
          [
           "TARTE FRAISE 6P",
           56,
           6,
           "12:00"
          ],
          [
           "TARTE FRAISE 6P",
           59,
           9,
           "12:15"
          ],
          [
           "TARTE FRAISE 6P",
           52,
           2,
           "12:30"
          ],
          [
           "TARTE FRAISE 6P",
           53,
           3,
           "12:45"
          ],
          [
           "TARTE FRAISE 6P",
           51,
           1,
           "13:00"
          ],
          [
           "TARTE FRAISE 6P",
           51,
           1,
           "16:00"
          ],
          [
           "TARTE FRAISE 6P",
           52,
           2,
           "16:30"
          ],
          [
           "TARTE FRAISE 6P",
           51,
           1,
           "16:45"
          ],
          [
           "TARTE FRAISE 6P",
           51,
           1,
           "18:15"
          ],
          [
           "TARTE FRAISE 6P",
           52,
           2,
           "18:30"
          ],
          [
           "TARTE FRAISE 6P",
           51,
           1,
           "18:45"
          ],
          [
           "TARTE FRAISE 6P",
           51,
           1,
           "19:00"
          ],
          [
           "TARTE FRAISE 6P",
           51,
           1,
           "19:15"
          ]
         ],
         "hovertemplate": "article=%{customdata[0]}<br>Time=%{customdata[3]}<br>Quantity=%{customdata[2]}<extra></extra>",
         "legendgroup": "TARTE FRAISE 6P",
         "marker": {
          "color": "#7201a8"
         },
         "name": "TARTE FRAISE 6P",
         "r": [
          54,
          52,
          51,
          55,
          55,
          57,
          56,
          60,
          56,
          56,
          58,
          58,
          56,
          59,
          56,
          56,
          59,
          52,
          53,
          51,
          51,
          52,
          51,
          51,
          52,
          51,
          51,
          51
         ],
         "showlegend": true,
         "subplot": "polar",
         "theta": [
          "08:00",
          "08:30",
          "08:45",
          "09:00",
          "09:15",
          "09:30",
          "09:45",
          "10:00",
          "10:15",
          "10:30",
          "10:45",
          "11:00",
          "11:15",
          "11:30",
          "11:45",
          "12:00",
          "12:15",
          "12:30",
          "12:45",
          "13:00",
          "16:00",
          "16:30",
          "16:45",
          "18:15",
          "18:30",
          "18:45",
          "19:00",
          "19:15"
         ],
         "type": "barpolar"
        },
        {
         "customdata": [
          [
           "12 MACARON",
           51,
           1,
           "08:15"
          ],
          [
           "12 MACARON",
           51,
           1,
           "08:45"
          ],
          [
           "12 MACARON",
           52,
           2,
           "09:00"
          ],
          [
           "12 MACARON",
           52,
           2,
           "09:15"
          ],
          [
           "12 MACARON",
           52,
           2,
           "10:15"
          ],
          [
           "12 MACARON",
           54,
           4,
           "10:30"
          ],
          [
           "12 MACARON",
           56,
           6,
           "10:45"
          ],
          [
           "12 MACARON",
           55,
           5,
           "11:00"
          ],
          [
           "12 MACARON",
           56,
           6,
           "11:15"
          ],
          [
           "12 MACARON",
           55,
           5,
           "11:30"
          ],
          [
           "12 MACARON",
           54,
           4,
           "11:45"
          ],
          [
           "12 MACARON",
           52,
           2,
           "12:00"
          ],
          [
           "12 MACARON",
           54,
           4,
           "12:15"
          ],
          [
           "12 MACARON",
           57,
           7,
           "12:30"
          ],
          [
           "12 MACARON",
           56,
           6,
           "12:45"
          ],
          [
           "12 MACARON",
           51,
           1,
           "13:00"
          ],
          [
           "12 MACARON",
           53,
           3,
           "16:15"
          ],
          [
           "12 MACARON",
           51,
           1,
           "16:30"
          ],
          [
           "12 MACARON",
           51,
           1,
           "16:45"
          ],
          [
           "12 MACARON",
           51,
           1,
           "17:00"
          ],
          [
           "12 MACARON",
           52,
           2,
           "17:30"
          ],
          [
           "12 MACARON",
           52,
           2,
           "18:15"
          ],
          [
           "12 MACARON",
           51,
           1,
           "18:30"
          ],
          [
           "12 MACARON",
           51,
           1,
           "18:45"
          ]
         ],
         "hovertemplate": "article=%{customdata[0]}<br>Time=%{customdata[3]}<br>Quantity=%{customdata[2]}<extra></extra>",
         "legendgroup": "12 MACARON",
         "marker": {
          "color": "#46039f"
         },
         "name": "12 MACARON",
         "r": [
          51,
          51,
          52,
          52,
          52,
          54,
          56,
          55,
          56,
          55,
          54,
          52,
          54,
          57,
          56,
          51,
          53,
          51,
          51,
          51,
          52,
          52,
          51,
          51
         ],
         "showlegend": true,
         "subplot": "polar",
         "theta": [
          "08:15",
          "08:45",
          "09:00",
          "09:15",
          "10:15",
          "10:30",
          "10:45",
          "11:00",
          "11:15",
          "11:30",
          "11:45",
          "12:00",
          "12:15",
          "12:30",
          "12:45",
          "13:00",
          "16:15",
          "16:30",
          "16:45",
          "17:00",
          "17:30",
          "18:15",
          "18:30",
          "18:45"
         ],
         "type": "barpolar"
        },
        {
         "customdata": [
          [
           "BRIOCHE DE NOEL",
           51,
           1,
           "08:15"
          ],
          [
           "BRIOCHE DE NOEL",
           51,
           1,
           "09:45"
          ],
          [
           "BRIOCHE DE NOEL",
           52,
           2,
           "10:30"
          ],
          [
           "BRIOCHE DE NOEL",
           53,
           3,
           "10:45"
          ],
          [
           "BRIOCHE DE NOEL",
           54,
           4,
           "11:00"
          ],
          [
           "BRIOCHE DE NOEL",
           52,
           2,
           "11:15"
          ],
          [
           "BRIOCHE DE NOEL",
           51,
           1,
           "11:30"
          ],
          [
           "BRIOCHE DE NOEL",
           51,
           1,
           "12:15"
          ],
          [
           "BRIOCHE DE NOEL",
           51,
           1,
           "12:45"
          ],
          [
           "BRIOCHE DE NOEL",
           51,
           1,
           "17:15"
          ],
          [
           "BRIOCHE DE NOEL",
           51,
           1,
           "17:30"
          ],
          [
           "BRIOCHE DE NOEL",
           51,
           1,
           "18:00"
          ]
         ],
         "hovertemplate": "article=%{customdata[0]}<br>Time=%{customdata[3]}<br>Quantity=%{customdata[2]}<extra></extra>",
         "legendgroup": "BRIOCHE DE NOEL",
         "marker": {
          "color": "#0d0887"
         },
         "name": "BRIOCHE DE NOEL",
         "r": [
          51,
          51,
          52,
          53,
          54,
          52,
          51,
          51,
          51,
          51,
          51,
          51
         ],
         "showlegend": true,
         "subplot": "polar",
         "theta": [
          "08:15",
          "09:45",
          "10:30",
          "10:45",
          "11:00",
          "11:15",
          "11:30",
          "12:15",
          "12:45",
          "17:15",
          "17:30",
          "18:00"
         ],
         "type": "barpolar"
        },
        {
         "customdata": [
          [
           "BRIOCHETTE",
           55,
           5,
           "08:15"
          ],
          [
           "BRIOCHETTE",
           58,
           8,
           "08:30"
          ],
          [
           "BRIOCHETTE",
           54,
           4,
           "08:45"
          ],
          [
           "BRIOCHETTE",
           55,
           5,
           "09:00"
          ],
          [
           "BRIOCHETTE",
           54,
           4,
           "09:15"
          ],
          [
           "BRIOCHETTE",
           52,
           2,
           "09:30"
          ],
          [
           "BRIOCHETTE",
           57,
           7,
           "09:45"
          ],
          [
           "BRIOCHETTE",
           52,
           2,
           "10:00"
          ],
          [
           "BRIOCHETTE",
           52,
           2,
           "10:15"
          ],
          [
           "BRIOCHETTE",
           54,
           4,
           "10:45"
          ],
          [
           "BRIOCHETTE",
           52,
           2,
           "11:00"
          ],
          [
           "BRIOCHETTE",
           73,
           23,
           "11:15"
          ],
          [
           "BRIOCHETTE",
           54,
           4,
           "11:30"
          ],
          [
           "BRIOCHETTE",
           52,
           2,
           "12:00"
          ],
          [
           "BRIOCHETTE",
           51,
           1,
           "12:15"
          ],
          [
           "BRIOCHETTE",
           54,
           4,
           "12:30"
          ],
          [
           "BRIOCHETTE",
           51,
           1,
           "12:45"
          ],
          [
           "BRIOCHETTE",
           52,
           2,
           "16:00"
          ],
          [
           "BRIOCHETTE",
           51,
           1,
           "17:30"
          ],
          [
           "BRIOCHETTE",
           53,
           3,
           "19:00"
          ]
         ],
         "hovertemplate": "article=%{customdata[0]}<br>Time=%{customdata[3]}<br>Quantity=%{customdata[2]}<extra></extra>",
         "legendgroup": "BRIOCHETTE",
         "marker": {
          "color": "#f0f921"
         },
         "name": "BRIOCHETTE",
         "r": [
          55,
          58,
          54,
          55,
          54,
          52,
          57,
          52,
          52,
          54,
          52,
          73,
          54,
          52,
          51,
          54,
          51,
          52,
          51,
          53
         ],
         "showlegend": true,
         "subplot": "polar",
         "theta": [
          "08:15",
          "08:30",
          "08:45",
          "09:00",
          "09:15",
          "09:30",
          "09:45",
          "10:00",
          "10:15",
          "10:45",
          "11:00",
          "11:15",
          "11:30",
          "12:00",
          "12:15",
          "12:30",
          "12:45",
          "16:00",
          "17:30",
          "19:00"
         ],
         "type": "barpolar"
        },
        {
         "customdata": [
          [
           "CHOU CHANTILLY",
           58,
           8,
           "08:15"
          ],
          [
           "CHOU CHANTILLY",
           51,
           1,
           "08:30"
          ],
          [
           "CHOU CHANTILLY",
           54,
           4,
           "08:45"
          ],
          [
           "CHOU CHANTILLY",
           51,
           1,
           "09:00"
          ],
          [
           "CHOU CHANTILLY",
           54,
           4,
           "09:15"
          ],
          [
           "CHOU CHANTILLY",
           56,
           6,
           "09:30"
          ],
          [
           "CHOU CHANTILLY",
           55,
           5,
           "09:45"
          ],
          [
           "CHOU CHANTILLY",
           59,
           9,
           "10:00"
          ],
          [
           "CHOU CHANTILLY",
           58,
           8,
           "10:15"
          ],
          [
           "CHOU CHANTILLY",
           57,
           7,
           "10:30"
          ],
          [
           "CHOU CHANTILLY",
           62,
           12,
           "10:45"
          ],
          [
           "CHOU CHANTILLY",
           79,
           29,
           "11:00"
          ],
          [
           "CHOU CHANTILLY",
           64,
           14,
           "11:15"
          ],
          [
           "CHOU CHANTILLY",
           76,
           26,
           "11:30"
          ],
          [
           "CHOU CHANTILLY",
           60,
           10,
           "11:45"
          ],
          [
           "CHOU CHANTILLY",
           66,
           16,
           "12:00"
          ],
          [
           "CHOU CHANTILLY",
           80,
           30,
           "12:15"
          ],
          [
           "CHOU CHANTILLY",
           59,
           9,
           "12:30"
          ],
          [
           "CHOU CHANTILLY",
           70,
           20,
           "12:45"
          ],
          [
           "CHOU CHANTILLY",
           57,
           7,
           "13:00"
          ],
          [
           "CHOU CHANTILLY",
           54,
           4,
           "13:15"
          ],
          [
           "CHOU CHANTILLY",
           56,
           6,
           "13:30"
          ],
          [
           "CHOU CHANTILLY",
           55,
           5,
           "13:45"
          ],
          [
           "CHOU CHANTILLY",
           51,
           1,
           "14:00"
          ],
          [
           "CHOU CHANTILLY",
           51,
           1,
           "16:00"
          ],
          [
           "CHOU CHANTILLY",
           54,
           4,
           "16:15"
          ],
          [
           "CHOU CHANTILLY",
           51,
           1,
           "16:30"
          ],
          [
           "CHOU CHANTILLY",
           55,
           5,
           "16:45"
          ],
          [
           "CHOU CHANTILLY",
           53,
           3,
           "17:00"
          ],
          [
           "CHOU CHANTILLY",
           52,
           2,
           "17:15"
          ],
          [
           "CHOU CHANTILLY",
           51,
           1,
           "17:30"
          ],
          [
           "CHOU CHANTILLY",
           53,
           3,
           "17:45"
          ],
          [
           "CHOU CHANTILLY",
           52,
           2,
           "18:00"
          ],
          [
           "CHOU CHANTILLY",
           51,
           1,
           "18:15"
          ],
          [
           "CHOU CHANTILLY",
           52,
           2,
           "18:30"
          ],
          [
           "CHOU CHANTILLY",
           54,
           4,
           "18:45"
          ]
         ],
         "hovertemplate": "article=%{customdata[0]}<br>Time=%{customdata[3]}<br>Quantity=%{customdata[2]}<extra></extra>",
         "legendgroup": "CHOU CHANTILLY",
         "marker": {
          "color": "#fdca26"
         },
         "name": "CHOU CHANTILLY",
         "r": [
          58,
          51,
          54,
          51,
          54,
          56,
          55,
          59,
          58,
          57,
          62,
          79,
          64,
          76,
          60,
          66,
          80,
          59,
          70,
          57,
          54,
          56,
          55,
          51,
          51,
          54,
          51,
          55,
          53,
          52,
          51,
          53,
          52,
          51,
          52,
          54
         ],
         "showlegend": true,
         "subplot": "polar",
         "theta": [
          "08:15",
          "08:30",
          "08:45",
          "09:00",
          "09:15",
          "09:30",
          "09:45",
          "10:00",
          "10:15",
          "10:30",
          "10:45",
          "11:00",
          "11:15",
          "11:30",
          "11:45",
          "12:00",
          "12:15",
          "12:30",
          "12:45",
          "13:00",
          "13:15",
          "13:30",
          "13:45",
          "14:00",
          "16:00",
          "16:15",
          "16:30",
          "16:45",
          "17:00",
          "17:15",
          "17:30",
          "17:45",
          "18:00",
          "18:15",
          "18:30",
          "18:45"
         ],
         "type": "barpolar"
        },
        {
         "customdata": [
          [
           "ECLAIR FRAISE PISTACHE",
           51,
           1,
           "08:15"
          ],
          [
           "ECLAIR FRAISE PISTACHE",
           51,
           1,
           "09:15"
          ],
          [
           "ECLAIR FRAISE PISTACHE",
           51,
           1,
           "10:00"
          ],
          [
           "ECLAIR FRAISE PISTACHE",
           52,
           2,
           "10:45"
          ],
          [
           "ECLAIR FRAISE PISTACHE",
           52,
           2,
           "11:15"
          ],
          [
           "ECLAIR FRAISE PISTACHE",
           53,
           3,
           "11:30"
          ],
          [
           "ECLAIR FRAISE PISTACHE",
           54,
           4,
           "12:00"
          ],
          [
           "ECLAIR FRAISE PISTACHE",
           56,
           6,
           "12:30"
          ],
          [
           "ECLAIR FRAISE PISTACHE",
           51,
           1,
           "12:45"
          ],
          [
           "ECLAIR FRAISE PISTACHE",
           51,
           1,
           "16:45"
          ]
         ],
         "hovertemplate": "article=%{customdata[0]}<br>Time=%{customdata[3]}<br>Quantity=%{customdata[2]}<extra></extra>",
         "legendgroup": "ECLAIR FRAISE PISTACHE",
         "marker": {
          "color": "#fb9f3a"
         },
         "name": "ECLAIR FRAISE PISTACHE",
         "r": [
          51,
          51,
          51,
          52,
          52,
          53,
          54,
          56,
          51,
          51
         ],
         "showlegend": true,
         "subplot": "polar",
         "theta": [
          "08:15",
          "09:15",
          "10:00",
          "10:45",
          "11:15",
          "11:30",
          "12:00",
          "12:30",
          "12:45",
          "16:45"
         ],
         "type": "barpolar"
        },
        {
         "customdata": [
          [
           "FRAMBOISIER",
           61,
           11,
           "08:15"
          ],
          [
           "FRAMBOISIER",
           55,
           5,
           "09:00"
          ],
          [
           "FRAMBOISIER",
           52,
           2,
           "09:15"
          ],
          [
           "FRAMBOISIER",
           57,
           7,
           "09:45"
          ],
          [
           "FRAMBOISIER",
           60,
           10,
           "10:00"
          ],
          [
           "FRAMBOISIER",
           60,
           10,
           "10:15"
          ],
          [
           "FRAMBOISIER",
           56,
           6,
           "10:30"
          ],
          [
           "FRAMBOISIER",
           60,
           10,
           "10:45"
          ],
          [
           "FRAMBOISIER",
           60,
           10,
           "11:15"
          ],
          [
           "FRAMBOISIER",
           60,
           10,
           "11:30"
          ],
          [
           "FRAMBOISIER",
           57,
           7,
           "11:45"
          ],
          [
           "FRAMBOISIER",
           53,
           3,
           "12:00"
          ],
          [
           "FRAMBOISIER",
           54,
           4,
           "12:15"
          ],
          [
           "FRAMBOISIER",
           53,
           3,
           "12:30"
          ],
          [
           "FRAMBOISIER",
           54,
           4,
           "12:45"
          ],
          [
           "FRAMBOISIER",
           52,
           2,
           "17:00"
          ],
          [
           "FRAMBOISIER",
           51,
           1,
           "18:00"
          ],
          [
           "FRAMBOISIER",
           52,
           2,
           "18:30"
          ]
         ],
         "hovertemplate": "article=%{customdata[0]}<br>Time=%{customdata[3]}<br>Quantity=%{customdata[2]}<extra></extra>",
         "legendgroup": "FRAMBOISIER",
         "marker": {
          "color": "#ed7953"
         },
         "name": "FRAMBOISIER",
         "r": [
          61,
          55,
          52,
          57,
          60,
          60,
          56,
          60,
          60,
          60,
          57,
          53,
          54,
          53,
          54,
          52,
          51,
          52
         ],
         "showlegend": true,
         "subplot": "polar",
         "theta": [
          "08:15",
          "09:00",
          "09:15",
          "09:45",
          "10:00",
          "10:15",
          "10:30",
          "10:45",
          "11:15",
          "11:30",
          "11:45",
          "12:00",
          "12:15",
          "12:30",
          "12:45",
          "17:00",
          "18:00",
          "18:30"
         ],
         "type": "barpolar"
        },
        {
         "customdata": [
          [
           "GAL POIRE CHOCO 6P",
           51,
           1,
           "08:15"
          ],
          [
           "GAL POIRE CHOCO 6P",
           51,
           1,
           "10:30"
          ],
          [
           "GAL POIRE CHOCO 6P",
           51,
           1,
           "11:00"
          ],
          [
           "GAL POIRE CHOCO 6P",
           51,
           1,
           "11:30"
          ],
          [
           "GAL POIRE CHOCO 6P",
           52,
           2,
           "11:45"
          ],
          [
           "GAL POIRE CHOCO 6P",
           55,
           5,
           "12:15"
          ],
          [
           "GAL POIRE CHOCO 6P",
           51,
           1,
           "16:45"
          ],
          [
           "GAL POIRE CHOCO 6P",
           51,
           1,
           "17:15"
          ],
          [
           "GAL POIRE CHOCO 6P",
           51,
           1,
           "17:45"
          ],
          [
           "GAL POIRE CHOCO 6P",
           51,
           1,
           "18:15"
          ]
         ],
         "hovertemplate": "article=%{customdata[0]}<br>Time=%{customdata[3]}<br>Quantity=%{customdata[2]}<extra></extra>",
         "legendgroup": "GAL POIRE CHOCO 6P",
         "marker": {
          "color": "#d8576b"
         },
         "name": "GAL POIRE CHOCO 6P",
         "r": [
          51,
          51,
          51,
          51,
          52,
          55,
          51,
          51,
          51,
          51
         ],
         "showlegend": true,
         "subplot": "polar",
         "theta": [
          "08:15",
          "10:30",
          "11:00",
          "11:30",
          "11:45",
          "12:15",
          "16:45",
          "17:15",
          "17:45",
          "18:15"
         ],
         "type": "barpolar"
        },
        {
         "customdata": [
          [
           "GAL POMME 4P",
           52,
           2,
           "08:15"
          ],
          [
           "GAL POMME 4P",
           53,
           3,
           "08:30"
          ],
          [
           "GAL POMME 4P",
           53,
           3,
           "09:00"
          ],
          [
           "GAL POMME 4P",
           52,
           2,
           "09:30"
          ],
          [
           "GAL POMME 4P",
           55,
           5,
           "09:45"
          ],
          [
           "GAL POMME 4P",
           52,
           2,
           "10:00"
          ],
          [
           "GAL POMME 4P",
           54,
           4,
           "10:15"
          ],
          [
           "GAL POMME 4P",
           51,
           1,
           "10:30"
          ],
          [
           "GAL POMME 4P",
           54,
           4,
           "10:45"
          ],
          [
           "GAL POMME 4P",
           55,
           5,
           "11:00"
          ],
          [
           "GAL POMME 4P",
           53,
           3,
           "11:15"
          ],
          [
           "GAL POMME 4P",
           57,
           7,
           "11:30"
          ],
          [
           "GAL POMME 4P",
           56,
           6,
           "11:45"
          ],
          [
           "GAL POMME 4P",
           57,
           7,
           "12:00"
          ],
          [
           "GAL POMME 4P",
           60,
           10,
           "12:15"
          ],
          [
           "GAL POMME 4P",
           57,
           7,
           "12:30"
          ],
          [
           "GAL POMME 4P",
           57,
           7,
           "12:45"
          ],
          [
           "GAL POMME 4P",
           53,
           3,
           "13:00"
          ],
          [
           "GAL POMME 4P",
           52,
           2,
           "13:15"
          ],
          [
           "GAL POMME 4P",
           52,
           2,
           "13:30"
          ],
          [
           "GAL POMME 4P",
           52,
           2,
           "14:00"
          ],
          [
           "GAL POMME 4P",
           52,
           2,
           "16:00"
          ],
          [
           "GAL POMME 4P",
           52,
           2,
           "16:30"
          ],
          [
           "GAL POMME 4P",
           51,
           1,
           "17:00"
          ],
          [
           "GAL POMME 4P",
           52,
           2,
           "17:15"
          ],
          [
           "GAL POMME 4P",
           51,
           1,
           "17:30"
          ],
          [
           "GAL POMME 4P",
           51,
           1,
           "18:00"
          ],
          [
           "GAL POMME 4P",
           51,
           1,
           "18:30"
          ],
          [
           "GAL POMME 4P",
           51,
           1,
           "18:45"
          ],
          [
           "GAL POMME 4P",
           51,
           1,
           "19:15"
          ]
         ],
         "hovertemplate": "article=%{customdata[0]}<br>Time=%{customdata[3]}<br>Quantity=%{customdata[2]}<extra></extra>",
         "legendgroup": "GAL POMME 4P",
         "marker": {
          "color": "#bd3786"
         },
         "name": "GAL POMME 4P",
         "r": [
          52,
          53,
          53,
          52,
          55,
          52,
          54,
          51,
          54,
          55,
          53,
          57,
          56,
          57,
          60,
          57,
          57,
          53,
          52,
          52,
          52,
          52,
          52,
          51,
          52,
          51,
          51,
          51,
          51,
          51
         ],
         "showlegend": true,
         "subplot": "polar",
         "theta": [
          "08:15",
          "08:30",
          "09:00",
          "09:30",
          "09:45",
          "10:00",
          "10:15",
          "10:30",
          "10:45",
          "11:00",
          "11:15",
          "11:30",
          "11:45",
          "12:00",
          "12:15",
          "12:30",
          "12:45",
          "13:00",
          "13:15",
          "13:30",
          "14:00",
          "16:00",
          "16:30",
          "17:00",
          "17:15",
          "17:30",
          "18:00",
          "18:30",
          "18:45",
          "19:15"
         ],
         "type": "barpolar"
        },
        {
         "customdata": [
          [
           "PAIN S/SEL",
           51,
           1,
           "08:15"
          ],
          [
           "PAIN S/SEL",
           52,
           2,
           "08:45"
          ],
          [
           "PAIN S/SEL",
           51,
           1,
           "09:00"
          ],
          [
           "PAIN S/SEL",
           54,
           4,
           "09:15"
          ],
          [
           "PAIN S/SEL",
           53,
           3,
           "09:30"
          ],
          [
           "PAIN S/SEL",
           50,
           0,
           "09:45"
          ],
          [
           "PAIN S/SEL",
           53,
           3,
           "10:00"
          ],
          [
           "PAIN S/SEL",
           56,
           6,
           "10:15"
          ],
          [
           "PAIN S/SEL",
           61,
           11,
           "10:30"
          ],
          [
           "PAIN S/SEL",
           64,
           14,
           "10:45"
          ],
          [
           "PAIN S/SEL",
           71,
           21,
           "11:00"
          ],
          [
           "PAIN S/SEL",
           71,
           21,
           "11:15"
          ],
          [
           "PAIN S/SEL",
           70,
           20,
           "11:30"
          ],
          [
           "PAIN S/SEL",
           60,
           10,
           "11:45"
          ],
          [
           "PAIN S/SEL",
           56,
           6,
           "12:00"
          ],
          [
           "PAIN S/SEL",
           56,
           6,
           "12:15"
          ],
          [
           "PAIN S/SEL",
           53,
           3,
           "12:30"
          ],
          [
           "PAIN S/SEL",
           52,
           2,
           "12:45"
          ],
          [
           "PAIN S/SEL",
           52,
           2,
           "13:00"
          ],
          [
           "PAIN S/SEL",
           51,
           1,
           "13:15"
          ],
          [
           "PAIN S/SEL",
           50,
           0,
           "16:15"
          ],
          [
           "PAIN S/SEL",
           51,
           1,
           "17:00"
          ],
          [
           "PAIN S/SEL",
           50,
           0,
           "17:45"
          ],
          [
           "PAIN S/SEL",
           51,
           1,
           "18:00"
          ],
          [
           "PAIN S/SEL",
           51,
           1,
           "19:00"
          ]
         ],
         "hovertemplate": "article=%{customdata[0]}<br>Time=%{customdata[3]}<br>Quantity=%{customdata[2]}<extra></extra>",
         "legendgroup": "PAIN S/SEL",
         "marker": {
          "color": "#9c179e"
         },
         "name": "PAIN S/SEL",
         "r": [
          51,
          52,
          51,
          54,
          53,
          50,
          53,
          56,
          61,
          64,
          71,
          71,
          70,
          60,
          56,
          56,
          53,
          52,
          52,
          51,
          50,
          51,
          50,
          51,
          51
         ],
         "showlegend": true,
         "subplot": "polar",
         "theta": [
          "08:15",
          "08:45",
          "09:00",
          "09:15",
          "09:30",
          "09:45",
          "10:00",
          "10:15",
          "10:30",
          "10:45",
          "11:00",
          "11:15",
          "11:30",
          "11:45",
          "12:00",
          "12:15",
          "12:30",
          "12:45",
          "13:00",
          "13:15",
          "16:15",
          "17:00",
          "17:45",
          "18:00",
          "19:00"
         ],
         "type": "barpolar"
        },
        {
         "customdata": [
          [
           "ROYAL 4P",
           52,
           2,
           "08:15"
          ],
          [
           "ROYAL 4P",
           51,
           1,
           "08:30"
          ],
          [
           "ROYAL 4P",
           55,
           5,
           "08:45"
          ],
          [
           "ROYAL 4P",
           51,
           1,
           "09:00"
          ],
          [
           "ROYAL 4P",
           53,
           3,
           "09:15"
          ],
          [
           "ROYAL 4P",
           53,
           3,
           "09:30"
          ],
          [
           "ROYAL 4P",
           58,
           8,
           "09:45"
          ],
          [
           "ROYAL 4P",
           56,
           6,
           "10:00"
          ],
          [
           "ROYAL 4P",
           57,
           7,
           "10:15"
          ],
          [
           "ROYAL 4P",
           52,
           2,
           "10:30"
          ],
          [
           "ROYAL 4P",
           52,
           2,
           "10:45"
          ],
          [
           "ROYAL 4P",
           53,
           3,
           "11:00"
          ],
          [
           "ROYAL 4P",
           60,
           10,
           "11:15"
          ],
          [
           "ROYAL 4P",
           57,
           7,
           "11:30"
          ],
          [
           "ROYAL 4P",
           54,
           4,
           "11:45"
          ],
          [
           "ROYAL 4P",
           57,
           7,
           "12:00"
          ],
          [
           "ROYAL 4P",
           51,
           1,
           "12:15"
          ],
          [
           "ROYAL 4P",
           52,
           2,
           "12:30"
          ],
          [
           "ROYAL 4P",
           52,
           2,
           "13:00"
          ],
          [
           "ROYAL 4P",
           51,
           1,
           "16:15"
          ],
          [
           "ROYAL 4P",
           51,
           1,
           "17:45"
          ]
         ],
         "hovertemplate": "article=%{customdata[0]}<br>Time=%{customdata[3]}<br>Quantity=%{customdata[2]}<extra></extra>",
         "legendgroup": "ROYAL 4P",
         "marker": {
          "color": "#7201a8"
         },
         "name": "ROYAL 4P",
         "r": [
          52,
          51,
          55,
          51,
          53,
          53,
          58,
          56,
          57,
          52,
          52,
          53,
          60,
          57,
          54,
          57,
          51,
          52,
          52,
          51,
          51
         ],
         "showlegend": true,
         "subplot": "polar",
         "theta": [
          "08:15",
          "08:30",
          "08:45",
          "09:00",
          "09:15",
          "09:30",
          "09:45",
          "10:00",
          "10:15",
          "10:30",
          "10:45",
          "11:00",
          "11:15",
          "11:30",
          "11:45",
          "12:00",
          "12:15",
          "12:30",
          "13:00",
          "16:15",
          "17:45"
         ],
         "type": "barpolar"
        },
        {
         "customdata": [
          [
           "SACHET DE VIENNOISERIE",
           51,
           1,
           "08:15"
          ]
         ],
         "hovertemplate": "article=%{customdata[0]}<br>Time=%{customdata[3]}<br>Quantity=%{customdata[2]}<extra></extra>",
         "legendgroup": "SACHET DE VIENNOISERIE",
         "marker": {
          "color": "#46039f"
         },
         "name": "SACHET DE VIENNOISERIE",
         "r": [
          51
         ],
         "showlegend": true,
         "subplot": "polar",
         "theta": [
          "08:15"
         ],
         "type": "barpolar"
        },
        {
         "customdata": [
          [
           "CARAMEL NOIX",
           51,
           1,
           "08:30"
          ],
          [
           "CARAMEL NOIX",
           51,
           1,
           "08:45"
          ],
          [
           "CARAMEL NOIX",
           51,
           1,
           "09:15"
          ],
          [
           "CARAMEL NOIX",
           59,
           9,
           "09:45"
          ],
          [
           "CARAMEL NOIX",
           51,
           1,
           "10:00"
          ],
          [
           "CARAMEL NOIX",
           51,
           1,
           "10:15"
          ],
          [
           "CARAMEL NOIX",
           55,
           5,
           "10:30"
          ],
          [
           "CARAMEL NOIX",
           57,
           7,
           "11:00"
          ],
          [
           "CARAMEL NOIX",
           55,
           5,
           "11:15"
          ],
          [
           "CARAMEL NOIX",
           57,
           7,
           "11:30"
          ],
          [
           "CARAMEL NOIX",
           55,
           5,
           "11:45"
          ],
          [
           "CARAMEL NOIX",
           59,
           9,
           "12:00"
          ],
          [
           "CARAMEL NOIX",
           61,
           11,
           "12:15"
          ],
          [
           "CARAMEL NOIX",
           57,
           7,
           "12:30"
          ],
          [
           "CARAMEL NOIX",
           55,
           5,
           "12:45"
          ],
          [
           "CARAMEL NOIX",
           51,
           1,
           "13:00"
          ],
          [
           "CARAMEL NOIX",
           51,
           1,
           "16:45"
          ],
          [
           "CARAMEL NOIX",
           53,
           3,
           "17:00"
          ],
          [
           "CARAMEL NOIX",
           53,
           3,
           "17:15"
          ],
          [
           "CARAMEL NOIX",
           52,
           2,
           "17:30"
          ],
          [
           "CARAMEL NOIX",
           57,
           7,
           "17:45"
          ],
          [
           "CARAMEL NOIX",
           52,
           2,
           "18:15"
          ],
          [
           "CARAMEL NOIX",
           54,
           4,
           "18:30"
          ],
          [
           "CARAMEL NOIX",
           52,
           2,
           "18:45"
          ]
         ],
         "hovertemplate": "article=%{customdata[0]}<br>Time=%{customdata[3]}<br>Quantity=%{customdata[2]}<extra></extra>",
         "legendgroup": "CARAMEL NOIX",
         "marker": {
          "color": "#0d0887"
         },
         "name": "CARAMEL NOIX",
         "r": [
          51,
          51,
          51,
          59,
          51,
          51,
          55,
          57,
          55,
          57,
          55,
          59,
          61,
          57,
          55,
          51,
          51,
          53,
          53,
          52,
          57,
          52,
          54,
          52
         ],
         "showlegend": true,
         "subplot": "polar",
         "theta": [
          "08:30",
          "08:45",
          "09:15",
          "09:45",
          "10:00",
          "10:15",
          "10:30",
          "11:00",
          "11:15",
          "11:30",
          "11:45",
          "12:00",
          "12:15",
          "12:30",
          "12:45",
          "13:00",
          "16:45",
          "17:00",
          "17:15",
          "17:30",
          "17:45",
          "18:15",
          "18:30",
          "18:45"
         ],
         "type": "barpolar"
        },
        {
         "customdata": [
          [
           "DEMI PAIN",
           51,
           1,
           "08:30"
          ],
          [
           "DEMI PAIN",
           53,
           3,
           "09:00"
          ],
          [
           "DEMI PAIN",
           56,
           6,
           "09:15"
          ],
          [
           "DEMI PAIN",
           53,
           3,
           "09:30"
          ],
          [
           "DEMI PAIN",
           54,
           4,
           "09:45"
          ],
          [
           "DEMI PAIN",
           56,
           6,
           "10:00"
          ],
          [
           "DEMI PAIN",
           71,
           21,
           "10:15"
          ],
          [
           "DEMI PAIN",
           68,
           18,
           "10:30"
          ],
          [
           "DEMI PAIN",
           68,
           18,
           "10:45"
          ],
          [
           "DEMI PAIN",
           67,
           17,
           "11:00"
          ],
          [
           "DEMI PAIN",
           58,
           8,
           "11:15"
          ],
          [
           "DEMI PAIN",
           55,
           5,
           "11:30"
          ],
          [
           "DEMI PAIN",
           57,
           7,
           "11:45"
          ],
          [
           "DEMI PAIN",
           55,
           5,
           "12:00"
          ],
          [
           "DEMI PAIN",
           54,
           4,
           "12:15"
          ],
          [
           "DEMI PAIN",
           54,
           4,
           "12:30"
          ],
          [
           "DEMI PAIN",
           53,
           3,
           "12:45"
          ],
          [
           "DEMI PAIN",
           51,
           1,
           "16:00"
          ],
          [
           "DEMI PAIN",
           51,
           1,
           "16:15"
          ],
          [
           "DEMI PAIN",
           51,
           1,
           "16:30"
          ],
          [
           "DEMI PAIN",
           51,
           1,
           "17:00"
          ],
          [
           "DEMI PAIN",
           53,
           3,
           "17:45"
          ],
          [
           "DEMI PAIN",
           51,
           1,
           "18:00"
          ],
          [
           "DEMI PAIN",
           57,
           7,
           "18:15"
          ],
          [
           "DEMI PAIN",
           55,
           5,
           "18:30"
          ],
          [
           "DEMI PAIN",
           54,
           4,
           "18:45"
          ],
          [
           "DEMI PAIN",
           55,
           5,
           "19:00"
          ],
          [
           "DEMI PAIN",
           51,
           1,
           "19:30"
          ]
         ],
         "hovertemplate": "article=%{customdata[0]}<br>Time=%{customdata[3]}<br>Quantity=%{customdata[2]}<extra></extra>",
         "legendgroup": "DEMI PAIN",
         "marker": {
          "color": "#f0f921"
         },
         "name": "DEMI PAIN",
         "r": [
          51,
          53,
          56,
          53,
          54,
          56,
          71,
          68,
          68,
          67,
          58,
          55,
          57,
          55,
          54,
          54,
          53,
          51,
          51,
          51,
          51,
          53,
          51,
          57,
          55,
          54,
          55,
          51
         ],
         "showlegend": true,
         "subplot": "polar",
         "theta": [
          "08:30",
          "09:00",
          "09:15",
          "09:30",
          "09:45",
          "10:00",
          "10:15",
          "10:30",
          "10:45",
          "11:00",
          "11:15",
          "11:30",
          "11:45",
          "12:00",
          "12:15",
          "12:30",
          "12:45",
          "16:00",
          "16:15",
          "16:30",
          "17:00",
          "17:45",
          "18:00",
          "18:15",
          "18:30",
          "18:45",
          "19:00",
          "19:30"
         ],
         "type": "barpolar"
        },
        {
         "customdata": [
          [
           "PAIN GRAINES",
           51,
           1,
           "08:30"
          ],
          [
           "PAIN GRAINES",
           51,
           1,
           "10:15"
          ],
          [
           "PAIN GRAINES",
           51,
           1,
           "12:15"
          ]
         ],
         "hovertemplate": "article=%{customdata[0]}<br>Time=%{customdata[3]}<br>Quantity=%{customdata[2]}<extra></extra>",
         "legendgroup": "PAIN GRAINES",
         "marker": {
          "color": "#fdca26"
         },
         "name": "PAIN GRAINES",
         "r": [
          51,
          51,
          51
         ],
         "showlegend": true,
         "subplot": "polar",
         "theta": [
          "08:30",
          "10:15",
          "12:15"
         ],
         "type": "barpolar"
        },
        {
         "customdata": [
          [
           "PLATPREPARE6,50",
           51,
           1,
           "08:30"
          ],
          [
           "PLATPREPARE6,50",
           52,
           2,
           "09:00"
          ],
          [
           "PLATPREPARE6,50",
           52,
           2,
           "11:30"
          ],
          [
           "PLATPREPARE6,50",
           51,
           1,
           "12:45"
          ],
          [
           "PLATPREPARE6,50",
           52,
           2,
           "17:45"
          ]
         ],
         "hovertemplate": "article=%{customdata[0]}<br>Time=%{customdata[3]}<br>Quantity=%{customdata[2]}<extra></extra>",
         "legendgroup": "PLATPREPARE6,50",
         "marker": {
          "color": "#fb9f3a"
         },
         "name": "PLATPREPARE6,50",
         "r": [
          51,
          52,
          52,
          51,
          52
         ],
         "showlegend": true,
         "subplot": "polar",
         "theta": [
          "08:30",
          "09:00",
          "11:30",
          "12:45",
          "17:45"
         ],
         "type": "barpolar"
        },
        {
         "customdata": [
          [
           "CRUMBLE",
           51,
           1,
           "08:45"
          ],
          [
           "CRUMBLE",
           51,
           1,
           "09:15"
          ],
          [
           "CRUMBLE",
           52,
           2,
           "10:30"
          ],
          [
           "CRUMBLE",
           51,
           1,
           "12:00"
          ],
          [
           "CRUMBLE",
           51,
           1,
           "12:15"
          ],
          [
           "CRUMBLE",
           53,
           3,
           "12:30"
          ]
         ],
         "hovertemplate": "article=%{customdata[0]}<br>Time=%{customdata[3]}<br>Quantity=%{customdata[2]}<extra></extra>",
         "legendgroup": "CRUMBLE",
         "marker": {
          "color": "#ed7953"
         },
         "name": "CRUMBLE",
         "r": [
          51,
          51,
          52,
          51,
          51,
          53
         ],
         "showlegend": true,
         "subplot": "polar",
         "theta": [
          "08:45",
          "09:15",
          "10:30",
          "12:00",
          "12:15",
          "12:30"
         ],
         "type": "barpolar"
        },
        {
         "customdata": [
          [
           "ENTREMETS",
           52,
           2,
           "08:45"
          ],
          [
           "ENTREMETS",
           52,
           2,
           "09:15"
          ],
          [
           "ENTREMETS",
           51,
           1,
           "10:00"
          ],
          [
           "ENTREMETS",
           52,
           2,
           "10:30"
          ],
          [
           "ENTREMETS",
           51,
           1,
           "10:45"
          ],
          [
           "ENTREMETS",
           55,
           5,
           "11:00"
          ],
          [
           "ENTREMETS",
           51,
           1,
           "11:15"
          ],
          [
           "ENTREMETS",
           52,
           2,
           "11:30"
          ],
          [
           "ENTREMETS",
           56,
           6,
           "11:45"
          ],
          [
           "ENTREMETS",
           53,
           3,
           "12:00"
          ],
          [
           "ENTREMETS",
           53,
           3,
           "12:15"
          ],
          [
           "ENTREMETS",
           55,
           5,
           "12:45"
          ],
          [
           "ENTREMETS",
           51,
           1,
           "16:15"
          ],
          [
           "ENTREMETS",
           52,
           2,
           "16:30"
          ],
          [
           "ENTREMETS",
           52,
           2,
           "17:15"
          ]
         ],
         "hovertemplate": "article=%{customdata[0]}<br>Time=%{customdata[3]}<br>Quantity=%{customdata[2]}<extra></extra>",
         "legendgroup": "ENTREMETS",
         "marker": {
          "color": "#d8576b"
         },
         "name": "ENTREMETS",
         "r": [
          52,
          52,
          51,
          52,
          51,
          55,
          51,
          52,
          56,
          53,
          53,
          55,
          51,
          52,
          52
         ],
         "showlegend": true,
         "subplot": "polar",
         "theta": [
          "08:45",
          "09:15",
          "10:00",
          "10:30",
          "10:45",
          "11:00",
          "11:15",
          "11:30",
          "11:45",
          "12:00",
          "12:15",
          "12:45",
          "16:15",
          "16:30",
          "17:15"
         ],
         "type": "barpolar"
        },
        {
         "customdata": [
          [
           "TRIANGLES",
           53,
           3,
           "08:45"
          ],
          [
           "TRIANGLES",
           51,
           1,
           "09:00"
          ],
          [
           "TRIANGLES",
           51,
           1,
           "09:45"
          ],
          [
           "TRIANGLES",
           51,
           1,
           "10:00"
          ],
          [
           "TRIANGLES",
           51,
           1,
           "10:15"
          ],
          [
           "TRIANGLES",
           52,
           2,
           "10:45"
          ],
          [
           "TRIANGLES",
           54,
           4,
           "11:15"
          ],
          [
           "TRIANGLES",
           51,
           1,
           "11:30"
          ],
          [
           "TRIANGLES",
           54,
           4,
           "11:45"
          ],
          [
           "TRIANGLES",
           56,
           6,
           "12:00"
          ],
          [
           "TRIANGLES",
           67,
           17,
           "12:15"
          ],
          [
           "TRIANGLES",
           64,
           14,
           "12:30"
          ],
          [
           "TRIANGLES",
           57,
           7,
           "12:45"
          ],
          [
           "TRIANGLES",
           59,
           9,
           "13:00"
          ],
          [
           "TRIANGLES",
           52,
           2,
           "13:30"
          ],
          [
           "TRIANGLES",
           54,
           4,
           "16:15"
          ],
          [
           "TRIANGLES",
           52,
           2,
           "16:30"
          ],
          [
           "TRIANGLES",
           51,
           1,
           "18:00"
          ],
          [
           "TRIANGLES",
           51,
           1,
           "18:45"
          ]
         ],
         "hovertemplate": "article=%{customdata[0]}<br>Time=%{customdata[3]}<br>Quantity=%{customdata[2]}<extra></extra>",
         "legendgroup": "TRIANGLES",
         "marker": {
          "color": "#bd3786"
         },
         "name": "TRIANGLES",
         "r": [
          53,
          51,
          51,
          51,
          51,
          52,
          54,
          51,
          54,
          56,
          67,
          64,
          57,
          59,
          52,
          54,
          52,
          51,
          51
         ],
         "showlegend": true,
         "subplot": "polar",
         "theta": [
          "08:45",
          "09:00",
          "09:45",
          "10:00",
          "10:15",
          "10:45",
          "11:15",
          "11:30",
          "11:45",
          "12:00",
          "12:15",
          "12:30",
          "12:45",
          "13:00",
          "13:30",
          "16:15",
          "16:30",
          "18:00",
          "18:45"
         ],
         "type": "barpolar"
        },
        {
         "customdata": [
          [
           "GAL POMME 6P",
           52,
           2,
           "09:00"
          ],
          [
           "GAL POMME 6P",
           51,
           1,
           "09:15"
          ],
          [
           "GAL POMME 6P",
           54,
           4,
           "09:30"
          ],
          [
           "GAL POMME 6P",
           51,
           1,
           "09:45"
          ],
          [
           "GAL POMME 6P",
           54,
           4,
           "10:00"
          ],
          [
           "GAL POMME 6P",
           51,
           1,
           "10:15"
          ],
          [
           "GAL POMME 6P",
           53,
           3,
           "10:30"
          ],
          [
           "GAL POMME 6P",
           52,
           2,
           "10:45"
          ],
          [
           "GAL POMME 6P",
           51,
           1,
           "11:00"
          ],
          [
           "GAL POMME 6P",
           54,
           4,
           "11:15"
          ],
          [
           "GAL POMME 6P",
           57,
           7,
           "11:30"
          ],
          [
           "GAL POMME 6P",
           53,
           3,
           "11:45"
          ],
          [
           "GAL POMME 6P",
           51,
           1,
           "12:00"
          ],
          [
           "GAL POMME 6P",
           58,
           8,
           "12:30"
          ],
          [
           "GAL POMME 6P",
           56,
           6,
           "12:45"
          ],
          [
           "GAL POMME 6P",
           54,
           4,
           "13:00"
          ],
          [
           "GAL POMME 6P",
           54,
           4,
           "13:15"
          ],
          [
           "GAL POMME 6P",
           51,
           1,
           "13:30"
          ],
          [
           "GAL POMME 6P",
           51,
           1,
           "16:15"
          ],
          [
           "GAL POMME 6P",
           51,
           1,
           "17:00"
          ],
          [
           "GAL POMME 6P",
           52,
           2,
           "17:30"
          ],
          [
           "GAL POMME 6P",
           51,
           1,
           "19:00"
          ]
         ],
         "hovertemplate": "article=%{customdata[0]}<br>Time=%{customdata[3]}<br>Quantity=%{customdata[2]}<extra></extra>",
         "legendgroup": "GAL POMME 6P",
         "marker": {
          "color": "#9c179e"
         },
         "name": "GAL POMME 6P",
         "r": [
          52,
          51,
          54,
          51,
          54,
          51,
          53,
          52,
          51,
          54,
          57,
          53,
          51,
          58,
          56,
          54,
          54,
          51,
          51,
          51,
          52,
          51
         ],
         "showlegend": true,
         "subplot": "polar",
         "theta": [
          "09:00",
          "09:15",
          "09:30",
          "09:45",
          "10:00",
          "10:15",
          "10:30",
          "10:45",
          "11:00",
          "11:15",
          "11:30",
          "11:45",
          "12:00",
          "12:30",
          "12:45",
          "13:00",
          "13:15",
          "13:30",
          "16:15",
          "17:00",
          "17:30",
          "19:00"
         ],
         "type": "barpolar"
        },
        {
         "customdata": [
          [
           "TARTELETTE CHOC",
           51,
           1,
           "09:00"
          ],
          [
           "TARTELETTE CHOC",
           52,
           2,
           "09:15"
          ],
          [
           "TARTELETTE CHOC",
           51,
           1,
           "10:00"
          ],
          [
           "TARTELETTE CHOC",
           51,
           1,
           "10:15"
          ],
          [
           "TARTELETTE CHOC",
           53,
           3,
           "10:45"
          ],
          [
           "TARTELETTE CHOC",
           56,
           6,
           "11:00"
          ],
          [
           "TARTELETTE CHOC",
           57,
           7,
           "11:15"
          ],
          [
           "TARTELETTE CHOC",
           56,
           6,
           "11:30"
          ],
          [
           "TARTELETTE CHOC",
           55,
           5,
           "11:45"
          ],
          [
           "TARTELETTE CHOC",
           53,
           3,
           "12:00"
          ],
          [
           "TARTELETTE CHOC",
           55,
           5,
           "12:15"
          ],
          [
           "TARTELETTE CHOC",
           54,
           4,
           "12:30"
          ],
          [
           "TARTELETTE CHOC",
           53,
           3,
           "12:45"
          ],
          [
           "TARTELETTE CHOC",
           52,
           2,
           "13:00"
          ],
          [
           "TARTELETTE CHOC",
           51,
           1,
           "13:15"
          ],
          [
           "TARTELETTE CHOC",
           52,
           2,
           "13:30"
          ],
          [
           "TARTELETTE CHOC",
           51,
           1,
           "16:15"
          ],
          [
           "TARTELETTE CHOC",
           51,
           1,
           "16:30"
          ],
          [
           "TARTELETTE CHOC",
           51,
           1,
           "16:45"
          ],
          [
           "TARTELETTE CHOC",
           51,
           1,
           "17:45"
          ],
          [
           "TARTELETTE CHOC",
           52,
           2,
           "18:15"
          ],
          [
           "TARTELETTE CHOC",
           51,
           1,
           "18:30"
          ],
          [
           "TARTELETTE CHOC",
           50,
           0,
           "18:45"
          ],
          [
           "TARTELETTE CHOC",
           51,
           1,
           "19:15"
          ]
         ],
         "hovertemplate": "article=%{customdata[0]}<br>Time=%{customdata[3]}<br>Quantity=%{customdata[2]}<extra></extra>",
         "legendgroup": "TARTELETTE CHOC",
         "marker": {
          "color": "#7201a8"
         },
         "name": "TARTELETTE CHOC",
         "r": [
          51,
          52,
          51,
          51,
          53,
          56,
          57,
          56,
          55,
          53,
          55,
          54,
          53,
          52,
          51,
          52,
          51,
          51,
          51,
          51,
          52,
          51,
          50,
          51
         ],
         "showlegend": true,
         "subplot": "polar",
         "theta": [
          "09:00",
          "09:15",
          "10:00",
          "10:15",
          "10:45",
          "11:00",
          "11:15",
          "11:30",
          "11:45",
          "12:00",
          "12:15",
          "12:30",
          "12:45",
          "13:00",
          "13:15",
          "13:30",
          "16:15",
          "16:30",
          "16:45",
          "17:45",
          "18:15",
          "18:30",
          "18:45",
          "19:15"
         ],
         "type": "barpolar"
        },
        {
         "customdata": [
          [
           "BUCHE 4PERS",
           51,
           1,
           "09:15"
          ],
          [
           "BUCHE 4PERS",
           51,
           1,
           "09:30"
          ],
          [
           "BUCHE 4PERS",
           52,
           2,
           "11:00"
          ],
          [
           "BUCHE 4PERS",
           51,
           1,
           "11:15"
          ],
          [
           "BUCHE 4PERS",
           51,
           1,
           "11:30"
          ],
          [
           "BUCHE 4PERS",
           52,
           2,
           "12:00"
          ],
          [
           "BUCHE 4PERS",
           51,
           1,
           "12:15"
          ],
          [
           "BUCHE 4PERS",
           51,
           1,
           "17:00"
          ],
          [
           "BUCHE 4PERS",
           51,
           1,
           "17:15"
          ]
         ],
         "hovertemplate": "article=%{customdata[0]}<br>Time=%{customdata[3]}<br>Quantity=%{customdata[2]}<extra></extra>",
         "legendgroup": "BUCHE 4PERS",
         "marker": {
          "color": "#46039f"
         },
         "name": "BUCHE 4PERS",
         "r": [
          51,
          51,
          52,
          51,
          51,
          52,
          51,
          51,
          51
         ],
         "showlegend": true,
         "subplot": "polar",
         "theta": [
          "09:15",
          "09:30",
          "11:00",
          "11:15",
          "11:30",
          "12:00",
          "12:15",
          "17:00",
          "17:15"
         ],
         "type": "barpolar"
        },
        {
         "customdata": [
          [
           "GAL POIRE CHOCO 4P",
           51,
           1,
           "09:15"
          ],
          [
           "GAL POIRE CHOCO 4P",
           51,
           1,
           "09:45"
          ],
          [
           "GAL POIRE CHOCO 4P",
           51,
           1,
           "10:15"
          ],
          [
           "GAL POIRE CHOCO 4P",
           51,
           1,
           "10:30"
          ],
          [
           "GAL POIRE CHOCO 4P",
           51,
           1,
           "11:00"
          ],
          [
           "GAL POIRE CHOCO 4P",
           51,
           1,
           "11:15"
          ],
          [
           "GAL POIRE CHOCO 4P",
           54,
           4,
           "11:30"
          ],
          [
           "GAL POIRE CHOCO 4P",
           54,
           4,
           "11:45"
          ],
          [
           "GAL POIRE CHOCO 4P",
           52,
           2,
           "12:15"
          ],
          [
           "GAL POIRE CHOCO 4P",
           51,
           1,
           "12:30"
          ],
          [
           "GAL POIRE CHOCO 4P",
           51,
           1,
           "12:45"
          ],
          [
           "GAL POIRE CHOCO 4P",
           52,
           2,
           "13:00"
          ],
          [
           "GAL POIRE CHOCO 4P",
           51,
           1,
           "16:30"
          ],
          [
           "GAL POIRE CHOCO 4P",
           51,
           1,
           "17:00"
          ],
          [
           "GAL POIRE CHOCO 4P",
           51,
           1,
           "17:15"
          ],
          [
           "GAL POIRE CHOCO 4P",
           51,
           1,
           "17:45"
          ]
         ],
         "hovertemplate": "article=%{customdata[0]}<br>Time=%{customdata[3]}<br>Quantity=%{customdata[2]}<extra></extra>",
         "legendgroup": "GAL POIRE CHOCO 4P",
         "marker": {
          "color": "#0d0887"
         },
         "name": "GAL POIRE CHOCO 4P",
         "r": [
          51,
          51,
          51,
          51,
          51,
          51,
          54,
          54,
          52,
          51,
          51,
          52,
          51,
          51,
          51,
          51
         ],
         "showlegend": true,
         "subplot": "polar",
         "theta": [
          "09:15",
          "09:45",
          "10:15",
          "10:30",
          "11:00",
          "11:15",
          "11:30",
          "11:45",
          "12:15",
          "12:30",
          "12:45",
          "13:00",
          "16:30",
          "17:00",
          "17:15",
          "17:45"
         ],
         "type": "barpolar"
        },
        {
         "customdata": [
          [
           "BUCHE 6PERS",
           51,
           1,
           "09:30"
          ],
          [
           "BUCHE 6PERS",
           51,
           1,
           "09:45"
          ],
          [
           "BUCHE 6PERS",
           52,
           2,
           "11:45"
          ],
          [
           "BUCHE 6PERS",
           51,
           1,
           "12:00"
          ],
          [
           "BUCHE 6PERS",
           51,
           1,
           "12:15"
          ],
          [
           "BUCHE 6PERS",
           51,
           1,
           "16:30"
          ],
          [
           "BUCHE 6PERS",
           51,
           1,
           "17:30"
          ]
         ],
         "hovertemplate": "article=%{customdata[0]}<br>Time=%{customdata[3]}<br>Quantity=%{customdata[2]}<extra></extra>",
         "legendgroup": "BUCHE 6PERS",
         "marker": {
          "color": "#f0f921"
         },
         "name": "BUCHE 6PERS",
         "r": [
          51,
          51,
          52,
          51,
          51,
          51,
          51
         ],
         "showlegend": true,
         "subplot": "polar",
         "theta": [
          "09:30",
          "09:45",
          "11:45",
          "12:00",
          "12:15",
          "16:30",
          "17:30"
         ],
         "type": "barpolar"
        },
        {
         "customdata": [
          [
           "NID DE POULE",
           54,
           4,
           "09:30"
          ],
          [
           "NID DE POULE",
           52,
           2,
           "10:15"
          ],
          [
           "NID DE POULE",
           59,
           9,
           "10:30"
          ],
          [
           "NID DE POULE",
           58,
           8,
           "10:45"
          ],
          [
           "NID DE POULE",
           56,
           6,
           "11:00"
          ],
          [
           "NID DE POULE",
           55,
           5,
           "11:15"
          ],
          [
           "NID DE POULE",
           51,
           1,
           "18:00"
          ]
         ],
         "hovertemplate": "article=%{customdata[0]}<br>Time=%{customdata[3]}<br>Quantity=%{customdata[2]}<extra></extra>",
         "legendgroup": "NID DE POULE",
         "marker": {
          "color": "#fdca26"
         },
         "name": "NID DE POULE",
         "r": [
          54,
          52,
          59,
          58,
          56,
          55,
          51
         ],
         "showlegend": true,
         "subplot": "polar",
         "theta": [
          "09:30",
          "10:15",
          "10:30",
          "10:45",
          "11:00",
          "11:15",
          "18:00"
         ],
         "type": "barpolar"
        },
        {
         "customdata": [
          [
           "PLATPREPARE7,00",
           51,
           1,
           "09:30"
          ],
          [
           "PLATPREPARE7,00",
           54,
           4,
           "10:30"
          ],
          [
           "PLATPREPARE7,00",
           53,
           3,
           "11:45"
          ],
          [
           "PLATPREPARE7,00",
           51,
           1,
           "12:15"
          ],
          [
           "PLATPREPARE7,00",
           52,
           2,
           "13:15"
          ],
          [
           "PLATPREPARE7,00",
           51,
           1,
           "13:30"
          ],
          [
           "PLATPREPARE7,00",
           51,
           1,
           "13:45"
          ],
          [
           "PLATPREPARE7,00",
           52,
           2,
           "17:15"
          ],
          [
           "PLATPREPARE7,00",
           51,
           1,
           "18:00"
          ],
          [
           "PLATPREPARE7,00",
           51,
           1,
           "19:30"
          ]
         ],
         "hovertemplate": "article=%{customdata[0]}<br>Time=%{customdata[3]}<br>Quantity=%{customdata[2]}<extra></extra>",
         "legendgroup": "PLATPREPARE7,00",
         "marker": {
          "color": "#fb9f3a"
         },
         "name": "PLATPREPARE7,00",
         "r": [
          51,
          54,
          53,
          51,
          52,
          51,
          51,
          52,
          51,
          51
         ],
         "showlegend": true,
         "subplot": "polar",
         "theta": [
          "09:30",
          "10:30",
          "11:45",
          "12:15",
          "13:15",
          "13:30",
          "13:45",
          "17:15",
          "18:00",
          "19:30"
         ],
         "type": "barpolar"
        },
        {
         "customdata": [
          [
           "REDUCTION SUCREES 12",
           51,
           1,
           "09:30"
          ],
          [
           "REDUCTION SUCREES 12",
           52,
           2,
           "10:00"
          ],
          [
           "REDUCTION SUCREES 12",
           52,
           2,
           "10:30"
          ],
          [
           "REDUCTION SUCREES 12",
           51,
           1,
           "12:00"
          ],
          [
           "REDUCTION SUCREES 12",
           51,
           1,
           "12:45"
          ],
          [
           "REDUCTION SUCREES 12",
           51,
           1,
           "16:15"
          ]
         ],
         "hovertemplate": "article=%{customdata[0]}<br>Time=%{customdata[3]}<br>Quantity=%{customdata[2]}<extra></extra>",
         "legendgroup": "REDUCTION SUCREES 12",
         "marker": {
          "color": "#ed7953"
         },
         "name": "REDUCTION SUCREES 12",
         "r": [
          51,
          52,
          52,
          51,
          51,
          51
         ],
         "showlegend": true,
         "subplot": "polar",
         "theta": [
          "09:30",
          "10:00",
          "10:30",
          "12:00",
          "12:45",
          "16:15"
         ],
         "type": "barpolar"
        },
        {
         "customdata": [
          [
           "GD PLATEAU SALE",
           51,
           1,
           "09:45"
          ],
          [
           "GD PLATEAU SALE",
           51,
           1,
           "11:15"
          ]
         ],
         "hovertemplate": "article=%{customdata[0]}<br>Time=%{customdata[3]}<br>Quantity=%{customdata[2]}<extra></extra>",
         "legendgroup": "GD PLATEAU SALE",
         "marker": {
          "color": "#d8576b"
         },
         "name": "GD PLATEAU SALE",
         "r": [
          51,
          51
         ],
         "showlegend": true,
         "subplot": "polar",
         "theta": [
          "09:45",
          "11:15"
         ],
         "type": "barpolar"
        },
        {
         "customdata": [
          [
           ".",
           51,
           1,
           "10:00"
          ],
          [
           ".",
           52,
           2,
           "12:30"
          ],
          [
           ".",
           51,
           1,
           "13:00"
          ],
          [
           ".",
           52,
           2,
           "13:30"
          ],
          [
           ".",
           51,
           1,
           "16:45"
          ]
         ],
         "hovertemplate": "article=%{customdata[0]}<br>Time=%{customdata[3]}<br>Quantity=%{customdata[2]}<extra></extra>",
         "legendgroup": ".",
         "marker": {
          "color": "#bd3786"
         },
         "name": ".",
         "r": [
          51,
          52,
          51,
          52,
          51
         ],
         "showlegend": true,
         "subplot": "polar",
         "theta": [
          "10:00",
          "12:30",
          "13:00",
          "13:30",
          "16:45"
         ],
         "type": "barpolar"
        },
        {
         "customdata": [
          [
           "TROIS CHOCOLAT",
           51,
           1,
           "10:00"
          ]
         ],
         "hovertemplate": "article=%{customdata[0]}<br>Time=%{customdata[3]}<br>Quantity=%{customdata[2]}<extra></extra>",
         "legendgroup": "TROIS CHOCOLAT",
         "marker": {
          "color": "#9c179e"
         },
         "name": "TROIS CHOCOLAT",
         "r": [
          51
         ],
         "showlegend": true,
         "subplot": "polar",
         "theta": [
          "10:00"
         ],
         "type": "barpolar"
        },
        {
         "customdata": [
          [
           "ARMORICAIN",
           51,
           1,
           "10:45"
          ],
          [
           "ARMORICAIN",
           52,
           2,
           "19:00"
          ]
         ],
         "hovertemplate": "article=%{customdata[0]}<br>Time=%{customdata[3]}<br>Quantity=%{customdata[2]}<extra></extra>",
         "legendgroup": "ARMORICAIN",
         "marker": {
          "color": "#7201a8"
         },
         "name": "ARMORICAIN",
         "r": [
          51,
          52
         ],
         "showlegend": true,
         "subplot": "polar",
         "theta": [
          "10:45",
          "19:00"
         ],
         "type": "barpolar"
        },
        {
         "customdata": [
          [
           "PT PLATEAU SALE",
           52,
           2,
           "10:45"
          ],
          [
           "PT PLATEAU SALE",
           51,
           1,
           "12:00"
          ],
          [
           "PT PLATEAU SALE",
           51,
           1,
           "17:30"
          ]
         ],
         "hovertemplate": "article=%{customdata[0]}<br>Time=%{customdata[3]}<br>Quantity=%{customdata[2]}<extra></extra>",
         "legendgroup": "PT PLATEAU SALE",
         "marker": {
          "color": "#46039f"
         },
         "name": "PT PLATEAU SALE",
         "r": [
          52,
          51,
          51
         ],
         "showlegend": true,
         "subplot": "polar",
         "theta": [
          "10:45",
          "12:00",
          "17:30"
         ],
         "type": "barpolar"
        },
        {
         "customdata": [
          [
           "GUERANDAIS",
           51,
           1,
           "11:00"
          ],
          [
           "GUERANDAIS",
           51,
           1,
           "12:15"
          ],
          [
           "GUERANDAIS",
           51,
           1,
           "17:00"
          ]
         ],
         "hovertemplate": "article=%{customdata[0]}<br>Time=%{customdata[3]}<br>Quantity=%{customdata[2]}<extra></extra>",
         "legendgroup": "GUERANDAIS",
         "marker": {
          "color": "#0d0887"
         },
         "name": "GUERANDAIS",
         "r": [
          51,
          51,
          51
         ],
         "showlegend": true,
         "subplot": "polar",
         "theta": [
          "11:00",
          "12:15",
          "17:00"
         ],
         "type": "barpolar"
        },
        {
         "customdata": [
          [
           "PALMIER",
           51,
           1,
           "11:00"
          ],
          [
           "PALMIER",
           51,
           1,
           "11:15"
          ],
          [
           "PALMIER",
           51,
           1,
           "13:00"
          ],
          [
           "PALMIER",
           51,
           1,
           "17:15"
          ],
          [
           "PALMIER",
           52,
           2,
           "18:00"
          ]
         ],
         "hovertemplate": "article=%{customdata[0]}<br>Time=%{customdata[3]}<br>Quantity=%{customdata[2]}<extra></extra>",
         "legendgroup": "PALMIER",
         "marker": {
          "color": "#f0f921"
         },
         "name": "PALMIER",
         "r": [
          51,
          51,
          51,
          51,
          52
         ],
         "showlegend": true,
         "subplot": "polar",
         "theta": [
          "11:00",
          "11:15",
          "13:00",
          "17:15",
          "18:00"
         ],
         "type": "barpolar"
        },
        {
         "customdata": [
          [
           "PLAQUE TARTE 25P",
           52,
           2,
           "11:00"
          ]
         ],
         "hovertemplate": "article=%{customdata[0]}<br>Time=%{customdata[3]}<br>Quantity=%{customdata[2]}<extra></extra>",
         "legendgroup": "PLAQUE TARTE 25P",
         "marker": {
          "color": "#fdca26"
         },
         "name": "PLAQUE TARTE 25P",
         "r": [
          52
         ],
         "showlegend": true,
         "subplot": "polar",
         "theta": [
          "11:00"
         ],
         "type": "barpolar"
        },
        {
         "customdata": [
          [
           "BUCHE 8PERS",
           52,
           2,
           "11:15"
          ]
         ],
         "hovertemplate": "article=%{customdata[0]}<br>Time=%{customdata[3]}<br>Quantity=%{customdata[2]}<extra></extra>",
         "legendgroup": "BUCHE 8PERS",
         "marker": {
          "color": "#fb9f3a"
         },
         "name": "BUCHE 8PERS",
         "r": [
          52
         ],
         "showlegend": true,
         "subplot": "polar",
         "theta": [
          "11:15"
         ],
         "type": "barpolar"
        },
        {
         "customdata": [
          [
           "PATES",
           51,
           1,
           "11:15"
          ],
          [
           "PATES",
           51,
           1,
           "13:15"
          ]
         ],
         "hovertemplate": "article=%{customdata[0]}<br>Time=%{customdata[3]}<br>Quantity=%{customdata[2]}<extra></extra>",
         "legendgroup": "PATES",
         "marker": {
          "color": "#ed7953"
         },
         "name": "PATES",
         "r": [
          51,
          51
         ],
         "showlegend": true,
         "subplot": "polar",
         "theta": [
          "11:15",
          "13:15"
         ],
         "type": "barpolar"
        },
        {
         "customdata": [
          [
           "PLATPREPARE5,50",
           51,
           1,
           "11:15"
          ],
          [
           "PLATPREPARE5,50",
           51,
           1,
           "11:30"
          ],
          [
           "PLATPREPARE5,50",
           51,
           1,
           "19:30"
          ]
         ],
         "hovertemplate": "article=%{customdata[0]}<br>Time=%{customdata[3]}<br>Quantity=%{customdata[2]}<extra></extra>",
         "legendgroup": "PLATPREPARE5,50",
         "marker": {
          "color": "#d8576b"
         },
         "name": "PLATPREPARE5,50",
         "r": [
          51,
          51,
          51
         ],
         "showlegend": true,
         "subplot": "polar",
         "theta": [
          "11:15",
          "11:30",
          "19:30"
         ],
         "type": "barpolar"
        },
        {
         "customdata": [
          [
           "PLATPREPARE6,00",
           51,
           1,
           "11:15"
          ]
         ],
         "hovertemplate": "article=%{customdata[0]}<br>Time=%{customdata[3]}<br>Quantity=%{customdata[2]}<extra></extra>",
         "legendgroup": "PLATPREPARE6,00",
         "marker": {
          "color": "#bd3786"
         },
         "name": "PLATPREPARE6,00",
         "r": [
          51
         ],
         "showlegend": true,
         "subplot": "polar",
         "theta": [
          "11:15"
         ],
         "type": "barpolar"
        },
        {
         "customdata": [
          [
           "TULIPE",
           50,
           0,
           "11:15"
          ],
          [
           "TULIPE",
           52,
           2,
           "19:00"
          ]
         ],
         "hovertemplate": "article=%{customdata[0]}<br>Time=%{customdata[3]}<br>Quantity=%{customdata[2]}<extra></extra>",
         "legendgroup": "TULIPE",
         "marker": {
          "color": "#9c179e"
         },
         "name": "TULIPE",
         "r": [
          50,
          52
         ],
         "showlegend": true,
         "subplot": "polar",
         "theta": [
          "11:15",
          "19:00"
         ],
         "type": "barpolar"
        },
        {
         "customdata": [
          [
           "FORMULE PLAT PREPARE",
           51,
           1,
           "11:30"
          ],
          [
           "FORMULE PLAT PREPARE",
           51,
           1,
           "12:15"
          ],
          [
           "FORMULE PLAT PREPARE",
           51,
           1,
           "12:30"
          ],
          [
           "FORMULE PLAT PREPARE",
           53,
           3,
           "13:00"
          ],
          [
           "FORMULE PLAT PREPARE",
           51,
           1,
           "13:30"
          ],
          [
           "FORMULE PLAT PREPARE",
           53,
           3,
           "13:45"
          ],
          [
           "FORMULE PLAT PREPARE",
           51,
           1,
           "14:00"
          ]
         ],
         "hovertemplate": "article=%{customdata[0]}<br>Time=%{customdata[3]}<br>Quantity=%{customdata[2]}<extra></extra>",
         "legendgroup": "FORMULE PLAT PREPARE",
         "marker": {
          "color": "#7201a8"
         },
         "name": "FORMULE PLAT PREPARE",
         "r": [
          51,
          51,
          51,
          53,
          51,
          53,
          51
         ],
         "showlegend": true,
         "subplot": "polar",
         "theta": [
          "11:30",
          "12:15",
          "12:30",
          "13:00",
          "13:30",
          "13:45",
          "14:00"
         ],
         "type": "barpolar"
        },
        {
         "customdata": [
          [
           "DOUCEUR D HIVER",
           51,
           1,
           "11:45"
          ]
         ],
         "hovertemplate": "article=%{customdata[0]}<br>Time=%{customdata[3]}<br>Quantity=%{customdata[2]}<extra></extra>",
         "legendgroup": "DOUCEUR D HIVER",
         "marker": {
          "color": "#46039f"
         },
         "name": "DOUCEUR D HIVER",
         "r": [
          51
         ],
         "showlegend": true,
         "subplot": "polar",
         "theta": [
          "11:45"
         ],
         "type": "barpolar"
        },
        {
         "customdata": [
          [
           "PAIN NOIR",
           51,
           1,
           "11:45"
          ]
         ],
         "hovertemplate": "article=%{customdata[0]}<br>Time=%{customdata[3]}<br>Quantity=%{customdata[2]}<extra></extra>",
         "legendgroup": "PAIN NOIR",
         "marker": {
          "color": "#0d0887"
         },
         "name": "PAIN NOIR",
         "r": [
          51
         ],
         "showlegend": true,
         "subplot": "polar",
         "theta": [
          "11:45"
         ],
         "type": "barpolar"
        },
        {
         "customdata": [
          [
           "FORMULE PATE",
           51,
           1,
           "12:00"
          ],
          [
           "FORMULE PATE",
           51,
           1,
           "13:00"
          ]
         ],
         "hovertemplate": "article=%{customdata[0]}<br>Time=%{customdata[3]}<br>Quantity=%{customdata[2]}<extra></extra>",
         "legendgroup": "FORMULE PATE",
         "marker": {
          "color": "#f0f921"
         },
         "name": "FORMULE PATE",
         "r": [
          51,
          51
         ],
         "showlegend": true,
         "subplot": "polar",
         "theta": [
          "12:00",
          "13:00"
         ],
         "type": "barpolar"
        },
        {
         "customdata": [
          [
           "GALETTE 8 PERS",
           51,
           1,
           "12:00"
          ],
          [
           "GALETTE 8 PERS",
           51,
           1,
           "13:30"
          ]
         ],
         "hovertemplate": "article=%{customdata[0]}<br>Time=%{customdata[3]}<br>Quantity=%{customdata[2]}<extra></extra>",
         "legendgroup": "GALETTE 8 PERS",
         "marker": {
          "color": "#fdca26"
         },
         "name": "GALETTE 8 PERS",
         "r": [
          51,
          51
         ],
         "showlegend": true,
         "subplot": "polar",
         "theta": [
          "12:00",
          "13:30"
         ],
         "type": "barpolar"
        },
        {
         "customdata": [
          [
           "PLAT",
           51,
           1,
           "12:00"
          ],
          [
           "PLAT",
           51,
           1,
           "12:15"
          ],
          [
           "PLAT",
           51,
           1,
           "12:30"
          ],
          [
           "PLAT",
           51,
           1,
           "12:45"
          ],
          [
           "PLAT",
           52,
           2,
           "13:00"
          ],
          [
           "PLAT",
           51,
           1,
           "13:15"
          ],
          [
           "PLAT",
           52,
           2,
           "17:15"
          ]
         ],
         "hovertemplate": "article=%{customdata[0]}<br>Time=%{customdata[3]}<br>Quantity=%{customdata[2]}<extra></extra>",
         "legendgroup": "PLAT",
         "marker": {
          "color": "#fb9f3a"
         },
         "name": "PLAT",
         "r": [
          51,
          51,
          51,
          51,
          52,
          51,
          52
         ],
         "showlegend": true,
         "subplot": "polar",
         "theta": [
          "12:00",
          "12:15",
          "12:30",
          "12:45",
          "13:00",
          "13:15",
          "17:15"
         ],
         "type": "barpolar"
        },
        {
         "customdata": [
          [
           "SAND JB",
           51,
           1,
           "12:15"
          ],
          [
           "SAND JB",
           51,
           1,
           "12:45"
          ],
          [
           "SAND JB",
           52,
           2,
           "13:00"
          ],
          [
           "SAND JB",
           51,
           1,
           "13:30"
          ]
         ],
         "hovertemplate": "article=%{customdata[0]}<br>Time=%{customdata[3]}<br>Quantity=%{customdata[2]}<extra></extra>",
         "legendgroup": "SAND JB",
         "marker": {
          "color": "#ed7953"
         },
         "name": "SAND JB",
         "r": [
          51,
          51,
          52,
          51
         ],
         "showlegend": true,
         "subplot": "polar",
         "theta": [
          "12:15",
          "12:45",
          "13:00",
          "13:30"
         ],
         "type": "barpolar"
        },
        {
         "customdata": [
          [
           "TARTELETTE COCKTAIL",
           52,
           2,
           "12:30"
          ]
         ],
         "hovertemplate": "article=%{customdata[0]}<br>Time=%{customdata[3]}<br>Quantity=%{customdata[2]}<extra></extra>",
         "legendgroup": "TARTELETTE COCKTAIL",
         "marker": {
          "color": "#d8576b"
         },
         "name": "TARTELETTE COCKTAIL",
         "r": [
          52
         ],
         "showlegend": true,
         "subplot": "polar",
         "theta": [
          "12:30"
         ],
         "type": "barpolar"
        },
        {
         "customdata": [
          [
           "CRUMBLECARAMEL OU PISTAE",
           53,
           3,
           "16:30"
          ]
         ],
         "hovertemplate": "article=%{customdata[0]}<br>Time=%{customdata[3]}<br>Quantity=%{customdata[2]}<extra></extra>",
         "legendgroup": "CRUMBLECARAMEL OU PISTAE",
         "marker": {
          "color": "#bd3786"
         },
         "name": "CRUMBLECARAMEL OU PISTAE",
         "r": [
          53
         ],
         "showlegend": true,
         "subplot": "polar",
         "theta": [
          "16:30"
         ],
         "type": "barpolar"
        },
        {
         "customdata": [
          [
           "REDUCTION SUCREES 24",
           51,
           1,
           "16:30"
          ]
         ],
         "hovertemplate": "article=%{customdata[0]}<br>Time=%{customdata[3]}<br>Quantity=%{customdata[2]}<extra></extra>",
         "legendgroup": "REDUCTION SUCREES 24",
         "marker": {
          "color": "#9c179e"
         },
         "name": "REDUCTION SUCREES 24",
         "r": [
          51
         ],
         "showlegend": true,
         "subplot": "polar",
         "theta": [
          "16:30"
         ],
         "type": "barpolar"
        },
        {
         "customdata": [
          [
           "CAKE",
           51,
           1,
           "16:45"
          ]
         ],
         "hovertemplate": "article=%{customdata[0]}<br>Time=%{customdata[3]}<br>Quantity=%{customdata[2]}<extra></extra>",
         "legendgroup": "CAKE",
         "marker": {
          "color": "#7201a8"
         },
         "name": "CAKE",
         "r": [
          51
         ],
         "showlegend": true,
         "subplot": "polar",
         "theta": [
          "16:45"
         ],
         "type": "barpolar"
        },
        {
         "customdata": [
          [
           "ARTICLE 295",
           51,
           1,
           "20:00"
          ]
         ],
         "hovertemplate": "article=%{customdata[0]}<br>Time=%{customdata[3]}<br>Quantity=%{customdata[2]}<extra></extra>",
         "legendgroup": "ARTICLE 295",
         "marker": {
          "color": "#46039f"
         },
         "name": "ARTICLE 295",
         "r": [
          51
         ],
         "showlegend": true,
         "subplot": "polar",
         "theta": [
          "20:00"
         ],
         "type": "barpolar"
        }
       ],
       "layout": {
        "annotations": [
         {
          "font": {
           "color": "yellow",
           "size": 17
          },
          "showarrow": false,
          "text": "<b>Sales<b>",
          "x": 0.5,
          "y": 0.5
         }
        ],
        "barmode": "relative",
        "height": 700,
        "legend": {
         "title": {
          "text": "article"
         },
         "tracegroupgap": 0
        },
        "margin": {
         "t": 60
        },
        "polar": {
         "angularaxis": {
          "direction": "clockwise",
          "rotation": 90
         },
         "domain": {
          "x": [
           0,
           1
          ],
          "y": [
           0,
           1
          ]
         },
         "radialaxis": {
          "linewidth": 0,
          "showticklabels": false,
          "ticks": ""
         }
        },
        "shapes": [
         {
          "fillcolor": "black",
          "line": {
           "color": "Black"
          },
          "type": "circle",
          "x0": 0.44,
          "x1": 0.56,
          "xref": "paper",
          "y0": 0.44,
          "y1": 0.56,
          "yref": "paper"
         }
        ],
        "template": {
         "data": {
          "bar": [
           {
            "error_x": {
             "color": "#f2f5fa"
            },
            "error_y": {
             "color": "#f2f5fa"
            },
            "marker": {
             "line": {
              "color": "rgb(17,17,17)",
              "width": 0.5
             }
            },
            "type": "bar"
           }
          ],
          "barpolar": [
           {
            "marker": {
             "line": {
              "color": "rgb(17,17,17)",
              "width": 0.5
             }
            },
            "type": "barpolar"
           }
          ],
          "carpet": [
           {
            "aaxis": {
             "endlinecolor": "#A2B1C6",
             "gridcolor": "#506784",
             "linecolor": "#506784",
             "minorgridcolor": "#506784",
             "startlinecolor": "#A2B1C6"
            },
            "baxis": {
             "endlinecolor": "#A2B1C6",
             "gridcolor": "#506784",
             "linecolor": "#506784",
             "minorgridcolor": "#506784",
             "startlinecolor": "#A2B1C6"
            },
            "type": "carpet"
           }
          ],
          "choropleth": [
           {
            "colorbar": {
             "outlinewidth": 0,
             "ticks": ""
            },
            "type": "choropleth"
           }
          ],
          "contour": [
           {
            "colorbar": {
             "outlinewidth": 0,
             "ticks": ""
            },
            "colorscale": [
             [
              0,
              "#0d0887"
             ],
             [
              0.1111111111111111,
              "#46039f"
             ],
             [
              0.2222222222222222,
              "#7201a8"
             ],
             [
              0.3333333333333333,
              "#9c179e"
             ],
             [
              0.4444444444444444,
              "#bd3786"
             ],
             [
              0.5555555555555556,
              "#d8576b"
             ],
             [
              0.6666666666666666,
              "#ed7953"
             ],
             [
              0.7777777777777778,
              "#fb9f3a"
             ],
             [
              0.8888888888888888,
              "#fdca26"
             ],
             [
              1,
              "#f0f921"
             ]
            ],
            "type": "contour"
           }
          ],
          "contourcarpet": [
           {
            "colorbar": {
             "outlinewidth": 0,
             "ticks": ""
            },
            "type": "contourcarpet"
           }
          ],
          "heatmap": [
           {
            "colorbar": {
             "outlinewidth": 0,
             "ticks": ""
            },
            "colorscale": [
             [
              0,
              "#0d0887"
             ],
             [
              0.1111111111111111,
              "#46039f"
             ],
             [
              0.2222222222222222,
              "#7201a8"
             ],
             [
              0.3333333333333333,
              "#9c179e"
             ],
             [
              0.4444444444444444,
              "#bd3786"
             ],
             [
              0.5555555555555556,
              "#d8576b"
             ],
             [
              0.6666666666666666,
              "#ed7953"
             ],
             [
              0.7777777777777778,
              "#fb9f3a"
             ],
             [
              0.8888888888888888,
              "#fdca26"
             ],
             [
              1,
              "#f0f921"
             ]
            ],
            "type": "heatmap"
           }
          ],
          "heatmapgl": [
           {
            "colorbar": {
             "outlinewidth": 0,
             "ticks": ""
            },
            "colorscale": [
             [
              0,
              "#0d0887"
             ],
             [
              0.1111111111111111,
              "#46039f"
             ],
             [
              0.2222222222222222,
              "#7201a8"
             ],
             [
              0.3333333333333333,
              "#9c179e"
             ],
             [
              0.4444444444444444,
              "#bd3786"
             ],
             [
              0.5555555555555556,
              "#d8576b"
             ],
             [
              0.6666666666666666,
              "#ed7953"
             ],
             [
              0.7777777777777778,
              "#fb9f3a"
             ],
             [
              0.8888888888888888,
              "#fdca26"
             ],
             [
              1,
              "#f0f921"
             ]
            ],
            "type": "heatmapgl"
           }
          ],
          "histogram": [
           {
            "marker": {
             "colorbar": {
              "outlinewidth": 0,
              "ticks": ""
             }
            },
            "type": "histogram"
           }
          ],
          "histogram2d": [
           {
            "colorbar": {
             "outlinewidth": 0,
             "ticks": ""
            },
            "colorscale": [
             [
              0,
              "#0d0887"
             ],
             [
              0.1111111111111111,
              "#46039f"
             ],
             [
              0.2222222222222222,
              "#7201a8"
             ],
             [
              0.3333333333333333,
              "#9c179e"
             ],
             [
              0.4444444444444444,
              "#bd3786"
             ],
             [
              0.5555555555555556,
              "#d8576b"
             ],
             [
              0.6666666666666666,
              "#ed7953"
             ],
             [
              0.7777777777777778,
              "#fb9f3a"
             ],
             [
              0.8888888888888888,
              "#fdca26"
             ],
             [
              1,
              "#f0f921"
             ]
            ],
            "type": "histogram2d"
           }
          ],
          "histogram2dcontour": [
           {
            "colorbar": {
             "outlinewidth": 0,
             "ticks": ""
            },
            "colorscale": [
             [
              0,
              "#0d0887"
             ],
             [
              0.1111111111111111,
              "#46039f"
             ],
             [
              0.2222222222222222,
              "#7201a8"
             ],
             [
              0.3333333333333333,
              "#9c179e"
             ],
             [
              0.4444444444444444,
              "#bd3786"
             ],
             [
              0.5555555555555556,
              "#d8576b"
             ],
             [
              0.6666666666666666,
              "#ed7953"
             ],
             [
              0.7777777777777778,
              "#fb9f3a"
             ],
             [
              0.8888888888888888,
              "#fdca26"
             ],
             [
              1,
              "#f0f921"
             ]
            ],
            "type": "histogram2dcontour"
           }
          ],
          "mesh3d": [
           {
            "colorbar": {
             "outlinewidth": 0,
             "ticks": ""
            },
            "type": "mesh3d"
           }
          ],
          "parcoords": [
           {
            "line": {
             "colorbar": {
              "outlinewidth": 0,
              "ticks": ""
             }
            },
            "type": "parcoords"
           }
          ],
          "pie": [
           {
            "automargin": true,
            "type": "pie"
           }
          ],
          "scatter": [
           {
            "marker": {
             "line": {
              "color": "#283442"
             }
            },
            "type": "scatter"
           }
          ],
          "scatter3d": [
           {
            "line": {
             "colorbar": {
              "outlinewidth": 0,
              "ticks": ""
             }
            },
            "marker": {
             "colorbar": {
              "outlinewidth": 0,
              "ticks": ""
             }
            },
            "type": "scatter3d"
           }
          ],
          "scattercarpet": [
           {
            "marker": {
             "colorbar": {
              "outlinewidth": 0,
              "ticks": ""
             }
            },
            "type": "scattercarpet"
           }
          ],
          "scattergeo": [
           {
            "marker": {
             "colorbar": {
              "outlinewidth": 0,
              "ticks": ""
             }
            },
            "type": "scattergeo"
           }
          ],
          "scattergl": [
           {
            "marker": {
             "line": {
              "color": "#283442"
             }
            },
            "type": "scattergl"
           }
          ],
          "scattermapbox": [
           {
            "marker": {
             "colorbar": {
              "outlinewidth": 0,
              "ticks": ""
             }
            },
            "type": "scattermapbox"
           }
          ],
          "scatterpolar": [
           {
            "marker": {
             "colorbar": {
              "outlinewidth": 0,
              "ticks": ""
             }
            },
            "type": "scatterpolar"
           }
          ],
          "scatterpolargl": [
           {
            "marker": {
             "colorbar": {
              "outlinewidth": 0,
              "ticks": ""
             }
            },
            "type": "scatterpolargl"
           }
          ],
          "scatterternary": [
           {
            "marker": {
             "colorbar": {
              "outlinewidth": 0,
              "ticks": ""
             }
            },
            "type": "scatterternary"
           }
          ],
          "surface": [
           {
            "colorbar": {
             "outlinewidth": 0,
             "ticks": ""
            },
            "colorscale": [
             [
              0,
              "#0d0887"
             ],
             [
              0.1111111111111111,
              "#46039f"
             ],
             [
              0.2222222222222222,
              "#7201a8"
             ],
             [
              0.3333333333333333,
              "#9c179e"
             ],
             [
              0.4444444444444444,
              "#bd3786"
             ],
             [
              0.5555555555555556,
              "#d8576b"
             ],
             [
              0.6666666666666666,
              "#ed7953"
             ],
             [
              0.7777777777777778,
              "#fb9f3a"
             ],
             [
              0.8888888888888888,
              "#fdca26"
             ],
             [
              1,
              "#f0f921"
             ]
            ],
            "type": "surface"
           }
          ],
          "table": [
           {
            "cells": {
             "fill": {
              "color": "#506784"
             },
             "line": {
              "color": "rgb(17,17,17)"
             }
            },
            "header": {
             "fill": {
              "color": "#2a3f5f"
             },
             "line": {
              "color": "rgb(17,17,17)"
             }
            },
            "type": "table"
           }
          ]
         },
         "layout": {
          "annotationdefaults": {
           "arrowcolor": "#f2f5fa",
           "arrowhead": 0,
           "arrowwidth": 1
          },
          "coloraxis": {
           "colorbar": {
            "outlinewidth": 0,
            "ticks": ""
           }
          },
          "colorscale": {
           "diverging": [
            [
             0,
             "#8e0152"
            ],
            [
             0.1,
             "#c51b7d"
            ],
            [
             0.2,
             "#de77ae"
            ],
            [
             0.3,
             "#f1b6da"
            ],
            [
             0.4,
             "#fde0ef"
            ],
            [
             0.5,
             "#f7f7f7"
            ],
            [
             0.6,
             "#e6f5d0"
            ],
            [
             0.7,
             "#b8e186"
            ],
            [
             0.8,
             "#7fbc41"
            ],
            [
             0.9,
             "#4d9221"
            ],
            [
             1,
             "#276419"
            ]
           ],
           "sequential": [
            [
             0,
             "#0d0887"
            ],
            [
             0.1111111111111111,
             "#46039f"
            ],
            [
             0.2222222222222222,
             "#7201a8"
            ],
            [
             0.3333333333333333,
             "#9c179e"
            ],
            [
             0.4444444444444444,
             "#bd3786"
            ],
            [
             0.5555555555555556,
             "#d8576b"
            ],
            [
             0.6666666666666666,
             "#ed7953"
            ],
            [
             0.7777777777777778,
             "#fb9f3a"
            ],
            [
             0.8888888888888888,
             "#fdca26"
            ],
            [
             1,
             "#f0f921"
            ]
           ],
           "sequentialminus": [
            [
             0,
             "#0d0887"
            ],
            [
             0.1111111111111111,
             "#46039f"
            ],
            [
             0.2222222222222222,
             "#7201a8"
            ],
            [
             0.3333333333333333,
             "#9c179e"
            ],
            [
             0.4444444444444444,
             "#bd3786"
            ],
            [
             0.5555555555555556,
             "#d8576b"
            ],
            [
             0.6666666666666666,
             "#ed7953"
            ],
            [
             0.7777777777777778,
             "#fb9f3a"
            ],
            [
             0.8888888888888888,
             "#fdca26"
            ],
            [
             1,
             "#f0f921"
            ]
           ]
          },
          "colorway": [
           "#636efa",
           "#EF553B",
           "#00cc96",
           "#ab63fa",
           "#FFA15A",
           "#19d3f3",
           "#FF6692",
           "#B6E880",
           "#FF97FF",
           "#FECB52"
          ],
          "font": {
           "color": "#f2f5fa"
          },
          "geo": {
           "bgcolor": "rgb(17,17,17)",
           "lakecolor": "rgb(17,17,17)",
           "landcolor": "rgb(17,17,17)",
           "showlakes": true,
           "showland": true,
           "subunitcolor": "#506784"
          },
          "hoverlabel": {
           "align": "left"
          },
          "hovermode": "closest",
          "mapbox": {
           "style": "dark"
          },
          "paper_bgcolor": "rgb(17,17,17)",
          "plot_bgcolor": "rgb(17,17,17)",
          "polar": {
           "angularaxis": {
            "gridcolor": "#506784",
            "linecolor": "#506784",
            "ticks": ""
           },
           "bgcolor": "rgb(17,17,17)",
           "radialaxis": {
            "gridcolor": "#506784",
            "linecolor": "#506784",
            "ticks": ""
           }
          },
          "scene": {
           "xaxis": {
            "backgroundcolor": "rgb(17,17,17)",
            "gridcolor": "#506784",
            "gridwidth": 2,
            "linecolor": "#506784",
            "showbackground": true,
            "ticks": "",
            "zerolinecolor": "#C8D4E3"
           },
           "yaxis": {
            "backgroundcolor": "rgb(17,17,17)",
            "gridcolor": "#506784",
            "gridwidth": 2,
            "linecolor": "#506784",
            "showbackground": true,
            "ticks": "",
            "zerolinecolor": "#C8D4E3"
           },
           "zaxis": {
            "backgroundcolor": "rgb(17,17,17)",
            "gridcolor": "#506784",
            "gridwidth": 2,
            "linecolor": "#506784",
            "showbackground": true,
            "ticks": "",
            "zerolinecolor": "#C8D4E3"
           }
          },
          "shapedefaults": {
           "line": {
            "color": "#f2f5fa"
           }
          },
          "sliderdefaults": {
           "bgcolor": "#C8D4E3",
           "bordercolor": "rgb(17,17,17)",
           "borderwidth": 1,
           "tickwidth": 0
          },
          "ternary": {
           "aaxis": {
            "gridcolor": "#506784",
            "linecolor": "#506784",
            "ticks": ""
           },
           "baxis": {
            "gridcolor": "#506784",
            "linecolor": "#506784",
            "ticks": ""
           },
           "bgcolor": "rgb(17,17,17)",
           "caxis": {
            "gridcolor": "#506784",
            "linecolor": "#506784",
            "ticks": ""
           }
          },
          "title": {
           "x": 0.05
          },
          "updatemenudefaults": {
           "bgcolor": "#506784",
           "borderwidth": 0
          },
          "xaxis": {
           "automargin": true,
           "gridcolor": "#283442",
           "linecolor": "#506784",
           "ticks": "",
           "title": {
            "standoff": 15
           },
           "zerolinecolor": "#283442",
           "zerolinewidth": 2
          },
          "yaxis": {
           "automargin": true,
           "gridcolor": "#283442",
           "linecolor": "#506784",
           "ticks": "",
           "title": {
            "standoff": 15
           },
           "zerolinecolor": "#283442",
           "zerolinewidth": 2
          }
         }
        },
        "width": 1000
       }
      }
     },
     "metadata": {},
     "output_type": "display_data"
    }
   ],
   "source": [
    "import plotly.express as px\n",
    "\n",
    "HourEvents['frequency']=HourEvents.Quantity + 50\n",
    "\n",
    "fig = px.bar_polar(HourEvents, r=\"frequency\", color=\"article\",theta = 'Time',template=\"plotly_dark\",\n",
    "                   color_discrete_sequence= px.colors.sequential.Plasma_r, hover_data={\"article\":True, \"frequency\":False, \"Quantity\":True ,\"Time\":True}\n",
    "                   )\n",
    "\n",
    "fig.add_shape(\n",
    "    type=\"circle\",\n",
    "            xref=\"paper\",\n",
    "            yref=\"paper\",\n",
    "            x0=0.44,\n",
    "            y0=0.44,\n",
    "            x1=0.56,\n",
    "            y1=0.56,\n",
    "            line_color=\"Black\",\n",
    "            fillcolor=\"black\"\n",
    ")\n",
    "\n",
    "fig.add_annotation( # add a text callout with arrow\n",
    "    text=\"<b>Sales<b>\", x=0.5, y=0.5, showarrow=False,font = dict(size=17,color = \"yellow\")\n",
    ")\n",
    "\n",
    "fig.update_layout(width=1000, height=700)\n",
    "fig.update_layout(polar=dict(radialaxis=dict(showticklabels=False, ticks='', linewidth=0)\n",
    "    )\n",
    ")\n",
    "fig.show()\n"
   ]
  },
  {
   "cell_type": "code",
   "execution_count": 35,
   "metadata": {},
   "outputs": [
    {
     "name": "stdout",
     "output_type": "stream",
     "text": [
      "Collecting pyinstaller\n",
      "  Downloading pyinstaller-5.13.0-py3-none-win_amd64.whl (1.3 MB)\n",
      "Collecting pywin32-ctypes>=0.2.1; sys_platform == \"win32\"\n",
      "  Downloading pywin32_ctypes-0.2.2-py3-none-any.whl (30 kB)\n",
      "Collecting altgraph\n",
      "  Downloading altgraph-0.17.3-py2.py3-none-any.whl (21 kB)\n",
      "Requirement already satisfied: importlib-metadata>=1.4; python_version < \"3.8\" in c:\\users\\hazar\\anaconda3\\lib\\site-packages (from pyinstaller) (2.0.0)\n",
      "Requirement already satisfied: setuptools>=42.0.0 in c:\\users\\hazar\\anaconda3\\lib\\site-packages (from pyinstaller) (45.2.0.post20200210)\n",
      "Collecting pefile>=2022.5.30; sys_platform == \"win32\"\n",
      "  Downloading pefile-2023.2.7-py3-none-any.whl (71 kB)\n",
      "Collecting pyinstaller-hooks-contrib>=2021.4\n",
      "  Downloading pyinstaller_hooks_contrib-2023.6-py2.py3-none-any.whl (274 kB)\n",
      "Requirement already satisfied: zipp>=0.5 in c:\\users\\hazar\\anaconda3\\lib\\site-packages (from importlib-metadata>=1.4; python_version < \"3.8\"->pyinstaller) (2.2.0)\n",
      "Installing collected packages: pywin32-ctypes, altgraph, pefile, pyinstaller-hooks-contrib, pyinstaller\n",
      "  Attempting uninstall: pywin32-ctypes\n",
      "    Found existing installation: pywin32-ctypes 0.2.0\n",
      "    Uninstalling pywin32-ctypes-0.2.0:\n",
      "      Successfully uninstalled pywin32-ctypes-0.2.0\n",
      "Successfully installed altgraph-0.17.3 pefile-2023.2.7 pyinstaller-5.13.0 pyinstaller-hooks-contrib-2023.6 pywin32-ctypes-0.2.2\n"
     ]
    }
   ],
   "source": [
    "!pip install pyinstaller"
   ]
  }
 ],
 "metadata": {
  "kernelspec": {
   "display_name": "Python 3",
   "language": "python",
   "name": "python3"
  },
  "language_info": {
   "codemirror_mode": {
    "name": "ipython",
    "version": 3
   },
   "file_extension": ".py",
   "mimetype": "text/x-python",
   "name": "python",
   "nbconvert_exporter": "python",
   "pygments_lexer": "ipython3",
   "version": "3.7.6"
  },
  "orig_nbformat": 4
 },
 "nbformat": 4,
 "nbformat_minor": 2
}
